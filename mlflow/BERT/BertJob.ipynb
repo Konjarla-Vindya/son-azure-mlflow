{
  "cells": [
    {
      "cell_type": "code",
      "source": [
        "#import required libraries\r\n",
        "from azure.ai.ml import MLClient\r\n",
        "from azure.identity import DefaultAzureCredential\r\n",
        "from azureml.core import Workspace\r\n",
        "import mlflow\r\n",
        "\r\n",
        "#Enter details of your Azure Machine Learning workspace\r\n",
        "subscription_id = '80c77c76-74ba-4c8c-8229-4c3b2957990c'\r\n",
        "resource_group = 'sonata-test-rg'\r\n",
        "workspace = 'sonata-test-ws'\r\n",
        "#ws = Workspace.from_config()\r\n",
        "\r\n",
        "#connect to the workspace\r\n",
        "#ml_client = MLClient(DefaultAzureCredential(), Workspace.from_config())\r\n",
        "ml_client = MLClient(DefaultAzureCredential(), subscription_id, resource_group, workspace)\r\n",
        "\r\n",
        "ws = Workspace(subscription_id, resource_group, workspace)\r\n",
        "\r\n",
        "mlflow.set_tracking_uri(ws.get_mlflow_tracking_uri())"
      ],
      "outputs": [],
      "execution_count": 11,
      "metadata": {
        "jupyter": {
          "source_hidden": false,
          "outputs_hidden": false
        },
        "nteract": {
          "transient": {
            "deleting": false
          }
        },
        "gather": {
          "logged": 1690294764300
        }
      }
    },
    {
      "cell_type": "code",
      "source": [
        "print(ws.get_mlflow_tracking_uri())"
      ],
      "outputs": [
        {
          "output_type": "stream",
          "name": "stdout",
          "text": "azureml://southcentralus.api.azureml.ms/mlflow/v2.0/subscriptions/80c77c76-74ba-4c8c-8229-4c3b2957990c/resourceGroups/sonata-test-rg/providers/Microsoft.MachineLearningServices/workspaces/sonata-test-ws?\n"
        }
      ],
      "execution_count": 26,
      "metadata": {
        "jupyter": {
          "source_hidden": false,
          "outputs_hidden": false
        },
        "nteract": {
          "transient": {
            "deleting": false
          }
        },
        "gather": {
          "logged": 1690198886471
        }
      }
    },
    {
      "cell_type": "code",
      "source": [
        "from azure.ai.ml.entities import AmlCompute\r\n",
        "\r\n",
        "# specify aml compute name.\r\n",
        "cpu_compute_target = \"cpu-cluster\"\r\n",
        "\r\n",
        "try:\r\n",
        "    ml_client.compute.get(cpu_compute_target)\r\n",
        "except Exception:\r\n",
        "    print(\"Creating a new cpu compute target...\")\r\n",
        "    compute = AmlCompute(\r\n",
        "        name=cpu_compute_target, size=\"STANDARD_D2_V2\", min_instances=0, max_instances=4\r\n",
        "    )\r\n",
        "    ml_client.compute.begin_create_or_update(compute).result()"
      ],
      "outputs": [],
      "execution_count": 12,
      "metadata": {
        "jupyter": {
          "source_hidden": false,
          "outputs_hidden": false
        },
        "nteract": {
          "transient": {
            "deleting": false
          }
        },
        "gather": {
          "logged": 1690294768847
        }
      }
    },
    {
      "cell_type": "code",
      "source": [
        "from azure.ai.ml import command, Input\r\n",
        "\r\n",
        "# define the command\r\n",
        "command_job = command(\r\n",
        "    code=\"./\",\r\n",
        "    command=\"python Bert.py\",\r\n",
        "    #--cnn_dailymail ${{inputs.cnn_dailymail}}\",\r\n",
        "    environment=\"gpt2-venv:6\", #\"EnvTest:1\",\r\n",
        "    # inputs={\r\n",
        "    #     \"cnn_dailymail\": Input(\r\n",
        "    #         type=\"uri_file\",\r\n",
        "    #         path=\"https://datasets-server.huggingface.co/rows?dataset=cnn_dailymail&config=3.0.0&split=validation&offset=0&limit=5\",\r\n",
        "    #     )\r\n",
        "    # },\r\n",
        "    compute=\"cpu-cluster\",\r\n",
        ")"
      ],
      "outputs": [],
      "execution_count": 13,
      "metadata": {
        "jupyter": {
          "source_hidden": false,
          "outputs_hidden": false
        },
        "nteract": {
          "transient": {
            "deleting": false
          }
        },
        "gather": {
          "logged": 1690294774545
        }
      }
    },
    {
      "cell_type": "code",
      "source": [
        "# submit the command\r\n",
        "returned_job = ml_client.jobs.create_or_update(command_job)\r\n",
        "# get a URL for the status of the job\r\n",
        "returned_job.studio_url"
      ],
      "outputs": [
        {
          "output_type": "stream",
          "name": "stderr",
          "text": "Your file exceeds 100 MB. If you experience low speeds, latency, or broken connections, we recommend using the AzCopyv10 tool for this file transfer.\n\nExample: azcopy copy '/mnt/batch/tasks/shared/LS_root/mounts/clusters/pooja-gpu-stanadardnc6/code/Users/v-poojr/MLFlow_B/Bert' 'https://sonatatestws5184162462.blob.core.windows.net/azureml-blobstore-e7095216-e923-42b8-bfc1-2d65afe0b4b7/LocalUpload/c2333167e1b742f1d6fbeff6ad26117f/Bert' \n\nSee https://docs.microsoft.com/azure/storage/common/storage-use-azcopy-v10 for more information.\n\u001b[32mUploading Bert (878.12 MBs): 100%|██████████| 878120828/878120828 [00:05<00:00, 166271084.12it/s]\n\u001b[39m\n\n"
        },
        {
          "output_type": "execute_result",
          "execution_count": 14,
          "data": {
            "text/plain": "'https://ml.azure.com/runs/orange_room_807thh32kr?wsid=/subscriptions/80c77c76-74ba-4c8c-8229-4c3b2957990c/resourcegroups/sonata-test-rg/workspaces/sonata-test-ws&tid=72f988bf-86f1-41af-91ab-2d7cd011db47'"
          },
          "metadata": {}
        }
      ],
      "execution_count": 14,
      "metadata": {
        "jupyter": {
          "source_hidden": false,
          "outputs_hidden": false
        },
        "nteract": {
          "transient": {
            "deleting": false
          }
        },
        "gather": {
          "logged": 1690294807748
        }
      }
    }
  ],
  "metadata": {
    "kernelspec": {
      "name": "python310-sdkv2",
      "language": "python",
      "display_name": "Python 3.10 - SDK v2"
    },
    "language_info": {
      "name": "python",
      "version": "3.10.10",
      "mimetype": "text/x-python",
      "codemirror_mode": {
        "name": "ipython",
        "version": 3
      },
      "pygments_lexer": "ipython3",
      "nbconvert_exporter": "python",
      "file_extension": ".py"
    },
    "microsoft": {
      "ms_spell_check": {
        "ms_spell_check_language": "en"
      },
      "host": {
        "AzureML": {
          "notebookHasBeenCompleted": true
        }
      }
    },
    "kernel_info": {
      "name": "python310-sdkv2"
    },
    "nteract": {
      "version": "nteract-front-end@1.0.0"
    }
  },
  "nbformat": 4,
  "nbformat_minor": 2
}