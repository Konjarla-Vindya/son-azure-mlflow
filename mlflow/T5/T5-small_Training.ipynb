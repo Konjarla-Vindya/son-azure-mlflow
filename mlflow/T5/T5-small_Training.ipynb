{
  "cells": [
    {
      "cell_type": "code",
      "source": [
        "!pip install --upgrade transformers==4.29.0\r\n",
        "!pip install datasets evaluate rouge_score\r\n",
        "!pip install sentencepiece\r\n",
        "!pip install mlflow\r\n",
        "\r\n",
        "!pip install datasets\r\n",
        "!pip install evaluate\r\n",
        "import mlflow\r\n",
        "import transformers"
      ],
      "outputs": [
        {
          "output_type": "display_data",
          "data": {
            "application/vnd.livy.statement-meta+json": {
              "spark_pool": "eac2bd1e-874e-4b30-8e98-189a9c4c7e68",
              "session_id": "30",
              "statement_id": 6,
              "state": "finished",
              "livy_statement_state": "available",
              "queued_time": "2023-07-16T11:45:51.2154845Z",
              "session_start_time": "2023-07-16T11:45:51.216691Z",
              "execution_start_time": "2023-07-16T11:48:44.1629446Z",
              "execution_finish_time": "2023-07-16T11:50:30.8928623Z",
              "spark_jobs": {
                "numbers": {
                  "RUNNING": 0,
                  "FAILED": 0,
                  "UNKNOWN": 0,
                  "SUCCEEDED": 0
                },
                "jobs": [],
                "limit": 20,
                "rule": "ALL_DESC"
              },
              "parent_msg_id": "5745a53d-bcce-45fa-adbe-11520544ff6a"
            },
            "text/plain": "StatementMeta(eac2bd1e-874e-4b30-8e98-189a9c4c7e68, 30, 6, Finished, Available)"
          },
          "metadata": {}
        },
        {
          "output_type": "stream",
          "name": "stdout",
          "text": "Successfully mount artifact container to path:  /synfs/notebook/AmlJobLogs/dcid.2dac0361-5216-438b-b9d4-4531fff6b2c4\nStarting log upload threads\nCollecting transformers==4.29.0\n  Downloading transformers-4.29.0-py3-none-any.whl (7.1 MB)\n\u001b[K     |████████████████████████████████| 7.1 MB 9.2 MB/s eta 0:00:01\n\u001b[?25hRequirement already satisfied: regex!=2019.12.17 in /home/trusted-service-user/cluster-env/env/lib/python3.8/site-packages (from transformers==4.29.0) (2021.7.6)\nCollecting tokenizers!=0.11.3,<0.14,>=0.11.1\n  Downloading tokenizers-0.13.3-cp38-cp38-manylinux_2_17_x86_64.manylinux2014_x86_64.whl (7.8 MB)\n\u001b[K     |████████████████████████████████| 7.8 MB 92.4 MB/s eta 0:00:01\n\u001b[?25hRequirement already satisfied: requests in /home/trusted-service-user/cluster-env/env/lib/python3.8/site-packages (from transformers==4.29.0) (2.25.1)\nRequirement already satisfied: packaging>=20.0 in /home/trusted-service-user/cluster-env/env/lib/python3.8/site-packages (from transformers==4.29.0) (21.0)\nRequirement already satisfied: numpy>=1.17 in /home/trusted-service-user/cluster-env/env/lib/python3.8/site-packages (from transformers==4.29.0) (1.19.4)\nRequirement already satisfied: pyyaml>=5.1 in /home/trusted-service-user/cluster-env/env/lib/python3.8/site-packages (from transformers==4.29.0) (5.4.1)\nRequirement already satisfied: tqdm>=4.27 in /home/trusted-service-user/cluster-env/env/lib/python3.8/site-packages (from transformers==4.29.0) (4.61.2)\nRequirement already satisfied: filelock in /home/trusted-service-user/cluster-env/env/lib/python3.8/site-packages (from transformers==4.29.0) (3.8.0)\nCollecting huggingface-hub<1.0,>=0.11.0\n  Downloading huggingface_hub-0.16.4-py3-none-any.whl (268 kB)\n\u001b[K     |████████████████████████████████| 268 kB 86.7 MB/s eta 0:00:01\n\u001b[?25hRequirement already satisfied: fsspec in /home/trusted-service-user/cluster-env/env/lib/python3.8/site-packages (from huggingface-hub<1.0,>=0.11.0->transformers==4.29.0) (2021.6.1)\nRequirement already satisfied: typing-extensions>=3.7.4.3 in /home/trusted-service-user/cluster-env/env/lib/python3.8/site-packages (from huggingface-hub<1.0,>=0.11.0->transformers==4.29.0) (3.10.0.0)\nRequirement already satisfied: pyparsing>=2.0.2 in /home/trusted-service-user/cluster-env/env/lib/python3.8/site-packages (from packaging>=20.0->transformers==4.29.0) (2.4.7)\nRequirement already satisfied: chardet<5,>=3.0.2 in /home/trusted-service-user/cluster-env/env/lib/python3.8/site-packages (from requests->transformers==4.29.0) (4.0.0)\nRequirement already satisfied: certifi>=2017.4.17 in /home/trusted-service-user/cluster-env/env/lib/python3.8/site-packages (from requests->transformers==4.29.0) (2021.5.30)\nRequirement already satisfied: urllib3<1.27,>=1.21.1 in /home/trusted-service-user/cluster-env/env/lib/python3.8/site-packages (from requests->transformers==4.29.0) (1.26.4)\nRequirement already satisfied: idna<3,>=2.5 in /home/trusted-service-user/cluster-env/env/lib/python3.8/site-packages (from requests->transformers==4.29.0) (2.10)\nInstalling collected packages: tokenizers, huggingface-hub, transformers\nSuccessfully installed huggingface-hub-0.16.4 tokenizers-0.13.3 transformers-4.29.0\nCollecting datasets\n  Downloading datasets-2.13.1-py3-none-any.whl (486 kB)\n\u001b[K     |████████████████████████████████| 486 kB 10.7 MB/s eta 0:00:01\n\u001b[?25hCollecting evaluate\n  Downloading evaluate-0.4.0-py3-none-any.whl (81 kB)\n\u001b[K     |████████████████████████████████| 81 kB 25.7 MB/s eta 0:00:01\n\u001b[?25hCollecting rouge_score\n  Downloading rouge_score-0.1.2.tar.gz (17 kB)\nRequirement already satisfied: pandas in /home/trusted-service-user/cluster-env/env/lib/python3.8/site-packages (from datasets) (1.2.3)\nRequirement already satisfied: aiohttp in /home/trusted-service-user/cluster-env/env/lib/python3.8/site-packages (from datasets) (3.7.4.post0)\nCollecting xxhash\n  Downloading xxhash-3.2.0-cp38-cp38-manylinux_2_17_x86_64.manylinux2014_x86_64.whl (213 kB)\n\u001b[K     |████████████████████████████████| 213 kB 91.7 MB/s eta 0:00:01\n\u001b[?25hRequirement already satisfied: requests>=2.19.0 in /home/trusted-service-user/cluster-env/env/lib/python3.8/site-packages (from datasets) (2.25.1)\nCollecting tqdm>=4.62.1\n  Downloading tqdm-4.65.0-py3-none-any.whl (77 kB)\n\u001b[K     |████████████████████████████████| 77 kB 19.4 MB/s eta 0:00:01\n\u001b[?25hRequirement already satisfied: numpy>=1.17 in /home/trusted-service-user/cluster-env/env/lib/python3.8/site-packages (from datasets) (1.19.4)\nCollecting pyarrow>=8.0.0\n  Downloading pyarrow-12.0.1-cp38-cp38-manylinux_2_17_x86_64.manylinux2014_x86_64.whl (39.0 MB)\n\u001b[K     |████████████████████████████████| 39.0 MB 63.1 MB/s eta 0:00:01\n\u001b[?25hRequirement already satisfied: pyyaml>=5.1 in /home/trusted-service-user/cluster-env/env/lib/python3.8/site-packages (from datasets) (5.4.1)\nCollecting multiprocess\n  Downloading multiprocess-0.70.14-py38-none-any.whl (132 kB)\n\u001b[K     |████████████████████████████████| 132 kB 84.8 MB/s eta 0:00:01\n\u001b[?25hCollecting fsspec[http]>=2021.11.1\n  Downloading fsspec-2023.6.0-py3-none-any.whl (163 kB)\n\u001b[K     |████████████████████████████████| 163 kB 84.8 MB/s eta 0:00:01\n\u001b[?25hRequirement already satisfied: huggingface-hub<1.0.0,>=0.11.0 in /home/trusted-service-user/cluster-env/env/lib/python3.8/site-packages (from datasets) (0.16.4)\nRequirement already satisfied: packaging in /home/trusted-service-user/cluster-env/env/lib/python3.8/site-packages (from datasets) (21.0)\nRequirement already satisfied: dill<0.3.7,>=0.3.0 in /home/trusted-service-user/cluster-env/env/lib/python3.8/site-packages (from datasets) (0.3.4)\nRequirement already satisfied: yarl<2.0,>=1.0 in /home/trusted-service-user/cluster-env/env/lib/python3.8/site-packages (from aiohttp->datasets) (1.6.3)\nRequirement already satisfied: chardet<5.0,>=2.0 in /home/trusted-service-user/cluster-env/env/lib/python3.8/site-packages (from aiohttp->datasets) (4.0.0)\nRequirement already satisfied: multidict<7.0,>=4.5 in /home/trusted-service-user/cluster-env/env/lib/python3.8/site-packages (from aiohttp->datasets) (5.1.0)\nRequirement already satisfied: async-timeout<4.0,>=3.0 in /home/trusted-service-user/cluster-env/env/lib/python3.8/site-packages (from aiohttp->datasets) (3.0.1)\nRequirement already satisfied: typing-extensions>=3.6.5 in /home/trusted-service-user/cluster-env/env/lib/python3.8/site-packages (from aiohttp->datasets) (3.10.0.0)\nRequirement already satisfied: attrs>=17.3.0 in /home/trusted-service-user/cluster-env/env/lib/python3.8/site-packages (from aiohttp->datasets) (21.2.0)\nRequirement already satisfied: filelock in /home/trusted-service-user/cluster-env/env/lib/python3.8/site-packages (from huggingface-hub<1.0.0,>=0.11.0->datasets) (3.8.0)\nRequirement already satisfied: pyparsing>=2.0.2 in /home/trusted-service-user/cluster-env/env/lib/python3.8/site-packages (from packaging->datasets) (2.4.7)\nRequirement already satisfied: urllib3<1.27,>=1.21.1 in /home/trusted-service-user/cluster-env/env/lib/python3.8/site-packages (from requests>=2.19.0->datasets) (1.26.4)\nRequirement already satisfied: certifi>=2017.4.17 in /home/trusted-service-user/cluster-env/env/lib/python3.8/site-packages (from requests>=2.19.0->datasets) (2021.5.30)\nRequirement already satisfied: idna<3,>=2.5 in /home/trusted-service-user/cluster-env/env/lib/python3.8/site-packages (from requests>=2.19.0->datasets) (2.10)\nCollecting responses<0.19\n  Downloading responses-0.18.0-py3-none-any.whl (38 kB)\nRequirement already satisfied: absl-py in /home/trusted-service-user/cluster-env/env/lib/python3.8/site-packages (from rouge_score) (0.13.0)\nRequirement already satisfied: nltk in /home/trusted-service-user/cluster-env/env/lib/python3.8/site-packages (from rouge_score) (3.6.2)\nRequirement already satisfied: six>=1.14.0 in /home/trusted-service-user/cluster-env/env/lib/python3.8/site-packages (from rouge_score) (1.16.0)\nCollecting dill<0.3.7,>=0.3.0\n  Downloading dill-0.3.6-py3-none-any.whl (110 kB)\n\u001b[K     |████████████████████████████████| 110 kB 88.2 MB/s eta 0:00:01\n\u001b[?25hRequirement already satisfied: click in /home/trusted-service-user/cluster-env/env/lib/python3.8/site-packages (from nltk->rouge_score) (8.0.1)\nRequirement already satisfied: joblib in /home/trusted-service-user/cluster-env/env/lib/python3.8/site-packages (from nltk->rouge_score) (1.0.1)\nRequirement already satisfied: regex in /home/trusted-service-user/cluster-env/env/lib/python3.8/site-packages (from nltk->rouge_score) (2021.7.6)\nRequirement already satisfied: python-dateutil>=2.7.3 in /home/trusted-service-user/cluster-env/env/lib/python3.8/site-packages (from pandas->datasets) (2.8.1)\nRequirement already satisfied: pytz>=2017.3 in /home/trusted-service-user/cluster-env/env/lib/python3.8/site-packages (from pandas->datasets) (2021.1)\nBuilding wheels for collected packages: rouge-score\n  Building wheel for rouge-score (setup.py) ... \u001b[?25l-\b \b\\\b \bdone\n\u001b[?25h  Created wheel for rouge-score: filename=rouge_score-0.1.2-py3-none-any.whl size=24956 sha256=9fbc2592839fa06848494dafa7d2b3a662790f9f84eebc57c865a0f8654e5756\n  Stored in directory: /home/trusted-service-user/.cache/pip/wheels/24/55/6f/ebfc4cb176d1c9665da4e306e1705496206d08215c1acd9dde\nSuccessfully built rouge-score\nInstalling collected packages: tqdm, fsspec, dill, xxhash, pyarrow, multiprocess, responses, datasets, rouge-score, evaluate\n  Attempting uninstall: tqdm\n    Found existing installation: tqdm 4.61.2\n    Uninstalling tqdm-4.61.2:\n      Successfully uninstalled tqdm-4.61.2\n  Attempting uninstall: fsspec\n    Found existing installation: fsspec 2021.6.1\n    Uninstalling fsspec-2021.6.1:\n      Successfully uninstalled fsspec-2021.6.1\n  Attempting uninstall: dill\n    Found existing installation: dill 0.3.4\n    Uninstalling dill-0.3.4:\n      Successfully uninstalled dill-0.3.4\n  Attempting uninstall: pyarrow\n    Found existing installation: pyarrow 3.0.0\n    Uninstalling pyarrow-3.0.0:\n      Successfully uninstalled pyarrow-3.0.0\n\u001b[31mERROR: pip's dependency resolver does not currently take into account all the packages that are installed. This behaviour is the source of the following dependency conflicts.\nazureml-dataset-runtime 1.34.0 requires pyarrow<4.0.0,>=0.17.0, but you have pyarrow 12.0.1 which is incompatible.\u001b[0m\nSuccessfully installed datasets-2.13.1 dill-0.3.6 evaluate-0.4.0 fsspec-2023.6.0 multiprocess-0.70.14 pyarrow-12.0.1 responses-0.18.0 rouge-score-0.1.2 tqdm-4.65.0 xxhash-3.2.0\nCollecting sentencepiece\n  Downloading sentencepiece-0.1.99-cp38-cp38-manylinux_2_17_x86_64.manylinux2014_x86_64.whl (1.3 MB)\n\u001b[K     |████████████████████████████████| 1.3 MB 4.7 MB/s eta 0:00:01\n\u001b[?25hInstalling collected packages: sentencepiece\nSuccessfully installed sentencepiece-0.1.99\nCollecting mlflow\n  Downloading mlflow-2.4.2-py3-none-any.whl (18.1 MB)\n\u001b[K     |████████████████████████████████| 18.1 MB 10.2 MB/s eta 0:00:01\n\u001b[?25hRequirement already satisfied: pandas<3 in /home/trusted-service-user/cluster-env/env/lib/python3.8/site-packages (from mlflow) (1.2.3)\nRequirement already satisfied: requests<3,>=2.17.3 in /home/trusted-service-user/cluster-env/env/lib/python3.8/site-packages (from mlflow) (2.25.1)\nRequirement already satisfied: numpy<2 in /home/trusted-service-user/cluster-env/env/lib/python3.8/site-packages (from mlflow) (1.19.4)\nRequirement already satisfied: scikit-learn<2 in /home/trusted-service-user/cluster-env/env/lib/python3.8/site-packages (from mlflow) (0.23.2)\nRequirement already satisfied: entrypoints<1 in /home/trusted-service-user/cluster-env/env/lib/python3.8/site-packages (from mlflow) (0.3)\nRequirement already satisfied: protobuf<5,>=3.12.0 in /home/trusted-service-user/cluster-env/env/lib/python3.8/site-packages (from mlflow) (3.15.8)\nRequirement already satisfied: Flask<3 in /home/trusted-service-user/cluster-env/env/lib/python3.8/site-packages (from mlflow) (2.0.1)\nRequirement already satisfied: cloudpickle<3 in /home/trusted-service-user/cluster-env/env/lib/python3.8/site-packages (from mlflow) (1.6.0)\nRequirement already satisfied: pyarrow<13,>=4.0.0 in /home/trusted-service-user/cluster-env/env/lib/python3.8/site-packages (from mlflow) (12.0.1)\nRequirement already satisfied: markdown<4,>=3.3 in /home/trusted-service-user/cluster-env/env/lib/python3.8/site-packages (from mlflow) (3.3.4)\nRequirement already satisfied: matplotlib<4 in /home/trusted-service-user/cluster-env/env/lib/python3.8/site-packages (from mlflow) (3.4.2)\nRequirement already satisfied: docker<7,>=4.0.0 in /home/trusted-service-user/cluster-env/env/lib/python3.8/site-packages (from mlflow) (4.4.4)\nRequirement already satisfied: scipy<2 in /home/trusted-service-user/cluster-env/env/lib/python3.8/site-packages (from mlflow) (1.5.3)\nRequirement already satisfied: pytz<2024 in /home/trusted-service-user/cluster-env/env/lib/python3.8/site-packages (from mlflow) (2021.1)\nRequirement already satisfied: pyyaml<7,>=5.1 in /home/trusted-service-user/cluster-env/env/lib/python3.8/site-packages (from mlflow) (5.4.1)\nCollecting gunicorn<21\n  Downloading gunicorn-20.1.0-py3-none-any.whl (79 kB)\n\u001b[K     |████████████████████████████████| 79 kB 21.3 MB/s eta 0:00:01\n\u001b[?25hRequirement already satisfied: importlib-metadata!=4.7.0,<7,>=3.7.0 in /home/trusted-service-user/cluster-env/env/lib/python3.8/site-packages (from mlflow) (4.6.1)\nCollecting querystring-parser<2\n  Downloading querystring_parser-1.2.4-py2.py3-none-any.whl (7.9 kB)\nRequirement already satisfied: sqlalchemy<3,>=1.4.0 in /home/trusted-service-user/cluster-env/env/lib/python3.8/site-packages (from mlflow) (1.4.20)\nRequirement already satisfied: packaging<24 in /home/trusted-service-user/cluster-env/env/lib/python3.8/site-packages (from mlflow) (21.0)\nRequirement already satisfied: databricks-cli<1,>=0.8.7 in /home/trusted-service-user/cluster-env/env/lib/python3.8/site-packages (from mlflow) (0.12.1)\nRequirement already satisfied: Jinja2<4,>=2.11 in /home/trusted-service-user/cluster-env/env/lib/python3.8/site-packages (from mlflow) (3.0.1)\nRequirement already satisfied: click<9,>=7.0 in /home/trusted-service-user/cluster-env/env/lib/python3.8/site-packages (from mlflow) (8.0.1)\nCollecting sqlparse<1,>=0.4.0\n  Downloading sqlparse-0.4.4-py3-none-any.whl (41 kB)\n\u001b[K     |████████████████████████████████| 41 kB 767 kB/s  eta 0:00:01\n\u001b[?25hRequirement already satisfied: gitpython<4,>=2.1.0 in /home/trusted-service-user/cluster-env/env/lib/python3.8/site-packages (from mlflow) (3.1.18)\nCollecting alembic!=1.10.0,<2\n  Downloading alembic-1.11.1-py3-none-any.whl (224 kB)\n\u001b[K     |████████████████████████████████| 224 kB 96.2 MB/s eta 0:00:01\n\u001b[?25hCollecting typing-extensions>=4\n  Downloading typing_extensions-4.7.1-py3-none-any.whl (33 kB)\nRequirement already satisfied: importlib-resources in /home/trusted-service-user/cluster-env/env/lib/python3.8/site-packages (from alembic!=1.10.0,<2->mlflow) (5.9.0)\nCollecting Mako\n  Downloading Mako-1.2.4-py3-none-any.whl (78 kB)\n\u001b[K     |████████████████████████████████| 78 kB 25.6 MB/s eta 0:00:01\n\u001b[?25hRequirement already satisfied: tabulate>=0.7.7 in /home/trusted-service-user/cluster-env/env/lib/python3.8/site-packages (from databricks-cli<1,>=0.8.7->mlflow) (0.8.9)\nRequirement already satisfied: tenacity>=6.2.0 in /home/trusted-service-user/cluster-env/env/lib/python3.8/site-packages (from databricks-cli<1,>=0.8.7->mlflow) (7.0.0)\nRequirement already satisfied: six>=1.10.0 in /home/trusted-service-user/cluster-env/env/lib/python3.8/site-packages (from databricks-cli<1,>=0.8.7->mlflow) (1.16.0)\nRequirement already satisfied: websocket-client>=0.32.0 in /home/trusted-service-user/cluster-env/env/lib/python3.8/site-packages (from docker<7,>=4.0.0->mlflow) (1.1.0)\nRequirement already satisfied: Werkzeug>=2.0 in /home/trusted-service-user/cluster-env/env/lib/python3.8/site-packages (from Flask<3->mlflow) (2.0.1)\nRequirement already satisfied: itsdangerous>=2.0 in /home/trusted-service-user/cluster-env/env/lib/python3.8/site-packages (from Flask<3->mlflow) (2.0.1)\nRequirement already satisfied: gitdb<5,>=4.0.1 in /home/trusted-service-user/cluster-env/env/lib/python3.8/site-packages (from gitpython<4,>=2.1.0->mlflow) (4.0.7)\nRequirement already satisfied: smmap<5,>=3.0.1 in /home/trusted-service-user/cluster-env/env/lib/python3.8/site-packages (from gitdb<5,>=4.0.1->gitpython<4,>=2.1.0->mlflow) (3.0.5)\nRequirement already satisfied: setuptools>=3.0 in /home/trusted-service-user/cluster-env/env/lib/python3.8/site-packages (from gunicorn<21->mlflow) (49.6.0.post20210108)\nRequirement already satisfied: zipp>=0.5 in /home/trusted-service-user/cluster-env/env/lib/python3.8/site-packages (from importlib-metadata!=4.7.0,<7,>=3.7.0->mlflow) (3.5.0)\nRequirement already satisfied: MarkupSafe>=2.0 in /home/trusted-service-user/cluster-env/env/lib/python3.8/site-packages (from Jinja2<4,>=2.11->mlflow) (2.0.1)\nRequirement already satisfied: cycler>=0.10 in /home/trusted-service-user/cluster-env/env/lib/python3.8/site-packages (from matplotlib<4->mlflow) (0.10.0)\nRequirement already satisfied: kiwisolver>=1.0.1 in /home/trusted-service-user/cluster-env/env/lib/python3.8/site-packages (from matplotlib<4->mlflow) (1.3.1)\nRequirement already satisfied: pillow>=6.2.0 in /home/trusted-service-user/cluster-env/env/lib/python3.8/site-packages (from matplotlib<4->mlflow) (8.2.0)\nRequirement already satisfied: pyparsing>=2.2.1 in /home/trusted-service-user/cluster-env/env/lib/python3.8/site-packages (from matplotlib<4->mlflow) (2.4.7)\nRequirement already satisfied: python-dateutil>=2.7 in /home/trusted-service-user/cluster-env/env/lib/python3.8/site-packages (from matplotlib<4->mlflow) (2.8.1)\nRequirement already satisfied: idna<3,>=2.5 in /home/trusted-service-user/cluster-env/env/lib/python3.8/site-packages (from requests<3,>=2.17.3->mlflow) (2.10)\nRequirement already satisfied: urllib3<1.27,>=1.21.1 in /home/trusted-service-user/cluster-env/env/lib/python3.8/site-packages (from requests<3,>=2.17.3->mlflow) (1.26.4)\nRequirement already satisfied: chardet<5,>=3.0.2 in /home/trusted-service-user/cluster-env/env/lib/python3.8/site-packages (from requests<3,>=2.17.3->mlflow) (4.0.0)\nRequirement already satisfied: certifi>=2017.4.17 in /home/trusted-service-user/cluster-env/env/lib/python3.8/site-packages (from requests<3,>=2.17.3->mlflow) (2021.5.30)\nRequirement already satisfied: threadpoolctl>=2.0.0 in /home/trusted-service-user/cluster-env/env/lib/python3.8/site-packages (from scikit-learn<2->mlflow) (2.1.0)\nRequirement already satisfied: joblib>=0.11 in /home/trusted-service-user/cluster-env/env/lib/python3.8/site-packages (from scikit-learn<2->mlflow) (1.0.1)\nRequirement already satisfied: greenlet!=0.4.17 in /home/trusted-service-user/cluster-env/env/lib/python3.8/site-packages (from sqlalchemy<3,>=1.4.0->mlflow) (1.1.0)\nInstalling collected packages: typing-extensions, Mako, sqlparse, querystring-parser, gunicorn, alembic, mlflow\n  Attempting uninstall: typing-extensions\n    Found existing installation: typing-extensions 3.10.0.0\n    Uninstalling typing-extensions-3.10.0.0:\n      Successfully uninstalled typing-extensions-3.10.0.0\n\u001b[31mERROR: pip's dependency resolver does not currently take into account all the packages that are installed. This behaviour is the source of the following dependency conflicts.\ntensorflow 2.4.1 requires six~=1.15.0, but you have six 1.16.0 which is incompatible.\ntensorflow 2.4.1 requires typing-extensions~=3.7.4, but you have typing-extensions 4.7.1 which is incompatible.\u001b[0m\nSuccessfully installed Mako-1.2.4 alembic-1.11.1 gunicorn-20.1.0 mlflow-2.4.2 querystring-parser-1.2.4 sqlparse-0.4.4 typing-extensions-4.7.1\nRequirement already satisfied: datasets in /home/trusted-service-user/cluster-env/env/lib/python3.8/site-packages (2.13.1)\nRequirement already satisfied: aiohttp in /home/trusted-service-user/cluster-env/env/lib/python3.8/site-packages (from datasets) (3.7.4.post0)\nRequirement already satisfied: numpy>=1.17 in /home/trusted-service-user/cluster-env/env/lib/python3.8/site-packages (from datasets) (1.19.4)\nRequirement already satisfied: xxhash in /home/trusted-service-user/cluster-env/env/lib/python3.8/site-packages (from datasets) (3.2.0)\nRequirement already satisfied: fsspec[http]>=2021.11.1 in /home/trusted-service-user/cluster-env/env/lib/python3.8/site-packages (from datasets) (2023.6.0)\nRequirement already satisfied: pyarrow>=8.0.0 in /home/trusted-service-user/cluster-env/env/lib/python3.8/site-packages (from datasets) (12.0.1)\nRequirement already satisfied: pyyaml>=5.1 in /home/trusted-service-user/cluster-env/env/lib/python3.8/site-packages (from datasets) (5.4.1)\nRequirement already satisfied: huggingface-hub<1.0.0,>=0.11.0 in /home/trusted-service-user/cluster-env/env/lib/python3.8/site-packages (from datasets) (0.16.4)\nRequirement already satisfied: tqdm>=4.62.1 in /home/trusted-service-user/cluster-env/env/lib/python3.8/site-packages (from datasets) (4.65.0)\nRequirement already satisfied: multiprocess in /home/trusted-service-user/cluster-env/env/lib/python3.8/site-packages (from datasets) (0.70.14)\nRequirement already satisfied: dill<0.3.7,>=0.3.0 in /home/trusted-service-user/cluster-env/env/lib/python3.8/site-packages (from datasets) (0.3.6)\nRequirement already satisfied: packaging in /home/trusted-service-user/cluster-env/env/lib/python3.8/site-packages (from datasets) (21.0)\nRequirement already satisfied: pandas in /home/trusted-service-user/cluster-env/env/lib/python3.8/site-packages (from datasets) (1.2.3)\nRequirement already satisfied: requests>=2.19.0 in /home/trusted-service-user/cluster-env/env/lib/python3.8/site-packages (from datasets) (2.25.1)\nRequirement already satisfied: multidict<7.0,>=4.5 in /home/trusted-service-user/cluster-env/env/lib/python3.8/site-packages (from aiohttp->datasets) (5.1.0)\nRequirement already satisfied: attrs>=17.3.0 in /home/trusted-service-user/cluster-env/env/lib/python3.8/site-packages (from aiohttp->datasets) (21.2.0)\nRequirement already satisfied: yarl<2.0,>=1.0 in /home/trusted-service-user/cluster-env/env/lib/python3.8/site-packages (from aiohttp->datasets) (1.6.3)\nRequirement already satisfied: chardet<5.0,>=2.0 in /home/trusted-service-user/cluster-env/env/lib/python3.8/site-packages (from aiohttp->datasets) (4.0.0)\nRequirement already satisfied: async-timeout<4.0,>=3.0 in /home/trusted-service-user/cluster-env/env/lib/python3.8/site-packages (from aiohttp->datasets) (3.0.1)\nRequirement already satisfied: typing-extensions>=3.6.5 in /home/trusted-service-user/cluster-env/env/lib/python3.8/site-packages (from aiohttp->datasets) (4.7.1)\nRequirement already satisfied: filelock in /home/trusted-service-user/cluster-env/env/lib/python3.8/site-packages (from huggingface-hub<1.0.0,>=0.11.0->datasets) (3.8.0)\nRequirement already satisfied: pyparsing>=2.0.2 in /home/trusted-service-user/cluster-env/env/lib/python3.8/site-packages (from packaging->datasets) (2.4.7)\nRequirement already satisfied: idna<3,>=2.5 in /home/trusted-service-user/cluster-env/env/lib/python3.8/site-packages (from requests>=2.19.0->datasets) (2.10)\nRequirement already satisfied: urllib3<1.27,>=1.21.1 in /home/trusted-service-user/cluster-env/env/lib/python3.8/site-packages (from requests>=2.19.0->datasets) (1.26.4)\nRequirement already satisfied: certifi>=2017.4.17 in /home/trusted-service-user/cluster-env/env/lib/python3.8/site-packages (from requests>=2.19.0->datasets) (2021.5.30)\nRequirement already satisfied: python-dateutil>=2.7.3 in /home/trusted-service-user/cluster-env/env/lib/python3.8/site-packages (from pandas->datasets) (2.8.1)\nRequirement already satisfied: pytz>=2017.3 in /home/trusted-service-user/cluster-env/env/lib/python3.8/site-packages (from pandas->datasets) (2021.1)\nRequirement already satisfied: six>=1.5 in /home/trusted-service-user/cluster-env/env/lib/python3.8/site-packages (from python-dateutil>=2.7.3->pandas->datasets) (1.16.0)\nRequirement already satisfied: evaluate in /home/trusted-service-user/cluster-env/env/lib/python3.8/site-packages (0.4.0)\nRequirement already satisfied: dill in /home/trusted-service-user/cluster-env/env/lib/python3.8/site-packages (from evaluate) (0.3.6)\nRequirement already satisfied: xxhash in /home/trusted-service-user/cluster-env/env/lib/python3.8/site-packages (from evaluate) (3.2.0)\nRequirement already satisfied: fsspec[http]>=2021.05.0 in /home/trusted-service-user/cluster-env/env/lib/python3.8/site-packages (from evaluate) (2023.6.0)\nRequirement already satisfied: numpy>=1.17 in /home/trusted-service-user/cluster-env/env/lib/python3.8/site-packages (from evaluate) (1.19.4)\nRequirement already satisfied: pandas in /home/trusted-service-user/cluster-env/env/lib/python3.8/site-packages (from evaluate) (1.2.3)\nRequirement already satisfied: tqdm>=4.62.1 in /home/trusted-service-user/cluster-env/env/lib/python3.8/site-packages (from evaluate) (4.65.0)\nRequirement already satisfied: datasets>=2.0.0 in /home/trusted-service-user/cluster-env/env/lib/python3.8/site-packages (from evaluate) (2.13.1)\nRequirement already satisfied: multiprocess in /home/trusted-service-user/cluster-env/env/lib/python3.8/site-packages (from evaluate) (0.70.14)\nRequirement already satisfied: packaging in /home/trusted-service-user/cluster-env/env/lib/python3.8/site-packages (from evaluate) (21.0)\nRequirement already satisfied: requests>=2.19.0 in /home/trusted-service-user/cluster-env/env/lib/python3.8/site-packages (from evaluate) (2.25.1)\nRequirement already satisfied: huggingface-hub>=0.7.0 in /home/trusted-service-user/cluster-env/env/lib/python3.8/site-packages (from evaluate) (0.16.4)\nRequirement already satisfied: responses<0.19 in /home/trusted-service-user/cluster-env/env/lib/python3.8/site-packages (from evaluate) (0.18.0)\nRequirement already satisfied: pyarrow>=8.0.0 in /home/trusted-service-user/cluster-env/env/lib/python3.8/site-packages (from datasets>=2.0.0->evaluate) (12.0.1)\nRequirement already satisfied: pyyaml>=5.1 in /home/trusted-service-user/cluster-env/env/lib/python3.8/site-packages (from datasets>=2.0.0->evaluate) (5.4.1)\nRequirement already satisfied: aiohttp in /home/trusted-service-user/cluster-env/env/lib/python3.8/site-packages (from datasets>=2.0.0->evaluate) (3.7.4.post0)\nRequirement already satisfied: multidict<7.0,>=4.5 in /home/trusted-service-user/cluster-env/env/lib/python3.8/site-packages (from aiohttp->datasets>=2.0.0->evaluate) (5.1.0)\nRequirement already satisfied: attrs>=17.3.0 in /home/trusted-service-user/cluster-env/env/lib/python3.8/site-packages (from aiohttp->datasets>=2.0.0->evaluate) (21.2.0)\nRequirement already satisfied: async-timeout<4.0,>=3.0 in /home/trusted-service-user/cluster-env/env/lib/python3.8/site-packages (from aiohttp->datasets>=2.0.0->evaluate) (3.0.1)\nRequirement already satisfied: chardet<5.0,>=2.0 in /home/trusted-service-user/cluster-env/env/lib/python3.8/site-packages (from aiohttp->datasets>=2.0.0->evaluate) (4.0.0)\nRequirement already satisfied: typing-extensions>=3.6.5 in /home/trusted-service-user/cluster-env/env/lib/python3.8/site-packages (from aiohttp->datasets>=2.0.0->evaluate) (4.7.1)\nRequirement already satisfied: yarl<2.0,>=1.0 in /home/trusted-service-user/cluster-env/env/lib/python3.8/site-packages (from aiohttp->datasets>=2.0.0->evaluate) (1.6.3)\nRequirement already satisfied: filelock in /home/trusted-service-user/cluster-env/env/lib/python3.8/site-packages (from huggingface-hub>=0.7.0->evaluate) (3.8.0)\nRequirement already satisfied: pyparsing>=2.0.2 in /home/trusted-service-user/cluster-env/env/lib/python3.8/site-packages (from packaging->evaluate) (2.4.7)\nRequirement already satisfied: idna<3,>=2.5 in /home/trusted-service-user/cluster-env/env/lib/python3.8/site-packages (from requests>=2.19.0->evaluate) (2.10)\nRequirement already satisfied: urllib3<1.27,>=1.21.1 in /home/trusted-service-user/cluster-env/env/lib/python3.8/site-packages (from requests>=2.19.0->evaluate) (1.26.4)\nRequirement already satisfied: certifi>=2017.4.17 in /home/trusted-service-user/cluster-env/env/lib/python3.8/site-packages (from requests>=2.19.0->evaluate) (2021.5.30)\nRequirement already satisfied: python-dateutil>=2.7.3 in /home/trusted-service-user/cluster-env/env/lib/python3.8/site-packages (from pandas->evaluate) (2.8.1)\nRequirement already satisfied: pytz>=2017.3 in /home/trusted-service-user/cluster-env/env/lib/python3.8/site-packages (from pandas->evaluate) (2021.1)\nRequirement already satisfied: six>=1.5 in /home/trusted-service-user/cluster-env/env/lib/python3.8/site-packages (from python-dateutil>=2.7.3->pandas->evaluate) (1.16.0)\n"
        }
      ],
      "execution_count": 1,
      "metadata": {
        "gather": {
          "logged": 1689508230920
        }
      }
    },
    {
      "cell_type": "code",
      "source": [
        "#%pip install --upgrade transformers==4.29.0\r\n",
        "%pip install --upgrade transformers[torch]\r\n",
        "#%pip install --upgrade rouge_score"
      ],
      "outputs": [
        {
          "output_type": "display_data",
          "data": {
            "application/vnd.livy.statement-meta+json": {
              "spark_pool": "eac2bd1e-874e-4b30-8e98-189a9c4c7e68",
              "session_id": "30",
              "statement_id": 12,
              "state": "finished",
              "livy_statement_state": "available",
              "queued_time": "2023-07-16T11:45:51.2163063Z",
              "session_start_time": null,
              "execution_start_time": "2023-07-16T11:52:46.6892018Z",
              "execution_finish_time": "2023-07-16T11:52:49.1351127Z",
              "spark_jobs": {
                "numbers": {
                  "RUNNING": 0,
                  "FAILED": 0,
                  "UNKNOWN": 0,
                  "SUCCEEDED": 0
                },
                "jobs": [],
                "limit": 20,
                "rule": "ALL_DESC"
              },
              "parent_msg_id": "e9b1adde-d35f-4019-b1ed-029b750307c6"
            },
            "text/plain": "StatementMeta(eac2bd1e-874e-4b30-8e98-189a9c4c7e68, 30, 12, Finished, Available)"
          },
          "metadata": {}
        },
        {
          "output_type": "execute_result",
          "execution_count": 2,
          "data": {},
          "metadata": {}
        },
        {
          "output_type": "stream",
          "name": "stdout",
          "text": "Requirement already satisfied: transformers[torch] in /home/trusted-service-user/cluster-env/env/lib/python3.8/site-packages (4.29.0)\nCollecting transformers[torch]\n  Downloading transformers-4.30.2-py3-none-any.whl (7.2 MB)\n\u001b[2K     \u001b[90m━━━━━━━━━━━━━━━━━━━━━━━━━━━━━━━━━━━━━━━━\u001b[0m \u001b[32m7.2/7.2 MB\u001b[0m \u001b[31m77.0 MB/s\u001b[0m eta \u001b[36m0:00:00\u001b[0ma \u001b[36m0:00:01\u001b[0m\n\u001b[?25hRequirement already satisfied: regex!=2019.12.17 in /home/trusted-service-user/cluster-env/env/lib/python3.8/site-packages (from transformers[torch]) (2021.7.6)\nRequirement already satisfied: requests in /home/trusted-service-user/cluster-env/env/lib/python3.8/site-packages (from transformers[torch]) (2.25.1)\nRequirement already satisfied: filelock in /home/trusted-service-user/cluster-env/env/lib/python3.8/site-packages (from transformers[torch]) (3.8.0)\nRequirement already satisfied: huggingface-hub<1.0,>=0.14.1 in /home/trusted-service-user/cluster-env/env/lib/python3.8/site-packages (from transformers[torch]) (0.16.4)\nRequirement already satisfied: packaging>=20.0 in /home/trusted-service-user/cluster-env/env/lib/python3.8/site-packages (from transformers[torch]) (21.0)\nRequirement already satisfied: numpy>=1.17 in /home/trusted-service-user/cluster-env/env/lib/python3.8/site-packages (from transformers[torch]) (1.19.4)\nRequirement already satisfied: tokenizers!=0.11.3,<0.14,>=0.11.1 in /home/trusted-service-user/cluster-env/env/lib/python3.8/site-packages (from transformers[torch]) (0.13.3)\nCollecting safetensors>=0.3.1\n  Downloading safetensors-0.3.1-cp38-cp38-manylinux_2_17_x86_64.manylinux2014_x86_64.whl (1.3 MB)\n\u001b[2K     \u001b[90m━━━━━━━━━━━━━━━━━━━━━━━━━━━━━━━━━━━━━━━━\u001b[0m \u001b[32m1.3/1.3 MB\u001b[0m \u001b[31m100.8 MB/s\u001b[0m eta \u001b[36m0:00:00\u001b[0m\n\u001b[?25hRequirement already satisfied: tqdm>=4.27 in /home/trusted-service-user/cluster-env/env/lib/python3.8/site-packages (from transformers[torch]) (4.65.0)\nRequirement already satisfied: pyyaml>=5.1 in /home/trusted-service-user/cluster-env/env/lib/python3.8/site-packages (from transformers[torch]) (5.4.1)\nCollecting accelerate>=0.20.2\n  Downloading accelerate-0.21.0-py3-none-any.whl (244 kB)\n\u001b[2K     \u001b[90m━━━━━━━━━━━━━━━━━━━━━━━━━━━━━━━━━━━━━━\u001b[0m \u001b[32m244.2/244.2 KB\u001b[0m \u001b[31m66.5 MB/s\u001b[0m eta \u001b[36m0:00:00\u001b[0m\n\u001b[?25hCollecting torch!=1.12.0,>=1.9\n  Downloading torch-2.0.1-cp38-cp38-manylinux1_x86_64.whl (619.9 MB)\n\u001b[2K     \u001b[90m━━━━━━━━━━━━━━━━━━━━━━━━━━━━━━━━━━━━━━━\u001b[0m \u001b[32m619.9/619.9 MB\u001b[0m \u001b[31m2.2 MB/s\u001b[0m eta \u001b[36m0:00:00\u001b[0m00:01\u001b[0m00:01\u001b[0m\n\u001b[?25hRequirement already satisfied: psutil in /home/trusted-service-user/cluster-env/env/lib/python3.8/site-packages (from accelerate>=0.20.2->transformers[torch]) (5.8.0)\nRequirement already satisfied: fsspec in /home/trusted-service-user/cluster-env/env/lib/python3.8/site-packages (from huggingface-hub<1.0,>=0.14.1->transformers[torch]) (2023.6.0)\nRequirement already satisfied: typing-extensions>=3.7.4.3 in /home/trusted-service-user/cluster-env/env/lib/python3.8/site-packages (from huggingface-hub<1.0,>=0.14.1->transformers[torch]) (4.7.1)\nRequirement already satisfied: pyparsing>=2.0.2 in /home/trusted-service-user/cluster-env/env/lib/python3.8/site-packages (from packaging>=20.0->transformers[torch]) (2.4.7)\nCollecting nvidia-nvtx-cu11==11.7.91\n  Downloading nvidia_nvtx_cu11-11.7.91-py3-none-manylinux1_x86_64.whl (98 kB)\n\u001b[2K     \u001b[90m━━━━━━━━━━━━━━━━━━━━━━━━━━━━━━━━━━━━━━━━\u001b[0m \u001b[32m98.6/98.6 KB\u001b[0m \u001b[31m42.6 MB/s\u001b[0m eta \u001b[36m0:00:00\u001b[0m\n\u001b[?25hCollecting nvidia-curand-cu11==10.2.10.91\n  Downloading nvidia_curand_cu11-10.2.10.91-py3-none-manylinux1_x86_64.whl (54.6 MB)\n\u001b[2K     \u001b[90m━━━━━━━━━━━━━━━━━━━━━━━━━━━━━━━━━━━━━━━━\u001b[0m \u001b[32m54.6/54.6 MB\u001b[0m \u001b[31m55.8 MB/s\u001b[0m eta \u001b[36m0:00:00\u001b[0m00:01\u001b[0m00:01\u001b[0m\n\u001b[?25hCollecting nvidia-cusparse-cu11==11.7.4.91\n  Downloading nvidia_cusparse_cu11-11.7.4.91-py3-none-manylinux1_x86_64.whl (173.2 MB)\n\u001b[2K     \u001b[90m━━━━━━━━━━━━━━━━━━━━━━━━━━━━━━━━━━━━━━━\u001b[0m \u001b[32m173.2/173.2 MB\u001b[0m \u001b[31m8.3 MB/s\u001b[0m eta \u001b[36m0:00:00\u001b[0m00:01\u001b[0m00:01\u001b[0m\n\u001b[?25hCollecting nvidia-nccl-cu11==2.14.3\n  Downloading nvidia_nccl_cu11-2.14.3-py3-none-manylinux1_x86_64.whl (177.1 MB)\n\u001b[2K     \u001b[90m━━━━━━━━━━━━━━━━━━━━━━━━━━━━━━━━━━━━━━━\u001b[0m \u001b[32m177.1/177.1 MB\u001b[0m \u001b[31m8.5 MB/s\u001b[0m eta \u001b[36m0:00:00\u001b[0m00:01\u001b[0m00:01\u001b[0m\n\u001b[?25hRequirement already satisfied: jinja2 in /home/trusted-service-user/cluster-env/env/lib/python3.8/site-packages (from torch!=1.12.0,>=1.9->transformers[torch]) (3.0.1)\nCollecting nvidia-cuda-cupti-cu11==11.7.101\n  Downloading nvidia_cuda_cupti_cu11-11.7.101-py3-none-manylinux1_x86_64.whl (11.8 MB)\n\u001b[2K     \u001b[90m━━━━━━━━━━━━━━━━━━━━━━━━━━━━━━━━━━━━━━━\u001b[0m \u001b[32m11.8/11.8 MB\u001b[0m \u001b[31m104.6 MB/s\u001b[0m eta \u001b[36m0:00:00\u001b[0m00:01\u001b[0m00:01\u001b[0m\n\u001b[?25hCollecting nvidia-cudnn-cu11==8.5.0.96\n  Downloading nvidia_cudnn_cu11-8.5.0.96-2-py3-none-manylinux1_x86_64.whl (557.1 MB)\n\u001b[2K     \u001b[90m━━━━━━━━━━━━━━━━━━━━━━━━━━━━━━━━━━━━━━━\u001b[0m \u001b[32m557.1/557.1 MB\u001b[0m \u001b[31m2.1 MB/s\u001b[0m eta \u001b[36m0:00:00\u001b[0m00:01\u001b[0m00:01\u001b[0m\n\u001b[?25hCollecting nvidia-cufft-cu11==10.9.0.58\n  Downloading nvidia_cufft_cu11-10.9.0.58-py3-none-manylinux1_x86_64.whl (168.4 MB)\n\u001b[2K     \u001b[90m━━━━━━━━━━━━━━━━━━━━━━━━━━━━━━━━━━━━━━\u001b[0m \u001b[32m168.4/168.4 MB\u001b[0m \u001b[31m12.0 MB/s\u001b[0m eta \u001b[36m0:00:00\u001b[0m00:01\u001b[0m00:01\u001b[0m\n\u001b[?25hCollecting nvidia-cuda-runtime-cu11==11.7.99\n  Downloading nvidia_cuda_runtime_cu11-11.7.99-py3-none-manylinux1_x86_64.whl (849 kB)\n\u001b[2K     \u001b[90m━━━━━━━━━━━━━━━━━━━━━━━━━━━━━━━━━━━━━━\u001b[0m \u001b[32m849.3/849.3 KB\u001b[0m \u001b[31m91.1 MB/s\u001b[0m eta \u001b[36m0:00:00\u001b[0m\n\u001b[?25hCollecting nvidia-cusolver-cu11==11.4.0.1\n  Downloading nvidia_cusolver_cu11-11.4.0.1-2-py3-none-manylinux1_x86_64.whl (102.6 MB)\n\u001b[2K     \u001b[90m━━━━━━━━━━━━━━━━━━━━━━━━━━━━━━━━━━━━━━━\u001b[0m \u001b[32m102.6/102.6 MB\u001b[0m \u001b[31m9.3 MB/s\u001b[0m eta \u001b[36m0:00:00\u001b[0m00:01\u001b[0m00:01\u001b[0m\n\u001b[?25hCollecting triton==2.0.0\n  Downloading triton-2.0.0-1-cp38-cp38-manylinux2014_x86_64.manylinux_2_17_x86_64.whl (63.2 MB)\n\u001b[2K     \u001b[90m━━━━━━━━━━━━━━━━━━━━━━━━━━━━━━━━━━━━━━━━\u001b[0m \u001b[32m63.2/63.2 MB\u001b[0m \u001b[31m15.2 MB/s\u001b[0m eta \u001b[36m0:00:00\u001b[0m00:01\u001b[0m00:01\u001b[0m\n\u001b[?25hCollecting nvidia-cuda-nvrtc-cu11==11.7.99\n  Downloading nvidia_cuda_nvrtc_cu11-11.7.99-2-py3-none-manylinux1_x86_64.whl (21.0 MB)\n\u001b[2K     \u001b[90m━━━━━━━━━━━━━━━━━━━━━━━━━━━━━━━━━━━━━━━━\u001b[0m \u001b[32m21.0/21.0 MB\u001b[0m \u001b[31m60.5 MB/s\u001b[0m eta \u001b[36m0:00:00\u001b[0m00:01\u001b[0m00:01\u001b[0m\n\u001b[?25hCollecting nvidia-cublas-cu11==11.10.3.66\n  Downloading nvidia_cublas_cu11-11.10.3.66-py3-none-manylinux1_x86_64.whl (317.1 MB)\n\u001b[2K     \u001b[90m━━━━━━━━━━━━━━━━━━━━━━━━━━━━━━━━━━━━━━━\u001b[0m \u001b[32m317.1/317.1 MB\u001b[0m \u001b[31m5.5 MB/s\u001b[0m eta \u001b[36m0:00:00\u001b[0m00:01\u001b[0m00:01\u001b[0m\n\u001b[?25hCollecting sympy\n  Downloading sympy-1.12-py3-none-any.whl (5.7 MB)\n\u001b[2K     \u001b[90m━━━━━━━━━━━━━━━━━━━━━━━━━━━━━━━━━━━━━━━━\u001b[0m \u001b[32m5.7/5.7 MB\u001b[0m \u001b[31m112.5 MB/s\u001b[0m eta \u001b[36m0:00:00\u001b[0m00:01\u001b[0m\n\u001b[?25hRequirement already satisfied: networkx in /home/trusted-service-user/cluster-env/env/lib/python3.8/site-packages (from torch!=1.12.0,>=1.9->transformers[torch]) (2.5.1)\nRequirement already satisfied: setuptools in /home/trusted-service-user/cluster-env/env/lib/python3.8/site-packages (from nvidia-cublas-cu11==11.10.3.66->torch!=1.12.0,>=1.9->transformers[torch]) (49.6.0.post20210108)\nRequirement already satisfied: wheel in /home/trusted-service-user/cluster-env/env/lib/python3.8/site-packages (from nvidia-cublas-cu11==11.10.3.66->torch!=1.12.0,>=1.9->transformers[torch]) (0.36.2)\nCollecting cmake\n  Downloading cmake-3.26.4-py2.py3-none-manylinux2014_x86_64.manylinux_2_17_x86_64.whl (24.0 MB)\n\u001b[2K     \u001b[90m━━━━━━━━━━━━━━━━━━━━━━━━━━━━━━━━━━━━━━━━\u001b[0m \u001b[32m24.0/24.0 MB\u001b[0m \u001b[31m86.6 MB/s\u001b[0m eta \u001b[36m0:00:00\u001b[0m00:01\u001b[0m00:01\u001b[0m\n\u001b[?25hCollecting lit\n  Downloading lit-16.0.6.tar.gz (153 kB)\n\u001b[2K     \u001b[90m━━━━━━━━━━━━━━━━━━━━━━━━━━━━━━━━━━━━━━\u001b[0m \u001b[32m153.7/153.7 KB\u001b[0m \u001b[31m36.0 MB/s\u001b[0m eta \u001b[36m0:00:00\u001b[0m\n\u001b[?25h  Installing build dependencies ... \u001b[?25l-\b \b\\\b \b|\b \bdone\n\u001b[?25h  Getting requirements to build wheel ... \u001b[?25l-\b \bdone\n\u001b[?25h  Installing backend dependencies ... \u001b[?25l-\b \b\\\b \bdone\n\u001b[?25h  Preparing metadata (pyproject.toml) ... \u001b[?25l-\b \bdone\n\u001b[?25hRequirement already satisfied: chardet<5,>=3.0.2 in /home/trusted-service-user/cluster-env/env/lib/python3.8/site-packages (from requests->transformers[torch]) (4.0.0)\nRequirement already satisfied: idna<3,>=2.5 in /home/trusted-service-user/cluster-env/env/lib/python3.8/site-packages (from requests->transformers[torch]) (2.10)\nRequirement already satisfied: urllib3<1.27,>=1.21.1 in /home/trusted-service-user/cluster-env/env/lib/python3.8/site-packages (from requests->transformers[torch]) (1.26.4)\nRequirement already satisfied: certifi>=2017.4.17 in /home/trusted-service-user/cluster-env/env/lib/python3.8/site-packages (from requests->transformers[torch]) (2021.5.30)\nRequirement already satisfied: MarkupSafe>=2.0 in /home/trusted-service-user/cluster-env/env/lib/python3.8/site-packages (from jinja2->torch!=1.12.0,>=1.9->transformers[torch]) (2.0.1)\nRequirement already satisfied: decorator<5,>=4.3 in /home/trusted-service-user/cluster-env/env/lib/python3.8/site-packages (from networkx->torch!=1.12.0,>=1.9->transformers[torch]) (4.4.2)\nCollecting mpmath>=0.19\n  Downloading mpmath-1.3.0-py3-none-any.whl (536 kB)\n\u001b[2K     \u001b[90m━━━━━━━━━━━━━━━━━━━━━━━━━━━━━━━━━━━━━\u001b[0m \u001b[32m536.2/536.2 KB\u001b[0m \u001b[31m102.7 MB/s\u001b[0m eta \u001b[36m0:00:00\u001b[0m\n\u001b[?25hBuilding wheels for collected packages: lit\n  Building wheel for lit (pyproject.toml) ... \u001b[?25l-\b \b\\\b \bdone\n\u001b[?25h  Created wheel for lit: filename=lit-16.0.6-py3-none-any.whl size=93584 sha256=7cd2ba2f447b90ebf9d57754cfbe863872cb0c43706eebd02389e108c424c6a1\n  Stored in directory: /home/trusted-service-user/.cache/pip/wheels/05/ab/f1/0102fea49a41c753f0e79a1a4012417d5d7ef0f93224694472\nSuccessfully built lit\nInstalling collected packages: safetensors, mpmath, lit, cmake, sympy, nvidia-nvtx-cu11, nvidia-nccl-cu11, nvidia-cusparse-cu11, nvidia-curand-cu11, nvidia-cufft-cu11, nvidia-cuda-runtime-cu11, nvidia-cuda-nvrtc-cu11, nvidia-cuda-cupti-cu11, nvidia-cublas-cu11, nvidia-cusolver-cu11, nvidia-cudnn-cu11, transformers, triton, torch, accelerate\n  Attempting uninstall: transformers\n    Found existing installation: transformers 4.29.0\n    Not uninstalling transformers at /home/trusted-service-user/cluster-env/env/lib/python3.8/site-packages, outside environment /nfs4/pyenv-02fa6142-46b8-4cf8-953f-07c124b62079\n    Can't uninstall 'transformers'. No files were found to uninstall.\n  Attempting uninstall: torch\n    Found existing installation: torch 1.8.1\n    Not uninstalling torch at /home/trusted-service-user/cluster-env/env/lib/python3.8/site-packages, outside environment /nfs4/pyenv-02fa6142-46b8-4cf8-953f-07c124b62079\n    Can't uninstall 'torch'. No files were found to uninstall.\n\u001b[31mERROR: pip's dependency resolver does not currently take into account all the packages that are installed. This behaviour is the source of the following dependency conflicts.\ntorchvision 0.9.1 requires torch==1.8.1, but you have torch 2.0.1 which is incompatible.\u001b[0m\u001b[31m\n\u001b[0mSuccessfully installed accelerate-0.21.0 cmake-3.26.4 lit-16.0.6 mpmath-1.3.0 nvidia-cublas-cu11-11.10.3.66 nvidia-cuda-cupti-cu11-11.7.101 nvidia-cuda-nvrtc-cu11-11.7.99 nvidia-cuda-runtime-cu11-11.7.99 nvidia-cudnn-cu11-8.5.0.96 nvidia-cufft-cu11-10.9.0.58 nvidia-curand-cu11-10.2.10.91 nvidia-cusolver-cu11-11.4.0.1 nvidia-cusparse-cu11-11.7.4.91 nvidia-nccl-cu11-2.14.3 nvidia-nvtx-cu11-11.7.91 safetensors-0.3.1 sympy-1.12 torch-2.0.1 transformers-4.30.2 triton-2.0.0\n\u001b[33mWARNING: You are using pip version 22.0.4; however, version 23.2 is available.\nYou should consider upgrading via the '/nfs4/pyenv-02fa6142-46b8-4cf8-953f-07c124b62079/bin/python -m pip install --upgrade pip' command.\u001b[0m\u001b[33m\n\u001b[0mNote: you may need to restart the kernel to use updated packages.\n"
        },
        {
          "output_type": "execute_result",
          "execution_count": 2,
          "data": {},
          "metadata": {}
        },
        {
          "output_type": "stream",
          "name": "stdout",
          "text": "Warning: PySpark kernel has been restarted to use updated packages.\n\n"
        }
      ],
      "execution_count": 2,
      "metadata": {
        "jupyter": {
          "source_hidden": false,
          "outputs_hidden": false
        },
        "nteract": {
          "transient": {
            "deleting": false
          }
        },
        "gather": {
          "logged": 1689508369116
        }
      }
    },
    {
      "cell_type": "code",
      "source": [
        "#!pip install transformers==4.29.0\r\n",
        "from transformers import AutoTokenizer, AutoModelForSeq2SeqLM,AutoModelForCausalLM #TFAutoModelForSeq2SeqLM\r\n",
        "model_name=\"t5-small\"\r\n",
        "tokenizer = AutoTokenizer.from_pretrained(model_name)\r\n",
        "model = AutoModelForSeq2SeqLM.from_pretrained(model_name)\r\n",
        "#model = AutoModelForCausalLM.from_pretrained(model_name)"
      ],
      "outputs": [
        {
          "output_type": "display_data",
          "data": {
            "application/vnd.livy.statement-meta+json": {
              "spark_pool": "eac2bd1e-874e-4b30-8e98-189a9c4c7e68",
              "session_id": "30",
              "statement_id": 18,
              "state": "finished",
              "livy_statement_state": "available",
              "queued_time": "2023-07-16T11:46:28.541595Z",
              "session_start_time": null,
              "execution_start_time": "2023-07-16T11:52:55.5293246Z",
              "execution_finish_time": "2023-07-16T11:53:28.7233356Z",
              "spark_jobs": {
                "numbers": {
                  "RUNNING": 0,
                  "FAILED": 0,
                  "UNKNOWN": 0,
                  "SUCCEEDED": 0
                },
                "jobs": [],
                "limit": 20,
                "rule": "ALL_DESC"
              },
              "parent_msg_id": "31cc094f-76fb-42df-a4dc-5b9b45ffbbf6"
            },
            "text/plain": "StatementMeta(eac2bd1e-874e-4b30-8e98-189a9c4c7e68, 30, 18, Finished, Available)"
          },
          "metadata": {}
        },
        {
          "output_type": "stream",
          "name": "stdout",
          "text": "[2023-07-16T11:52:55.594329] post artifact meta request successfully.\n[2023-07-16T11:52:55.652978] get artifact sas uri successfully. origin is ExperimentRun artifact path is logs/azureml/driver/stdout\nSuccessfully add logs to artifact services.\nStart to mount artifact container with mount point /AmlJobLogs/dcid.2dac0361-5216-438b-b9d4-4531fff6b2c4\nSuccessfully mount artifact container to path:  /synfs/notebook/AmlJobLogs/dcid.2dac0361-5216-438b-b9d4-4531fff6b2c4\nStarting log upload threads\n"
        },
        {
          "output_type": "display_data",
          "data": {
            "text/plain": "Downloading (…)okenizer_config.json:   0%|          | 0.00/2.32k [00:00<?, ?B/s]",
            "application/vnd.jupyter.widget-view+json": {
              "version_major": 2,
              "version_minor": 0,
              "model_id": "3516089b-6522-48f7-b188-b8472636e106"
            }
          },
          "metadata": {}
        },
        {
          "output_type": "display_data",
          "data": {
            "text/plain": "Downloading (…)ve/main/spiece.model:   0%|          | 0.00/792k [00:00<?, ?B/s]",
            "application/vnd.jupyter.widget-view+json": {
              "version_major": 2,
              "version_minor": 0,
              "model_id": "eb6f76cf-9dde-41f2-92b2-6d2ed3f0be6d"
            }
          },
          "metadata": {}
        },
        {
          "output_type": "display_data",
          "data": {
            "text/plain": "Downloading (…)/main/tokenizer.json:   0%|          | 0.00/1.39M [00:00<?, ?B/s]",
            "application/vnd.jupyter.widget-view+json": {
              "version_major": 2,
              "version_minor": 0,
              "model_id": "44873489-e422-4b71-a514-daf172e98527"
            }
          },
          "metadata": {}
        },
        {
          "output_type": "display_data",
          "data": {
            "text/plain": "Downloading (…)lve/main/config.json:   0%|          | 0.00/1.21k [00:00<?, ?B/s]",
            "application/vnd.jupyter.widget-view+json": {
              "version_major": 2,
              "version_minor": 0,
              "model_id": "c2496616-551c-4713-883b-a94d5e7ffab8"
            }
          },
          "metadata": {}
        },
        {
          "output_type": "display_data",
          "data": {
            "text/plain": "Downloading model.safetensors:   0%|          | 0.00/242M [00:00<?, ?B/s]",
            "application/vnd.jupyter.widget-view+json": {
              "version_major": 2,
              "version_minor": 0,
              "model_id": "5fb75e26-8c18-4c5b-b7cb-0424005898cb"
            }
          },
          "metadata": {}
        },
        {
          "output_type": "display_data",
          "data": {
            "text/plain": "Downloading (…)neration_config.json:   0%|          | 0.00/147 [00:00<?, ?B/s]",
            "application/vnd.jupyter.widget-view+json": {
              "version_major": 2,
              "version_minor": 0,
              "model_id": "549ea0e3-4426-482c-aa14-259006075ec2"
            }
          },
          "metadata": {}
        },
        {
          "output_type": "display_data",
          "data": {
            "application/vnd.livy.statement-meta+json": {
              "spark_pool": "eac2bd1e-874e-4b30-8e98-189a9c4c7e68",
              "session_id": "30",
              "statement_id": 21,
              "state": "finished",
              "livy_statement_state": "available",
              "queued_time": "2023-07-16T11:53:03.2103015Z",
              "session_start_time": null,
              "execution_start_time": "2023-07-16T11:53:29.5505772Z",
              "execution_finish_time": "2023-07-16T11:53:29.8960523Z",
              "spark_jobs": {
                "numbers": {
                  "RUNNING": 0,
                  "FAILED": 0,
                  "UNKNOWN": 0,
                  "SUCCEEDED": 0
                },
                "jobs": [],
                "limit": 20,
                "rule": "ALL_DESC"
              },
              "parent_msg_id": "369bd96e-6213-4303-9fa1-155801557142"
            },
            "text/plain": "StatementMeta(eac2bd1e-874e-4b30-8e98-189a9c4c7e68, 30, 21, Finished, Available)"
          },
          "metadata": {}
        },
        {
          "output_type": "display_data",
          "data": {
            "application/vnd.livy.statement-meta+json": {
              "spark_pool": "eac2bd1e-874e-4b30-8e98-189a9c4c7e68",
              "session_id": "30",
              "statement_id": 22,
              "state": "finished",
              "livy_statement_state": "available",
              "queued_time": "2023-07-16T11:53:31.8606828Z",
              "session_start_time": null,
              "execution_start_time": "2023-07-16T11:53:31.9243099Z",
              "execution_finish_time": "2023-07-16T11:53:32.278594Z",
              "spark_jobs": {
                "numbers": {
                  "RUNNING": 0,
                  "FAILED": 0,
                  "UNKNOWN": 0,
                  "SUCCEEDED": 0
                },
                "jobs": [],
                "limit": 20,
                "rule": "ALL_DESC"
              },
              "parent_msg_id": "5a0f3391-8d70-416d-b872-d387f7b80b23"
            },
            "text/plain": "StatementMeta(eac2bd1e-874e-4b30-8e98-189a9c4c7e68, 30, 22, Finished, Available)"
          },
          "metadata": {}
        }
      ],
      "execution_count": 3,
      "metadata": {
        "jupyter": {
          "source_hidden": false,
          "outputs_hidden": false
        },
        "nteract": {
          "transient": {
            "deleting": false
          }
        },
        "gather": {
          "logged": 1689508409411
        }
      }
    },
    {
      "cell_type": "code",
      "source": [
        "# import mlflow\r\n",
        "# mlflow.__version__"
      ],
      "outputs": [
        {
          "output_type": "display_data",
          "data": {
            "application/vnd.livy.statement-meta+json": {
              "spark_pool": "eac2bd1e-874e-4b30-8e98-189a9c4c7e68",
              "session_id": "30",
              "statement_id": 19,
              "state": "finished",
              "livy_statement_state": "available",
              "queued_time": "2023-07-16T11:46:39.0699199Z",
              "session_start_time": null,
              "execution_start_time": "2023-07-16T11:53:28.7860481Z",
              "execution_finish_time": "2023-07-16T11:53:29.0907794Z",
              "spark_jobs": {
                "numbers": {
                  "RUNNING": 0,
                  "FAILED": 0,
                  "UNKNOWN": 0,
                  "SUCCEEDED": 0
                },
                "jobs": [],
                "limit": 20,
                "rule": "ALL_DESC"
              },
              "parent_msg_id": "f09274fa-cb76-4abe-a8fc-5a8313d95bb6"
            },
            "text/plain": "StatementMeta(eac2bd1e-874e-4b30-8e98-189a9c4c7e68, 30, 19, Finished, Available)"
          },
          "metadata": {}
        }
      ],
      "execution_count": 4,
      "metadata": {
        "jupyter": {
          "source_hidden": false,
          "outputs_hidden": false
        },
        "nteract": {
          "transient": {
            "deleting": false
          }
        },
        "gather": {
          "logged": 1689508409790
        }
      }
    },
    {
      "cell_type": "code",
      "source": [
        "#model.base_model\r\n",
        "model.config"
      ],
      "outputs": [
        {
          "output_type": "display_data",
          "data": {
            "application/vnd.livy.statement-meta+json": {
              "spark_pool": "eac2bd1e-874e-4b30-8e98-189a9c4c7e68",
              "session_id": "30",
              "statement_id": 23,
              "state": "finished",
              "livy_statement_state": "available",
              "queued_time": "2023-07-16T11:53:35.3929339Z",
              "session_start_time": null,
              "execution_start_time": "2023-07-16T11:53:35.4586555Z",
              "execution_finish_time": "2023-07-16T11:53:35.7575935Z",
              "spark_jobs": {
                "numbers": {
                  "RUNNING": 0,
                  "FAILED": 0,
                  "UNKNOWN": 0,
                  "SUCCEEDED": 0
                },
                "jobs": [],
                "limit": 20,
                "rule": "ALL_DESC"
              },
              "parent_msg_id": "390655f6-7f4d-4cd1-9429-6f394f6cb372"
            },
            "text/plain": "StatementMeta(eac2bd1e-874e-4b30-8e98-189a9c4c7e68, 30, 23, Finished, Available)"
          },
          "metadata": {}
        },
        {
          "output_type": "execute_result",
          "execution_count": 23,
          "data": {
            "text/plain": "T5Config {\n  \"_name_or_path\": \"t5-small\",\n  \"architectures\": [\n    \"T5ForConditionalGeneration\"\n  ],\n  \"d_ff\": 2048,\n  \"d_kv\": 64,\n  \"d_model\": 512,\n  \"decoder_start_token_id\": 0,\n  \"dense_act_fn\": \"relu\",\n  \"dropout_rate\": 0.1,\n  \"eos_token_id\": 1,\n  \"feed_forward_proj\": \"relu\",\n  \"initializer_factor\": 1.0,\n  \"is_encoder_decoder\": true,\n  \"is_gated_act\": false,\n  \"layer_norm_epsilon\": 1e-06,\n  \"model_type\": \"t5\",\n  \"n_positions\": 512,\n  \"num_decoder_layers\": 6,\n  \"num_heads\": 8,\n  \"num_layers\": 6,\n  \"output_past\": true,\n  \"pad_token_id\": 0,\n  \"relative_attention_max_distance\": 128,\n  \"relative_attention_num_buckets\": 32,\n  \"task_specific_params\": {\n    \"summarization\": {\n      \"early_stopping\": true,\n      \"length_penalty\": 2.0,\n      \"max_length\": 200,\n      \"min_length\": 30,\n      \"no_repeat_ngram_size\": 3,\n      \"num_beams\": 4,\n      \"prefix\": \"summarize: \"\n    },\n    \"translation_en_to_de\": {\n      \"early_stopping\": true,\n      \"max_length\": 300,\n      \"num_beams\": 4,\n      \"prefix\": \"translate English to German: \"\n    },\n    \"translation_en_to_fr\": {\n      \"early_stopping\": true,\n      \"max_length\": 300,\n      \"num_beams\": 4,\n      \"prefix\": \"translate English to French: \"\n    },\n    \"translation_en_to_ro\": {\n      \"early_stopping\": true,\n      \"max_length\": 300,\n      \"num_beams\": 4,\n      \"prefix\": \"translate English to Romanian: \"\n    }\n  },\n  \"transformers_version\": \"4.30.2\",\n  \"use_cache\": true,\n  \"vocab_size\": 32128\n}"
          },
          "metadata": {}
        }
      ],
      "execution_count": 6,
      "metadata": {
        "jupyter": {
          "source_hidden": false,
          "outputs_hidden": false
        },
        "nteract": {
          "transient": {
            "deleting": false
          }
        },
        "gather": {
          "logged": 1689508415932
        }
      }
    },
    {
      "cell_type": "code",
      "source": [
        "#%pip install --upgrade pip install azure-ai-ml\r\n",
        "!pip install azure-ai-ml"
      ],
      "outputs": [
        {
          "output_type": "display_data",
          "data": {
            "application/vnd.livy.statement-meta+json": {
              "spark_pool": "eac2bd1e-874e-4b30-8e98-189a9c4c7e68",
              "session_id": "30",
              "statement_id": 24,
              "state": "finished",
              "livy_statement_state": "available",
              "queued_time": "2023-07-16T11:53:42.2884546Z",
              "session_start_time": null,
              "execution_start_time": "2023-07-16T11:53:42.3579338Z",
              "execution_finish_time": "2023-07-16T11:54:03.4649004Z",
              "spark_jobs": {
                "numbers": {
                  "RUNNING": 0,
                  "FAILED": 0,
                  "UNKNOWN": 0,
                  "SUCCEEDED": 0
                },
                "jobs": [],
                "limit": 20,
                "rule": "ALL_DESC"
              },
              "parent_msg_id": "4d540ccd-7b05-4dce-b120-1637ddf8b827"
            },
            "text/plain": "StatementMeta(eac2bd1e-874e-4b30-8e98-189a9c4c7e68, 30, 24, Finished, Available)"
          },
          "metadata": {}
        },
        {
          "output_type": "stream",
          "name": "stdout",
          "text": "Collecting azure-ai-ml\n  Downloading azure_ai_ml-1.8.0-py3-none-any.whl (6.2 MB)\n\u001b[K     |████████████████████████████████| 6.2 MB 10.9 MB/s eta 0:00:01\n\u001b[?25hCollecting azure-core<2.0.0,>=1.23.0\n  Downloading azure_core-1.28.0-py3-none-any.whl (185 kB)\n\u001b[K     |████████████████████████████████| 185 kB 86.5 MB/s eta 0:00:01\n\u001b[?25hRequirement already satisfied: jsonschema<5.0.0,>=4.0.0 in /home/trusted-service-user/cluster-env/env/lib/python3.8/site-packages (from azure-ai-ml) (4.15.0)\nRequirement already satisfied: pyyaml<7.0.0,>=5.1.0 in /home/trusted-service-user/cluster-env/env/lib/python3.8/site-packages (from azure-ai-ml) (5.4.1)\nRequirement already satisfied: azure-mgmt-core<2.0.0,>=1.3.0 in /home/trusted-service-user/cluster-env/env/lib/python3.8/site-packages (from azure-ai-ml) (1.3.0)\nCollecting strictyaml<2.0.0\n  Downloading strictyaml-1.7.3-py3-none-any.whl (123 kB)\n\u001b[K     |████████████████████████████████| 123 kB 92.0 MB/s eta 0:00:01\n\u001b[?25hCollecting pydash<6.0.0\n  Downloading pydash-5.1.2-py3-none-any.whl (84 kB)\n\u001b[K     |████████████████████████████████| 84 kB 13.3 MB/s eta 0:00:01\n\u001b[?25hRequirement already satisfied: tqdm<5.0.0 in /home/trusted-service-user/cluster-env/env/lib/python3.8/site-packages (from azure-ai-ml) (4.65.0)\nRequirement already satisfied: msrest>=0.6.18 in /home/trusted-service-user/cluster-env/env/lib/python3.8/site-packages (from azure-ai-ml) (0.6.21)\nCollecting azure-storage-file-share<13.0.0\n  Downloading azure_storage_file_share-12.13.0-py3-none-any.whl (266 kB)\n\u001b[K     |████████████████████████████████| 266 kB 84.8 MB/s eta 0:00:01\n\u001b[?25hCollecting azure-storage-file-datalake<13.0.0\n  Downloading azure_storage_file_datalake-12.12.0-py3-none-any.whl (247 kB)\n\u001b[K     |████████████████████████████████| 247 kB 100.8 MB/s eta 0:00:01\n\u001b[?25hCollecting opencensus-ext-azure<2.0.0\n  Downloading opencensus_ext_azure-1.1.9-py2.py3-none-any.whl (43 kB)\n\u001b[K     |████████████████████████████████| 43 kB 6.1 MB/s  eta 0:00:01\n\u001b[?25hCollecting marshmallow<4.0.0,>=3.5\n  Downloading marshmallow-3.19.0-py3-none-any.whl (49 kB)\n\u001b[K     |████████████████████████████████| 49 kB 20.3 MB/s eta 0:00:01\n\u001b[?25hCollecting colorama<0.5.0\n  Downloading colorama-0.4.6-py2.py3-none-any.whl (25 kB)\nRequirement already satisfied: pyjwt<3.0.0 in /home/trusted-service-user/cluster-env/env/lib/python3.8/site-packages (from azure-ai-ml) (2.1.0)\nRequirement already satisfied: isodate in /home/trusted-service-user/cluster-env/env/lib/python3.8/site-packages (from azure-ai-ml) (0.6.0)\nRequirement already satisfied: azure-common<2.0.0,>=1.1 in /home/trusted-service-user/cluster-env/env/lib/python3.8/site-packages (from azure-ai-ml) (1.1.27)\nCollecting azure-storage-blob<13.0.0,>=12.10.0\n  Downloading azure_storage_blob-12.17.0-py3-none-any.whl (388 kB)\n\u001b[K     |████████████████████████████████| 388 kB 87.8 MB/s eta 0:00:01\n\u001b[?25hRequirement already satisfied: typing-extensions<5.0.0 in /home/trusted-service-user/cluster-env/env/lib/python3.8/site-packages (from azure-ai-ml) (4.7.1)\nRequirement already satisfied: requests>=2.18.4 in /home/trusted-service-user/cluster-env/env/lib/python3.8/site-packages (from azure-core<2.0.0,>=1.23.0->azure-ai-ml) (2.25.1)\nRequirement already satisfied: six>=1.11.0 in /home/trusted-service-user/cluster-env/env/lib/python3.8/site-packages (from azure-core<2.0.0,>=1.23.0->azure-ai-ml) (1.16.0)\nRequirement already satisfied: cryptography>=2.1.4 in /home/trusted-service-user/cluster-env/env/lib/python3.8/site-packages (from azure-storage-blob<13.0.0,>=12.10.0->azure-ai-ml) (3.4.7)\nCollecting isodate\n  Downloading isodate-0.6.1-py2.py3-none-any.whl (41 kB)\n\u001b[K     |████████████████████████████████| 41 kB 2.4 MB/s  eta 0:00:01\n\u001b[?25hRequirement already satisfied: cffi>=1.12 in /home/trusted-service-user/cluster-env/env/lib/python3.8/site-packages (from cryptography>=2.1.4->azure-storage-blob<13.0.0,>=12.10.0->azure-ai-ml) (1.14.5)\nRequirement already satisfied: pycparser in /home/trusted-service-user/cluster-env/env/lib/python3.8/site-packages (from cffi>=1.12->cryptography>=2.1.4->azure-storage-blob<13.0.0,>=12.10.0->azure-ai-ml) (2.20)\nRequirement already satisfied: importlib-resources>=1.4.0 in /home/trusted-service-user/cluster-env/env/lib/python3.8/site-packages (from jsonschema<5.0.0,>=4.0.0->azure-ai-ml) (5.9.0)\nRequirement already satisfied: pyrsistent!=0.17.0,!=0.17.1,!=0.17.2,>=0.14.0 in /home/trusted-service-user/cluster-env/env/lib/python3.8/site-packages (from jsonschema<5.0.0,>=4.0.0->azure-ai-ml) (0.18.1)\nRequirement already satisfied: attrs>=17.4.0 in /home/trusted-service-user/cluster-env/env/lib/python3.8/site-packages (from jsonschema<5.0.0,>=4.0.0->azure-ai-ml) (21.2.0)\nRequirement already satisfied: pkgutil-resolve-name>=1.3.10 in /home/trusted-service-user/cluster-env/env/lib/python3.8/site-packages (from jsonschema<5.0.0,>=4.0.0->azure-ai-ml) (1.3.10)\nRequirement already satisfied: zipp>=3.1.0 in /home/trusted-service-user/cluster-env/env/lib/python3.8/site-packages (from importlib-resources>=1.4.0->jsonschema<5.0.0,>=4.0.0->azure-ai-ml) (3.5.0)\nRequirement already satisfied: packaging>=17.0 in /home/trusted-service-user/cluster-env/env/lib/python3.8/site-packages (from marshmallow<4.0.0,>=3.5->azure-ai-ml) (21.0)\nRequirement already satisfied: requests-oauthlib>=0.5.0 in /home/trusted-service-user/cluster-env/env/lib/python3.8/site-packages (from msrest>=0.6.18->azure-ai-ml) (1.3.0)\nRequirement already satisfied: certifi>=2017.4.17 in /home/trusted-service-user/cluster-env/env/lib/python3.8/site-packages (from msrest>=0.6.18->azure-ai-ml) (2021.5.30)\nRequirement already satisfied: azure-identity<2.0.0,>=1.5.0 in /home/trusted-service-user/cluster-env/env/lib/python3.8/site-packages (from opencensus-ext-azure<2.0.0->azure-ai-ml) (1.5.0)\nRequirement already satisfied: psutil>=5.6.3 in /home/trusted-service-user/cluster-env/env/lib/python3.8/site-packages (from opencensus-ext-azure<2.0.0->azure-ai-ml) (5.8.0)\nCollecting opencensus<1.0.0,>=0.11.2\n  Downloading opencensus-0.11.2-py2.py3-none-any.whl (128 kB)\n\u001b[K     |████████████████████████████████| 128 kB 91.1 MB/s eta 0:00:01\n\u001b[?25hRequirement already satisfied: msal-extensions~=0.3.0 in /home/trusted-service-user/cluster-env/env/lib/python3.8/site-packages (from azure-identity<2.0.0,>=1.5.0->opencensus-ext-azure<2.0.0->azure-ai-ml) (0.3.0)\nRequirement already satisfied: msal<2.0.0,>=1.6.0 in /home/trusted-service-user/cluster-env/env/lib/python3.8/site-packages (from azure-identity<2.0.0,>=1.5.0->opencensus-ext-azure<2.0.0->azure-ai-ml) (1.12.0)\nRequirement already satisfied: portalocker~=1.0 in /home/trusted-service-user/cluster-env/env/lib/python3.8/site-packages (from msal-extensions~=0.3.0->azure-identity<2.0.0,>=1.5.0->opencensus-ext-azure<2.0.0->azure-ai-ml) (1.7.1)\nCollecting opencensus-context>=0.1.3\n  Downloading opencensus_context-0.1.3-py2.py3-none-any.whl (5.1 kB)\nCollecting google-api-core<3.0.0,>=1.0.0\n  Downloading google_api_core-2.11.1-py3-none-any.whl (120 kB)\n\u001b[K     |████████████████████████████████| 120 kB 95.6 MB/s eta 0:00:01\n\u001b[?25hCollecting protobuf!=3.20.0,!=3.20.1,!=4.21.0,!=4.21.1,!=4.21.2,!=4.21.3,!=4.21.4,!=4.21.5,<5.0.0.dev0,>=3.19.5\n  Downloading protobuf-4.23.4-cp37-abi3-manylinux2014_x86_64.whl (304 kB)\n\u001b[K     |████████████████████████████████| 304 kB 105.1 MB/s eta 0:00:01\n\u001b[?25hCollecting googleapis-common-protos<2.0.dev0,>=1.56.2\n  Downloading googleapis_common_protos-1.59.1-py2.py3-none-any.whl (224 kB)\n\u001b[K     |████████████████████████████████| 224 kB 86.7 MB/s eta 0:00:01\n\u001b[?25hCollecting google-auth<3.0.dev0,>=2.14.1\n  Downloading google_auth-2.22.0-py2.py3-none-any.whl (181 kB)\n\u001b[K     |████████████████████████████████| 181 kB 100.3 MB/s eta 0:00:01\n\u001b[?25hRequirement already satisfied: pyasn1-modules>=0.2.1 in /home/trusted-service-user/cluster-env/env/lib/python3.8/site-packages (from google-auth<3.0.dev0,>=2.14.1->google-api-core<3.0.0,>=1.0.0->opencensus<1.0.0,>=0.11.2->opencensus-ext-azure<2.0.0->azure-ai-ml) (0.2.8)\nRequirement already satisfied: cachetools<6.0,>=2.0.0 in /home/trusted-service-user/cluster-env/env/lib/python3.8/site-packages (from google-auth<3.0.dev0,>=2.14.1->google-api-core<3.0.0,>=1.0.0->opencensus<1.0.0,>=0.11.2->opencensus-ext-azure<2.0.0->azure-ai-ml) (4.2.2)\nRequirement already satisfied: urllib3<2.0 in /home/trusted-service-user/cluster-env/env/lib/python3.8/site-packages (from google-auth<3.0.dev0,>=2.14.1->google-api-core<3.0.0,>=1.0.0->opencensus<1.0.0,>=0.11.2->opencensus-ext-azure<2.0.0->azure-ai-ml) (1.26.4)\nRequirement already satisfied: rsa<5,>=3.1.4 in /home/trusted-service-user/cluster-env/env/lib/python3.8/site-packages (from google-auth<3.0.dev0,>=2.14.1->google-api-core<3.0.0,>=1.0.0->opencensus<1.0.0,>=0.11.2->opencensus-ext-azure<2.0.0->azure-ai-ml) (4.7.2)\nRequirement already satisfied: pyparsing>=2.0.2 in /home/trusted-service-user/cluster-env/env/lib/python3.8/site-packages (from packaging>=17.0->marshmallow<4.0.0,>=3.5->azure-ai-ml) (2.4.7)\nRequirement already satisfied: pyasn1<0.5.0,>=0.4.6 in /home/trusted-service-user/cluster-env/env/lib/python3.8/site-packages (from pyasn1-modules>=0.2.1->google-auth<3.0.dev0,>=2.14.1->google-api-core<3.0.0,>=1.0.0->opencensus<1.0.0,>=0.11.2->opencensus-ext-azure<2.0.0->azure-ai-ml) (0.4.8)\nRequirement already satisfied: idna<3,>=2.5 in /home/trusted-service-user/cluster-env/env/lib/python3.8/site-packages (from requests>=2.18.4->azure-core<2.0.0,>=1.23.0->azure-ai-ml) (2.10)\nRequirement already satisfied: chardet<5,>=3.0.2 in /home/trusted-service-user/cluster-env/env/lib/python3.8/site-packages (from requests>=2.18.4->azure-core<2.0.0,>=1.23.0->azure-ai-ml) (4.0.0)\nRequirement already satisfied: oauthlib>=3.0.0 in /home/trusted-service-user/cluster-env/env/lib/python3.8/site-packages (from requests-oauthlib>=0.5.0->msrest>=0.6.18->azure-ai-ml) (3.1.1)\nRequirement already satisfied: python-dateutil>=2.6.0 in /home/trusted-service-user/cluster-env/env/lib/python3.8/site-packages (from strictyaml<2.0.0->azure-ai-ml) (2.8.1)\nInstalling collected packages: protobuf, googleapis-common-protos, google-auth, opencensus-context, isodate, google-api-core, azure-core, opencensus, azure-storage-blob, strictyaml, pydash, opencensus-ext-azure, marshmallow, colorama, azure-storage-file-share, azure-storage-file-datalake, azure-ai-ml\n  Attempting uninstall: protobuf\n    Found existing installation: protobuf 3.15.8\n    Uninstalling protobuf-3.15.8:\n      Successfully uninstalled protobuf-3.15.8\n  Attempting uninstall: google-auth\n    Found existing installation: google-auth 1.32.1\n    Uninstalling google-auth-1.32.1:\n      Successfully uninstalled google-auth-1.32.1\n  Attempting uninstall: isodate\n    Found existing installation: isodate 0.6.0\n    Uninstalling isodate-0.6.0:\n      Successfully uninstalled isodate-0.6.0\n  Attempting uninstall: azure-core\n    Found existing installation: azure-core 1.22.1\n    Uninstalling azure-core-1.22.1:\n      Successfully uninstalled azure-core-1.22.1\n  Attempting uninstall: azure-storage-blob\n    Found existing installation: azure-storage-blob 12.8.1\n    Uninstalling azure-storage-blob-12.8.1:\n      Successfully uninstalled azure-storage-blob-12.8.1\n\u001b[31mERROR: pip's dependency resolver does not currently take into account all the packages that are installed. This behaviour is the source of the following dependency conflicts.\ntensorflow 2.4.1 requires six~=1.15.0, but you have six 1.16.0 which is incompatible.\ntensorflow 2.4.1 requires typing-extensions~=3.7.4, but you have typing-extensions 4.7.1 which is incompatible.\ntensorboard 2.4.1 requires google-auth<2,>=1.6.3, but you have google-auth 2.22.0 which is incompatible.\u001b[0m\nSuccessfully installed azure-ai-ml-1.8.0 azure-core-1.28.0 azure-storage-blob-12.17.0 azure-storage-file-datalake-12.12.0 azure-storage-file-share-12.13.0 colorama-0.4.6 google-api-core-2.11.1 google-auth-2.22.0 googleapis-common-protos-1.59.1 isodate-0.6.1 marshmallow-3.19.0 opencensus-0.11.2 opencensus-context-0.1.3 opencensus-ext-azure-1.1.9 protobuf-4.23.4 pydash-5.1.2 strictyaml-1.7.3\n"
        }
      ],
      "execution_count": 7,
      "metadata": {
        "jupyter": {
          "source_hidden": false,
          "outputs_hidden": false
        },
        "nteract": {
          "transient": {
            "deleting": false
          }
        },
        "gather": {
          "logged": 1689508443544
        }
      }
    },
    {
      "cell_type": "code",
      "source": [
        "import mlflow\r\n",
        "from azure.ai.ml import MLClient\r\n",
        "from azureml.core import Workspace\r\n",
        "from azure.identity import DefaultAzureCredential\r\n",
        "subscription_id = \"bb9cf94f-f06a-49eb-a8e9-e63654d7257b\"\r\n",
        "resource_group = \"Free\"\r\n",
        "workspace = \"Trial\"\r\n",
        "\r\n",
        "credintials = DefaultAzureCredential(exclude_shared_token_cache_credential=True)\r\n",
        "#Create a workspace object with your credentials\r\n",
        "ws = Workspace(subscription_id, resource_group, workspace)\r\n",
        "\r\n",
        "workspace_ml_client = MLClient(credintials, subscription_id, resource_group, workspace)\r\n",
        "\r\n",
        "mlflow.set_tracking_uri(ws.get_mlflow_tracking_uri())"
      ],
      "outputs": [
        {
          "output_type": "display_data",
          "data": {
            "application/vnd.livy.statement-meta+json": {
              "spark_pool": "eac2bd1e-874e-4b30-8e98-189a9c4c7e68",
              "session_id": "30",
              "statement_id": 25,
              "state": "finished",
              "livy_statement_state": "available",
              "queued_time": "2023-07-16T11:54:31.2426472Z",
              "session_start_time": null,
              "execution_start_time": "2023-07-16T11:54:31.3036335Z",
              "execution_finish_time": "2023-07-16T11:55:15.289411Z",
              "spark_jobs": {
                "numbers": {
                  "RUNNING": 0,
                  "FAILED": 0,
                  "UNKNOWN": 0,
                  "SUCCEEDED": 0
                },
                "jobs": [],
                "limit": 20,
                "rule": "ALL_DESC"
              },
              "parent_msg_id": "8184958c-9f0f-4e59-8041-3bed5df5e769"
            },
            "text/plain": "StatementMeta(eac2bd1e-874e-4b30-8e98-189a9c4c7e68, 30, 25, Finished, Available)"
          },
          "metadata": {}
        },
        {
          "output_type": "stream",
          "name": "stdout",
          "text": "Performing interactive authentication. Please follow the instructions on the terminal.\nTo sign in, use a web browser to open the page https://microsoft.com/devicelogin and enter the code E5V98ZTVY to authenticate.\nYou have logged in. Now let us find all the subscriptions to which you have access...\nInteractive authentication successfully completed.\n"
        }
      ],
      "execution_count": 8,
      "metadata": {
        "jupyter": {
          "source_hidden": false,
          "outputs_hidden": false
        },
        "nteract": {
          "transient": {
            "deleting": false
          }
        },
        "gather": {
          "logged": 1689508515321
        }
      }
    },
    {
      "cell_type": "code",
      "source": [
        "#model.save_pretrained(\"./models\")\r\n",
        "#[\"T5Config\"][\"task_specific_params\"][\"translation_en_to_fr\"]\r\n",
        "## mlflow.pytorch.save_model(model,path = \"./savedmodel\")"
      ],
      "outputs": [
        {
          "output_type": "display_data",
          "data": {
            "application/vnd.livy.statement-meta+json": {
              "spark_pool": "eac2bd1e-874e-4b30-8e98-189a9c4c7e68",
              "session_id": "30",
              "statement_id": 26,
              "state": "finished",
              "livy_statement_state": "available",
              "queued_time": "2023-07-16T11:55:52.6571719Z",
              "session_start_time": null,
              "execution_start_time": "2023-07-16T11:55:52.7162546Z",
              "execution_finish_time": "2023-07-16T11:55:53.0408927Z",
              "spark_jobs": {
                "numbers": {
                  "RUNNING": 0,
                  "FAILED": 0,
                  "UNKNOWN": 0,
                  "SUCCEEDED": 0
                },
                "jobs": [],
                "limit": 20,
                "rule": "ALL_DESC"
              },
              "parent_msg_id": "342ca3ed-7320-4c0b-b463-055b215010ff"
            },
            "text/plain": "StatementMeta(eac2bd1e-874e-4b30-8e98-189a9c4c7e68, 30, 26, Finished, Available)"
          },
          "metadata": {}
        }
      ],
      "execution_count": 9,
      "metadata": {
        "jupyter": {
          "source_hidden": false,
          "outputs_hidden": false
        },
        "nteract": {
          "transient": {
            "deleting": false
          }
        },
        "gather": {
          "logged": 1689508553126
        }
      }
    },
    {
      "cell_type": "code",
      "source": [],
      "outputs": [],
      "execution_count": null,
      "metadata": {
        "jupyter": {
          "source_hidden": false,
          "outputs_hidden": false
        },
        "nteract": {
          "transient": {
            "deleting": false
          }
        }
      }
    },
    {
      "cell_type": "code",
      "source": [
        "#mlflow.register_model(\"./models\", \"Trial\")\r\n",
        "#name=\"t5-small\""
      ],
      "outputs": [
        {
          "output_type": "display_data",
          "data": {
            "application/vnd.livy.statement-meta+json": {
              "spark_pool": "eac2bd1e-874e-4b30-8e98-189a9c4c7e68",
              "session_id": "30",
              "statement_id": 27,
              "state": "finished",
              "livy_statement_state": "available",
              "queued_time": "2023-07-16T11:56:58.1027807Z",
              "session_start_time": null,
              "execution_start_time": "2023-07-16T11:56:58.1800727Z",
              "execution_finish_time": "2023-07-16T11:56:58.4853587Z",
              "spark_jobs": {
                "numbers": {
                  "RUNNING": 0,
                  "FAILED": 0,
                  "UNKNOWN": 0,
                  "SUCCEEDED": 0
                },
                "jobs": [],
                "limit": 20,
                "rule": "ALL_DESC"
              },
              "parent_msg_id": "0026999b-74d9-49d5-a87d-36c0e14f2480"
            },
            "text/plain": "StatementMeta(eac2bd1e-874e-4b30-8e98-189a9c4c7e68, 30, 27, Finished, Available)"
          },
          "metadata": {}
        }
      ],
      "execution_count": 10,
      "metadata": {
        "jupyter": {
          "source_hidden": false,
          "outputs_hidden": false
        },
        "nteract": {
          "transient": {
            "deleting": false
          }
        },
        "gather": {
          "logged": 1689508618533
        }
      }
    },
    {
      "cell_type": "code",
      "source": [
        "#Example to transalate text to French\r\n",
        "# text=\"translate English to French: \"+\"You should definitely watch 'One Piece', it is so good, you will love the comic book\"\r\n",
        "# input_ids = tokenizer(text, return_tensors=\"pt\").input_ids\r\n",
        "# language_ids = model.generate(input_ids)\r\n",
        "# language_translation  = tokenizer.decode(language_ids[0], skip_special_tokens=True)\r\n",
        "# print(language_translation)"
      ],
      "outputs": [
        {
          "output_type": "display_data",
          "data": {
            "application/vnd.livy.statement-meta+json": {
              "spark_pool": "eac2bd1e-874e-4b30-8e98-189a9c4c7e68",
              "session_id": "30",
              "statement_id": 28,
              "state": "finished",
              "livy_statement_state": "available",
              "queued_time": "2023-07-16T11:57:07.2628687Z",
              "session_start_time": null,
              "execution_start_time": "2023-07-16T11:57:07.3279774Z",
              "execution_finish_time": "2023-07-16T11:57:07.6296356Z",
              "spark_jobs": {
                "numbers": {
                  "RUNNING": 0,
                  "FAILED": 0,
                  "UNKNOWN": 0,
                  "SUCCEEDED": 0
                },
                "jobs": [],
                "limit": 20,
                "rule": "ALL_DESC"
              },
              "parent_msg_id": "1a0ee2a5-7710-4dcc-a44f-e89e093df458"
            },
            "text/plain": "StatementMeta(eac2bd1e-874e-4b30-8e98-189a9c4c7e68, 30, 28, Finished, Available)"
          },
          "metadata": {}
        }
      ],
      "execution_count": 11,
      "metadata": {
        "jupyter": {
          "source_hidden": false,
          "outputs_hidden": false
        },
        "nteract": {
          "transient": {
            "deleting": false
          }
        },
        "gather": {
          "logged": 1689508627667
        }
      }
    },
    {
      "cell_type": "code",
      "source": [
        "#mlflow.get_tracking_uri()"
      ],
      "outputs": [
        {
          "output_type": "display_data",
          "data": {
            "application/vnd.livy.statement-meta+json": {
              "spark_pool": "eac2bd1e-874e-4b30-8e98-189a9c4c7e68",
              "session_id": "30",
              "statement_id": 29,
              "state": "finished",
              "livy_statement_state": "available",
              "queued_time": "2023-07-16T11:57:14.0108017Z",
              "session_start_time": null,
              "execution_start_time": "2023-07-16T11:57:14.0761511Z",
              "execution_finish_time": "2023-07-16T11:57:14.3965901Z",
              "spark_jobs": {
                "numbers": {
                  "RUNNING": 0,
                  "FAILED": 0,
                  "UNKNOWN": 0,
                  "SUCCEEDED": 0
                },
                "jobs": [],
                "limit": 20,
                "rule": "ALL_DESC"
              },
              "parent_msg_id": "23664c00-4220-46a2-b4d5-7f67d4c745e9"
            },
            "text/plain": "StatementMeta(eac2bd1e-874e-4b30-8e98-189a9c4c7e68, 30, 29, Finished, Available)"
          },
          "metadata": {}
        }
      ],
      "execution_count": 12,
      "metadata": {
        "jupyter": {
          "source_hidden": false,
          "outputs_hidden": false
        },
        "nteract": {
          "transient": {
            "deleting": false
          }
        },
        "gather": {
          "logged": 1689508634296
        }
      }
    },
    {
      "cell_type": "code",
      "source": [
        "EXPERIMENT_NAME=\"t5-small\"\r\n",
        "mlflow.set_experiment(EXPERIMENT_NAME)"
      ],
      "outputs": [
        {
          "output_type": "display_data",
          "data": {
            "application/vnd.livy.statement-meta+json": {
              "spark_pool": "eac2bd1e-874e-4b30-8e98-189a9c4c7e68",
              "session_id": "30",
              "statement_id": 31,
              "state": "finished",
              "livy_statement_state": "available",
              "queued_time": "2023-07-16T11:57:37.3773947Z",
              "session_start_time": null,
              "execution_start_time": "2023-07-16T11:57:37.4500149Z",
              "execution_finish_time": "2023-07-16T11:57:40.9670933Z",
              "spark_jobs": {
                "numbers": {
                  "RUNNING": 0,
                  "FAILED": 0,
                  "UNKNOWN": 0,
                  "SUCCEEDED": 0
                },
                "jobs": [],
                "limit": 20,
                "rule": "ALL_DESC"
              },
              "parent_msg_id": "e0b7e154-0dd5-4c77-816b-a436122affd4"
            },
            "text/plain": "StatementMeta(eac2bd1e-874e-4b30-8e98-189a9c4c7e68, 30, 31, Finished, Available)"
          },
          "metadata": {}
        },
        {
          "output_type": "execute_result",
          "execution_count": 39,
          "data": {
            "text/plain": "<Experiment: artifact_location='', creation_time=1689066256598, experiment_id='7ae988ad-f816-49c9-8e08-e657ea25f8e5', last_update_time=None, lifecycle_stage='active', name='t5-small', tags={}>"
          },
          "metadata": {}
        }
      ],
      "execution_count": 14,
      "metadata": {
        "jupyter": {
          "source_hidden": false,
          "outputs_hidden": false
        },
        "nteract": {
          "transient": {
            "deleting": false
          }
        },
        "gather": {
          "logged": 1689508661039
        }
      }
    },
    {
      "cell_type": "code",
      "source": [
        "#Log the Model using mlflow and convert it to mlflow type\r\n",
        "# base_model = mlflow.transformers.log_model(\r\n",
        "#     transformers_model = {\"model\" : model, \"tokenizer\":tokenizer},\r\n",
        "#     task=\"translation\",\r\n",
        "#     artifact_path=\"t5-small\"\r\n",
        "# )"
      ],
      "outputs": [
        {
          "output_type": "display_data",
          "data": {
            "application/vnd.livy.statement-meta+json": {
              "spark_pool": "eac2bd1e-874e-4b30-8e98-189a9c4c7e68",
              "session_id": "30",
              "statement_id": 32,
              "state": "finished",
              "livy_statement_state": "available",
              "queued_time": "2023-07-16T11:57:50.7929709Z",
              "session_start_time": null,
              "execution_start_time": "2023-07-16T11:57:50.8584811Z",
              "execution_finish_time": "2023-07-16T11:57:51.1567181Z",
              "spark_jobs": {
                "numbers": {
                  "RUNNING": 0,
                  "FAILED": 0,
                  "UNKNOWN": 0,
                  "SUCCEEDED": 0
                },
                "jobs": [],
                "limit": 20,
                "rule": "ALL_DESC"
              },
              "parent_msg_id": "c34871cc-d414-42a6-af9c-f87416cf9a94"
            },
            "text/plain": "StatementMeta(eac2bd1e-874e-4b30-8e98-189a9c4c7e68, 30, 32, Finished, Available)"
          },
          "metadata": {}
        }
      ],
      "execution_count": 15,
      "metadata": {
        "jupyter": {
          "source_hidden": false,
          "outputs_hidden": false
        },
        "nteract": {
          "transient": {
            "deleting": false
          }
        },
        "gather": {
          "logged": 1689508671277
        }
      }
    },
    {
      "cell_type": "code",
      "source": [
        "#Register the base model in the Azure workspce\r\n",
        "#mlflow.register_model(base_model.model_uri, name=\"t5-small\")"
      ],
      "outputs": [
        {
          "output_type": "display_data",
          "data": {
            "application/vnd.livy.statement-meta+json": {
              "spark_pool": "eac2bd1e-874e-4b30-8e98-189a9c4c7e68",
              "session_id": "30",
              "statement_id": 33,
              "state": "finished",
              "livy_statement_state": "available",
              "queued_time": "2023-07-16T11:58:01.6458644Z",
              "session_start_time": null,
              "execution_start_time": "2023-07-16T11:58:01.7135424Z",
              "execution_finish_time": "2023-07-16T11:58:02.0259757Z",
              "spark_jobs": {
                "numbers": {
                  "RUNNING": 0,
                  "FAILED": 0,
                  "UNKNOWN": 0,
                  "SUCCEEDED": 0
                },
                "jobs": [],
                "limit": 20,
                "rule": "ALL_DESC"
              },
              "parent_msg_id": "417b44b5-a863-461c-b70a-1b3cddf0f88b"
            },
            "text/plain": "StatementMeta(eac2bd1e-874e-4b30-8e98-189a9c4c7e68, 30, 33, Finished, Available)"
          },
          "metadata": {}
        }
      ],
      "execution_count": 16,
      "metadata": {
        "jupyter": {
          "source_hidden": false,
          "outputs_hidden": false
        },
        "nteract": {
          "transient": {
            "deleting": false
          }
        },
        "gather": {
          "logged": 1689508682039
        }
      }
    },
    {
      "cell_type": "code",
      "source": [
        "#logged_model = mlflow.transformers.load_model(base_model.model_uri)"
      ],
      "outputs": [
        {
          "output_type": "display_data",
          "data": {
            "application/vnd.livy.statement-meta+json": {
              "spark_pool": "eac2bd1e-874e-4b30-8e98-189a9c4c7e68",
              "session_id": "30",
              "statement_id": 34,
              "state": "finished",
              "livy_statement_state": "available",
              "queued_time": "2023-07-16T11:58:05.9596674Z",
              "session_start_time": null,
              "execution_start_time": "2023-07-16T11:58:06.0182675Z",
              "execution_finish_time": "2023-07-16T11:58:06.3584931Z",
              "spark_jobs": {
                "numbers": {
                  "RUNNING": 0,
                  "FAILED": 0,
                  "UNKNOWN": 0,
                  "SUCCEEDED": 0
                },
                "jobs": [],
                "limit": 20,
                "rule": "ALL_DESC"
              },
              "parent_msg_id": "6024b772-1827-48cc-b9ef-8b69c4c456c0"
            },
            "text/plain": "StatementMeta(eac2bd1e-874e-4b30-8e98-189a9c4c7e68, 30, 34, Finished, Available)"
          },
          "metadata": {}
        }
      ],
      "execution_count": 17,
      "metadata": {
        "jupyter": {
          "source_hidden": false,
          "outputs_hidden": false
        },
        "nteract": {
          "transient": {
            "deleting": false
          }
        },
        "gather": {
          "logged": 1689508686479
        }
      }
    },
    {
      "cell_type": "code",
      "source": [
        "#logged_model(\"He is a hard working and honest man\")\r\n",
        "# language_ids = logged_model(input_ids)\r\n",
        "# language_trans  = tokenizer.decode(language_ids[0], skip_special_tokens=True)\r\n",
        "#print(logged_model)"
      ],
      "outputs": [
        {
          "output_type": "display_data",
          "data": {
            "application/vnd.livy.statement-meta+json": {
              "spark_pool": "eac2bd1e-874e-4b30-8e98-189a9c4c7e68",
              "session_id": "30",
              "statement_id": 35,
              "state": "finished",
              "livy_statement_state": "available",
              "queued_time": "2023-07-16T11:58:15.7029139Z",
              "session_start_time": null,
              "execution_start_time": "2023-07-16T11:58:15.7702004Z",
              "execution_finish_time": "2023-07-16T11:58:16.0877856Z",
              "spark_jobs": {
                "numbers": {
                  "RUNNING": 0,
                  "FAILED": 0,
                  "UNKNOWN": 0,
                  "SUCCEEDED": 0
                },
                "jobs": [],
                "limit": 20,
                "rule": "ALL_DESC"
              },
              "parent_msg_id": "91dc6d85-363a-47ed-9fdb-5aca3f63717a"
            },
            "text/plain": "StatementMeta(eac2bd1e-874e-4b30-8e98-189a9c4c7e68, 30, 35, Finished, Available)"
          },
          "metadata": {}
        }
      ],
      "execution_count": 18,
      "metadata": {
        "jupyter": {
          "source_hidden": false,
          "outputs_hidden": false
        },
        "nteract": {
          "transient": {
            "deleting": false
          }
        },
        "gather": {
          "logged": 1689508696113
        }
      }
    },
    {
      "cell_type": "code",
      "source": [
        "# logged_models = workspace_ml_client.models()\r\n",
        "# print(logged_models)\r\n",
        "# for model in logged_models:\r\n",
        "#     print(model.name)"
      ],
      "outputs": [
        {
          "output_type": "display_data",
          "data": {
            "application/vnd.livy.statement-meta+json": {
              "spark_pool": "eac2bd1e-874e-4b30-8e98-189a9c4c7e68",
              "session_id": "16",
              "statement_id": 31,
              "state": "finished",
              "livy_statement_state": "available",
              "queued_time": "2023-07-12T13:29:06.0721463Z",
              "session_start_time": null,
              "execution_start_time": "2023-07-12T13:29:06.1408554Z",
              "execution_finish_time": "2023-07-12T13:29:06.4560459Z",
              "spark_jobs": {
                "numbers": {
                  "UNKNOWN": 0,
                  "FAILED": 0,
                  "SUCCEEDED": 0,
                  "RUNNING": 0
                },
                "jobs": [],
                "limit": 20,
                "rule": "ALL_DESC"
              },
              "parent_msg_id": "c8c6ce59-65cd-408d-8dbd-5e459b2afedb"
            },
            "text/plain": "StatementMeta(eac2bd1e-874e-4b30-8e98-189a9c4c7e68, 16, 31, Finished, Available)"
          },
          "metadata": {}
        }
      ],
      "execution_count": 13,
      "metadata": {
        "jupyter": {
          "source_hidden": false,
          "outputs_hidden": false
        },
        "nteract": {
          "transient": {
            "deleting": false
          }
        },
        "gather": {
          "logged": 1689168546296
        }
      }
    },
    {
      "cell_type": "code",
      "source": [
        "# Saving the model in the azure workspace with the help of the mlflow flavour\r\n",
        "mlflow.transformers.save_model(\r\n",
        "    transformers_model={\"model\": model, \"tokenizer\": tokenizer },\r\n",
        "    path=\"./t5-small-model\"\r\n",
        "    # signature=signature,\r\n",
        "    # input_example=data,\r\n",
        ")"
      ],
      "outputs": [
        {
          "output_type": "display_data",
          "data": {
            "application/vnd.livy.statement-meta+json": {
              "spark_pool": "eac2bd1e-874e-4b30-8e98-189a9c4c7e68",
              "session_id": "30",
              "statement_id": 36,
              "state": "finished",
              "livy_statement_state": "available",
              "queued_time": "2023-07-16T12:01:44.5987625Z",
              "session_start_time": null,
              "execution_start_time": "2023-07-16T12:01:44.6706272Z",
              "execution_finish_time": "2023-07-16T12:02:01.2137107Z",
              "spark_jobs": {
                "numbers": {
                  "RUNNING": 0,
                  "FAILED": 0,
                  "UNKNOWN": 0,
                  "SUCCEEDED": 0
                },
                "jobs": [],
                "limit": 20,
                "rule": "ALL_DESC"
              },
              "parent_msg_id": "9bb06b6f-901e-4da4-b4bf-3004feb66f2c"
            },
            "text/plain": "StatementMeta(eac2bd1e-874e-4b30-8e98-189a9c4c7e68, 30, 36, Finished, Available)"
          },
          "metadata": {}
        },
        {
          "output_type": "stream",
          "name": "stderr",
          "text": "/tmp/ipykernel_10458/2699468949.py:2: FutureWarning: The 'transformers' MLflow Models integration is known to be compatible with the following package version ranges: ``4.25.1`` -  ``4.29.2``. MLflow Models integrations with transformers may not succeed when used with package versions outside of this range.\n  mlflow.transformers.save_model(\n/nfs4/pyenv-02fa6142-46b8-4cf8-953f-07c124b62079/lib/python3.8/site-packages/transformers/pipelines/__init__.py:967: UserWarning: \"translation\" task was used, instead of \"translation_XX_to_YY\", defaulting to \"translation_en_to_de\"\n  warnings.warn(\n"
        },
        {
          "output_type": "display_data",
          "data": {
            "text/plain": "Downloading (…)solve/main/README.md:   0%|          | 0.00/8.47k [00:00<?, ?B/s]",
            "application/vnd.jupyter.widget-view+json": {
              "version_major": 2,
              "version_minor": 0,
              "model_id": "bdfb0a7a-713c-44fd-9a00-c7d6606cb17d"
            }
          },
          "metadata": {}
        },
        {
          "output_type": "stream",
          "name": "stderr",
          "text": "2023/07/16 12:01:59 WARNING mlflow.utils.environment: Encountered an unexpected error while inferring pip requirements (model URI: /synfs/notebook/30/aml_notebook_mount/t5-small-model, flavor: transformers), fall back to return ['transformers==4.30.2', 'torch==2.0.1', 'torchvision==0.9.1', 'accelerate==0.21.0']. Set logging level to DEBUG to see the full traceback.\n"
        },
        {
          "output_type": "display_data",
          "data": {
            "application/vnd.livy.statement-meta+json": {
              "spark_pool": "eac2bd1e-874e-4b30-8e98-189a9c4c7e68",
              "session_id": "30",
              "statement_id": 37,
              "state": "finished",
              "livy_statement_state": "available",
              "queued_time": "2023-07-16T12:01:59.1781009Z",
              "session_start_time": null,
              "execution_start_time": "2023-07-16T12:02:01.2780205Z",
              "execution_finish_time": "2023-07-16T12:02:01.5870762Z",
              "spark_jobs": {
                "numbers": {
                  "RUNNING": 0,
                  "FAILED": 0,
                  "UNKNOWN": 0,
                  "SUCCEEDED": 0
                },
                "jobs": [],
                "limit": 20,
                "rule": "ALL_DESC"
              },
              "parent_msg_id": "e73e2509-86c7-448c-8044-0110f28959ca"
            },
            "text/plain": "StatementMeta(eac2bd1e-874e-4b30-8e98-189a9c4c7e68, 30, 37, Finished, Available)"
          },
          "metadata": {}
        }
      ],
      "execution_count": 19,
      "metadata": {
        "jupyter": {
          "source_hidden": false,
          "outputs_hidden": false
        },
        "nteract": {
          "transient": {
            "deleting": false
          }
        },
        "gather": {
          "logged": 1689508921276
        }
      }
    },
    {
      "cell_type": "code",
      "source": [
        "#mlflow.pytorch.save_model(model, path=\"./saved\")"
      ],
      "outputs": [
        {
          "output_type": "display_data",
          "data": {
            "application/vnd.livy.statement-meta+json": {
              "spark_pool": "eac2bd1e-874e-4b30-8e98-189a9c4c7e68",
              "session_id": "30",
              "statement_id": 38,
              "state": "finished",
              "livy_statement_state": "available",
              "queued_time": "2023-07-16T12:02:50.1985249Z",
              "session_start_time": null,
              "execution_start_time": "2023-07-16T12:02:50.2625015Z",
              "execution_finish_time": "2023-07-16T12:02:50.5752521Z",
              "spark_jobs": {
                "numbers": {
                  "RUNNING": 0,
                  "FAILED": 0,
                  "UNKNOWN": 0,
                  "SUCCEEDED": 0
                },
                "jobs": [],
                "limit": 20,
                "rule": "ALL_DESC"
              },
              "parent_msg_id": "384265ab-c304-44da-b175-0476437f3647"
            },
            "text/plain": "StatementMeta(eac2bd1e-874e-4b30-8e98-189a9c4c7e68, 30, 38, Finished, Available)"
          },
          "metadata": {}
        }
      ],
      "execution_count": 20,
      "metadata": {
        "jupyter": {
          "source_hidden": false,
          "outputs_hidden": false
        },
        "nteract": {
          "transient": {
            "deleting": false
          }
        },
        "gather": {
          "logged": 1689508970605
        }
      }
    },
    {
      "cell_type": "code",
      "source": [
        "#workspace_ml_client.models"
      ],
      "outputs": [
        {
          "output_type": "display_data",
          "data": {
            "application/vnd.livy.statement-meta+json": {
              "spark_pool": "eac2bd1e-874e-4b30-8e98-189a9c4c7e68",
              "session_id": "30",
              "statement_id": 39,
              "state": "finished",
              "livy_statement_state": "available",
              "queued_time": "2023-07-16T12:02:56.0430406Z",
              "session_start_time": null,
              "execution_start_time": "2023-07-16T12:02:56.1029474Z",
              "execution_finish_time": "2023-07-16T12:02:56.4143136Z",
              "spark_jobs": {
                "numbers": {
                  "RUNNING": 0,
                  "FAILED": 0,
                  "UNKNOWN": 0,
                  "SUCCEEDED": 0
                },
                "jobs": [],
                "limit": 20,
                "rule": "ALL_DESC"
              },
              "parent_msg_id": "8a29d2d5-2538-478c-bd28-1897381ba834"
            },
            "text/plain": "StatementMeta(eac2bd1e-874e-4b30-8e98-189a9c4c7e68, 30, 39, Finished, Available)"
          },
          "metadata": {}
        }
      ],
      "execution_count": 21,
      "metadata": {
        "jupyter": {
          "source_hidden": false,
          "outputs_hidden": false
        },
        "nteract": {
          "transient": {
            "deleting": false
          }
        },
        "gather": {
          "logged": 1689508976474
        }
      }
    },
    {
      "cell_type": "code",
      "source": [
        "# Start the mlflow run and capture the local path using the os \r\n",
        "import os\r\n",
        "with mlflow.start_run():\r\n",
        "    model_local_path = os.path.abspath(\"./t5-small-model\")\r\n",
        "    # With the help of mlflow register the model in azure machine learning workspace\r\n",
        "    mlflow.register_model(f\"file://{model_local_path}\", \"T5SmallModel\")"
      ],
      "outputs": [
        {
          "output_type": "display_data",
          "data": {
            "application/vnd.livy.statement-meta+json": {
              "spark_pool": "eac2bd1e-874e-4b30-8e98-189a9c4c7e68",
              "session_id": "30",
              "statement_id": 41,
              "state": "finished",
              "livy_statement_state": "available",
              "queued_time": "2023-07-16T12:06:08.8593582Z",
              "session_start_time": null,
              "execution_start_time": "2023-07-16T12:06:08.9302548Z",
              "execution_finish_time": "2023-07-16T12:06:23.3326027Z",
              "spark_jobs": {
                "numbers": {
                  "RUNNING": 0,
                  "FAILED": 0,
                  "UNKNOWN": 0,
                  "SUCCEEDED": 0
                },
                "jobs": [],
                "limit": 20,
                "rule": "ALL_DESC"
              },
              "parent_msg_id": "e94cdc9f-ae45-4092-8c06-73d69142563e"
            },
            "text/plain": "StatementMeta(eac2bd1e-874e-4b30-8e98-189a9c4c7e68, 30, 41, Finished, Available)"
          },
          "metadata": {}
        },
        {
          "output_type": "stream",
          "name": "stderr",
          "text": "Successfully registered model 'T5SmallModel'.\n2023/07/16 12:06:22 INFO mlflow.tracking._model_registry.client: Waiting up to 300 seconds for model version to finish creation. Model name: T5SmallModel, version 1\nCreated version '1' of model 'T5SmallModel'.\n"
        }
      ],
      "execution_count": 23,
      "metadata": {
        "jupyter": {
          "source_hidden": false,
          "outputs_hidden": false
        },
        "nteract": {
          "transient": {
            "deleting": false
          }
        },
        "gather": {
          "logged": 1689509183303
        }
      }
    },
    {
      "cell_type": "code",
      "source": [
        "# Load the data with the help of DataCollatorForSeq2Seq\r\n",
        "from transformers import DataCollatorForSeq2Seq, AutoModelForSeq2SeqLM, Seq2SeqTrainingArguments, Seq2SeqTrainer\r\n",
        "\r\n",
        "data_collator = DataCollatorForSeq2Seq(tokenizer=tokenizer, model=model_name)"
      ],
      "outputs": [
        {
          "output_type": "display_data",
          "data": {
            "application/vnd.livy.statement-meta+json": {
              "spark_pool": "eac2bd1e-874e-4b30-8e98-189a9c4c7e68",
              "session_id": "30",
              "statement_id": 42,
              "state": "finished",
              "livy_statement_state": "available",
              "queued_time": "2023-07-16T12:08:49.9000683Z",
              "session_start_time": null,
              "execution_start_time": "2023-07-16T12:08:49.9654534Z",
              "execution_finish_time": "2023-07-16T12:08:50.7966665Z",
              "spark_jobs": {
                "numbers": {
                  "RUNNING": 0,
                  "FAILED": 0,
                  "UNKNOWN": 0,
                  "SUCCEEDED": 0
                },
                "jobs": [],
                "limit": 20,
                "rule": "ALL_DESC"
              },
              "parent_msg_id": "7242a627-691c-435c-91f7-6f3157fd9647"
            },
            "text/plain": "StatementMeta(eac2bd1e-874e-4b30-8e98-189a9c4c7e68, 30, 42, Finished, Available)"
          },
          "metadata": {}
        }
      ],
      "execution_count": 24,
      "metadata": {
        "jupyter": {
          "source_hidden": false,
          "outputs_hidden": false
        },
        "nteract": {
          "transient": {
            "deleting": false
          }
        },
        "gather": {
          "logged": 1689509330825
        }
      }
    },
    {
      "cell_type": "code",
      "source": [
        "# Load the opus book for English to French transalation\r\n",
        "from datasets import load_dataset\r\n",
        "\r\n",
        "books = load_dataset(\"opus_books\", \"en-fr\")\r\n",
        "books"
      ],
      "outputs": [
        {
          "output_type": "display_data",
          "data": {
            "application/vnd.livy.statement-meta+json": {
              "spark_pool": "eac2bd1e-874e-4b30-8e98-189a9c4c7e68",
              "session_id": "30",
              "statement_id": 43,
              "state": "finished",
              "livy_statement_state": "available",
              "queued_time": "2023-07-16T12:09:34.1346499Z",
              "session_start_time": null,
              "execution_start_time": "2023-07-16T12:09:34.2354922Z",
              "execution_finish_time": "2023-07-16T12:09:44.3438497Z",
              "spark_jobs": {
                "numbers": {
                  "RUNNING": 0,
                  "FAILED": 0,
                  "UNKNOWN": 0,
                  "SUCCEEDED": 0
                },
                "jobs": [],
                "limit": 20,
                "rule": "ALL_DESC"
              },
              "parent_msg_id": "b9f18f0f-ab1f-4ee6-a234-b401769892e1"
            },
            "text/plain": "StatementMeta(eac2bd1e-874e-4b30-8e98-189a9c4c7e68, 30, 43, Finished, Available)"
          },
          "metadata": {}
        },
        {
          "output_type": "display_data",
          "data": {
            "text/plain": "Downloading builder script:   0%|          | 0.00/6.08k [00:00<?, ?B/s]",
            "application/vnd.jupyter.widget-view+json": {
              "version_major": 2,
              "version_minor": 0,
              "model_id": "34380e56-b832-42db-9a7d-4ab7059ee606"
            }
          },
          "metadata": {}
        },
        {
          "output_type": "display_data",
          "data": {
            "text/plain": "Downloading metadata:   0%|          | 0.00/161k [00:00<?, ?B/s]",
            "application/vnd.jupyter.widget-view+json": {
              "version_major": 2,
              "version_minor": 0,
              "model_id": "6f0d9cd1-a69d-4d88-bdc0-bb989c85c97b"
            }
          },
          "metadata": {}
        },
        {
          "output_type": "display_data",
          "data": {
            "text/plain": "Downloading readme:   0%|          | 0.00/20.5k [00:00<?, ?B/s]",
            "application/vnd.jupyter.widget-view+json": {
              "version_major": 2,
              "version_minor": 0,
              "model_id": "b1a73b38-511a-43ba-9a48-ae6443bb87a6"
            }
          },
          "metadata": {}
        },
        {
          "output_type": "stream",
          "name": "stdout",
          "text": "Downloading and preparing dataset opus_books/en-fr to /home/trusted-service-user/.cache/huggingface/datasets/opus_books/en-fr/1.0.0/e8f950a4f32dc39b7f9088908216cd2d7e21ac35f893d04d39eb594746af2daf...\n"
        },
        {
          "output_type": "display_data",
          "data": {
            "text/plain": "Downloading data:   0%|          | 0.00/12.0M [00:00<?, ?B/s]",
            "application/vnd.jupyter.widget-view+json": {
              "version_major": 2,
              "version_minor": 0,
              "model_id": "ca5e0a40-de8d-475b-8f8d-d5e7dc3376f2"
            }
          },
          "metadata": {}
        },
        {
          "output_type": "display_data",
          "data": {
            "text/plain": "Generating train split:   0%|          | 0/127085 [00:00<?, ? examples/s]",
            "application/vnd.jupyter.widget-view+json": {
              "version_major": 2,
              "version_minor": 0,
              "model_id": "7ce6a4ed-89c9-4b76-86ee-43389cd85dd0"
            }
          },
          "metadata": {}
        },
        {
          "output_type": "stream",
          "name": "stdout",
          "text": "Dataset opus_books downloaded and prepared to /home/trusted-service-user/.cache/huggingface/datasets/opus_books/en-fr/1.0.0/e8f950a4f32dc39b7f9088908216cd2d7e21ac35f893d04d39eb594746af2daf. Subsequent calls will reuse this data.\n"
        },
        {
          "output_type": "display_data",
          "data": {
            "text/plain": "  0%|          | 0/1 [00:00<?, ?it/s]",
            "application/vnd.jupyter.widget-view+json": {
              "version_major": 2,
              "version_minor": 0,
              "model_id": "61d2f6c6-0248-491b-a467-5c2019c91875"
            }
          },
          "metadata": {}
        },
        {
          "output_type": "execute_result",
          "execution_count": 63,
          "data": {
            "text/plain": "DatasetDict({\n    train: Dataset({\n        features: ['id', 'translation'],\n        num_rows: 127085\n    })\n})"
          },
          "metadata": {}
        },
        {
          "output_type": "display_data",
          "data": {
            "application/vnd.livy.statement-meta+json": {
              "spark_pool": "eac2bd1e-874e-4b30-8e98-189a9c4c7e68",
              "session_id": "30",
              "statement_id": 44,
              "state": "finished",
              "livy_statement_state": "available",
              "queued_time": "2023-07-16T12:09:38.9768951Z",
              "session_start_time": null,
              "execution_start_time": "2023-07-16T12:09:44.4548794Z",
              "execution_finish_time": "2023-07-16T12:09:44.7717087Z",
              "spark_jobs": {
                "numbers": {
                  "RUNNING": 0,
                  "FAILED": 0,
                  "UNKNOWN": 0,
                  "SUCCEEDED": 0
                },
                "jobs": [],
                "limit": 20,
                "rule": "ALL_DESC"
              },
              "parent_msg_id": "5d14a93e-b3fb-4f0f-b7de-38718ac05421"
            },
            "text/plain": "StatementMeta(eac2bd1e-874e-4b30-8e98-189a9c4c7e68, 30, 44, Finished, Available)"
          },
          "metadata": {}
        },
        {
          "output_type": "display_data",
          "data": {
            "application/vnd.livy.statement-meta+json": {
              "spark_pool": "eac2bd1e-874e-4b30-8e98-189a9c4c7e68",
              "session_id": "30",
              "statement_id": 45,
              "state": "finished",
              "livy_statement_state": "available",
              "queued_time": "2023-07-16T12:09:48.2586343Z",
              "session_start_time": null,
              "execution_start_time": "2023-07-16T12:09:48.3569241Z",
              "execution_finish_time": "2023-07-16T12:09:48.6875354Z",
              "spark_jobs": {
                "numbers": {
                  "RUNNING": 0,
                  "FAILED": 0,
                  "UNKNOWN": 0,
                  "SUCCEEDED": 0
                },
                "jobs": [],
                "limit": 20,
                "rule": "ALL_DESC"
              },
              "parent_msg_id": "1bf426c9-a96b-41c0-b629-cac7b5fd21f2"
            },
            "text/plain": "StatementMeta(eac2bd1e-874e-4b30-8e98-189a9c4c7e68, 30, 45, Finished, Available)"
          },
          "metadata": {}
        }
      ],
      "execution_count": 25,
      "metadata": {
        "jupyter": {
          "source_hidden": false,
          "outputs_hidden": false
        },
        "nteract": {
          "transient": {
            "deleting": false
          }
        },
        "gather": {
          "logged": 1689509386486
        }
      }
    },
    {
      "cell_type": "code",
      "source": [
        "# Try to select a random bunch of data from the whole data\r\n",
        "books['train'] = books['train'].shuffle().select(range(1000))"
      ],
      "outputs": [
        {
          "output_type": "display_data",
          "data": {
            "application/vnd.livy.statement-meta+json": {
              "spark_pool": "eac2bd1e-874e-4b30-8e98-189a9c4c7e68",
              "session_id": "30",
              "statement_id": 46,
              "state": "finished",
              "livy_statement_state": "available",
              "queued_time": "2023-07-16T12:10:27.3485757Z",
              "session_start_time": null,
              "execution_start_time": "2023-07-16T12:10:27.4153129Z",
              "execution_finish_time": "2023-07-16T12:10:27.7211144Z",
              "spark_jobs": {
                "numbers": {
                  "RUNNING": 0,
                  "FAILED": 0,
                  "UNKNOWN": 0,
                  "SUCCEEDED": 0
                },
                "jobs": [],
                "limit": 20,
                "rule": "ALL_DESC"
              },
              "parent_msg_id": "1ab5fdcc-030f-48bb-b4f8-fb111a571729"
            },
            "text/plain": "StatementMeta(eac2bd1e-874e-4b30-8e98-189a9c4c7e68, 30, 46, Finished, Available)"
          },
          "metadata": {}
        }
      ],
      "execution_count": 26,
      "metadata": {
        "jupyter": {
          "source_hidden": false,
          "outputs_hidden": false
        },
        "nteract": {
          "transient": {
            "deleting": false
          }
        },
        "gather": {
          "logged": 1689509427825
        }
      }
    },
    {
      "cell_type": "code",
      "source": [
        "# import random\r\n",
        "# random.sample(list(books['train']), 10)"
      ],
      "outputs": [
        {
          "output_type": "display_data",
          "data": {
            "application/vnd.livy.statement-meta+json": {
              "spark_pool": "eac2bd1e-874e-4b30-8e98-189a9c4c7e68",
              "session_id": "30",
              "statement_id": 47,
              "state": "finished",
              "livy_statement_state": "available",
              "queued_time": "2023-07-16T12:10:34.0567813Z",
              "session_start_time": null,
              "execution_start_time": "2023-07-16T12:10:34.1194049Z",
              "execution_finish_time": "2023-07-16T12:10:34.4257529Z",
              "spark_jobs": {
                "numbers": {
                  "RUNNING": 0,
                  "FAILED": 0,
                  "UNKNOWN": 0,
                  "SUCCEEDED": 0
                },
                "jobs": [],
                "limit": 20,
                "rule": "ALL_DESC"
              },
              "parent_msg_id": "5c79cd28-8fd0-46e8-809f-5081326f7ef7"
            },
            "text/plain": "StatementMeta(eac2bd1e-874e-4b30-8e98-189a9c4c7e68, 30, 47, Finished, Available)"
          },
          "metadata": {}
        }
      ],
      "execution_count": 27,
      "metadata": {
        "jupyter": {
          "source_hidden": false,
          "outputs_hidden": false
        },
        "nteract": {
          "transient": {
            "deleting": false
          }
        },
        "gather": {
          "logged": 1689509434482
        }
      }
    },
    {
      "cell_type": "code",
      "source": [
        "# Prepare the data for training\r\n",
        "books = books[\"train\"].train_test_split(test_size=0.25)\r\n",
        "source_lang = \"en\"\r\n",
        "target_lang = \"fr\"\r\n",
        "prefix = \"translate English to French: \"\r\n",
        "\r\n",
        "\r\n",
        "def preprocess_function(examples):\r\n",
        "    inputs = [prefix + example[source_lang] for example in examples[\"translation\"]]\r\n",
        "    targets = [example[target_lang] for example in examples[\"translation\"]]\r\n",
        "    model_inputs = tokenizer(inputs, text_target=targets, max_length=128, truncation=True)\r\n",
        "    return model_inputs\r\n",
        "\r\n",
        "tokenized_books = books.map(preprocess_function, batched=True)"
      ],
      "outputs": [
        {
          "output_type": "display_data",
          "data": {
            "application/vnd.livy.statement-meta+json": {
              "spark_pool": "eac2bd1e-874e-4b30-8e98-189a9c4c7e68",
              "session_id": "30",
              "statement_id": 48,
              "state": "finished",
              "livy_statement_state": "available",
              "queued_time": "2023-07-16T12:10:57.6156982Z",
              "session_start_time": null,
              "execution_start_time": "2023-07-16T12:10:57.6756329Z",
              "execution_finish_time": "2023-07-16T12:10:58.50176Z",
              "spark_jobs": {
                "numbers": {
                  "RUNNING": 0,
                  "FAILED": 0,
                  "UNKNOWN": 0,
                  "SUCCEEDED": 0
                },
                "jobs": [],
                "limit": 20,
                "rule": "ALL_DESC"
              },
              "parent_msg_id": "3cebf635-228d-4d75-be9c-abc218a2eaf6"
            },
            "text/plain": "StatementMeta(eac2bd1e-874e-4b30-8e98-189a9c4c7e68, 30, 48, Finished, Available)"
          },
          "metadata": {}
        },
        {
          "output_type": "display_data",
          "data": {
            "text/plain": "Map:   0%|          | 0/750 [00:00<?, ? examples/s]",
            "application/vnd.jupyter.widget-view+json": {
              "version_major": 2,
              "version_minor": 0,
              "model_id": "22f07f4a-3ad1-4b39-aebb-e27b39b7b081"
            }
          },
          "metadata": {}
        },
        {
          "output_type": "display_data",
          "data": {
            "text/plain": "Map:   0%|          | 0/250 [00:00<?, ? examples/s]",
            "application/vnd.jupyter.widget-view+json": {
              "version_major": 2,
              "version_minor": 0,
              "model_id": "0aa5a232-db0c-4264-a5c2-72f3e0ff22f8"
            }
          },
          "metadata": {}
        },
        {
          "output_type": "display_data",
          "data": {
            "application/vnd.livy.statement-meta+json": {
              "spark_pool": "eac2bd1e-874e-4b30-8e98-189a9c4c7e68",
              "session_id": "30",
              "statement_id": 49,
              "state": "finished",
              "livy_statement_state": "available",
              "queued_time": "2023-07-16T12:11:00.9585826Z",
              "session_start_time": null,
              "execution_start_time": "2023-07-16T12:11:01.060087Z",
              "execution_finish_time": "2023-07-16T12:11:01.3593252Z",
              "spark_jobs": {
                "numbers": {
                  "RUNNING": 0,
                  "FAILED": 0,
                  "UNKNOWN": 0,
                  "SUCCEEDED": 0
                },
                "jobs": [],
                "limit": 20,
                "rule": "ALL_DESC"
              },
              "parent_msg_id": "0dff1412-573b-48dd-a907-8bb5e9c59509"
            },
            "text/plain": "StatementMeta(eac2bd1e-874e-4b30-8e98-189a9c4c7e68, 30, 49, Finished, Available)"
          },
          "metadata": {}
        }
      ],
      "execution_count": 28,
      "metadata": {
        "jupyter": {
          "source_hidden": false,
          "outputs_hidden": false
        },
        "nteract": {
          "transient": {
            "deleting": false
          }
        },
        "gather": {
          "logged": 1689509459311
        }
      }
    },
    {
      "cell_type": "code",
      "source": [
        "tokenized_books"
      ],
      "outputs": [
        {
          "output_type": "display_data",
          "data": {
            "application/vnd.livy.statement-meta+json": {
              "spark_pool": "eac2bd1e-874e-4b30-8e98-189a9c4c7e68",
              "session_id": "17",
              "statement_id": 80,
              "state": "finished",
              "livy_statement_state": "available",
              "queued_time": "2023-07-13T05:14:17.1935266Z",
              "session_start_time": null,
              "execution_start_time": "2023-07-13T05:34:28.9221307Z",
              "execution_finish_time": "2023-07-13T05:34:29.257802Z",
              "spark_jobs": {
                "numbers": {
                  "FAILED": 0,
                  "RUNNING": 0,
                  "UNKNOWN": 0,
                  "SUCCEEDED": 0
                },
                "jobs": [],
                "limit": 20,
                "rule": "ALL_DESC"
              },
              "parent_msg_id": "1d1e84e8-318d-44f1-95fa-547e7d5311e0"
            },
            "text/plain": "StatementMeta(eac2bd1e-874e-4b30-8e98-189a9c4c7e68, 17, 80, Finished, Available)"
          },
          "metadata": {}
        },
        {
          "output_type": "execute_result",
          "execution_count": 137,
          "data": {
            "text/plain": "DatasetDict({\n    train: Dataset({\n        features: ['id', 'translation', 'input_ids', 'attention_mask', 'labels'],\n        num_rows: 750\n    })\n    test: Dataset({\n        features: ['id', 'translation', 'input_ids', 'attention_mask', 'labels'],\n        num_rows: 250\n    })\n})"
          },
          "metadata": {}
        }
      ],
      "execution_count": 54,
      "metadata": {
        "jupyter": {
          "source_hidden": false,
          "outputs_hidden": false
        },
        "nteract": {
          "transient": {
            "deleting": false
          }
        },
        "gather": {
          "logged": 1689226469399
        }
      }
    },
    {
      "cell_type": "code",
      "source": [
        "# import locale\r\n",
        "# locale.getpreferredencoding = lambda: \"UTF-8\"\r\n",
        "!pip install sacrebleu"
      ],
      "outputs": [
        {
          "output_type": "display_data",
          "data": {
            "application/vnd.livy.statement-meta+json": {
              "spark_pool": "eac2bd1e-874e-4b30-8e98-189a9c4c7e68",
              "session_id": "17",
              "statement_id": 68,
              "state": "finished",
              "livy_statement_state": "available",
              "queued_time": "2023-07-13T05:10:29.5393503Z",
              "session_start_time": null,
              "execution_start_time": "2023-07-13T05:10:29.6042268Z",
              "execution_finish_time": "2023-07-13T05:10:37.7403971Z",
              "spark_jobs": {
                "numbers": {
                  "FAILED": 0,
                  "RUNNING": 0,
                  "UNKNOWN": 0,
                  "SUCCEEDED": 0
                },
                "jobs": [],
                "limit": 20,
                "rule": "ALL_DESC"
              },
              "parent_msg_id": "ba832ce9-95bc-406b-bf19-0b885756b752"
            },
            "text/plain": "StatementMeta(eac2bd1e-874e-4b30-8e98-189a9c4c7e68, 17, 68, Finished, Available)"
          },
          "metadata": {}
        },
        {
          "output_type": "stream",
          "name": "stdout",
          "text": "huggingface/tokenizers: The current process just got forked, after parallelism has already been used. Disabling parallelism to avoid deadlocks...\nTo disable this warning, you can either:\n\t- Avoid using `tokenizers` before the fork if possible\n\t- Explicitly set the environment variable TOKENIZERS_PARALLELISM=(true | false)\nCollecting sacrebleu\n  Downloading sacrebleu-2.3.1-py3-none-any.whl (118 kB)\n\u001b[K     |████████████████████████████████| 118 kB 9.1 MB/s eta 0:00:01\n\u001b[?25hRequirement already satisfied: numpy>=1.17 in /home/trusted-service-user/cluster-env/env/lib/python3.8/site-packages (from sacrebleu) (1.19.4)\nRequirement already satisfied: colorama in /home/trusted-service-user/cluster-env/env/lib/python3.8/site-packages (from sacrebleu) (0.4.6)\nRequirement already satisfied: tabulate>=0.8.9 in /home/trusted-service-user/cluster-env/env/lib/python3.8/site-packages (from sacrebleu) (0.8.9)\nRequirement already satisfied: lxml in /home/trusted-service-user/cluster-env/env/lib/python3.8/site-packages (from sacrebleu) (4.6.5)\nRequirement already satisfied: portalocker in /home/trusted-service-user/cluster-env/env/lib/python3.8/site-packages (from sacrebleu) (1.7.1)\nRequirement already satisfied: regex in /home/trusted-service-user/cluster-env/env/lib/python3.8/site-packages (from sacrebleu) (2021.7.6)\nInstalling collected packages: sacrebleu\nSuccessfully installed sacrebleu-2.3.1\n"
        }
      ],
      "execution_count": 44,
      "metadata": {
        "jupyter": {
          "source_hidden": false,
          "outputs_hidden": false
        },
        "nteract": {
          "transient": {
            "deleting": false
          }
        },
        "gather": {
          "logged": 1689225037907
        }
      }
    },
    {
      "cell_type": "code",
      "source": [
        "import evaluate\r\n",
        "\r\n",
        "metric = evaluate.load(\"sacrebleu\")"
      ],
      "outputs": [
        {
          "output_type": "display_data",
          "data": {
            "application/vnd.livy.statement-meta+json": {
              "spark_pool": "eac2bd1e-874e-4b30-8e98-189a9c4c7e68",
              "session_id": "17",
              "statement_id": 75,
              "state": "finished",
              "livy_statement_state": "available",
              "queued_time": "2023-07-13T05:11:28.8361175Z",
              "session_start_time": null,
              "execution_start_time": "2023-07-13T05:11:28.9252933Z",
              "execution_finish_time": "2023-07-13T05:11:29.2631882Z",
              "spark_jobs": {
                "numbers": {
                  "FAILED": 0,
                  "RUNNING": 0,
                  "UNKNOWN": 0,
                  "SUCCEEDED": 0
                },
                "jobs": [],
                "limit": 20,
                "rule": "ALL_DESC"
              },
              "parent_msg_id": "ebf927f1-8226-405f-9077-2288e0e852d3"
            },
            "text/plain": "StatementMeta(eac2bd1e-874e-4b30-8e98-189a9c4c7e68, 17, 75, Finished, Available)"
          },
          "metadata": {}
        }
      ],
      "execution_count": 49,
      "metadata": {
        "jupyter": {
          "source_hidden": false,
          "outputs_hidden": false
        },
        "nteract": {
          "transient": {
            "deleting": false
          }
        },
        "gather": {
          "logged": 1689225089446
        }
      }
    },
    {
      "cell_type": "code",
      "source": [
        "import numpy as np\r\n",
        "\r\n",
        "\r\n",
        "def postprocess_text(preds, labels):\r\n",
        "    preds = [pred.strip() for pred in preds]\r\n",
        "    labels = [[label.strip()] for label in labels]\r\n",
        "\r\n",
        "    return preds, labels\r\n",
        "\r\n",
        "\r\n",
        "def compute_metrics(eval_preds):\r\n",
        "    preds, labels = eval_preds\r\n",
        "    if isinstance(preds, tuple):\r\n",
        "        preds = preds[0]\r\n",
        "    decoded_preds = tokenizer.batch_decode(preds, skip_special_tokens=True)\r\n",
        "\r\n",
        "    labels = np.where(labels != -100, labels, tokenizer.pad_token_id)\r\n",
        "    decoded_labels = tokenizer.batch_decode(labels, skip_special_tokens=True)\r\n",
        "\r\n",
        "    decoded_preds, decoded_labels = postprocess_text(decoded_preds, decoded_labels)\r\n",
        "\r\n",
        "    result = metric.compute(predictions=decoded_preds, references=decoded_labels)\r\n",
        "    result = {\"bleu\": result[\"score\"]}\r\n",
        "\r\n",
        "    prediction_lens = [np.count_nonzero(pred != tokenizer.pad_token_id) for pred in preds]\r\n",
        "    result[\"gen_len\"] = np.mean(prediction_lens)\r\n",
        "    result = {k: round(v, 4) for k, v in result.items()}\r\n",
        "    return result"
      ],
      "outputs": [
        {
          "output_type": "display_data",
          "data": {
            "application/vnd.livy.statement-meta+json": {
              "spark_pool": "eac2bd1e-874e-4b30-8e98-189a9c4c7e68",
              "session_id": "17",
              "statement_id": 76,
              "state": "finished",
              "livy_statement_state": "available",
              "queued_time": "2023-07-13T05:11:32.3587785Z",
              "session_start_time": null,
              "execution_start_time": "2023-07-13T05:11:32.4279641Z",
              "execution_finish_time": "2023-07-13T05:11:32.7939055Z",
              "spark_jobs": {
                "numbers": {
                  "FAILED": 0,
                  "RUNNING": 0,
                  "UNKNOWN": 0,
                  "SUCCEEDED": 0
                },
                "jobs": [],
                "limit": 20,
                "rule": "ALL_DESC"
              },
              "parent_msg_id": "b66756b4-9e41-48dc-9c05-c123ec901144"
            },
            "text/plain": "StatementMeta(eac2bd1e-874e-4b30-8e98-189a9c4c7e68, 17, 76, Finished, Available)"
          },
          "metadata": {}
        }
      ],
      "execution_count": 50,
      "metadata": {
        "jupyter": {
          "source_hidden": false,
          "outputs_hidden": false
        },
        "nteract": {
          "transient": {
            "deleting": false
          }
        },
        "gather": {
          "logged": 1689225092944
        }
      }
    },
    {
      "cell_type": "code",
      "source": [
        "training_args = Seq2SeqTrainingArguments(\r\n",
        "    output_dir=\"t5for_translation\",\r\n",
        "    evaluation_strategy=\"epoch\",\r\n",
        "    learning_rate=2e-5,\r\n",
        "    per_device_train_batch_size=16,\r\n",
        "    per_device_eval_batch_size=16,\r\n",
        "    weight_decay=0.01,\r\n",
        "    save_total_limit=2,\r\n",
        "    num_train_epochs=3,\r\n",
        "    predict_with_generate=True\r\n",
        ")\r\n",
        "\r\n",
        "trainer = Seq2SeqTrainer(\r\n",
        "    model=model,\r\n",
        "    args=training_args,\r\n",
        "    train_dataset=tokenized_books[\"train\"],\r\n",
        "    eval_dataset=tokenized_books[\"test\"],\r\n",
        "    tokenizer=tokenizer,\r\n",
        "    data_collator=data_collator,\r\n",
        "    compute_metrics=compute_metrics,\r\n",
        ")\r\n"
      ],
      "outputs": [
        {
          "output_type": "display_data",
          "data": {
            "application/vnd.livy.statement-meta+json": {
              "spark_pool": "eac2bd1e-874e-4b30-8e98-189a9c4c7e68",
              "session_id": "17",
              "statement_id": 78,
              "state": "finished",
              "livy_statement_state": "available",
              "queued_time": "2023-07-13T05:12:53.2616179Z",
              "session_start_time": null,
              "execution_start_time": "2023-07-13T05:12:53.339884Z",
              "execution_finish_time": "2023-07-13T05:12:54.1528179Z",
              "spark_jobs": {
                "numbers": {
                  "FAILED": 0,
                  "RUNNING": 0,
                  "UNKNOWN": 0,
                  "SUCCEEDED": 0
                },
                "jobs": [],
                "limit": 20,
                "rule": "ALL_DESC"
              },
              "parent_msg_id": "02f64970-e006-41cd-9b9f-e9b8fb5c3107"
            },
            "text/plain": "StatementMeta(eac2bd1e-874e-4b30-8e98-189a9c4c7e68, 17, 78, Finished, Available)"
          },
          "metadata": {}
        }
      ],
      "execution_count": 52,
      "metadata": {
        "jupyter": {
          "source_hidden": false,
          "outputs_hidden": false
        },
        "nteract": {
          "transient": {
            "deleting": false
          }
        },
        "gather": {
          "logged": 1689225174301
        }
      }
    },
    {
      "cell_type": "code",
      "source": [
        "trainer.train()"
      ],
      "outputs": [
        {
          "output_type": "display_data",
          "data": {
            "application/vnd.livy.statement-meta+json": {
              "spark_pool": "eac2bd1e-874e-4b30-8e98-189a9c4c7e68",
              "session_id": "17",
              "statement_id": 79,
              "state": "finished",
              "livy_statement_state": "available",
              "queued_time": "2023-07-13T05:12:58.1491012Z",
              "session_start_time": null,
              "execution_start_time": "2023-07-13T05:12:58.2179263Z",
              "execution_finish_time": "2023-07-13T05:34:28.8350768Z",
              "spark_jobs": {
                "numbers": {
                  "FAILED": 0,
                  "RUNNING": 0,
                  "UNKNOWN": 0,
                  "SUCCEEDED": 0
                },
                "jobs": [],
                "limit": 20,
                "rule": "ALL_DESC"
              },
              "parent_msg_id": "c40d23dc-6ba1-4334-902e-2a90f056b948"
            },
            "text/plain": "StatementMeta(eac2bd1e-874e-4b30-8e98-189a9c4c7e68, 17, 79, Finished, Available)"
          },
          "metadata": {}
        },
        {
          "output_type": "stream",
          "name": "stderr",
          "text": "/nfs4/pyenv-61b2727e-d736-420f-a74a-53bbdc065c2c/lib/python3.8/site-packages/transformers/optimization.py:411: FutureWarning: This implementation of AdamW is deprecated and will be removed in a future version. Use the PyTorch implementation torch.optim.AdamW instead, or set `no_deprecation_warning=True` to disable this warning\n  warnings.warn(\nTrainer is attempting to log a value of \"{'summarization': {'early_stopping': True, 'length_penalty': 2.0, 'max_length': 200, 'min_length': 30, 'no_repeat_ngram_size': 3, 'num_beams': 4, 'prefix': 'summarize: '}, 'translation_en_to_de': {'early_stopping': True, 'max_length': 300, 'num_beams': 4, 'prefix': 'translate English to German: '}, 'translation_en_to_fr': {'early_stopping': True, 'max_length': 300, 'num_beams': 4, 'prefix': 'translate English to French: '}, 'translation_en_to_ro': {'early_stopping': True, 'max_length': 300, 'num_beams': 4, 'prefix': 'translate English to Romanian: '}}\" for key \"task_specific_params\" as a parameter. MLflow's log_param() only accepts values no longer than 250 characters so we dropped this attribute. You can use `MLFLOW_FLATTEN_PARAMS` environment variable to flatten the parameters and avoid this message.\nYou're using a T5TokenizerFast tokenizer. Please note that with a fast tokenizer, using the `__call__` method is faster than using a method to encode the text followed by a call to the `pad` method to get a padded encoding.\n"
        },
        {
          "output_type": "stream",
          "name": "stdout",
          "text": "Retrying (Retry(total=4, connect=5, read=4, redirect=5, status=5)) after connection broken by 'ReadTimeoutError(\"HTTPSConnectionPool(host='eastus2.api.azureml.ms', port=443): Read timed out. (read timeout=120)\")': /mlflow/v1.0/subscriptions/bb9cf94f-f06a-49eb-a8e9-e63654d7257b/resourceGroups/Free/providers/Microsoft.MachineLearningServices/workspaces/Trial/api/2.0/mlflow/runs/log-batch\n"
        },
        {
          "output_type": "display_data",
          "data": {
            "text/plain": "<IPython.core.display.HTML object>",
            "text/html": "\n    <div>\n      \n      <progress value='141' max='141' style='width:300px; height:20px; vertical-align: middle;'></progress>\n      [141/141 19:20, Epoch 3/3]\n    </div>\n    <table border=\"1\" class=\"dataframe\">\n  <thead>\n <tr style=\"text-align: left;\">\n      <th>Epoch</th>\n      <th>Training Loss</th>\n      <th>Validation Loss</th>\n      <th>Bleu</th>\n      <th>Gen Len</th>\n    </tr>\n  </thead>\n  <tbody>\n    <tr>\n      <td>1</td>\n      <td>No log</td>\n      <td>1.921320</td>\n      <td>18.270800</td>\n      <td>42.568000</td>\n    </tr>\n    <tr>\n      <td>2</td>\n      <td>No log</td>\n      <td>1.897223</td>\n      <td>18.306700</td>\n      <td>42.420000</td>\n    </tr>\n    <tr>\n      <td>3</td>\n      <td>No log</td>\n      <td>1.889919</td>\n      <td>18.235100</td>\n      <td>42.472000</td>\n    </tr>\n  </tbody>\n</table><p>"
          },
          "metadata": {}
        },
        {
          "output_type": "stream",
          "name": "stdout",
          "text": "Retrying (Retry(total=4, connect=5, read=4, redirect=5, status=5)) after connection broken by 'ProtocolError('Connection aborted.', ConnectionResetError(104, 'Connection reset by peer'))': /mlflow/v1.0/subscriptions/bb9cf94f-f06a-49eb-a8e9-e63654d7257b/resourceGroups/Free/providers/Microsoft.MachineLearningServices/workspaces/Trial/api/2.0/mlflow/runs/log-batch\nRetrying (Retry(total=4, connect=5, read=4, redirect=5, status=5)) after connection broken by 'ReadTimeoutError(\"HTTPSConnectionPool(host='eastus2.api.azureml.ms', port=443): Read timed out. (read timeout=120)\")': /mlflow/v1.0/subscriptions/bb9cf94f-f06a-49eb-a8e9-e63654d7257b/resourceGroups/Free/providers/Microsoft.MachineLearningServices/workspaces/Trial/api/2.0/mlflow/runs/log-batch\n"
        },
        {
          "output_type": "execute_result",
          "execution_count": 135,
          "data": {
            "text/plain": "TrainOutput(global_step=141, training_loss=2.1893150383699025, metrics={'train_runtime': 1287.0349, 'train_samples_per_second': 1.748, 'train_steps_per_second': 0.11, 'total_flos': 58039956996096.0, 'train_loss': 2.1893150383699025, 'epoch': 3.0})"
          },
          "metadata": {}
        }
      ],
      "execution_count": 53,
      "metadata": {
        "jupyter": {
          "source_hidden": false,
          "outputs_hidden": false
        },
        "nteract": {
          "transient": {
            "deleting": false
          }
        },
        "gather": {
          "logged": 1689226469006
        }
      }
    },
    {
      "cell_type": "code",
      "source": [
        "#Get the model From trainer\r\n",
        "trained = trainer.model\r\n",
        "trained"
      ],
      "outputs": [
        {
          "output_type": "display_data",
          "data": {
            "application/vnd.livy.statement-meta+json": {
              "spark_pool": "eac2bd1e-874e-4b30-8e98-189a9c4c7e68",
              "session_id": "17",
              "statement_id": 87,
              "state": "finished",
              "livy_statement_state": "available",
              "queued_time": "2023-07-13T05:50:18.5303317Z",
              "session_start_time": null,
              "execution_start_time": "2023-07-13T05:50:18.6063031Z",
              "execution_finish_time": "2023-07-13T05:50:18.9115232Z",
              "spark_jobs": {
                "numbers": {
                  "FAILED": 0,
                  "RUNNING": 0,
                  "UNKNOWN": 0,
                  "SUCCEEDED": 0
                },
                "jobs": [],
                "limit": 20,
                "rule": "ALL_DESC"
              },
              "parent_msg_id": "3e35a322-61c2-4d9b-b6a0-38ec92accc53"
            },
            "text/plain": "StatementMeta(eac2bd1e-874e-4b30-8e98-189a9c4c7e68, 17, 87, Finished, Available)"
          },
          "metadata": {}
        },
        {
          "output_type": "execute_result",
          "execution_count": 151,
          "data": {
            "text/plain": "T5ForConditionalGeneration(\n  (shared): Embedding(32128, 512)\n  (encoder): T5Stack(\n    (embed_tokens): Embedding(32128, 512)\n    (block): ModuleList(\n      (0): T5Block(\n        (layer): ModuleList(\n          (0): T5LayerSelfAttention(\n            (SelfAttention): T5Attention(\n              (q): Linear(in_features=512, out_features=512, bias=False)\n              (k): Linear(in_features=512, out_features=512, bias=False)\n              (v): Linear(in_features=512, out_features=512, bias=False)\n              (o): Linear(in_features=512, out_features=512, bias=False)\n              (relative_attention_bias): Embedding(32, 8)\n            )\n            (layer_norm): T5LayerNorm()\n            (dropout): Dropout(p=0.1, inplace=False)\n          )\n          (1): T5LayerFF(\n            (DenseReluDense): T5DenseActDense(\n              (wi): Linear(in_features=512, out_features=2048, bias=False)\n              (wo): Linear(in_features=2048, out_features=512, bias=False)\n              (dropout): Dropout(p=0.1, inplace=False)\n              (act): ReLU()\n            )\n            (layer_norm): T5LayerNorm()\n            (dropout): Dropout(p=0.1, inplace=False)\n          )\n        )\n      )\n      (1-5): 5 x T5Block(\n        (layer): ModuleList(\n          (0): T5LayerSelfAttention(\n            (SelfAttention): T5Attention(\n              (q): Linear(in_features=512, out_features=512, bias=False)\n              (k): Linear(in_features=512, out_features=512, bias=False)\n              (v): Linear(in_features=512, out_features=512, bias=False)\n              (o): Linear(in_features=512, out_features=512, bias=False)\n            )\n            (layer_norm): T5LayerNorm()\n            (dropout): Dropout(p=0.1, inplace=False)\n          )\n          (1): T5LayerFF(\n            (DenseReluDense): T5DenseActDense(\n              (wi): Linear(in_features=512, out_features=2048, bias=False)\n              (wo): Linear(in_features=2048, out_features=512, bias=False)\n              (dropout): Dropout(p=0.1, inplace=False)\n              (act): ReLU()\n            )\n            (layer_norm): T5LayerNorm()\n            (dropout): Dropout(p=0.1, inplace=False)\n          )\n        )\n      )\n    )\n    (final_layer_norm): T5LayerNorm()\n    (dropout): Dropout(p=0.1, inplace=False)\n  )\n  (decoder): T5Stack(\n    (embed_tokens): Embedding(32128, 512)\n    (block): ModuleList(\n      (0): T5Block(\n        (layer): ModuleList(\n          (0): T5LayerSelfAttention(\n            (SelfAttention): T5Attention(\n              (q): Linear(in_features=512, out_features=512, bias=False)\n              (k): Linear(in_features=512, out_features=512, bias=False)\n              (v): Linear(in_features=512, out_features=512, bias=False)\n              (o): Linear(in_features=512, out_features=512, bias=False)\n              (relative_attention_bias): Embedding(32, 8)\n            )\n            (layer_norm): T5LayerNorm()\n            (dropout): Dropout(p=0.1, inplace=False)\n          )\n          (1): T5LayerCrossAttention(\n            (EncDecAttention): T5Attention(\n              (q): Linear(in_features=512, out_features=512, bias=False)\n              (k): Linear(in_features=512, out_features=512, bias=False)\n              (v): Linear(in_features=512, out_features=512, bias=False)\n              (o): Linear(in_features=512, out_features=512, bias=False)\n            )\n            (layer_norm): T5LayerNorm()\n            (dropout): Dropout(p=0.1, inplace=False)\n          )\n          (2): T5LayerFF(\n            (DenseReluDense): T5DenseActDense(\n              (wi): Linear(in_features=512, out_features=2048, bias=False)\n              (wo): Linear(in_features=2048, out_features=512, bias=False)\n              (dropout): Dropout(p=0.1, inplace=False)\n              (act): ReLU()\n            )\n            (layer_norm): T5LayerNorm()\n            (dropout): Dropout(p=0.1, inplace=False)\n          )\n        )\n      )\n      (1-5): 5 x T5Block(\n        (layer): ModuleList(\n          (0): T5LayerSelfAttention(\n            (SelfAttention): T5Attention(\n              (q): Linear(in_features=512, out_features=512, bias=False)\n              (k): Linear(in_features=512, out_features=512, bias=False)\n              (v): Linear(in_features=512, out_features=512, bias=False)\n              (o): Linear(in_features=512, out_features=512, bias=False)\n            )\n            (layer_norm): T5LayerNorm()\n            (dropout): Dropout(p=0.1, inplace=False)\n          )\n          (1): T5LayerCrossAttention(\n            (EncDecAttention): T5Attention(\n              (q): Linear(in_features=512, out_features=512, bias=False)\n              (k): Linear(in_features=512, out_features=512, bias=False)\n              (v): Linear(in_features=512, out_features=512, bias=False)\n              (o): Linear(in_features=512, out_features=512, bias=False)\n            )\n            (layer_norm): T5LayerNorm()\n            (dropout): Dropout(p=0.1, inplace=False)\n          )\n          (2): T5LayerFF(\n            (DenseReluDense): T5DenseActDense(\n              (wi): Linear(in_features=512, out_features=2048, bias=False)\n              (wo): Linear(in_features=2048, out_features=512, bias=False)\n              (dropout): Dropout(p=0.1, inplace=False)\n              (act): ReLU()\n            )\n            (layer_norm): T5LayerNorm()\n            (dropout): Dropout(p=0.1, inplace=False)\n          )\n        )\n      )\n    )\n    (final_layer_norm): T5LayerNorm()\n    (dropout): Dropout(p=0.1, inplace=False)\n  )\n  (lm_head): Linear(in_features=512, out_features=32128, bias=False)\n)"
          },
          "metadata": {}
        }
      ],
      "execution_count": 61,
      "metadata": {
        "jupyter": {
          "source_hidden": false,
          "outputs_hidden": false
        },
        "nteract": {
          "transient": {
            "deleting": false
          }
        },
        "gather": {
          "logged": 1689227419062
        }
      }
    },
    {
      "cell_type": "code",
      "source": [
        "# training_args = Seq2SeqTrainingArguments(\r\n",
        "#     output_dir=\"my_awesome_billsum_model\",\r\n",
        "#     evaluation_strategy=\"epoch\",\r\n",
        "#     learning_rate=2e-5,\r\n",
        "#     per_device_train_batch_size=16,\r\n",
        "#     per_device_eval_batch_size=16,\r\n",
        "#     weight_decay=0.01,\r\n",
        "#     save_total_limit=3,\r\n",
        "#     num_train_epochs=4,\r\n",
        "#     predict_with_generate=True,\r\n",
        "#     fp16=True,\r\n",
        "#     push_to_hub=True,\r\n",
        "# )\r\n",
        "\r\n",
        "# trainer = Seq2SeqTrainer(\r\n",
        "#     model=model,\r\n",
        "#     args=training_args,\r\n",
        "#     train_dataset=tokenized_billsum[\"train\"],\r\n",
        "#     eval_dataset=tokenized_billsum[\"test\"],\r\n",
        "#     tokenizer=tokenizer,\r\n",
        "#     data_collator=data_collator,\r\n",
        "#     compute_metrics=compute_metrics,\r\n",
        "# )\r\n"
      ],
      "outputs": [],
      "execution_count": null,
      "metadata": {
        "jupyter": {
          "source_hidden": false,
          "outputs_hidden": false
        },
        "nteract": {
          "transient": {
            "deleting": false
          }
        }
      }
    },
    {
      "cell_type": "code",
      "source": [
        "trainer.save_model(\"t5_savd_model\")"
      ],
      "outputs": [
        {
          "output_type": "display_data",
          "data": {
            "application/vnd.livy.statement-meta+json": {
              "spark_pool": "eac2bd1e-874e-4b30-8e98-189a9c4c7e68",
              "session_id": "17",
              "statement_id": 81,
              "state": "finished",
              "livy_statement_state": "available",
              "queued_time": "2023-07-13T05:39:06.0313435Z",
              "session_start_time": null,
              "execution_start_time": "2023-07-13T05:39:06.0944171Z",
              "execution_finish_time": "2023-07-13T05:39:14.219216Z",
              "spark_jobs": {
                "numbers": {
                  "FAILED": 0,
                  "RUNNING": 0,
                  "UNKNOWN": 0,
                  "SUCCEEDED": 0
                },
                "jobs": [],
                "limit": 20,
                "rule": "ALL_DESC"
              },
              "parent_msg_id": "bc8c5e92-9ea2-4376-bcae-f9de1ae4dab1"
            },
            "text/plain": "StatementMeta(eac2bd1e-874e-4b30-8e98-189a9c4c7e68, 17, 81, Finished, Available)"
          },
          "metadata": {}
        }
      ],
      "execution_count": 55,
      "metadata": {
        "jupyter": {
          "source_hidden": false,
          "outputs_hidden": false
        },
        "nteract": {
          "transient": {
            "deleting": false
          }
        },
        "gather": {
          "logged": 1689226754351
        }
      }
    },
    {
      "cell_type": "code",
      "source": [
        "saved_model = AutoModelForSeq2SeqLM.from_pretrained(\"t5_savd_model\")"
      ],
      "outputs": [
        {
          "output_type": "display_data",
          "data": {
            "application/vnd.livy.statement-meta+json": {
              "spark_pool": "eac2bd1e-874e-4b30-8e98-189a9c4c7e68",
              "session_id": "17",
              "statement_id": 82,
              "state": "finished",
              "livy_statement_state": "available",
              "queued_time": "2023-07-13T05:45:36.7185454Z",
              "session_start_time": null,
              "execution_start_time": "2023-07-13T05:45:36.7798698Z",
              "execution_finish_time": "2023-07-13T05:45:41.7004168Z",
              "spark_jobs": {
                "numbers": {
                  "FAILED": 0,
                  "RUNNING": 0,
                  "UNKNOWN": 0,
                  "SUCCEEDED": 0
                },
                "jobs": [],
                "limit": 20,
                "rule": "ALL_DESC"
              },
              "parent_msg_id": "a69b186f-701b-4d9f-b715-ebd06543de51"
            },
            "text/plain": "StatementMeta(eac2bd1e-874e-4b30-8e98-189a9c4c7e68, 17, 82, Finished, Available)"
          },
          "metadata": {}
        }
      ],
      "execution_count": 56,
      "metadata": {
        "jupyter": {
          "source_hidden": false,
          "outputs_hidden": false
        },
        "nteract": {
          "transient": {
            "deleting": false
          }
        },
        "gather": {
          "logged": 1689227141821
        }
      }
    },
    {
      "cell_type": "code",
      "source": [
        "#type(saved_model)\r\n",
        "from azure.ai.ml.entities import (\r\n",
        "    ManagedOnlineEndpoint,\r\n",
        "    ManagedOnlineDeployment,\r\n",
        "    Model,\r\n",
        "    Environment,\r\n",
        "    CodeConfiguration,\r\n",
        ")"
      ],
      "outputs": [
        {
          "output_type": "display_data",
          "data": {
            "application/vnd.livy.statement-meta+json": {
              "spark_pool": "eac2bd1e-874e-4b30-8e98-189a9c4c7e68",
              "session_id": "17",
              "statement_id": 84,
              "state": "finished",
              "livy_statement_state": "available",
              "queued_time": "2023-07-13T05:47:06.3679628Z",
              "session_start_time": null,
              "execution_start_time": "2023-07-13T05:47:06.4284728Z",
              "execution_finish_time": "2023-07-13T05:47:06.7416473Z",
              "spark_jobs": {
                "numbers": {
                  "FAILED": 0,
                  "RUNNING": 0,
                  "UNKNOWN": 0,
                  "SUCCEEDED": 0
                },
                "jobs": [],
                "limit": 20,
                "rule": "ALL_DESC"
              },
              "parent_msg_id": "69335252-ffb6-4cd7-a02e-a40cf6997735"
            },
            "text/plain": "StatementMeta(eac2bd1e-874e-4b30-8e98-189a9c4c7e68, 17, 84, Finished, Available)"
          },
          "metadata": {}
        }
      ],
      "execution_count": 58,
      "metadata": {
        "jupyter": {
          "source_hidden": false,
          "outputs_hidden": false
        },
        "nteract": {
          "transient": {
            "deleting": false
          }
        },
        "gather": {
          "logged": 1689227226864
        }
      }
    },
    {
      "cell_type": "code",
      "source": [
        "# Define an endpoint name\r\n",
        "endpoint_name = \"my-t5-endpoint\"\r\n",
        "\r\n",
        "# Example way to define a random name\r\n",
        "import datetime\r\n",
        "\r\n",
        "endpoint_name = \"endpt-\" + datetime.datetime.now().strftime(\"%m%d%H%M%f\")\r\n",
        "\r\n",
        "# create an online endpoint\r\n",
        "endpoint = ManagedOnlineEndpoint(\r\n",
        "    name = endpoint_name, \r\n",
        "    description=\"this is a sample endpoint\",\r\n",
        "    auth_mode=\"key\"\r\n",
        ")"
      ],
      "outputs": [
        {
          "output_type": "display_data",
          "data": {
            "application/vnd.livy.statement-meta+json": {
              "spark_pool": "eac2bd1e-874e-4b30-8e98-189a9c4c7e68",
              "session_id": "17",
              "statement_id": 91,
              "state": "finished",
              "livy_statement_state": "available",
              "queued_time": "2023-07-13T06:11:36.2562891Z",
              "session_start_time": null,
              "execution_start_time": "2023-07-13T06:11:36.3147127Z",
              "execution_finish_time": "2023-07-13T06:11:36.6309156Z",
              "spark_jobs": {
                "numbers": {
                  "FAILED": 0,
                  "RUNNING": 0,
                  "UNKNOWN": 0,
                  "SUCCEEDED": 0
                },
                "jobs": [],
                "limit": 20,
                "rule": "ALL_DESC"
              },
              "parent_msg_id": "ad86d064-d231-4565-ac6a-b1b2667e1f1d"
            },
            "text/plain": "StatementMeta(eac2bd1e-874e-4b30-8e98-189a9c4c7e68, 17, 91, Finished, Available)"
          },
          "metadata": {}
        }
      ],
      "execution_count": 65,
      "metadata": {
        "jupyter": {
          "source_hidden": false,
          "outputs_hidden": false
        },
        "nteract": {
          "transient": {
            "deleting": false
          }
        },
        "gather": {
          "logged": 1689228696750
        }
      }
    },
    {
      "cell_type": "code",
      "source": [
        "endpoint = workspace_ml_client.online_endpoints.begin_create_or_update(endpoint).result()"
      ],
      "outputs": [
        {
          "output_type": "display_data",
          "data": {
            "application/vnd.livy.statement-meta+json": {
              "spark_pool": "eac2bd1e-874e-4b30-8e98-189a9c4c7e68",
              "session_id": "17",
              "statement_id": 96,
              "state": "finished",
              "livy_statement_state": "available",
              "queued_time": "2023-07-13T06:15:21.8737178Z",
              "session_start_time": null,
              "execution_start_time": "2023-07-13T06:15:21.9354869Z",
              "execution_finish_time": "2023-07-13T06:15:22.8110629Z",
              "spark_jobs": {
                "numbers": {
                  "FAILED": 0,
                  "RUNNING": 0,
                  "UNKNOWN": 0,
                  "SUCCEEDED": 0
                },
                "jobs": [],
                "limit": 20,
                "rule": "ALL_DESC"
              },
              "parent_msg_id": "39ddbd56-b0fb-49cc-ac77-34fabeb0da9b"
            },
            "text/plain": "StatementMeta(eac2bd1e-874e-4b30-8e98-189a9c4c7e68, 17, 96, Finished, Available)"
          },
          "metadata": {}
        },
        {
          "output_type": "stream",
          "name": "stdout",
          "text": "EnvironmentCredential.get_token failed: EnvironmentCredential authentication unavailable. Environment variables are not fully configured.\nManagedIdentityCredential.get_token failed: ManagedIdentityCredential authentication unavailable, no managed identity endpoint found.\nVisualStudioCodeCredential.get_token failed: Failed to get Azure user details from Visual Studio Code.\nhuggingface/tokenizers: The current process just got forked, after parallelism has already been used. Disabling parallelism to avoid deadlocks...\nTo disable this warning, you can either:\n\t- Avoid using `tokenizers` before the fork if possible\n\t- Explicitly set the environment variable TOKENIZERS_PARALLELISM=(true | false)\nAzureCliCredential.get_token failed: Azure CLI not found on path\nDefaultAzureCredential failed to retrieve a token from the included credentials.\nAttempted credentials:\n\tEnvironmentCredential: EnvironmentCredential authentication unavailable. Environment variables are not fully configured.\n\tManagedIdentityCredential: ManagedIdentityCredential authentication unavailable, no managed identity endpoint found.\n\tVisualStudioCodeCredential: Failed to get Azure user details from Visual Studio Code.\n\tAzureCliCredential: Azure CLI not found on path\n"
        },
        {
          "output_type": "error",
          "ename": "ClientAuthenticationError",
          "evalue": "DefaultAzureCredential failed to retrieve a token from the included credentials.\nAttempted credentials:\n\tEnvironmentCredential: EnvironmentCredential authentication unavailable. Environment variables are not fully configured.\n\tManagedIdentityCredential: ManagedIdentityCredential authentication unavailable, no managed identity endpoint found.\n\tVisualStudioCodeCredential: Failed to get Azure user details from Visual Studio Code.\n\tAzureCliCredential: Azure CLI not found on path",
          "traceback": [
            "\u001b[0;31m---------------------------------------------------------------------------\u001b[0m",
            "\u001b[0;31mClientAuthenticationError\u001b[0m                 Traceback (most recent call last)",
            "\u001b[0;32m/tmp/ipykernel_12668/94930849.py\u001b[0m in \u001b[0;36m<module>\u001b[0;34m\u001b[0m\n\u001b[0;32m----> 1\u001b[0;31m \u001b[0mendpoint\u001b[0m \u001b[0;34m=\u001b[0m \u001b[0mworkspace_ml_client\u001b[0m\u001b[0;34m.\u001b[0m\u001b[0monline_endpoints\u001b[0m\u001b[0;34m.\u001b[0m\u001b[0mbegin_create_or_update\u001b[0m\u001b[0;34m(\u001b[0m\u001b[0mendpoint\u001b[0m\u001b[0;34m)\u001b[0m\u001b[0;34m.\u001b[0m\u001b[0mresult\u001b[0m\u001b[0;34m(\u001b[0m\u001b[0;34m)\u001b[0m\u001b[0;34m\u001b[0m\u001b[0;34m\u001b[0m\u001b[0m\n\u001b[0m",
            "\u001b[0;32m~/cluster-env/env/lib/python3.8/site-packages/azure/core/tracing/decorator.py\u001b[0m in \u001b[0;36mwrapper_use_tracer\u001b[0;34m(*args, **kwargs)\u001b[0m\n\u001b[1;32m     74\u001b[0m             \u001b[0mspan_impl_type\u001b[0m \u001b[0;34m=\u001b[0m \u001b[0msettings\u001b[0m\u001b[0;34m.\u001b[0m\u001b[0mtracing_implementation\u001b[0m\u001b[0;34m(\u001b[0m\u001b[0;34m)\u001b[0m\u001b[0;34m\u001b[0m\u001b[0;34m\u001b[0m\u001b[0m\n\u001b[1;32m     75\u001b[0m             \u001b[0;32mif\u001b[0m \u001b[0mspan_impl_type\u001b[0m \u001b[0;32mis\u001b[0m \u001b[0;32mNone\u001b[0m\u001b[0;34m:\u001b[0m\u001b[0;34m\u001b[0m\u001b[0;34m\u001b[0m\u001b[0m\n\u001b[0;32m---> 76\u001b[0;31m                 \u001b[0;32mreturn\u001b[0m \u001b[0mfunc\u001b[0m\u001b[0;34m(\u001b[0m\u001b[0;34m*\u001b[0m\u001b[0margs\u001b[0m\u001b[0;34m,\u001b[0m \u001b[0;34m**\u001b[0m\u001b[0mkwargs\u001b[0m\u001b[0;34m)\u001b[0m\u001b[0;34m\u001b[0m\u001b[0;34m\u001b[0m\u001b[0m\n\u001b[0m\u001b[1;32m     77\u001b[0m \u001b[0;34m\u001b[0m\u001b[0m\n\u001b[1;32m     78\u001b[0m             \u001b[0;31m# Merge span is parameter is set, but only if no explicit parent are passed\u001b[0m\u001b[0;34m\u001b[0m\u001b[0;34m\u001b[0m\u001b[0;34m\u001b[0m\u001b[0m\n",
            "\u001b[0;32m~/cluster-env/env/lib/python3.8/site-packages/azure/ai/ml/_telemetry/activity.py\u001b[0m in \u001b[0;36mwrapper\u001b[0;34m(*args, **kwargs)\u001b[0m\n\u001b[1;32m    261\u001b[0m         \u001b[0;32mdef\u001b[0m \u001b[0mwrapper\u001b[0m\u001b[0;34m(\u001b[0m\u001b[0;34m*\u001b[0m\u001b[0margs\u001b[0m\u001b[0;34m,\u001b[0m \u001b[0;34m**\u001b[0m\u001b[0mkwargs\u001b[0m\u001b[0;34m)\u001b[0m\u001b[0;34m:\u001b[0m\u001b[0;34m\u001b[0m\u001b[0;34m\u001b[0m\u001b[0m\n\u001b[1;32m    262\u001b[0m             \u001b[0;32mwith\u001b[0m \u001b[0mlog_activity\u001b[0m\u001b[0;34m(\u001b[0m\u001b[0mlogger\u001b[0m\u001b[0;34m,\u001b[0m \u001b[0mactivity_name\u001b[0m \u001b[0;32mor\u001b[0m \u001b[0mf\u001b[0m\u001b[0;34m.\u001b[0m\u001b[0m__name__\u001b[0m\u001b[0;34m,\u001b[0m \u001b[0mactivity_type\u001b[0m\u001b[0;34m,\u001b[0m \u001b[0mcustom_dimensions\u001b[0m\u001b[0;34m)\u001b[0m\u001b[0;34m:\u001b[0m\u001b[0;34m\u001b[0m\u001b[0;34m\u001b[0m\u001b[0m\n\u001b[0;32m--> 263\u001b[0;31m                 \u001b[0;32mreturn\u001b[0m \u001b[0mf\u001b[0m\u001b[0;34m(\u001b[0m\u001b[0;34m*\u001b[0m\u001b[0margs\u001b[0m\u001b[0;34m,\u001b[0m \u001b[0;34m**\u001b[0m\u001b[0mkwargs\u001b[0m\u001b[0;34m)\u001b[0m\u001b[0;34m\u001b[0m\u001b[0;34m\u001b[0m\u001b[0m\n\u001b[0m\u001b[1;32m    264\u001b[0m \u001b[0;34m\u001b[0m\u001b[0m\n\u001b[1;32m    265\u001b[0m         \u001b[0;32mreturn\u001b[0m \u001b[0mwrapper\u001b[0m\u001b[0;34m\u001b[0m\u001b[0;34m\u001b[0m\u001b[0m\n",
            "\u001b[0;32m~/cluster-env/env/lib/python3.8/site-packages/azure/ai/ml/operations/_online_endpoint_operations.py\u001b[0m in \u001b[0;36mbegin_create_or_update\u001b[0;34m(self, endpoint, local)\u001b[0m\n\u001b[1;32m    254\u001b[0m                 \u001b[0mlog_and_raise_error\u001b[0m\u001b[0;34m(\u001b[0m\u001b[0mex\u001b[0m\u001b[0;34m)\u001b[0m\u001b[0;34m\u001b[0m\u001b[0;34m\u001b[0m\u001b[0m\n\u001b[1;32m    255\u001b[0m             \u001b[0;32melse\u001b[0m\u001b[0;34m:\u001b[0m\u001b[0;34m\u001b[0m\u001b[0;34m\u001b[0m\u001b[0m\n\u001b[0;32m--> 256\u001b[0;31m                 \u001b[0;32mraise\u001b[0m \u001b[0mex\u001b[0m\u001b[0;34m\u001b[0m\u001b[0;34m\u001b[0m\u001b[0m\n\u001b[0m\u001b[1;32m    257\u001b[0m \u001b[0;34m\u001b[0m\u001b[0m\n\u001b[1;32m    258\u001b[0m     \u001b[0;34m@\u001b[0m\u001b[0mdistributed_trace\u001b[0m\u001b[0;34m\u001b[0m\u001b[0;34m\u001b[0m\u001b[0m\n",
            "\u001b[0;32m~/cluster-env/env/lib/python3.8/site-packages/azure/ai/ml/operations/_online_endpoint_operations.py\u001b[0m in \u001b[0;36mbegin_create_or_update\u001b[0;34m(self, endpoint, local)\u001b[0m\n\u001b[1;32m    249\u001b[0m \u001b[0;34m\u001b[0m\u001b[0m\n\u001b[1;32m    250\u001b[0m             \u001b[0;32mexcept\u001b[0m \u001b[0mException\u001b[0m \u001b[0;32mas\u001b[0m \u001b[0mex\u001b[0m\u001b[0;34m:\u001b[0m\u001b[0;34m\u001b[0m\u001b[0;34m\u001b[0m\u001b[0m\n\u001b[0;32m--> 251\u001b[0;31m                 \u001b[0;32mraise\u001b[0m \u001b[0mex\u001b[0m\u001b[0;34m\u001b[0m\u001b[0;34m\u001b[0m\u001b[0m\n\u001b[0m\u001b[1;32m    252\u001b[0m         \u001b[0;32mexcept\u001b[0m \u001b[0mException\u001b[0m \u001b[0;32mas\u001b[0m \u001b[0mex\u001b[0m\u001b[0;34m:\u001b[0m  \u001b[0;31m# pylint: disable=broad-except\u001b[0m\u001b[0;34m\u001b[0m\u001b[0;34m\u001b[0m\u001b[0m\n\u001b[1;32m    253\u001b[0m             \u001b[0;32mif\u001b[0m \u001b[0misinstance\u001b[0m\u001b[0;34m(\u001b[0m\u001b[0mex\u001b[0m\u001b[0;34m,\u001b[0m \u001b[0;34m(\u001b[0m\u001b[0mValidationException\u001b[0m\u001b[0;34m,\u001b[0m \u001b[0mSchemaValidationError\u001b[0m\u001b[0;34m)\u001b[0m\u001b[0;34m)\u001b[0m\u001b[0;34m:\u001b[0m\u001b[0;34m\u001b[0m\u001b[0;34m\u001b[0m\u001b[0m\n",
            "\u001b[0;32m~/cluster-env/env/lib/python3.8/site-packages/azure/ai/ml/operations/_online_endpoint_operations.py\u001b[0m in \u001b[0;36mbegin_create_or_update\u001b[0;34m(self, endpoint, local)\u001b[0m\n\u001b[1;32m    219\u001b[0m \u001b[0;34m\u001b[0m\u001b[0m\n\u001b[1;32m    220\u001b[0m             \u001b[0;32mtry\u001b[0m\u001b[0;34m:\u001b[0m\u001b[0;34m\u001b[0m\u001b[0;34m\u001b[0m\u001b[0m\n\u001b[0;32m--> 221\u001b[0;31m                 \u001b[0mlocation\u001b[0m \u001b[0;34m=\u001b[0m \u001b[0mself\u001b[0m\u001b[0;34m.\u001b[0m\u001b[0m_get_workspace_location\u001b[0m\u001b[0;34m(\u001b[0m\u001b[0;34m)\u001b[0m\u001b[0;34m\u001b[0m\u001b[0;34m\u001b[0m\u001b[0m\n\u001b[0m\u001b[1;32m    222\u001b[0m \u001b[0;34m\u001b[0m\u001b[0m\n\u001b[1;32m    223\u001b[0m                 \u001b[0;32mif\u001b[0m \u001b[0mendpoint\u001b[0m\u001b[0;34m.\u001b[0m\u001b[0mtraffic\u001b[0m\u001b[0;34m:\u001b[0m\u001b[0;34m\u001b[0m\u001b[0;34m\u001b[0m\u001b[0m\n",
            "\u001b[0;32m~/cluster-env/env/lib/python3.8/site-packages/azure/ai/ml/operations/_online_endpoint_operations.py\u001b[0m in \u001b[0;36m_get_workspace_location\u001b[0;34m(self)\u001b[0m\n\u001b[1;32m    359\u001b[0m \u001b[0;34m\u001b[0m\u001b[0m\n\u001b[1;32m    360\u001b[0m     \u001b[0;32mdef\u001b[0m \u001b[0m_get_workspace_location\u001b[0m\u001b[0;34m(\u001b[0m\u001b[0mself\u001b[0m\u001b[0;34m)\u001b[0m \u001b[0;34m->\u001b[0m \u001b[0mstr\u001b[0m\u001b[0;34m:\u001b[0m\u001b[0;34m\u001b[0m\u001b[0;34m\u001b[0m\u001b[0m\n\u001b[0;32m--> 361\u001b[0;31m         \u001b[0;32mreturn\u001b[0m \u001b[0mself\u001b[0m\u001b[0;34m.\u001b[0m\u001b[0m_all_operations\u001b[0m\u001b[0;34m.\u001b[0m\u001b[0mall_operations\u001b[0m\u001b[0;34m[\u001b[0m\u001b[0mAzureMLResourceType\u001b[0m\u001b[0;34m.\u001b[0m\u001b[0mWORKSPACE\u001b[0m\u001b[0;34m]\u001b[0m\u001b[0;34m.\u001b[0m\u001b[0mget\u001b[0m\u001b[0;34m(\u001b[0m\u001b[0mself\u001b[0m\u001b[0;34m.\u001b[0m\u001b[0m_workspace_name\u001b[0m\u001b[0;34m)\u001b[0m\u001b[0;34m.\u001b[0m\u001b[0mlocation\u001b[0m\u001b[0;34m\u001b[0m\u001b[0;34m\u001b[0m\u001b[0m\n\u001b[0m\u001b[1;32m    362\u001b[0m \u001b[0;34m\u001b[0m\u001b[0m\n\u001b[1;32m    363\u001b[0m     def _get_online_credentials(\n",
            "\u001b[0;32m~/cluster-env/env/lib/python3.8/site-packages/azure/ai/ml/_telemetry/activity.py\u001b[0m in \u001b[0;36mwrapper\u001b[0;34m(*args, **kwargs)\u001b[0m\n\u001b[1;32m    261\u001b[0m         \u001b[0;32mdef\u001b[0m \u001b[0mwrapper\u001b[0m\u001b[0;34m(\u001b[0m\u001b[0;34m*\u001b[0m\u001b[0margs\u001b[0m\u001b[0;34m,\u001b[0m \u001b[0;34m**\u001b[0m\u001b[0mkwargs\u001b[0m\u001b[0;34m)\u001b[0m\u001b[0;34m:\u001b[0m\u001b[0;34m\u001b[0m\u001b[0;34m\u001b[0m\u001b[0m\n\u001b[1;32m    262\u001b[0m             \u001b[0;32mwith\u001b[0m \u001b[0mlog_activity\u001b[0m\u001b[0;34m(\u001b[0m\u001b[0mlogger\u001b[0m\u001b[0;34m,\u001b[0m \u001b[0mactivity_name\u001b[0m \u001b[0;32mor\u001b[0m \u001b[0mf\u001b[0m\u001b[0;34m.\u001b[0m\u001b[0m__name__\u001b[0m\u001b[0;34m,\u001b[0m \u001b[0mactivity_type\u001b[0m\u001b[0;34m,\u001b[0m \u001b[0mcustom_dimensions\u001b[0m\u001b[0;34m)\u001b[0m\u001b[0;34m:\u001b[0m\u001b[0;34m\u001b[0m\u001b[0;34m\u001b[0m\u001b[0m\n\u001b[0;32m--> 263\u001b[0;31m                 \u001b[0;32mreturn\u001b[0m \u001b[0mf\u001b[0m\u001b[0;34m(\u001b[0m\u001b[0;34m*\u001b[0m\u001b[0margs\u001b[0m\u001b[0;34m,\u001b[0m \u001b[0;34m**\u001b[0m\u001b[0mkwargs\u001b[0m\u001b[0;34m)\u001b[0m\u001b[0;34m\u001b[0m\u001b[0;34m\u001b[0m\u001b[0m\n\u001b[0m\u001b[1;32m    264\u001b[0m \u001b[0;34m\u001b[0m\u001b[0m\n\u001b[1;32m    265\u001b[0m         \u001b[0;32mreturn\u001b[0m \u001b[0mwrapper\u001b[0m\u001b[0;34m\u001b[0m\u001b[0;34m\u001b[0m\u001b[0m\n",
            "\u001b[0;32m~/cluster-env/env/lib/python3.8/site-packages/azure/core/tracing/decorator.py\u001b[0m in \u001b[0;36mwrapper_use_tracer\u001b[0;34m(*args, **kwargs)\u001b[0m\n\u001b[1;32m     74\u001b[0m             \u001b[0mspan_impl_type\u001b[0m \u001b[0;34m=\u001b[0m \u001b[0msettings\u001b[0m\u001b[0;34m.\u001b[0m\u001b[0mtracing_implementation\u001b[0m\u001b[0;34m(\u001b[0m\u001b[0;34m)\u001b[0m\u001b[0;34m\u001b[0m\u001b[0;34m\u001b[0m\u001b[0m\n\u001b[1;32m     75\u001b[0m             \u001b[0;32mif\u001b[0m \u001b[0mspan_impl_type\u001b[0m \u001b[0;32mis\u001b[0m \u001b[0;32mNone\u001b[0m\u001b[0;34m:\u001b[0m\u001b[0;34m\u001b[0m\u001b[0;34m\u001b[0m\u001b[0m\n\u001b[0;32m---> 76\u001b[0;31m                 \u001b[0;32mreturn\u001b[0m \u001b[0mfunc\u001b[0m\u001b[0;34m(\u001b[0m\u001b[0;34m*\u001b[0m\u001b[0margs\u001b[0m\u001b[0;34m,\u001b[0m \u001b[0;34m**\u001b[0m\u001b[0mkwargs\u001b[0m\u001b[0;34m)\u001b[0m\u001b[0;34m\u001b[0m\u001b[0;34m\u001b[0m\u001b[0m\n\u001b[0m\u001b[1;32m     77\u001b[0m \u001b[0;34m\u001b[0m\u001b[0m\n\u001b[1;32m     78\u001b[0m             \u001b[0;31m# Merge span is parameter is set, but only if no explicit parent are passed\u001b[0m\u001b[0;34m\u001b[0m\u001b[0;34m\u001b[0m\u001b[0;34m\u001b[0m\u001b[0m\n",
            "\u001b[0;32m~/cluster-env/env/lib/python3.8/site-packages/azure/ai/ml/operations/_workspace_operations.py\u001b[0m in \u001b[0;36mget\u001b[0;34m(self, name, **kwargs)\u001b[0m\n\u001b[1;32m     90\u001b[0m         \"\"\"\n\u001b[1;32m     91\u001b[0m \u001b[0;34m\u001b[0m\u001b[0m\n\u001b[0;32m---> 92\u001b[0;31m         \u001b[0;32mreturn\u001b[0m \u001b[0msuper\u001b[0m\u001b[0;34m(\u001b[0m\u001b[0;34m)\u001b[0m\u001b[0;34m.\u001b[0m\u001b[0mget\u001b[0m\u001b[0;34m(\u001b[0m\u001b[0mworkspace_name\u001b[0m\u001b[0;34m=\u001b[0m\u001b[0mname\u001b[0m\u001b[0;34m,\u001b[0m \u001b[0;34m**\u001b[0m\u001b[0mkwargs\u001b[0m\u001b[0;34m)\u001b[0m\u001b[0;34m\u001b[0m\u001b[0;34m\u001b[0m\u001b[0m\n\u001b[0m\u001b[1;32m     93\u001b[0m \u001b[0;34m\u001b[0m\u001b[0m\n\u001b[1;32m     94\u001b[0m     \u001b[0;34m@\u001b[0m\u001b[0mmonitor_with_activity\u001b[0m\u001b[0;34m(\u001b[0m\u001b[0mlogger\u001b[0m\u001b[0;34m,\u001b[0m \u001b[0;34m\"Workspace.Get_Keys\"\u001b[0m\u001b[0;34m,\u001b[0m \u001b[0mActivityType\u001b[0m\u001b[0;34m.\u001b[0m\u001b[0mPUBLICAPI\u001b[0m\u001b[0;34m)\u001b[0m\u001b[0;34m\u001b[0m\u001b[0;34m\u001b[0m\u001b[0m\n",
            "\u001b[0;32m~/cluster-env/env/lib/python3.8/site-packages/azure/ai/ml/operations/_workspace_operations_base.py\u001b[0m in \u001b[0;36mget\u001b[0;34m(self, workspace_name, **kwargs)\u001b[0m\n\u001b[1;32m     70\u001b[0m         \u001b[0mworkspace_name\u001b[0m \u001b[0;34m=\u001b[0m \u001b[0mself\u001b[0m\u001b[0;34m.\u001b[0m\u001b[0m_check_workspace_name\u001b[0m\u001b[0;34m(\u001b[0m\u001b[0mworkspace_name\u001b[0m\u001b[0;34m)\u001b[0m\u001b[0;34m\u001b[0m\u001b[0;34m\u001b[0m\u001b[0m\n\u001b[1;32m     71\u001b[0m         \u001b[0mresource_group\u001b[0m \u001b[0;34m=\u001b[0m \u001b[0mkwargs\u001b[0m\u001b[0;34m.\u001b[0m\u001b[0mget\u001b[0m\u001b[0;34m(\u001b[0m\u001b[0;34m\"resource_group\"\u001b[0m\u001b[0;34m)\u001b[0m \u001b[0;32mor\u001b[0m \u001b[0mself\u001b[0m\u001b[0;34m.\u001b[0m\u001b[0m_resource_group_name\u001b[0m\u001b[0;34m\u001b[0m\u001b[0;34m\u001b[0m\u001b[0m\n\u001b[0;32m---> 72\u001b[0;31m         \u001b[0mobj\u001b[0m \u001b[0;34m=\u001b[0m \u001b[0mself\u001b[0m\u001b[0;34m.\u001b[0m\u001b[0m_operation\u001b[0m\u001b[0;34m.\u001b[0m\u001b[0mget\u001b[0m\u001b[0;34m(\u001b[0m\u001b[0mresource_group\u001b[0m\u001b[0;34m,\u001b[0m \u001b[0mworkspace_name\u001b[0m\u001b[0;34m)\u001b[0m\u001b[0;34m\u001b[0m\u001b[0;34m\u001b[0m\u001b[0m\n\u001b[0m\u001b[1;32m     73\u001b[0m         \u001b[0;32mreturn\u001b[0m \u001b[0mWorkspace\u001b[0m\u001b[0;34m.\u001b[0m\u001b[0m_from_rest_object\u001b[0m\u001b[0;34m(\u001b[0m\u001b[0mobj\u001b[0m\u001b[0;34m)\u001b[0m\u001b[0;34m\u001b[0m\u001b[0;34m\u001b[0m\u001b[0m\n\u001b[1;32m     74\u001b[0m \u001b[0;34m\u001b[0m\u001b[0m\n",
            "\u001b[0;32m~/cluster-env/env/lib/python3.8/site-packages/azure/core/tracing/decorator.py\u001b[0m in \u001b[0;36mwrapper_use_tracer\u001b[0;34m(*args, **kwargs)\u001b[0m\n\u001b[1;32m     74\u001b[0m             \u001b[0mspan_impl_type\u001b[0m \u001b[0;34m=\u001b[0m \u001b[0msettings\u001b[0m\u001b[0;34m.\u001b[0m\u001b[0mtracing_implementation\u001b[0m\u001b[0;34m(\u001b[0m\u001b[0;34m)\u001b[0m\u001b[0;34m\u001b[0m\u001b[0;34m\u001b[0m\u001b[0m\n\u001b[1;32m     75\u001b[0m             \u001b[0;32mif\u001b[0m \u001b[0mspan_impl_type\u001b[0m \u001b[0;32mis\u001b[0m \u001b[0;32mNone\u001b[0m\u001b[0;34m:\u001b[0m\u001b[0;34m\u001b[0m\u001b[0;34m\u001b[0m\u001b[0m\n\u001b[0;32m---> 76\u001b[0;31m                 \u001b[0;32mreturn\u001b[0m \u001b[0mfunc\u001b[0m\u001b[0;34m(\u001b[0m\u001b[0;34m*\u001b[0m\u001b[0margs\u001b[0m\u001b[0;34m,\u001b[0m \u001b[0;34m**\u001b[0m\u001b[0mkwargs\u001b[0m\u001b[0;34m)\u001b[0m\u001b[0;34m\u001b[0m\u001b[0;34m\u001b[0m\u001b[0m\n\u001b[0m\u001b[1;32m     77\u001b[0m \u001b[0;34m\u001b[0m\u001b[0m\n\u001b[1;32m     78\u001b[0m             \u001b[0;31m# Merge span is parameter is set, but only if no explicit parent are passed\u001b[0m\u001b[0;34m\u001b[0m\u001b[0;34m\u001b[0m\u001b[0;34m\u001b[0m\u001b[0m\n",
            "\u001b[0;32m~/cluster-env/env/lib/python3.8/site-packages/azure/ai/ml/_restclient/v2023_04_01_preview/operations/_workspaces_operations.py\u001b[0m in \u001b[0;36mget\u001b[0;34m(self, resource_group_name, workspace_name, **kwargs)\u001b[0m\n\u001b[1;32m    630\u001b[0m         \u001b[0mrequest\u001b[0m\u001b[0;34m.\u001b[0m\u001b[0murl\u001b[0m \u001b[0;34m=\u001b[0m \u001b[0mself\u001b[0m\u001b[0;34m.\u001b[0m\u001b[0m_client\u001b[0m\u001b[0;34m.\u001b[0m\u001b[0mformat_url\u001b[0m\u001b[0;34m(\u001b[0m\u001b[0mrequest\u001b[0m\u001b[0;34m.\u001b[0m\u001b[0murl\u001b[0m\u001b[0;34m)\u001b[0m\u001b[0;34m\u001b[0m\u001b[0;34m\u001b[0m\u001b[0m\n\u001b[1;32m    631\u001b[0m \u001b[0;34m\u001b[0m\u001b[0m\n\u001b[0;32m--> 632\u001b[0;31m         pipeline_response = self._client._pipeline.run(  # pylint: disable=protected-access\n\u001b[0m\u001b[1;32m    633\u001b[0m             \u001b[0mrequest\u001b[0m\u001b[0;34m,\u001b[0m\u001b[0;34m\u001b[0m\u001b[0;34m\u001b[0m\u001b[0m\n\u001b[1;32m    634\u001b[0m             \u001b[0mstream\u001b[0m\u001b[0;34m=\u001b[0m\u001b[0;32mFalse\u001b[0m\u001b[0;34m,\u001b[0m\u001b[0;34m\u001b[0m\u001b[0;34m\u001b[0m\u001b[0m\n",
            "\u001b[0;32m~/cluster-env/env/lib/python3.8/site-packages/azure/core/pipeline/_base.py\u001b[0m in \u001b[0;36mrun\u001b[0;34m(self, request, **kwargs)\u001b[0m\n\u001b[1;32m    211\u001b[0m         \u001b[0mpipeline_request\u001b[0m\u001b[0;34m:\u001b[0m \u001b[0mPipelineRequest\u001b[0m\u001b[0;34m[\u001b[0m\u001b[0mHTTPRequestType\u001b[0m\u001b[0;34m]\u001b[0m \u001b[0;34m=\u001b[0m \u001b[0mPipelineRequest\u001b[0m\u001b[0;34m(\u001b[0m\u001b[0mrequest\u001b[0m\u001b[0;34m,\u001b[0m \u001b[0mcontext\u001b[0m\u001b[0;34m)\u001b[0m\u001b[0;34m\u001b[0m\u001b[0;34m\u001b[0m\u001b[0m\n\u001b[1;32m    212\u001b[0m         \u001b[0mfirst_node\u001b[0m \u001b[0;34m=\u001b[0m \u001b[0mself\u001b[0m\u001b[0;34m.\u001b[0m\u001b[0m_impl_policies\u001b[0m\u001b[0;34m[\u001b[0m\u001b[0;36m0\u001b[0m\u001b[0;34m]\u001b[0m \u001b[0;32mif\u001b[0m \u001b[0mself\u001b[0m\u001b[0;34m.\u001b[0m\u001b[0m_impl_policies\u001b[0m \u001b[0;32melse\u001b[0m \u001b[0m_TransportRunner\u001b[0m\u001b[0;34m(\u001b[0m\u001b[0mself\u001b[0m\u001b[0;34m.\u001b[0m\u001b[0m_transport\u001b[0m\u001b[0;34m)\u001b[0m\u001b[0;34m\u001b[0m\u001b[0;34m\u001b[0m\u001b[0m\n\u001b[0;32m--> 213\u001b[0;31m         \u001b[0;32mreturn\u001b[0m \u001b[0mfirst_node\u001b[0m\u001b[0;34m.\u001b[0m\u001b[0msend\u001b[0m\u001b[0;34m(\u001b[0m\u001b[0mpipeline_request\u001b[0m\u001b[0;34m)\u001b[0m\u001b[0;34m\u001b[0m\u001b[0;34m\u001b[0m\u001b[0m\n\u001b[0m",
            "\u001b[0;32m~/cluster-env/env/lib/python3.8/site-packages/azure/core/pipeline/_base.py\u001b[0m in \u001b[0;36msend\u001b[0;34m(self, request)\u001b[0m\n\u001b[1;32m     68\u001b[0m         \u001b[0m_await_result\u001b[0m\u001b[0;34m(\u001b[0m\u001b[0mself\u001b[0m\u001b[0;34m.\u001b[0m\u001b[0m_policy\u001b[0m\u001b[0;34m.\u001b[0m\u001b[0mon_request\u001b[0m\u001b[0;34m,\u001b[0m \u001b[0mrequest\u001b[0m\u001b[0;34m)\u001b[0m\u001b[0;34m\u001b[0m\u001b[0;34m\u001b[0m\u001b[0m\n\u001b[1;32m     69\u001b[0m         \u001b[0;32mtry\u001b[0m\u001b[0;34m:\u001b[0m\u001b[0;34m\u001b[0m\u001b[0;34m\u001b[0m\u001b[0m\n\u001b[0;32m---> 70\u001b[0;31m             \u001b[0mresponse\u001b[0m \u001b[0;34m=\u001b[0m \u001b[0mself\u001b[0m\u001b[0;34m.\u001b[0m\u001b[0mnext\u001b[0m\u001b[0;34m.\u001b[0m\u001b[0msend\u001b[0m\u001b[0;34m(\u001b[0m\u001b[0mrequest\u001b[0m\u001b[0;34m)\u001b[0m\u001b[0;34m\u001b[0m\u001b[0;34m\u001b[0m\u001b[0m\n\u001b[0m\u001b[1;32m     71\u001b[0m         \u001b[0;32mexcept\u001b[0m \u001b[0mException\u001b[0m\u001b[0;34m:\u001b[0m  \u001b[0;31m# pylint: disable=broad-except\u001b[0m\u001b[0;34m\u001b[0m\u001b[0;34m\u001b[0m\u001b[0m\n\u001b[1;32m     72\u001b[0m             \u001b[0m_await_result\u001b[0m\u001b[0;34m(\u001b[0m\u001b[0mself\u001b[0m\u001b[0;34m.\u001b[0m\u001b[0m_policy\u001b[0m\u001b[0;34m.\u001b[0m\u001b[0mon_exception\u001b[0m\u001b[0;34m,\u001b[0m \u001b[0mrequest\u001b[0m\u001b[0;34m)\u001b[0m\u001b[0;34m\u001b[0m\u001b[0;34m\u001b[0m\u001b[0m\n",
            "\u001b[0;32m~/cluster-env/env/lib/python3.8/site-packages/azure/core/pipeline/_base.py\u001b[0m in \u001b[0;36msend\u001b[0;34m(self, request)\u001b[0m\n\u001b[1;32m     68\u001b[0m         \u001b[0m_await_result\u001b[0m\u001b[0;34m(\u001b[0m\u001b[0mself\u001b[0m\u001b[0;34m.\u001b[0m\u001b[0m_policy\u001b[0m\u001b[0;34m.\u001b[0m\u001b[0mon_request\u001b[0m\u001b[0;34m,\u001b[0m \u001b[0mrequest\u001b[0m\u001b[0;34m)\u001b[0m\u001b[0;34m\u001b[0m\u001b[0;34m\u001b[0m\u001b[0m\n\u001b[1;32m     69\u001b[0m         \u001b[0;32mtry\u001b[0m\u001b[0;34m:\u001b[0m\u001b[0;34m\u001b[0m\u001b[0;34m\u001b[0m\u001b[0m\n\u001b[0;32m---> 70\u001b[0;31m             \u001b[0mresponse\u001b[0m \u001b[0;34m=\u001b[0m \u001b[0mself\u001b[0m\u001b[0;34m.\u001b[0m\u001b[0mnext\u001b[0m\u001b[0;34m.\u001b[0m\u001b[0msend\u001b[0m\u001b[0;34m(\u001b[0m\u001b[0mrequest\u001b[0m\u001b[0;34m)\u001b[0m\u001b[0;34m\u001b[0m\u001b[0;34m\u001b[0m\u001b[0m\n\u001b[0m\u001b[1;32m     71\u001b[0m         \u001b[0;32mexcept\u001b[0m \u001b[0mException\u001b[0m\u001b[0;34m:\u001b[0m  \u001b[0;31m# pylint: disable=broad-except\u001b[0m\u001b[0;34m\u001b[0m\u001b[0;34m\u001b[0m\u001b[0m\n\u001b[1;32m     72\u001b[0m             \u001b[0m_await_result\u001b[0m\u001b[0;34m(\u001b[0m\u001b[0mself\u001b[0m\u001b[0;34m.\u001b[0m\u001b[0m_policy\u001b[0m\u001b[0;34m.\u001b[0m\u001b[0mon_exception\u001b[0m\u001b[0;34m,\u001b[0m \u001b[0mrequest\u001b[0m\u001b[0;34m)\u001b[0m\u001b[0;34m\u001b[0m\u001b[0;34m\u001b[0m\u001b[0m\n",
            "\u001b[0;32m~/cluster-env/env/lib/python3.8/site-packages/azure/core/pipeline/_base.py\u001b[0m in \u001b[0;36msend\u001b[0;34m(self, request)\u001b[0m\n\u001b[1;32m     68\u001b[0m         \u001b[0m_await_result\u001b[0m\u001b[0;34m(\u001b[0m\u001b[0mself\u001b[0m\u001b[0;34m.\u001b[0m\u001b[0m_policy\u001b[0m\u001b[0;34m.\u001b[0m\u001b[0mon_request\u001b[0m\u001b[0;34m,\u001b[0m \u001b[0mrequest\u001b[0m\u001b[0;34m)\u001b[0m\u001b[0;34m\u001b[0m\u001b[0;34m\u001b[0m\u001b[0m\n\u001b[1;32m     69\u001b[0m         \u001b[0;32mtry\u001b[0m\u001b[0;34m:\u001b[0m\u001b[0;34m\u001b[0m\u001b[0;34m\u001b[0m\u001b[0m\n\u001b[0;32m---> 70\u001b[0;31m             \u001b[0mresponse\u001b[0m \u001b[0;34m=\u001b[0m \u001b[0mself\u001b[0m\u001b[0;34m.\u001b[0m\u001b[0mnext\u001b[0m\u001b[0;34m.\u001b[0m\u001b[0msend\u001b[0m\u001b[0;34m(\u001b[0m\u001b[0mrequest\u001b[0m\u001b[0;34m)\u001b[0m\u001b[0;34m\u001b[0m\u001b[0;34m\u001b[0m\u001b[0m\n\u001b[0m\u001b[1;32m     71\u001b[0m         \u001b[0;32mexcept\u001b[0m \u001b[0mException\u001b[0m\u001b[0;34m:\u001b[0m  \u001b[0;31m# pylint: disable=broad-except\u001b[0m\u001b[0;34m\u001b[0m\u001b[0;34m\u001b[0m\u001b[0m\n\u001b[1;32m     72\u001b[0m             \u001b[0m_await_result\u001b[0m\u001b[0;34m(\u001b[0m\u001b[0mself\u001b[0m\u001b[0;34m.\u001b[0m\u001b[0m_policy\u001b[0m\u001b[0;34m.\u001b[0m\u001b[0mon_exception\u001b[0m\u001b[0;34m,\u001b[0m \u001b[0mrequest\u001b[0m\u001b[0;34m)\u001b[0m\u001b[0;34m\u001b[0m\u001b[0;34m\u001b[0m\u001b[0m\n",
            "\u001b[0;32m~/cluster-env/env/lib/python3.8/site-packages/azure/core/pipeline/_base.py\u001b[0m in \u001b[0;36msend\u001b[0;34m(self, request)\u001b[0m\n\u001b[1;32m     68\u001b[0m         \u001b[0m_await_result\u001b[0m\u001b[0;34m(\u001b[0m\u001b[0mself\u001b[0m\u001b[0;34m.\u001b[0m\u001b[0m_policy\u001b[0m\u001b[0;34m.\u001b[0m\u001b[0mon_request\u001b[0m\u001b[0;34m,\u001b[0m \u001b[0mrequest\u001b[0m\u001b[0;34m)\u001b[0m\u001b[0;34m\u001b[0m\u001b[0;34m\u001b[0m\u001b[0m\n\u001b[1;32m     69\u001b[0m         \u001b[0;32mtry\u001b[0m\u001b[0;34m:\u001b[0m\u001b[0;34m\u001b[0m\u001b[0;34m\u001b[0m\u001b[0m\n\u001b[0;32m---> 70\u001b[0;31m             \u001b[0mresponse\u001b[0m \u001b[0;34m=\u001b[0m \u001b[0mself\u001b[0m\u001b[0;34m.\u001b[0m\u001b[0mnext\u001b[0m\u001b[0;34m.\u001b[0m\u001b[0msend\u001b[0m\u001b[0;34m(\u001b[0m\u001b[0mrequest\u001b[0m\u001b[0;34m)\u001b[0m\u001b[0;34m\u001b[0m\u001b[0;34m\u001b[0m\u001b[0m\n\u001b[0m\u001b[1;32m     71\u001b[0m         \u001b[0;32mexcept\u001b[0m \u001b[0mException\u001b[0m\u001b[0;34m:\u001b[0m  \u001b[0;31m# pylint: disable=broad-except\u001b[0m\u001b[0;34m\u001b[0m\u001b[0;34m\u001b[0m\u001b[0m\n\u001b[1;32m     72\u001b[0m             \u001b[0m_await_result\u001b[0m\u001b[0;34m(\u001b[0m\u001b[0mself\u001b[0m\u001b[0;34m.\u001b[0m\u001b[0m_policy\u001b[0m\u001b[0;34m.\u001b[0m\u001b[0mon_exception\u001b[0m\u001b[0;34m,\u001b[0m \u001b[0mrequest\u001b[0m\u001b[0;34m)\u001b[0m\u001b[0;34m\u001b[0m\u001b[0;34m\u001b[0m\u001b[0m\n",
            "\u001b[0;32m~/cluster-env/env/lib/python3.8/site-packages/azure/core/pipeline/_base.py\u001b[0m in \u001b[0;36msend\u001b[0;34m(self, request)\u001b[0m\n\u001b[1;32m     68\u001b[0m         \u001b[0m_await_result\u001b[0m\u001b[0;34m(\u001b[0m\u001b[0mself\u001b[0m\u001b[0;34m.\u001b[0m\u001b[0m_policy\u001b[0m\u001b[0;34m.\u001b[0m\u001b[0mon_request\u001b[0m\u001b[0;34m,\u001b[0m \u001b[0mrequest\u001b[0m\u001b[0;34m)\u001b[0m\u001b[0;34m\u001b[0m\u001b[0;34m\u001b[0m\u001b[0m\n\u001b[1;32m     69\u001b[0m         \u001b[0;32mtry\u001b[0m\u001b[0;34m:\u001b[0m\u001b[0;34m\u001b[0m\u001b[0;34m\u001b[0m\u001b[0m\n\u001b[0;32m---> 70\u001b[0;31m             \u001b[0mresponse\u001b[0m \u001b[0;34m=\u001b[0m \u001b[0mself\u001b[0m\u001b[0;34m.\u001b[0m\u001b[0mnext\u001b[0m\u001b[0;34m.\u001b[0m\u001b[0msend\u001b[0m\u001b[0;34m(\u001b[0m\u001b[0mrequest\u001b[0m\u001b[0;34m)\u001b[0m\u001b[0;34m\u001b[0m\u001b[0;34m\u001b[0m\u001b[0m\n\u001b[0m\u001b[1;32m     71\u001b[0m         \u001b[0;32mexcept\u001b[0m \u001b[0mException\u001b[0m\u001b[0;34m:\u001b[0m  \u001b[0;31m# pylint: disable=broad-except\u001b[0m\u001b[0;34m\u001b[0m\u001b[0;34m\u001b[0m\u001b[0m\n\u001b[1;32m     72\u001b[0m             \u001b[0m_await_result\u001b[0m\u001b[0;34m(\u001b[0m\u001b[0mself\u001b[0m\u001b[0;34m.\u001b[0m\u001b[0m_policy\u001b[0m\u001b[0;34m.\u001b[0m\u001b[0mon_exception\u001b[0m\u001b[0;34m,\u001b[0m \u001b[0mrequest\u001b[0m\u001b[0;34m)\u001b[0m\u001b[0;34m\u001b[0m\u001b[0;34m\u001b[0m\u001b[0m\n",
            "\u001b[0;32m~/cluster-env/env/lib/python3.8/site-packages/azure/mgmt/core/policies/_base.py\u001b[0m in \u001b[0;36msend\u001b[0;34m(self, request)\u001b[0m\n\u001b[1;32m     45\u001b[0m         \u001b[0;31m# type: (PipelineRequest[HTTPRequestType], Any) -> PipelineResponse[HTTPRequestType, HTTPResponseType]\u001b[0m\u001b[0;34m\u001b[0m\u001b[0;34m\u001b[0m\u001b[0;34m\u001b[0m\u001b[0m\n\u001b[1;32m     46\u001b[0m         \u001b[0mhttp_request\u001b[0m \u001b[0;34m=\u001b[0m \u001b[0mrequest\u001b[0m\u001b[0;34m.\u001b[0m\u001b[0mhttp_request\u001b[0m\u001b[0;34m\u001b[0m\u001b[0;34m\u001b[0m\u001b[0m\n\u001b[0;32m---> 47\u001b[0;31m         \u001b[0mresponse\u001b[0m \u001b[0;34m=\u001b[0m \u001b[0mself\u001b[0m\u001b[0;34m.\u001b[0m\u001b[0mnext\u001b[0m\u001b[0;34m.\u001b[0m\u001b[0msend\u001b[0m\u001b[0;34m(\u001b[0m\u001b[0mrequest\u001b[0m\u001b[0;34m)\u001b[0m\u001b[0;34m\u001b[0m\u001b[0;34m\u001b[0m\u001b[0m\n\u001b[0m\u001b[1;32m     48\u001b[0m         \u001b[0;32mif\u001b[0m \u001b[0mresponse\u001b[0m\u001b[0;34m.\u001b[0m\u001b[0mhttp_response\u001b[0m\u001b[0;34m.\u001b[0m\u001b[0mstatus_code\u001b[0m \u001b[0;34m==\u001b[0m \u001b[0;36m409\u001b[0m\u001b[0;34m:\u001b[0m\u001b[0;34m\u001b[0m\u001b[0;34m\u001b[0m\u001b[0m\n\u001b[1;32m     49\u001b[0m             \u001b[0mrp_name\u001b[0m \u001b[0;34m=\u001b[0m \u001b[0mself\u001b[0m\u001b[0;34m.\u001b[0m\u001b[0m_check_rp_not_registered_err\u001b[0m\u001b[0;34m(\u001b[0m\u001b[0mresponse\u001b[0m\u001b[0;34m)\u001b[0m\u001b[0;34m\u001b[0m\u001b[0;34m\u001b[0m\u001b[0m\n",
            "\u001b[0;32m~/cluster-env/env/lib/python3.8/site-packages/azure/core/pipeline/policies/_redirect.py\u001b[0m in \u001b[0;36msend\u001b[0;34m(self, request)\u001b[0m\n\u001b[1;32m    179\u001b[0m         \u001b[0moriginal_domain\u001b[0m \u001b[0;34m=\u001b[0m \u001b[0mget_domain\u001b[0m\u001b[0;34m(\u001b[0m\u001b[0mrequest\u001b[0m\u001b[0;34m.\u001b[0m\u001b[0mhttp_request\u001b[0m\u001b[0;34m.\u001b[0m\u001b[0murl\u001b[0m\u001b[0;34m)\u001b[0m \u001b[0;32mif\u001b[0m \u001b[0mredirect_settings\u001b[0m\u001b[0;34m[\u001b[0m\u001b[0;34m\"allow\"\u001b[0m\u001b[0;34m]\u001b[0m \u001b[0;32melse\u001b[0m \u001b[0;32mNone\u001b[0m\u001b[0;34m\u001b[0m\u001b[0;34m\u001b[0m\u001b[0m\n\u001b[1;32m    180\u001b[0m         \u001b[0;32mwhile\u001b[0m \u001b[0mretryable\u001b[0m\u001b[0;34m:\u001b[0m\u001b[0;34m\u001b[0m\u001b[0;34m\u001b[0m\u001b[0m\n\u001b[0;32m--> 181\u001b[0;31m             \u001b[0mresponse\u001b[0m \u001b[0;34m=\u001b[0m \u001b[0mself\u001b[0m\u001b[0;34m.\u001b[0m\u001b[0mnext\u001b[0m\u001b[0;34m.\u001b[0m\u001b[0msend\u001b[0m\u001b[0;34m(\u001b[0m\u001b[0mrequest\u001b[0m\u001b[0;34m)\u001b[0m\u001b[0;34m\u001b[0m\u001b[0;34m\u001b[0m\u001b[0m\n\u001b[0m\u001b[1;32m    182\u001b[0m             \u001b[0mredirect_location\u001b[0m \u001b[0;34m=\u001b[0m \u001b[0mself\u001b[0m\u001b[0;34m.\u001b[0m\u001b[0mget_redirect_location\u001b[0m\u001b[0;34m(\u001b[0m\u001b[0mresponse\u001b[0m\u001b[0;34m)\u001b[0m\u001b[0;34m\u001b[0m\u001b[0;34m\u001b[0m\u001b[0m\n\u001b[1;32m    183\u001b[0m             \u001b[0;32mif\u001b[0m \u001b[0mredirect_location\u001b[0m \u001b[0;32mand\u001b[0m \u001b[0mredirect_settings\u001b[0m\u001b[0;34m[\u001b[0m\u001b[0;34m\"allow\"\u001b[0m\u001b[0;34m]\u001b[0m\u001b[0;34m:\u001b[0m\u001b[0;34m\u001b[0m\u001b[0;34m\u001b[0m\u001b[0m\n",
            "\u001b[0;32m~/cluster-env/env/lib/python3.8/site-packages/azure/core/pipeline/policies/_retry.py\u001b[0m in \u001b[0;36msend\u001b[0;34m(self, request)\u001b[0m\n\u001b[1;32m    465\u001b[0m             \u001b[0;32mtry\u001b[0m\u001b[0;34m:\u001b[0m\u001b[0;34m\u001b[0m\u001b[0;34m\u001b[0m\u001b[0m\n\u001b[1;32m    466\u001b[0m                 \u001b[0mself\u001b[0m\u001b[0;34m.\u001b[0m\u001b[0m_configure_timeout\u001b[0m\u001b[0;34m(\u001b[0m\u001b[0mrequest\u001b[0m\u001b[0;34m,\u001b[0m \u001b[0mabsolute_timeout\u001b[0m\u001b[0;34m,\u001b[0m \u001b[0mis_response_error\u001b[0m\u001b[0;34m)\u001b[0m\u001b[0;34m\u001b[0m\u001b[0;34m\u001b[0m\u001b[0m\n\u001b[0;32m--> 467\u001b[0;31m                 \u001b[0mresponse\u001b[0m \u001b[0;34m=\u001b[0m \u001b[0mself\u001b[0m\u001b[0;34m.\u001b[0m\u001b[0mnext\u001b[0m\u001b[0;34m.\u001b[0m\u001b[0msend\u001b[0m\u001b[0;34m(\u001b[0m\u001b[0mrequest\u001b[0m\u001b[0;34m)\u001b[0m\u001b[0;34m\u001b[0m\u001b[0;34m\u001b[0m\u001b[0m\n\u001b[0m\u001b[1;32m    468\u001b[0m                 \u001b[0;32mif\u001b[0m \u001b[0mself\u001b[0m\u001b[0;34m.\u001b[0m\u001b[0mis_retry\u001b[0m\u001b[0;34m(\u001b[0m\u001b[0mretry_settings\u001b[0m\u001b[0;34m,\u001b[0m \u001b[0mresponse\u001b[0m\u001b[0;34m)\u001b[0m\u001b[0;34m:\u001b[0m\u001b[0;34m\u001b[0m\u001b[0;34m\u001b[0m\u001b[0m\n\u001b[1;32m    469\u001b[0m                     \u001b[0mretry_active\u001b[0m \u001b[0;34m=\u001b[0m \u001b[0mself\u001b[0m\u001b[0;34m.\u001b[0m\u001b[0mincrement\u001b[0m\u001b[0;34m(\u001b[0m\u001b[0mretry_settings\u001b[0m\u001b[0;34m,\u001b[0m \u001b[0mresponse\u001b[0m\u001b[0;34m=\u001b[0m\u001b[0mresponse\u001b[0m\u001b[0;34m)\u001b[0m\u001b[0;34m\u001b[0m\u001b[0;34m\u001b[0m\u001b[0m\n",
            "\u001b[0;32m~/cluster-env/env/lib/python3.8/site-packages/azure/core/pipeline/policies/_authentication.py\u001b[0m in \u001b[0;36msend\u001b[0;34m(self, request)\u001b[0m\n\u001b[1;32m    111\u001b[0m         \u001b[0;34m:\u001b[0m\u001b[0mrtype\u001b[0m\u001b[0;34m:\u001b[0m \u001b[0;34m~\u001b[0m\u001b[0mazure\u001b[0m\u001b[0;34m.\u001b[0m\u001b[0mcore\u001b[0m\u001b[0;34m.\u001b[0m\u001b[0mpipeline\u001b[0m\u001b[0;34m.\u001b[0m\u001b[0mPipelineResponse\u001b[0m\u001b[0;34m\u001b[0m\u001b[0;34m\u001b[0m\u001b[0m\n\u001b[1;32m    112\u001b[0m         \"\"\"\n\u001b[0;32m--> 113\u001b[0;31m         \u001b[0mself\u001b[0m\u001b[0;34m.\u001b[0m\u001b[0mon_request\u001b[0m\u001b[0;34m(\u001b[0m\u001b[0mrequest\u001b[0m\u001b[0;34m)\u001b[0m\u001b[0;34m\u001b[0m\u001b[0;34m\u001b[0m\u001b[0m\n\u001b[0m\u001b[1;32m    114\u001b[0m         \u001b[0;32mtry\u001b[0m\u001b[0;34m:\u001b[0m\u001b[0;34m\u001b[0m\u001b[0;34m\u001b[0m\u001b[0m\n\u001b[1;32m    115\u001b[0m             \u001b[0mresponse\u001b[0m \u001b[0;34m=\u001b[0m \u001b[0mself\u001b[0m\u001b[0;34m.\u001b[0m\u001b[0mnext\u001b[0m\u001b[0;34m.\u001b[0m\u001b[0msend\u001b[0m\u001b[0;34m(\u001b[0m\u001b[0mrequest\u001b[0m\u001b[0;34m)\u001b[0m\u001b[0;34m\u001b[0m\u001b[0;34m\u001b[0m\u001b[0m\n",
            "\u001b[0;32m~/cluster-env/env/lib/python3.8/site-packages/azure/core/pipeline/policies/_authentication.py\u001b[0m in \u001b[0;36mon_request\u001b[0;34m(self, request)\u001b[0m\n\u001b[1;32m     88\u001b[0m \u001b[0;34m\u001b[0m\u001b[0m\n\u001b[1;32m     89\u001b[0m         \u001b[0;32mif\u001b[0m \u001b[0mself\u001b[0m\u001b[0;34m.\u001b[0m\u001b[0m_token\u001b[0m \u001b[0;32mis\u001b[0m \u001b[0;32mNone\u001b[0m \u001b[0;32mor\u001b[0m \u001b[0mself\u001b[0m\u001b[0;34m.\u001b[0m\u001b[0m_need_new_token\u001b[0m\u001b[0;34m:\u001b[0m\u001b[0;34m\u001b[0m\u001b[0;34m\u001b[0m\u001b[0m\n\u001b[0;32m---> 90\u001b[0;31m             \u001b[0mself\u001b[0m\u001b[0;34m.\u001b[0m\u001b[0m_token\u001b[0m \u001b[0;34m=\u001b[0m \u001b[0mself\u001b[0m\u001b[0;34m.\u001b[0m\u001b[0m_credential\u001b[0m\u001b[0;34m.\u001b[0m\u001b[0mget_token\u001b[0m\u001b[0;34m(\u001b[0m\u001b[0;34m*\u001b[0m\u001b[0mself\u001b[0m\u001b[0;34m.\u001b[0m\u001b[0m_scopes\u001b[0m\u001b[0;34m)\u001b[0m\u001b[0;34m\u001b[0m\u001b[0;34m\u001b[0m\u001b[0m\n\u001b[0m\u001b[1;32m     91\u001b[0m         \u001b[0mself\u001b[0m\u001b[0;34m.\u001b[0m\u001b[0m_update_headers\u001b[0m\u001b[0;34m(\u001b[0m\u001b[0mrequest\u001b[0m\u001b[0;34m.\u001b[0m\u001b[0mhttp_request\u001b[0m\u001b[0;34m.\u001b[0m\u001b[0mheaders\u001b[0m\u001b[0;34m,\u001b[0m \u001b[0mself\u001b[0m\u001b[0;34m.\u001b[0m\u001b[0m_token\u001b[0m\u001b[0;34m.\u001b[0m\u001b[0mtoken\u001b[0m\u001b[0;34m)\u001b[0m\u001b[0;34m\u001b[0m\u001b[0;34m\u001b[0m\u001b[0m\n\u001b[1;32m     92\u001b[0m \u001b[0;34m\u001b[0m\u001b[0m\n",
            "\u001b[0;32m~/cluster-env/env/lib/python3.8/site-packages/azure/identity/_credentials/default.py\u001b[0m in \u001b[0;36mget_token\u001b[0;34m(self, *scopes, **kwargs)\u001b[0m\n\u001b[1;32m    142\u001b[0m             \u001b[0;32mreturn\u001b[0m \u001b[0mtoken\u001b[0m\u001b[0;34m\u001b[0m\u001b[0;34m\u001b[0m\u001b[0m\n\u001b[1;32m    143\u001b[0m \u001b[0;34m\u001b[0m\u001b[0m\n\u001b[0;32m--> 144\u001b[0;31m         \u001b[0;32mreturn\u001b[0m \u001b[0msuper\u001b[0m\u001b[0;34m(\u001b[0m\u001b[0mDefaultAzureCredential\u001b[0m\u001b[0;34m,\u001b[0m \u001b[0mself\u001b[0m\u001b[0;34m)\u001b[0m\u001b[0;34m.\u001b[0m\u001b[0mget_token\u001b[0m\u001b[0;34m(\u001b[0m\u001b[0;34m*\u001b[0m\u001b[0mscopes\u001b[0m\u001b[0;34m,\u001b[0m \u001b[0;34m**\u001b[0m\u001b[0mkwargs\u001b[0m\u001b[0;34m)\u001b[0m\u001b[0;34m\u001b[0m\u001b[0;34m\u001b[0m\u001b[0m\n\u001b[0m",
            "\u001b[0;32m~/cluster-env/env/lib/python3.8/site-packages/azure/identity/_credentials/chained.py\u001b[0m in \u001b[0;36mget_token\u001b[0;34m(self, *scopes, **kwargs)\u001b[0m\n\u001b[1;32m     88\u001b[0m         \u001b[0mmessage\u001b[0m \u001b[0;34m=\u001b[0m \u001b[0mself\u001b[0m\u001b[0;34m.\u001b[0m\u001b[0m__class__\u001b[0m\u001b[0;34m.\u001b[0m\u001b[0m__name__\u001b[0m \u001b[0;34m+\u001b[0m \u001b[0;34m\" failed to retrieve a token from the included credentials.\"\u001b[0m \u001b[0;34m+\u001b[0m \u001b[0mattempts\u001b[0m\u001b[0;34m\u001b[0m\u001b[0;34m\u001b[0m\u001b[0m\n\u001b[1;32m     89\u001b[0m         \u001b[0m_LOGGER\u001b[0m\u001b[0;34m.\u001b[0m\u001b[0mwarning\u001b[0m\u001b[0;34m(\u001b[0m\u001b[0mmessage\u001b[0m\u001b[0;34m)\u001b[0m\u001b[0;34m\u001b[0m\u001b[0;34m\u001b[0m\u001b[0m\n\u001b[0;32m---> 90\u001b[0;31m         \u001b[0;32mraise\u001b[0m \u001b[0mClientAuthenticationError\u001b[0m\u001b[0;34m(\u001b[0m\u001b[0mmessage\u001b[0m\u001b[0;34m=\u001b[0m\u001b[0mmessage\u001b[0m\u001b[0;34m)\u001b[0m\u001b[0;34m\u001b[0m\u001b[0;34m\u001b[0m\u001b[0m\n\u001b[0m",
            "\u001b[0;31mClientAuthenticationError\u001b[0m: DefaultAzureCredential failed to retrieve a token from the included credentials.\nAttempted credentials:\n\tEnvironmentCredential: EnvironmentCredential authentication unavailable. Environment variables are not fully configured.\n\tManagedIdentityCredential: ManagedIdentityCredential authentication unavailable, no managed identity endpoint found.\n\tVisualStudioCodeCredential: Failed to get Azure user details from Visual Studio Code.\n\tAzureCliCredential: Azure CLI not found on path"
          ]
        }
      ],
      "execution_count": 70,
      "metadata": {
        "jupyter": {
          "source_hidden": false,
          "outputs_hidden": false
        },
        "nteract": {
          "transient": {
            "deleting": false
          }
        },
        "gather": {
          "logged": 1689228923146
        }
      }
    },
    {
      "cell_type": "code",
      "source": [
        "model = Model(path=\"t5_savd_model\")\r\n",
        "env = Environment(\r\n",
        "    conda_file=\"../model-1/environment/conda.yml\",\r\n",
        "    image=\"mcr.microsoft.com/azureml/openmpi4.1.0-ubuntu20.04:latest\",\r\n",
        ")\r\n",
        "\r\n",
        "blue_deployment = ManagedOnlineDeployment(\r\n",
        "    name=\"blue\",\r\n",
        "    endpoint_name=endpoint_name,\r\n",
        "    model=model,\r\n",
        "    environment=env,\r\n",
        "    code_configuration=CodeConfiguration(\r\n",
        "        code=\"../model-1/onlinescoring\", scoring_script=\"score.py\"\r\n",
        "    ),\r\n",
        "    instance_type=\"Standard_DS3_v2\",\r\n",
        "    instance_count=1,\r\n",
        ")"
      ],
      "outputs": [],
      "execution_count": null,
      "metadata": {
        "jupyter": {
          "source_hidden": false,
          "outputs_hidden": false
        },
        "nteract": {
          "transient": {
            "deleting": false
          }
        }
      }
    }
  ],
  "metadata": {
    "kernelspec": {
      "name": "synapse_pyspark",
      "language": "Python",
      "display_name": "Synapse PySpark"
    },
    "language_info": {
      "name": "python",
      "version": "3.8.0",
      "mimetype": "text/x-python",
      "file_extension": ".py",
      "pygments_lexer": "ipython",
      "codemirror_mode": "ipython",
      "nbconvert_exporter": "python"
    },
    "microsoft": {
      "ms_spell_check": {
        "ms_spell_check_language": "en"
      },
      "host": {
        "AzureML": {
          "notebookHasBeenCompleted": true
        }
      }
    },
    "kernel_info": {
      "name": "synapse_pyspark"
    },
    "nteract": {
      "version": "nteract-front-end@1.0.0"
    }
  },
  "nbformat": 4,
  "nbformat_minor": 2
}