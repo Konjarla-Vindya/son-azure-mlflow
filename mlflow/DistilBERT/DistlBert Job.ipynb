{
  "cells": [
    {
      "cell_type": "code",
      "source": [
        "%pip install --upgrade torch\r\n",
        "%pip install transformers[torch]\r\n",
        "%pip install --upgrade mlflow\r\n",
        "%pip install --upgrade transformers\r\n",
        "%pip install --upgrade datasets==2.9.0"
      ],
      "outputs": [
        {
          "output_type": "stream",
          "name": "stdout",
          "text": "Requirement already satisfied: torch in /anaconda/envs/azureml_py310_sdkv2/lib/python3.10/site-packages (2.0.1)\nRequirement already satisfied: sympy in /anaconda/envs/azureml_py310_sdkv2/lib/python3.10/site-packages (from torch) (1.12)\nRequirement already satisfied: nvidia-cuda-cupti-cu11==11.7.101 in /anaconda/envs/azureml_py310_sdkv2/lib/python3.10/site-packages (from torch) (11.7.101)\nRequirement already satisfied: networkx in /anaconda/envs/azureml_py310_sdkv2/lib/python3.10/site-packages (from torch) (3.1)\nRequirement already satisfied: nvidia-cudnn-cu11==8.5.0.96 in /anaconda/envs/azureml_py310_sdkv2/lib/python3.10/site-packages (from torch) (8.5.0.96)\nRequirement already satisfied: nvidia-cusparse-cu11==11.7.4.91 in /anaconda/envs/azureml_py310_sdkv2/lib/python3.10/site-packages (from torch) (11.7.4.91)\nRequirement already satisfied: nvidia-nvtx-cu11==11.7.91 in /anaconda/envs/azureml_py310_sdkv2/lib/python3.10/site-packages (from torch) (11.7.91)\nRequirement already satisfied: nvidia-cufft-cu11==10.9.0.58 in /anaconda/envs/azureml_py310_sdkv2/lib/python3.10/site-packages (from torch) (10.9.0.58)\nRequirement already satisfied: nvidia-nccl-cu11==2.14.3 in /anaconda/envs/azureml_py310_sdkv2/lib/python3.10/site-packages (from torch) (2.14.3)\nRequirement already satisfied: triton==2.0.0 in /anaconda/envs/azureml_py310_sdkv2/lib/python3.10/site-packages (from torch) (2.0.0)\nRequirement already satisfied: nvidia-cublas-cu11==11.10.3.66 in /anaconda/envs/azureml_py310_sdkv2/lib/python3.10/site-packages (from torch) (11.10.3.66)\nRequirement already satisfied: typing-extensions in /anaconda/envs/azureml_py310_sdkv2/lib/python3.10/site-packages (from torch) (4.5.0)\nRequirement already satisfied: nvidia-cusolver-cu11==11.4.0.1 in /anaconda/envs/azureml_py310_sdkv2/lib/python3.10/site-packages (from torch) (11.4.0.1)\nRequirement already satisfied: jinja2 in /anaconda/envs/azureml_py310_sdkv2/lib/python3.10/site-packages (from torch) (3.1.2)\nRequirement already satisfied: nvidia-curand-cu11==10.2.10.91 in /anaconda/envs/azureml_py310_sdkv2/lib/python3.10/site-packages (from torch) (10.2.10.91)\nRequirement already satisfied: nvidia-cuda-nvrtc-cu11==11.7.99 in /anaconda/envs/azureml_py310_sdkv2/lib/python3.10/site-packages (from torch) (11.7.99)\nRequirement already satisfied: nvidia-cuda-runtime-cu11==11.7.99 in /anaconda/envs/azureml_py310_sdkv2/lib/python3.10/site-packages (from torch) (11.7.99)\nRequirement already satisfied: filelock in /anaconda/envs/azureml_py310_sdkv2/lib/python3.10/site-packages (from torch) (3.11.0)\nRequirement already satisfied: wheel in /anaconda/envs/azureml_py310_sdkv2/lib/python3.10/site-packages (from nvidia-cublas-cu11==11.10.3.66->torch) (0.38.4)\nRequirement already satisfied: setuptools in /anaconda/envs/azureml_py310_sdkv2/lib/python3.10/site-packages (from nvidia-cublas-cu11==11.10.3.66->torch) (65.6.3)\nRequirement already satisfied: lit in /anaconda/envs/azureml_py310_sdkv2/lib/python3.10/site-packages (from triton==2.0.0->torch) (16.0.6)\nRequirement already satisfied: cmake in /anaconda/envs/azureml_py310_sdkv2/lib/python3.10/site-packages (from triton==2.0.0->torch) (3.26.4)\nRequirement already satisfied: MarkupSafe>=2.0 in /anaconda/envs/azureml_py310_sdkv2/lib/python3.10/site-packages (from jinja2->torch) (2.1.2)\nRequirement already satisfied: mpmath>=0.19 in /anaconda/envs/azureml_py310_sdkv2/lib/python3.10/site-packages (from sympy->torch) (1.3.0)\nNote: you may need to restart the kernel to use updated packages.\nRequirement already satisfied: transformers[torch] in /anaconda/envs/azureml_py310_sdkv2/lib/python3.10/site-packages (4.31.0)\nRequirement already satisfied: regex!=2019.12.17 in /anaconda/envs/azureml_py310_sdkv2/lib/python3.10/site-packages (from transformers[torch]) (2023.6.3)\nRequirement already satisfied: pyyaml>=5.1 in /anaconda/envs/azureml_py310_sdkv2/lib/python3.10/site-packages (from transformers[torch]) (6.0)\nRequirement already satisfied: huggingface-hub<1.0,>=0.14.1 in /anaconda/envs/azureml_py310_sdkv2/lib/python3.10/site-packages (from transformers[torch]) (0.15.1)\nRequirement already satisfied: filelock in /anaconda/envs/azureml_py310_sdkv2/lib/python3.10/site-packages (from transformers[torch]) (3.11.0)\nRequirement already satisfied: safetensors>=0.3.1 in /anaconda/envs/azureml_py310_sdkv2/lib/python3.10/site-packages (from transformers[torch]) (0.3.1)\nRequirement already satisfied: requests in /anaconda/envs/azureml_py310_sdkv2/lib/python3.10/site-packages (from transformers[torch]) (2.28.2)\nRequirement already satisfied: tqdm>=4.27 in /anaconda/envs/azureml_py310_sdkv2/lib/python3.10/site-packages (from transformers[torch]) (4.65.0)\nRequirement already satisfied: tokenizers!=0.11.3,<0.14,>=0.11.1 in /anaconda/envs/azureml_py310_sdkv2/lib/python3.10/site-packages (from transformers[torch]) (0.13.3)\nRequirement already satisfied: numpy>=1.17 in /anaconda/envs/azureml_py310_sdkv2/lib/python3.10/site-packages (from transformers[torch]) (1.23.5)\nRequirement already satisfied: packaging>=20.0 in /anaconda/envs/azureml_py310_sdkv2/lib/python3.10/site-packages (from transformers[torch]) (21.3)\nRequirement already satisfied: torch!=1.12.0,>=1.9 in /anaconda/envs/azureml_py310_sdkv2/lib/python3.10/site-packages (from transformers[torch]) (2.0.1)\nRequirement already satisfied: accelerate>=0.20.3 in /anaconda/envs/azureml_py310_sdkv2/lib/python3.10/site-packages (from transformers[torch]) (0.20.3)\nRequirement already satisfied: psutil in /anaconda/envs/azureml_py310_sdkv2/lib/python3.10/site-packages (from accelerate>=0.20.3->transformers[torch]) (5.9.0)\nRequirement already satisfied: fsspec in /anaconda/envs/azureml_py310_sdkv2/lib/python3.10/site-packages (from huggingface-hub<1.0,>=0.14.1->transformers[torch]) (2023.3.0)\nRequirement already satisfied: typing-extensions>=3.7.4.3 in /anaconda/envs/azureml_py310_sdkv2/lib/python3.10/site-packages (from huggingface-hub<1.0,>=0.14.1->transformers[torch]) (4.5.0)\nRequirement already satisfied: pyparsing!=3.0.5,>=2.0.2 in /anaconda/envs/azureml_py310_sdkv2/lib/python3.10/site-packages (from packaging>=20.0->transformers[torch]) (3.0.9)\nRequirement already satisfied: nvidia-cudnn-cu11==8.5.0.96 in /anaconda/envs/azureml_py310_sdkv2/lib/python3.10/site-packages (from torch!=1.12.0,>=1.9->transformers[torch]) (8.5.0.96)\nRequirement already satisfied: nvidia-cuda-nvrtc-cu11==11.7.99 in /anaconda/envs/azureml_py310_sdkv2/lib/python3.10/site-packages (from torch!=1.12.0,>=1.9->transformers[torch]) (11.7.99)\nRequirement already satisfied: nvidia-cuda-runtime-cu11==11.7.99 in /anaconda/envs/azureml_py310_sdkv2/lib/python3.10/site-packages (from torch!=1.12.0,>=1.9->transformers[torch]) (11.7.99)\nRequirement already satisfied: nvidia-nvtx-cu11==11.7.91 in /anaconda/envs/azureml_py310_sdkv2/lib/python3.10/site-packages (from torch!=1.12.0,>=1.9->transformers[torch]) (11.7.91)\nRequirement already satisfied: triton==2.0.0 in /anaconda/envs/azureml_py310_sdkv2/lib/python3.10/site-packages (from torch!=1.12.0,>=1.9->transformers[torch]) (2.0.0)\nRequirement already satisfied: nvidia-cufft-cu11==10.9.0.58 in /anaconda/envs/azureml_py310_sdkv2/lib/python3.10/site-packages (from torch!=1.12.0,>=1.9->transformers[torch]) (10.9.0.58)\nRequirement already satisfied: nvidia-cuda-cupti-cu11==11.7.101 in /anaconda/envs/azureml_py310_sdkv2/lib/python3.10/site-packages (from torch!=1.12.0,>=1.9->transformers[torch]) (11.7.101)\nRequirement already satisfied: nvidia-cusolver-cu11==11.4.0.1 in /anaconda/envs/azureml_py310_sdkv2/lib/python3.10/site-packages (from torch!=1.12.0,>=1.9->transformers[torch]) (11.4.0.1)\nRequirement already satisfied: nvidia-cublas-cu11==11.10.3.66 in /anaconda/envs/azureml_py310_sdkv2/lib/python3.10/site-packages (from torch!=1.12.0,>=1.9->transformers[torch]) (11.10.3.66)\nRequirement already satisfied: nvidia-curand-cu11==10.2.10.91 in /anaconda/envs/azureml_py310_sdkv2/lib/python3.10/site-packages (from torch!=1.12.0,>=1.9->transformers[torch]) (10.2.10.91)\nRequirement already satisfied: jinja2 in /anaconda/envs/azureml_py310_sdkv2/lib/python3.10/site-packages (from torch!=1.12.0,>=1.9->transformers[torch]) (3.1.2)\nRequirement already satisfied: sympy in /anaconda/envs/azureml_py310_sdkv2/lib/python3.10/site-packages (from torch!=1.12.0,>=1.9->transformers[torch]) (1.12)\nRequirement already satisfied: nvidia-nccl-cu11==2.14.3 in /anaconda/envs/azureml_py310_sdkv2/lib/python3.10/site-packages (from torch!=1.12.0,>=1.9->transformers[torch]) (2.14.3)\nRequirement already satisfied: nvidia-cusparse-cu11==11.7.4.91 in /anaconda/envs/azureml_py310_sdkv2/lib/python3.10/site-packages (from torch!=1.12.0,>=1.9->transformers[torch]) (11.7.4.91)\nRequirement already satisfied: networkx in /anaconda/envs/azureml_py310_sdkv2/lib/python3.10/site-packages (from torch!=1.12.0,>=1.9->transformers[torch]) (3.1)\nRequirement already satisfied: setuptools in /anaconda/envs/azureml_py310_sdkv2/lib/python3.10/site-packages (from nvidia-cublas-cu11==11.10.3.66->torch!=1.12.0,>=1.9->transformers[torch]) (65.6.3)\nRequirement already satisfied: wheel in /anaconda/envs/azureml_py310_sdkv2/lib/python3.10/site-packages (from nvidia-cublas-cu11==11.10.3.66->torch!=1.12.0,>=1.9->transformers[torch]) (0.38.4)\nRequirement already satisfied: lit in /anaconda/envs/azureml_py310_sdkv2/lib/python3.10/site-packages (from triton==2.0.0->torch!=1.12.0,>=1.9->transformers[torch]) (16.0.6)\nRequirement already satisfied: cmake in /anaconda/envs/azureml_py310_sdkv2/lib/python3.10/site-packages (from triton==2.0.0->torch!=1.12.0,>=1.9->transformers[torch]) (3.26.4)\nRequirement already satisfied: certifi>=2017.4.17 in /anaconda/envs/azureml_py310_sdkv2/lib/python3.10/site-packages (from requests->transformers[torch]) (2022.12.7)\nRequirement already satisfied: urllib3<1.27,>=1.21.1 in /anaconda/envs/azureml_py310_sdkv2/lib/python3.10/site-packages (from requests->transformers[torch]) (1.26.15)\nRequirement already satisfied: idna<4,>=2.5 in /anaconda/envs/azureml_py310_sdkv2/lib/python3.10/site-packages (from requests->transformers[torch]) (3.4)\nRequirement already satisfied: charset-normalizer<4,>=2 in /anaconda/envs/azureml_py310_sdkv2/lib/python3.10/site-packages (from requests->transformers[torch]) (3.1.0)\nRequirement already satisfied: MarkupSafe>=2.0 in /anaconda/envs/azureml_py310_sdkv2/lib/python3.10/site-packages (from jinja2->torch!=1.12.0,>=1.9->transformers[torch]) (2.1.2)\nRequirement already satisfied: mpmath>=0.19 in /anaconda/envs/azureml_py310_sdkv2/lib/python3.10/site-packages (from sympy->torch!=1.12.0,>=1.9->transformers[torch]) (1.3.0)\nNote: you may need to restart the kernel to use updated packages.\nRequirement already satisfied: mlflow in /anaconda/envs/azureml_py310_sdkv2/lib/python3.10/site-packages (2.5.0)\nRequirement already satisfied: pytz<2024 in /anaconda/envs/azureml_py310_sdkv2/lib/python3.10/site-packages (from mlflow) (2022.7.1)\nRequirement already satisfied: markdown<4,>=3.3 in /anaconda/envs/azureml_py310_sdkv2/lib/python3.10/site-packages (from mlflow) (3.4.3)\nRequirement already satisfied: packaging<24 in /anaconda/envs/azureml_py310_sdkv2/lib/python3.10/site-packages (from mlflow) (21.3)\nRequirement already satisfied: docker<7,>=4.0.0 in /anaconda/envs/azureml_py310_sdkv2/lib/python3.10/site-packages (from mlflow) (6.0.1)\nRequirement already satisfied: matplotlib<4 in /anaconda/envs/azureml_py310_sdkv2/lib/python3.10/site-packages (from mlflow) (3.7.1)\nRequirement already satisfied: gitpython<4,>=2.1.0 in /anaconda/envs/azureml_py310_sdkv2/lib/python3.10/site-packages (from mlflow) (3.1.31)\nRequirement already satisfied: scikit-learn<2 in /anaconda/envs/azureml_py310_sdkv2/lib/python3.10/site-packages (from mlflow) (1.2.2)\nRequirement already satisfied: importlib-metadata!=4.7.0,<7,>=3.7.0 in /anaconda/envs/azureml_py310_sdkv2/lib/python3.10/site-packages (from mlflow) (6.1.0)\nRequirement already satisfied: pyarrow<13,>=4.0.0 in /anaconda/envs/azureml_py310_sdkv2/lib/python3.10/site-packages (from mlflow) (11.0.0)\nRequirement already satisfied: entrypoints<1 in /anaconda/envs/azureml_py310_sdkv2/lib/python3.10/site-packages (from mlflow) (0.4)\nRequirement already satisfied: databricks-cli<1,>=0.8.7 in /anaconda/envs/azureml_py310_sdkv2/lib/python3.10/site-packages (from mlflow) (0.17.6)\nRequirement already satisfied: click<9,>=7.0 in /anaconda/envs/azureml_py310_sdkv2/lib/python3.10/site-packages (from mlflow) (8.0.4)\nRequirement already satisfied: Flask<3 in /anaconda/envs/azureml_py310_sdkv2/lib/python3.10/site-packages (from mlflow) (2.2.3)\nRequirement already satisfied: cloudpickle<3 in /anaconda/envs/azureml_py310_sdkv2/lib/python3.10/site-packages (from mlflow) (2.2.1)\nRequirement already satisfied: requests<3,>=2.17.3 in /anaconda/envs/azureml_py310_sdkv2/lib/python3.10/site-packages (from mlflow) (2.28.2)\nRequirement already satisfied: querystring-parser<2 in /anaconda/envs/azureml_py310_sdkv2/lib/python3.10/site-packages (from mlflow) (1.2.4)\nRequirement already satisfied: pandas<3 in /anaconda/envs/azureml_py310_sdkv2/lib/python3.10/site-packages (from mlflow) (2.0.0)\nRequirement already satisfied: pyyaml<7,>=5.1 in /anaconda/envs/azureml_py310_sdkv2/lib/python3.10/site-packages (from mlflow) (6.0)\nRequirement already satisfied: Jinja2<4,>=2.11 in /anaconda/envs/azureml_py310_sdkv2/lib/python3.10/site-packages (from mlflow) (3.1.2)\nRequirement already satisfied: numpy<2 in /anaconda/envs/azureml_py310_sdkv2/lib/python3.10/site-packages (from mlflow) (1.23.5)\nRequirement already satisfied: sqlalchemy<3,>=1.4.0 in /anaconda/envs/azureml_py310_sdkv2/lib/python3.10/site-packages (from mlflow) (2.0.9)\nRequirement already satisfied: scipy<2 in /anaconda/envs/azureml_py310_sdkv2/lib/python3.10/site-packages (from mlflow) (1.10.1)\nRequirement already satisfied: sqlparse<1,>=0.4.0 in /anaconda/envs/azureml_py310_sdkv2/lib/python3.10/site-packages (from mlflow) (0.4.3)\nRequirement already satisfied: gunicorn<21 in /anaconda/envs/azureml_py310_sdkv2/lib/python3.10/site-packages (from mlflow) (20.1.0)\nRequirement already satisfied: protobuf<5,>=3.12.0 in /anaconda/envs/azureml_py310_sdkv2/lib/python3.10/site-packages (from mlflow) (3.19.6)\nRequirement already satisfied: alembic!=1.10.0,<2 in /anaconda/envs/azureml_py310_sdkv2/lib/python3.10/site-packages (from mlflow) (1.10.3)\nRequirement already satisfied: Mako in /anaconda/envs/azureml_py310_sdkv2/lib/python3.10/site-packages (from alembic!=1.10.0,<2->mlflow) (1.2.4)\nRequirement already satisfied: typing-extensions>=4 in /anaconda/envs/azureml_py310_sdkv2/lib/python3.10/site-packages (from alembic!=1.10.0,<2->mlflow) (4.5.0)\nRequirement already satisfied: pyjwt>=1.7.0 in /anaconda/envs/azureml_py310_sdkv2/lib/python3.10/site-packages (from databricks-cli<1,>=0.8.7->mlflow) (2.6.0)\nRequirement already satisfied: tabulate>=0.7.7 in /anaconda/envs/azureml_py310_sdkv2/lib/python3.10/site-packages (from databricks-cli<1,>=0.8.7->mlflow) (0.9.0)\nRequirement already satisfied: six>=1.10.0 in /anaconda/envs/azureml_py310_sdkv2/lib/python3.10/site-packages (from databricks-cli<1,>=0.8.7->mlflow) (1.16.0)\nRequirement already satisfied: oauthlib>=3.1.0 in /anaconda/envs/azureml_py310_sdkv2/lib/python3.10/site-packages (from databricks-cli<1,>=0.8.7->mlflow) (3.2.2)\nRequirement already satisfied: urllib3>=1.26.0 in /anaconda/envs/azureml_py310_sdkv2/lib/python3.10/site-packages (from docker<7,>=4.0.0->mlflow) (1.26.15)\nRequirement already satisfied: websocket-client>=0.32.0 in /anaconda/envs/azureml_py310_sdkv2/lib/python3.10/site-packages (from docker<7,>=4.0.0->mlflow) (1.5.1)\nRequirement already satisfied: itsdangerous>=2.0 in /anaconda/envs/azureml_py310_sdkv2/lib/python3.10/site-packages (from Flask<3->mlflow) (2.1.2)\nRequirement already satisfied: Werkzeug>=2.2.2 in /anaconda/envs/azureml_py310_sdkv2/lib/python3.10/site-packages (from Flask<3->mlflow) (2.2.3)\nRequirement already satisfied: gitdb<5,>=4.0.1 in /anaconda/envs/azureml_py310_sdkv2/lib/python3.10/site-packages (from gitpython<4,>=2.1.0->mlflow) (4.0.10)\nRequirement already satisfied: setuptools>=3.0 in /anaconda/envs/azureml_py310_sdkv2/lib/python3.10/site-packages (from gunicorn<21->mlflow) (65.6.3)\nRequirement already satisfied: zipp>=0.5 in /anaconda/envs/azureml_py310_sdkv2/lib/python3.10/site-packages (from importlib-metadata!=4.7.0,<7,>=3.7.0->mlflow) (3.15.0)\nRequirement already satisfied: MarkupSafe>=2.0 in /anaconda/envs/azureml_py310_sdkv2/lib/python3.10/site-packages (from Jinja2<4,>=2.11->mlflow) (2.1.2)\nRequirement already satisfied: contourpy>=1.0.1 in /anaconda/envs/azureml_py310_sdkv2/lib/python3.10/site-packages (from matplotlib<4->mlflow) (1.0.7)\nRequirement already satisfied: cycler>=0.10 in /anaconda/envs/azureml_py310_sdkv2/lib/python3.10/site-packages (from matplotlib<4->mlflow) (0.11.0)\nRequirement already satisfied: pyparsing>=2.3.1 in /anaconda/envs/azureml_py310_sdkv2/lib/python3.10/site-packages (from matplotlib<4->mlflow) (3.0.9)\nRequirement already satisfied: fonttools>=4.22.0 in /anaconda/envs/azureml_py310_sdkv2/lib/python3.10/site-packages (from matplotlib<4->mlflow) (4.39.3)\nRequirement already satisfied: pillow>=6.2.0 in /anaconda/envs/azureml_py310_sdkv2/lib/python3.10/site-packages (from matplotlib<4->mlflow) (9.5.0)\nRequirement already satisfied: kiwisolver>=1.0.1 in /anaconda/envs/azureml_py310_sdkv2/lib/python3.10/site-packages (from matplotlib<4->mlflow) (1.4.4)\nRequirement already satisfied: python-dateutil>=2.7 in /anaconda/envs/azureml_py310_sdkv2/lib/python3.10/site-packages (from matplotlib<4->mlflow) (2.8.2)\nRequirement already satisfied: tzdata>=2022.1 in /anaconda/envs/azureml_py310_sdkv2/lib/python3.10/site-packages (from pandas<3->mlflow) (2023.3)\nRequirement already satisfied: charset-normalizer<4,>=2 in /anaconda/envs/azureml_py310_sdkv2/lib/python3.10/site-packages (from requests<3,>=2.17.3->mlflow) (3.1.0)\nRequirement already satisfied: certifi>=2017.4.17 in /anaconda/envs/azureml_py310_sdkv2/lib/python3.10/site-packages (from requests<3,>=2.17.3->mlflow) (2022.12.7)\nRequirement already satisfied: idna<4,>=2.5 in /anaconda/envs/azureml_py310_sdkv2/lib/python3.10/site-packages (from requests<3,>=2.17.3->mlflow) (3.4)\nRequirement already satisfied: joblib>=1.1.1 in /anaconda/envs/azureml_py310_sdkv2/lib/python3.10/site-packages (from scikit-learn<2->mlflow) (1.2.0)\nRequirement already satisfied: threadpoolctl>=2.0.0 in /anaconda/envs/azureml_py310_sdkv2/lib/python3.10/site-packages (from scikit-learn<2->mlflow) (3.1.0)\nRequirement already satisfied: greenlet!=0.4.17 in /anaconda/envs/azureml_py310_sdkv2/lib/python3.10/site-packages (from sqlalchemy<3,>=1.4.0->mlflow) (2.0.2)\nRequirement already satisfied: smmap<6,>=3.0.1 in /anaconda/envs/azureml_py310_sdkv2/lib/python3.10/site-packages (from gitdb<5,>=4.0.1->gitpython<4,>=2.1.0->mlflow) (5.0.0)\nNote: you may need to restart the kernel to use updated packages.\nRequirement already satisfied: transformers in /anaconda/envs/azureml_py310_sdkv2/lib/python3.10/site-packages (4.31.0)\nRequirement already satisfied: packaging>=20.0 in /anaconda/envs/azureml_py310_sdkv2/lib/python3.10/site-packages (from transformers) (21.3)\nRequirement already satisfied: pyyaml>=5.1 in /anaconda/envs/azureml_py310_sdkv2/lib/python3.10/site-packages (from transformers) (6.0)\nRequirement already satisfied: tokenizers!=0.11.3,<0.14,>=0.11.1 in /anaconda/envs/azureml_py310_sdkv2/lib/python3.10/site-packages (from transformers) (0.13.3)\nRequirement already satisfied: regex!=2019.12.17 in /anaconda/envs/azureml_py310_sdkv2/lib/python3.10/site-packages (from transformers) (2023.6.3)\nRequirement already satisfied: safetensors>=0.3.1 in /anaconda/envs/azureml_py310_sdkv2/lib/python3.10/site-packages (from transformers) (0.3.1)\nRequirement already satisfied: tqdm>=4.27 in /anaconda/envs/azureml_py310_sdkv2/lib/python3.10/site-packages (from transformers) (4.65.0)\nRequirement already satisfied: requests in /anaconda/envs/azureml_py310_sdkv2/lib/python3.10/site-packages (from transformers) (2.28.2)\nRequirement already satisfied: huggingface-hub<1.0,>=0.14.1 in /anaconda/envs/azureml_py310_sdkv2/lib/python3.10/site-packages (from transformers) (0.15.1)\nRequirement already satisfied: filelock in /anaconda/envs/azureml_py310_sdkv2/lib/python3.10/site-packages (from transformers) (3.11.0)\nRequirement already satisfied: numpy>=1.17 in /anaconda/envs/azureml_py310_sdkv2/lib/python3.10/site-packages (from transformers) (1.23.5)\nRequirement already satisfied: typing-extensions>=3.7.4.3 in /anaconda/envs/azureml_py310_sdkv2/lib/python3.10/site-packages (from huggingface-hub<1.0,>=0.14.1->transformers) (4.5.0)\nRequirement already satisfied: fsspec in /anaconda/envs/azureml_py310_sdkv2/lib/python3.10/site-packages (from huggingface-hub<1.0,>=0.14.1->transformers) (2023.3.0)\nRequirement already satisfied: pyparsing!=3.0.5,>=2.0.2 in /anaconda/envs/azureml_py310_sdkv2/lib/python3.10/site-packages (from packaging>=20.0->transformers) (3.0.9)\nRequirement already satisfied: idna<4,>=2.5 in /anaconda/envs/azureml_py310_sdkv2/lib/python3.10/site-packages (from requests->transformers) (3.4)\nRequirement already satisfied: urllib3<1.27,>=1.21.1 in /anaconda/envs/azureml_py310_sdkv2/lib/python3.10/site-packages (from requests->transformers) (1.26.15)\nRequirement already satisfied: charset-normalizer<4,>=2 in /anaconda/envs/azureml_py310_sdkv2/lib/python3.10/site-packages (from requests->transformers) (3.1.0)\nRequirement already satisfied: certifi>=2017.4.17 in /anaconda/envs/azureml_py310_sdkv2/lib/python3.10/site-packages (from requests->transformers) (2022.12.7)\nNote: you may need to restart the kernel to use updated packages.\nRequirement already satisfied: datasets==2.9.0 in /anaconda/envs/azureml_py310_sdkv2/lib/python3.10/site-packages (2.9.0)\nRequirement already satisfied: pyarrow>=6.0.0 in /anaconda/envs/azureml_py310_sdkv2/lib/python3.10/site-packages (from datasets==2.9.0) (11.0.0)\nRequirement already satisfied: dill<0.3.7 in /anaconda/envs/azureml_py310_sdkv2/lib/python3.10/site-packages (from datasets==2.9.0) (0.3.6)\nRequirement already satisfied: pyyaml>=5.1 in /anaconda/envs/azureml_py310_sdkv2/lib/python3.10/site-packages (from datasets==2.9.0) (6.0)\nRequirement already satisfied: pandas in /anaconda/envs/azureml_py310_sdkv2/lib/python3.10/site-packages (from datasets==2.9.0) (2.0.0)\nRequirement already satisfied: aiohttp in /anaconda/envs/azureml_py310_sdkv2/lib/python3.10/site-packages (from datasets==2.9.0) (3.8.4)\nRequirement already satisfied: numpy>=1.17 in /anaconda/envs/azureml_py310_sdkv2/lib/python3.10/site-packages (from datasets==2.9.0) (1.23.5)\nRequirement already satisfied: packaging in /anaconda/envs/azureml_py310_sdkv2/lib/python3.10/site-packages (from datasets==2.9.0) (21.3)\nRequirement already satisfied: xxhash in /anaconda/envs/azureml_py310_sdkv2/lib/python3.10/site-packages (from datasets==2.9.0) (3.2.0)\nRequirement already satisfied: tqdm>=4.62.1 in /anaconda/envs/azureml_py310_sdkv2/lib/python3.10/site-packages (from datasets==2.9.0) (4.65.0)\nRequirement already satisfied: multiprocess in /anaconda/envs/azureml_py310_sdkv2/lib/python3.10/site-packages (from datasets==2.9.0) (0.70.14)\nRequirement already satisfied: huggingface-hub<1.0.0,>=0.2.0 in /anaconda/envs/azureml_py310_sdkv2/lib/python3.10/site-packages (from datasets==2.9.0) (0.15.1)\nRequirement already satisfied: requests>=2.19.0 in /anaconda/envs/azureml_py310_sdkv2/lib/python3.10/site-packages (from datasets==2.9.0) (2.28.2)\nRequirement already satisfied: fsspec[http]>=2021.11.1 in /anaconda/envs/azureml_py310_sdkv2/lib/python3.10/site-packages (from datasets==2.9.0) (2023.3.0)\nRequirement already satisfied: responses<0.19 in /anaconda/envs/azureml_py310_sdkv2/lib/python3.10/site-packages (from datasets==2.9.0) (0.18.0)\nRequirement already satisfied: frozenlist>=1.1.1 in /anaconda/envs/azureml_py310_sdkv2/lib/python3.10/site-packages (from aiohttp->datasets==2.9.0) (1.3.3)\nRequirement already satisfied: async-timeout<5.0,>=4.0.0a3 in /anaconda/envs/azureml_py310_sdkv2/lib/python3.10/site-packages (from aiohttp->datasets==2.9.0) (4.0.2)\nRequirement already satisfied: multidict<7.0,>=4.5 in /anaconda/envs/azureml_py310_sdkv2/lib/python3.10/site-packages (from aiohttp->datasets==2.9.0) (6.0.4)\nRequirement already satisfied: yarl<2.0,>=1.0 in /anaconda/envs/azureml_py310_sdkv2/lib/python3.10/site-packages (from aiohttp->datasets==2.9.0) (1.9.2)\nRequirement already satisfied: charset-normalizer<4.0,>=2.0 in /anaconda/envs/azureml_py310_sdkv2/lib/python3.10/site-packages (from aiohttp->datasets==2.9.0) (3.1.0)\nRequirement already satisfied: attrs>=17.3.0 in /anaconda/envs/azureml_py310_sdkv2/lib/python3.10/site-packages (from aiohttp->datasets==2.9.0) (22.2.0)\nRequirement already satisfied: aiosignal>=1.1.2 in /anaconda/envs/azureml_py310_sdkv2/lib/python3.10/site-packages (from aiohttp->datasets==2.9.0) (1.3.1)\nRequirement already satisfied: filelock in /anaconda/envs/azureml_py310_sdkv2/lib/python3.10/site-packages (from huggingface-hub<1.0.0,>=0.2.0->datasets==2.9.0) (3.11.0)\nRequirement already satisfied: typing-extensions>=3.7.4.3 in /anaconda/envs/azureml_py310_sdkv2/lib/python3.10/site-packages (from huggingface-hub<1.0.0,>=0.2.0->datasets==2.9.0) (4.5.0)\nRequirement already satisfied: pyparsing!=3.0.5,>=2.0.2 in /anaconda/envs/azureml_py310_sdkv2/lib/python3.10/site-packages (from packaging->datasets==2.9.0) (3.0.9)\nRequirement already satisfied: idna<4,>=2.5 in /anaconda/envs/azureml_py310_sdkv2/lib/python3.10/site-packages (from requests>=2.19.0->datasets==2.9.0) (3.4)\nRequirement already satisfied: urllib3<1.27,>=1.21.1 in /anaconda/envs/azureml_py310_sdkv2/lib/python3.10/site-packages (from requests>=2.19.0->datasets==2.9.0) (1.26.15)\nRequirement already satisfied: certifi>=2017.4.17 in /anaconda/envs/azureml_py310_sdkv2/lib/python3.10/site-packages (from requests>=2.19.0->datasets==2.9.0) (2022.12.7)\nRequirement already satisfied: pytz>=2020.1 in /anaconda/envs/azureml_py310_sdkv2/lib/python3.10/site-packages (from pandas->datasets==2.9.0) (2022.7.1)\nRequirement already satisfied: tzdata>=2022.1 in /anaconda/envs/azureml_py310_sdkv2/lib/python3.10/site-packages (from pandas->datasets==2.9.0) (2023.3)\nRequirement already satisfied: python-dateutil>=2.8.2 in /anaconda/envs/azureml_py310_sdkv2/lib/python3.10/site-packages (from pandas->datasets==2.9.0) (2.8.2)\nRequirement already satisfied: six>=1.5 in /anaconda/envs/azureml_py310_sdkv2/lib/python3.10/site-packages (from python-dateutil>=2.8.2->pandas->datasets==2.9.0) (1.16.0)\nNote: you may need to restart the kernel to use updated packages.\n"
        }
      ],
      "execution_count": 1,
      "metadata": {
        "jupyter": {
          "source_hidden": false,
          "outputs_hidden": false
        },
        "nteract": {
          "transient": {
            "deleting": false
          }
        }
      }
    },
    {
      "cell_type": "code",
      "source": [
        "%pip install evaluate"
      ],
      "outputs": [
        {
          "output_type": "stream",
          "name": "stdout",
          "text": "Requirement already satisfied: evaluate in /anaconda/envs/azureml_py310_sdkv2/lib/python3.10/site-packages (0.4.0)\nRequirement already satisfied: datasets>=2.0.0 in /anaconda/envs/azureml_py310_sdkv2/lib/python3.10/site-packages (from evaluate) (2.9.0)\nRequirement already satisfied: multiprocess in /anaconda/envs/azureml_py310_sdkv2/lib/python3.10/site-packages (from evaluate) (0.70.14)\nRequirement already satisfied: pandas in /anaconda/envs/azureml_py310_sdkv2/lib/python3.10/site-packages (from evaluate) (2.0.0)\nRequirement already satisfied: responses<0.19 in /anaconda/envs/azureml_py310_sdkv2/lib/python3.10/site-packages (from evaluate) (0.18.0)\nRequirement already satisfied: requests>=2.19.0 in /anaconda/envs/azureml_py310_sdkv2/lib/python3.10/site-packages (from evaluate) (2.28.2)\nRequirement already satisfied: huggingface-hub>=0.7.0 in /anaconda/envs/azureml_py310_sdkv2/lib/python3.10/site-packages (from evaluate) (0.15.1)\nRequirement already satisfied: numpy>=1.17 in /anaconda/envs/azureml_py310_sdkv2/lib/python3.10/site-packages (from evaluate) (1.23.5)\nRequirement already satisfied: fsspec[http]>=2021.05.0 in /anaconda/envs/azureml_py310_sdkv2/lib/python3.10/site-packages (from evaluate) (2023.3.0)\nRequirement already satisfied: tqdm>=4.62.1 in /anaconda/envs/azureml_py310_sdkv2/lib/python3.10/site-packages (from evaluate) (4.65.0)\nRequirement already satisfied: xxhash in /anaconda/envs/azureml_py310_sdkv2/lib/python3.10/site-packages (from evaluate) (3.2.0)\nRequirement already satisfied: dill in /anaconda/envs/azureml_py310_sdkv2/lib/python3.10/site-packages (from evaluate) (0.3.6)\nRequirement already satisfied: packaging in /anaconda/envs/azureml_py310_sdkv2/lib/python3.10/site-packages (from evaluate) (21.3)\nRequirement already satisfied: pyarrow>=6.0.0 in /anaconda/envs/azureml_py310_sdkv2/lib/python3.10/site-packages (from datasets>=2.0.0->evaluate) (11.0.0)\nRequirement already satisfied: pyyaml>=5.1 in /anaconda/envs/azureml_py310_sdkv2/lib/python3.10/site-packages (from datasets>=2.0.0->evaluate) (6.0)\nRequirement already satisfied: aiohttp in /anaconda/envs/azureml_py310_sdkv2/lib/python3.10/site-packages (from datasets>=2.0.0->evaluate) (3.8.4)\nRequirement already satisfied: typing-extensions>=3.7.4.3 in /anaconda/envs/azureml_py310_sdkv2/lib/python3.10/site-packages (from huggingface-hub>=0.7.0->evaluate) (4.5.0)\nRequirement already satisfied: filelock in /anaconda/envs/azureml_py310_sdkv2/lib/python3.10/site-packages (from huggingface-hub>=0.7.0->evaluate) (3.11.0)\nRequirement already satisfied: pyparsing!=3.0.5,>=2.0.2 in /anaconda/envs/azureml_py310_sdkv2/lib/python3.10/site-packages (from packaging->evaluate) (3.0.9)\nRequirement already satisfied: urllib3<1.27,>=1.21.1 in /anaconda/envs/azureml_py310_sdkv2/lib/python3.10/site-packages (from requests>=2.19.0->evaluate) (1.26.15)\nRequirement already satisfied: idna<4,>=2.5 in /anaconda/envs/azureml_py310_sdkv2/lib/python3.10/site-packages (from requests>=2.19.0->evaluate) (3.4)\nRequirement already satisfied: certifi>=2017.4.17 in /anaconda/envs/azureml_py310_sdkv2/lib/python3.10/site-packages (from requests>=2.19.0->evaluate) (2022.12.7)\nRequirement already satisfied: charset-normalizer<4,>=2 in /anaconda/envs/azureml_py310_sdkv2/lib/python3.10/site-packages (from requests>=2.19.0->evaluate) (3.1.0)\nRequirement already satisfied: pytz>=2020.1 in /anaconda/envs/azureml_py310_sdkv2/lib/python3.10/site-packages (from pandas->evaluate) (2022.7.1)\nRequirement already satisfied: tzdata>=2022.1 in /anaconda/envs/azureml_py310_sdkv2/lib/python3.10/site-packages (from pandas->evaluate) (2023.3)\nRequirement already satisfied: python-dateutil>=2.8.2 in /anaconda/envs/azureml_py310_sdkv2/lib/python3.10/site-packages (from pandas->evaluate) (2.8.2)\nRequirement already satisfied: async-timeout<5.0,>=4.0.0a3 in /anaconda/envs/azureml_py310_sdkv2/lib/python3.10/site-packages (from aiohttp->datasets>=2.0.0->evaluate) (4.0.2)\nRequirement already satisfied: attrs>=17.3.0 in /anaconda/envs/azureml_py310_sdkv2/lib/python3.10/site-packages (from aiohttp->datasets>=2.0.0->evaluate) (22.2.0)\nRequirement already satisfied: frozenlist>=1.1.1 in /anaconda/envs/azureml_py310_sdkv2/lib/python3.10/site-packages (from aiohttp->datasets>=2.0.0->evaluate) (1.3.3)\nRequirement already satisfied: aiosignal>=1.1.2 in /anaconda/envs/azureml_py310_sdkv2/lib/python3.10/site-packages (from aiohttp->datasets>=2.0.0->evaluate) (1.3.1)\nRequirement already satisfied: yarl<2.0,>=1.0 in /anaconda/envs/azureml_py310_sdkv2/lib/python3.10/site-packages (from aiohttp->datasets>=2.0.0->evaluate) (1.9.2)\nRequirement already satisfied: multidict<7.0,>=4.5 in /anaconda/envs/azureml_py310_sdkv2/lib/python3.10/site-packages (from aiohttp->datasets>=2.0.0->evaluate) (6.0.4)\nRequirement already satisfied: six>=1.5 in /anaconda/envs/azureml_py310_sdkv2/lib/python3.10/site-packages (from python-dateutil>=2.8.2->pandas->evaluate) (1.16.0)\nNote: you may need to restart the kernel to use updated packages.\n"
        }
      ],
      "execution_count": 2,
      "metadata": {
        "jupyter": {
          "source_hidden": false,
          "outputs_hidden": false
        },
        "nteract": {
          "transient": {
            "deleting": false
          }
        }
      }
    },
    {
      "cell_type": "code",
      "source": [
        "%pip install azureml-mlflow==1.52.0\r\n",
        "%pip install sentencepiece"
      ],
      "outputs": [
        {
          "output_type": "stream",
          "name": "stdout",
          "text": "Requirement already satisfied: azureml-mlflow==1.52.0 in /anaconda/envs/azureml_py310_sdkv2/lib/python3.10/site-packages (1.52.0)\nRequirement already satisfied: jsonpickle in /anaconda/envs/azureml_py310_sdkv2/lib/python3.10/site-packages (from azureml-mlflow==1.52.0) (2.2.0)\nRequirement already satisfied: azure-core!=1.22.0,<2.0.0,>=1.8.0 in /anaconda/envs/azureml_py310_sdkv2/lib/python3.10/site-packages (from azureml-mlflow==1.52.0) (1.28.0)\nRequirement already satisfied: msrest>=0.6.18 in /anaconda/envs/azureml_py310_sdkv2/lib/python3.10/site-packages (from azureml-mlflow==1.52.0) (0.7.1)\nRequirement already satisfied: cryptography in /anaconda/envs/azureml_py310_sdkv2/lib/python3.10/site-packages (from azureml-mlflow==1.52.0) (40.0.1)\nRequirement already satisfied: python-dateutil<3.0.0,>=2.7.3 in /anaconda/envs/azureml_py310_sdkv2/lib/python3.10/site-packages (from azureml-mlflow==1.52.0) (2.8.2)\nRequirement already satisfied: mlflow-skinny in /anaconda/envs/azureml_py310_sdkv2/lib/python3.10/site-packages (from azureml-mlflow==1.52.0) (2.2.2)\nRequirement already satisfied: azure-identity in /anaconda/envs/azureml_py310_sdkv2/lib/python3.10/site-packages (from azureml-mlflow==1.52.0) (1.13.0)\nRequirement already satisfied: azure-common<2.0.0,>=1.1 in /anaconda/envs/azureml_py310_sdkv2/lib/python3.10/site-packages (from azureml-mlflow==1.52.0) (1.1.28)\nRequirement already satisfied: azure-mgmt-core<2.0.0,>=1.2.0 in /anaconda/envs/azureml_py310_sdkv2/lib/python3.10/site-packages (from azureml-mlflow==1.52.0) (1.4.0)\nRequirement already satisfied: azure-storage-blob<=12.13.0,>=12.5.0 in /anaconda/envs/azureml_py310_sdkv2/lib/python3.10/site-packages (from azureml-mlflow==1.52.0) (12.13.0)\nRequirement already satisfied: six>=1.11.0 in /anaconda/envs/azureml_py310_sdkv2/lib/python3.10/site-packages (from azure-core!=1.22.0,<2.0.0,>=1.8.0->azureml-mlflow==1.52.0) (1.16.0)\nRequirement already satisfied: requests>=2.18.4 in /anaconda/envs/azureml_py310_sdkv2/lib/python3.10/site-packages (from azure-core!=1.22.0,<2.0.0,>=1.8.0->azureml-mlflow==1.52.0) (2.28.2)\nRequirement already satisfied: typing-extensions>=4.3.0 in /anaconda/envs/azureml_py310_sdkv2/lib/python3.10/site-packages (from azure-core!=1.22.0,<2.0.0,>=1.8.0->azureml-mlflow==1.52.0) (4.5.0)\nRequirement already satisfied: cffi>=1.12 in /anaconda/envs/azureml_py310_sdkv2/lib/python3.10/site-packages (from cryptography->azureml-mlflow==1.52.0) (1.15.1)\nRequirement already satisfied: isodate>=0.6.0 in /anaconda/envs/azureml_py310_sdkv2/lib/python3.10/site-packages (from msrest>=0.6.18->azureml-mlflow==1.52.0) (0.6.1)\nRequirement already satisfied: certifi>=2017.4.17 in /anaconda/envs/azureml_py310_sdkv2/lib/python3.10/site-packages (from msrest>=0.6.18->azureml-mlflow==1.52.0) (2022.12.7)\nRequirement already satisfied: requests-oauthlib>=0.5.0 in /anaconda/envs/azureml_py310_sdkv2/lib/python3.10/site-packages (from msrest>=0.6.18->azureml-mlflow==1.52.0) (1.3.1)\nRequirement already satisfied: msal-extensions<2.0.0,>=0.3.0 in /anaconda/envs/azureml_py310_sdkv2/lib/python3.10/site-packages (from azure-identity->azureml-mlflow==1.52.0) (1.0.0)\nRequirement already satisfied: msal<2.0.0,>=1.20.0 in /anaconda/envs/azureml_py310_sdkv2/lib/python3.10/site-packages (from azure-identity->azureml-mlflow==1.52.0) (1.21.0)\nRequirement already satisfied: databricks-cli<1,>=0.8.7 in /anaconda/envs/azureml_py310_sdkv2/lib/python3.10/site-packages (from mlflow-skinny->azureml-mlflow==1.52.0) (0.17.6)\nRequirement already satisfied: protobuf<5,>=3.12.0 in /anaconda/envs/azureml_py310_sdkv2/lib/python3.10/site-packages (from mlflow-skinny->azureml-mlflow==1.52.0) (3.19.6)\nRequirement already satisfied: packaging<24 in /anaconda/envs/azureml_py310_sdkv2/lib/python3.10/site-packages (from mlflow-skinny->azureml-mlflow==1.52.0) (21.3)\nRequirement already satisfied: pytz<2023 in /anaconda/envs/azureml_py310_sdkv2/lib/python3.10/site-packages (from mlflow-skinny->azureml-mlflow==1.52.0) (2022.7.1)\nRequirement already satisfied: entrypoints<1 in /anaconda/envs/azureml_py310_sdkv2/lib/python3.10/site-packages (from mlflow-skinny->azureml-mlflow==1.52.0) (0.4)\nRequirement already satisfied: click<9,>=7.0 in /anaconda/envs/azureml_py310_sdkv2/lib/python3.10/site-packages (from mlflow-skinny->azureml-mlflow==1.52.0) (8.0.4)\nRequirement already satisfied: sqlparse<1,>=0.4.0 in /anaconda/envs/azureml_py310_sdkv2/lib/python3.10/site-packages (from mlflow-skinny->azureml-mlflow==1.52.0) (0.4.3)\nRequirement already satisfied: pyyaml<7,>=5.1 in /anaconda/envs/azureml_py310_sdkv2/lib/python3.10/site-packages (from mlflow-skinny->azureml-mlflow==1.52.0) (6.0)\nRequirement already satisfied: importlib-metadata!=4.7.0,<7,>=3.7.0 in /anaconda/envs/azureml_py310_sdkv2/lib/python3.10/site-packages (from mlflow-skinny->azureml-mlflow==1.52.0) (6.1.0)\nRequirement already satisfied: cloudpickle<3 in /anaconda/envs/azureml_py310_sdkv2/lib/python3.10/site-packages (from mlflow-skinny->azureml-mlflow==1.52.0) (2.2.1)\nRequirement already satisfied: gitpython<4,>=2.1.0 in /anaconda/envs/azureml_py310_sdkv2/lib/python3.10/site-packages (from mlflow-skinny->azureml-mlflow==1.52.0) (3.1.31)\nRequirement already satisfied: pycparser in /anaconda/envs/azureml_py310_sdkv2/lib/python3.10/site-packages (from cffi>=1.12->cryptography->azureml-mlflow==1.52.0) (2.21)\nRequirement already satisfied: pyjwt>=1.7.0 in /anaconda/envs/azureml_py310_sdkv2/lib/python3.10/site-packages (from databricks-cli<1,>=0.8.7->mlflow-skinny->azureml-mlflow==1.52.0) (2.6.0)\nRequirement already satisfied: tabulate>=0.7.7 in /anaconda/envs/azureml_py310_sdkv2/lib/python3.10/site-packages (from databricks-cli<1,>=0.8.7->mlflow-skinny->azureml-mlflow==1.52.0) (0.9.0)\nRequirement already satisfied: oauthlib>=3.1.0 in /anaconda/envs/azureml_py310_sdkv2/lib/python3.10/site-packages (from databricks-cli<1,>=0.8.7->mlflow-skinny->azureml-mlflow==1.52.0) (3.2.2)\nRequirement already satisfied: gitdb<5,>=4.0.1 in /anaconda/envs/azureml_py310_sdkv2/lib/python3.10/site-packages (from gitpython<4,>=2.1.0->mlflow-skinny->azureml-mlflow==1.52.0) (4.0.10)\nRequirement already satisfied: zipp>=0.5 in /anaconda/envs/azureml_py310_sdkv2/lib/python3.10/site-packages (from importlib-metadata!=4.7.0,<7,>=3.7.0->mlflow-skinny->azureml-mlflow==1.52.0) (3.15.0)\nRequirement already satisfied: portalocker<3,>=1.0 in /anaconda/envs/azureml_py310_sdkv2/lib/python3.10/site-packages (from msal-extensions<2.0.0,>=0.3.0->azure-identity->azureml-mlflow==1.52.0) (2.7.0)\nRequirement already satisfied: pyparsing!=3.0.5,>=2.0.2 in /anaconda/envs/azureml_py310_sdkv2/lib/python3.10/site-packages (from packaging<24->mlflow-skinny->azureml-mlflow==1.52.0) (3.0.9)\nRequirement already satisfied: charset-normalizer<4,>=2 in /anaconda/envs/azureml_py310_sdkv2/lib/python3.10/site-packages (from requests>=2.18.4->azure-core!=1.22.0,<2.0.0,>=1.8.0->azureml-mlflow==1.52.0) (3.1.0)\nRequirement already satisfied: urllib3<1.27,>=1.21.1 in /anaconda/envs/azureml_py310_sdkv2/lib/python3.10/site-packages (from requests>=2.18.4->azure-core!=1.22.0,<2.0.0,>=1.8.0->azureml-mlflow==1.52.0) (1.26.15)\nRequirement already satisfied: idna<4,>=2.5 in /anaconda/envs/azureml_py310_sdkv2/lib/python3.10/site-packages (from requests>=2.18.4->azure-core!=1.22.0,<2.0.0,>=1.8.0->azureml-mlflow==1.52.0) (3.4)\nRequirement already satisfied: smmap<6,>=3.0.1 in /anaconda/envs/azureml_py310_sdkv2/lib/python3.10/site-packages (from gitdb<5,>=4.0.1->gitpython<4,>=2.1.0->mlflow-skinny->azureml-mlflow==1.52.0) (5.0.0)\nNote: you may need to restart the kernel to use updated packages.\nRequirement already satisfied: sentencepiece in /anaconda/envs/azureml_py310_sdkv2/lib/python3.10/site-packages (0.1.99)\nNote: you may need to restart the kernel to use updated packages.\n"
        }
      ],
      "execution_count": 3,
      "metadata": {
        "jupyter": {
          "source_hidden": false,
          "outputs_hidden": false
        },
        "nteract": {
          "transient": {
            "deleting": false
          }
        }
      }
    },
    {
      "cell_type": "code",
      "source": [
        "%pip install tensorflow==2.9"
      ],
      "outputs": [
        {
          "output_type": "stream",
          "name": "stdout",
          "text": "Requirement already satisfied: tensorflow==2.9 in /anaconda/envs/azureml_py310_sdkv2/lib/python3.10/site-packages (2.9.0)\nRequirement already satisfied: libclang>=13.0.0 in /anaconda/envs/azureml_py310_sdkv2/lib/python3.10/site-packages (from tensorflow==2.9) (16.0.6)\nRequirement already satisfied: google-pasta>=0.1.1 in /anaconda/envs/azureml_py310_sdkv2/lib/python3.10/site-packages (from tensorflow==2.9) (0.2.0)\nRequirement already satisfied: grpcio<2.0,>=1.24.3 in /anaconda/envs/azureml_py310_sdkv2/lib/python3.10/site-packages (from tensorflow==2.9) (1.56.2)\nRequirement already satisfied: keras-preprocessing>=1.1.1 in /anaconda/envs/azureml_py310_sdkv2/lib/python3.10/site-packages (from tensorflow==2.9) (1.1.2)\nRequirement already satisfied: gast<=0.4.0,>=0.2.1 in /anaconda/envs/azureml_py310_sdkv2/lib/python3.10/site-packages (from tensorflow==2.9) (0.4.0)\nRequirement already satisfied: tensorboard<2.10,>=2.9 in /anaconda/envs/azureml_py310_sdkv2/lib/python3.10/site-packages (from tensorflow==2.9) (2.9.1)\nRequirement already satisfied: packaging in /anaconda/envs/azureml_py310_sdkv2/lib/python3.10/site-packages (from tensorflow==2.9) (21.3)\nRequirement already satisfied: keras<2.10.0,>=2.9.0rc0 in /anaconda/envs/azureml_py310_sdkv2/lib/python3.10/site-packages (from tensorflow==2.9) (2.9.0)\nRequirement already satisfied: absl-py>=1.0.0 in /anaconda/envs/azureml_py310_sdkv2/lib/python3.10/site-packages (from tensorflow==2.9) (1.4.0)\nRequirement already satisfied: tensorflow-io-gcs-filesystem>=0.23.1 in /anaconda/envs/azureml_py310_sdkv2/lib/python3.10/site-packages (from tensorflow==2.9) (0.32.0)\nRequirement already satisfied: opt-einsum>=2.3.2 in /anaconda/envs/azureml_py310_sdkv2/lib/python3.10/site-packages (from tensorflow==2.9) (3.3.0)\nRequirement already satisfied: typing-extensions>=3.6.6 in /anaconda/envs/azureml_py310_sdkv2/lib/python3.10/site-packages (from tensorflow==2.9) (4.5.0)\nRequirement already satisfied: six>=1.12.0 in /anaconda/envs/azureml_py310_sdkv2/lib/python3.10/site-packages (from tensorflow==2.9) (1.16.0)\nRequirement already satisfied: numpy>=1.20 in /anaconda/envs/azureml_py310_sdkv2/lib/python3.10/site-packages (from tensorflow==2.9) (1.23.5)\nRequirement already satisfied: flatbuffers<2,>=1.12 in /anaconda/envs/azureml_py310_sdkv2/lib/python3.10/site-packages (from tensorflow==2.9) (1.12)\nRequirement already satisfied: tensorflow-estimator<2.10.0,>=2.9.0rc0 in /anaconda/envs/azureml_py310_sdkv2/lib/python3.10/site-packages (from tensorflow==2.9) (2.9.0)\nRequirement already satisfied: wrapt>=1.11.0 in /anaconda/envs/azureml_py310_sdkv2/lib/python3.10/site-packages (from tensorflow==2.9) (1.15.0)\nRequirement already satisfied: h5py>=2.9.0 in /anaconda/envs/azureml_py310_sdkv2/lib/python3.10/site-packages (from tensorflow==2.9) (3.9.0)\nRequirement already satisfied: astunparse>=1.6.0 in /anaconda/envs/azureml_py310_sdkv2/lib/python3.10/site-packages (from tensorflow==2.9) (1.6.3)\nRequirement already satisfied: termcolor>=1.1.0 in /anaconda/envs/azureml_py310_sdkv2/lib/python3.10/site-packages (from tensorflow==2.9) (2.3.0)\nRequirement already satisfied: setuptools in /anaconda/envs/azureml_py310_sdkv2/lib/python3.10/site-packages (from tensorflow==2.9) (65.6.3)\nRequirement already satisfied: protobuf>=3.9.2 in /anaconda/envs/azureml_py310_sdkv2/lib/python3.10/site-packages (from tensorflow==2.9) (3.19.6)\nRequirement already satisfied: wheel<1.0,>=0.23.0 in /anaconda/envs/azureml_py310_sdkv2/lib/python3.10/site-packages (from astunparse>=1.6.0->tensorflow==2.9) (0.38.4)\nRequirement already satisfied: google-auth<3,>=1.6.3 in /anaconda/envs/azureml_py310_sdkv2/lib/python3.10/site-packages (from tensorboard<2.10,>=2.9->tensorflow==2.9) (2.17.2)\nRequirement already satisfied: requests<3,>=2.21.0 in /anaconda/envs/azureml_py310_sdkv2/lib/python3.10/site-packages (from tensorboard<2.10,>=2.9->tensorflow==2.9) (2.28.2)\nRequirement already satisfied: google-auth-oauthlib<0.5,>=0.4.1 in /anaconda/envs/azureml_py310_sdkv2/lib/python3.10/site-packages (from tensorboard<2.10,>=2.9->tensorflow==2.9) (0.4.6)\nRequirement already satisfied: werkzeug>=1.0.1 in /anaconda/envs/azureml_py310_sdkv2/lib/python3.10/site-packages (from tensorboard<2.10,>=2.9->tensorflow==2.9) (2.2.3)\nRequirement already satisfied: tensorboard-data-server<0.7.0,>=0.6.0 in /anaconda/envs/azureml_py310_sdkv2/lib/python3.10/site-packages (from tensorboard<2.10,>=2.9->tensorflow==2.9) (0.6.1)\nRequirement already satisfied: markdown>=2.6.8 in /anaconda/envs/azureml_py310_sdkv2/lib/python3.10/site-packages (from tensorboard<2.10,>=2.9->tensorflow==2.9) (3.4.3)\nRequirement already satisfied: tensorboard-plugin-wit>=1.6.0 in /anaconda/envs/azureml_py310_sdkv2/lib/python3.10/site-packages (from tensorboard<2.10,>=2.9->tensorflow==2.9) (1.8.1)\nRequirement already satisfied: pyparsing!=3.0.5,>=2.0.2 in /anaconda/envs/azureml_py310_sdkv2/lib/python3.10/site-packages (from packaging->tensorflow==2.9) (3.0.9)\nRequirement already satisfied: cachetools<6.0,>=2.0.0 in /anaconda/envs/azureml_py310_sdkv2/lib/python3.10/site-packages (from google-auth<3,>=1.6.3->tensorboard<2.10,>=2.9->tensorflow==2.9) (5.3.0)\nRequirement already satisfied: rsa<5,>=3.1.4 in /anaconda/envs/azureml_py310_sdkv2/lib/python3.10/site-packages (from google-auth<3,>=1.6.3->tensorboard<2.10,>=2.9->tensorflow==2.9) (4.9)\nRequirement already satisfied: pyasn1-modules>=0.2.1 in /anaconda/envs/azureml_py310_sdkv2/lib/python3.10/site-packages (from google-auth<3,>=1.6.3->tensorboard<2.10,>=2.9->tensorflow==2.9) (0.2.8)\nRequirement already satisfied: requests-oauthlib>=0.7.0 in /anaconda/envs/azureml_py310_sdkv2/lib/python3.10/site-packages (from google-auth-oauthlib<0.5,>=0.4.1->tensorboard<2.10,>=2.9->tensorflow==2.9) (1.3.1)\nRequirement already satisfied: certifi>=2017.4.17 in /anaconda/envs/azureml_py310_sdkv2/lib/python3.10/site-packages (from requests<3,>=2.21.0->tensorboard<2.10,>=2.9->tensorflow==2.9) (2022.12.7)\nRequirement already satisfied: urllib3<1.27,>=1.21.1 in /anaconda/envs/azureml_py310_sdkv2/lib/python3.10/site-packages (from requests<3,>=2.21.0->tensorboard<2.10,>=2.9->tensorflow==2.9) (1.26.15)\nRequirement already satisfied: charset-normalizer<4,>=2 in /anaconda/envs/azureml_py310_sdkv2/lib/python3.10/site-packages (from requests<3,>=2.21.0->tensorboard<2.10,>=2.9->tensorflow==2.9) (3.1.0)\nRequirement already satisfied: idna<4,>=2.5 in /anaconda/envs/azureml_py310_sdkv2/lib/python3.10/site-packages (from requests<3,>=2.21.0->tensorboard<2.10,>=2.9->tensorflow==2.9) (3.4)\nRequirement already satisfied: MarkupSafe>=2.1.1 in /anaconda/envs/azureml_py310_sdkv2/lib/python3.10/site-packages (from werkzeug>=1.0.1->tensorboard<2.10,>=2.9->tensorflow==2.9) (2.1.2)\nRequirement already satisfied: pyasn1<0.5.0,>=0.4.6 in /anaconda/envs/azureml_py310_sdkv2/lib/python3.10/site-packages (from pyasn1-modules>=0.2.1->google-auth<3,>=1.6.3->tensorboard<2.10,>=2.9->tensorflow==2.9) (0.4.8)\nRequirement already satisfied: oauthlib>=3.0.0 in /anaconda/envs/azureml_py310_sdkv2/lib/python3.10/site-packages (from requests-oauthlib>=0.7.0->google-auth-oauthlib<0.5,>=0.4.1->tensorboard<2.10,>=2.9->tensorflow==2.9) (3.2.2)\nNote: you may need to restart the kernel to use updated packages.\n"
        }
      ],
      "execution_count": 4,
      "metadata": {
        "jupyter": {
          "source_hidden": false,
          "outputs_hidden": false
        },
        "nteract": {
          "transient": {
            "deleting": false
          }
        }
      }
    },
    {
      "cell_type": "code",
      "source": [
        "import os \r\n",
        "import mlflow\r\n",
        "import pandas as pd\r\n",
        "import numpy as np\r\n",
        "from datasets import load_dataset\r\n",
        "import evaluate\r\n",
        "from azureml.core import Workspace\r\n",
        "from transformers import AutoModelForSequenceClassification,AutoTokenizer,TrainingArguments,Trainer\r\n",
        "import pickle\r\n",
        "from azure.ai.ml import MLClient\r\n",
        "from azure.identity import DefaultAzureCredential,AzureCliCredential \r\n",
        "from azure.ai.ml import MLClient\r\n",
        "\r\n",
        "from azure.ai.ml.entities import AmlCompute\r\n",
        "import time"
      ],
      "outputs": [
        {
          "output_type": "stream",
          "name": "stderr",
          "text": "/anaconda/envs/azureml_py310_sdkv2/lib/python3.10/site-packages/tqdm/auto.py:21: TqdmWarning: IProgress not found. Please update jupyter and ipywidgets. See https://ipywidgets.readthedocs.io/en/stable/user_install.html\n  from .autonotebook import tqdm as notebook_tqdm\n"
        }
      ],
      "execution_count": 5,
      "metadata": {
        "jupyter": {
          "source_hidden": false,
          "outputs_hidden": false
        },
        "nteract": {
          "transient": {
            "deleting": false
          }
        },
        "gather": {
          "logged": 1690290442336
        }
      }
    },
    {
      "cell_type": "code",
      "source": [
        "from azure.ai.ml import MLClient\r\n",
        "from azure.identity import (\r\n",
        "    DefaultAzureCredential,AzureCliCredential,\r\n",
        "    InteractiveBrowserCredential,\r\n",
        "    ClientSecretCredential,\r\n",
        ")\r\n",
        "from azure.ai.ml.entities import AmlCompute\r\n",
        "import time\r\n",
        "from azureml.core import Workspace\r\n",
        "import mlflow\r\n",
        "\r\n",
        "try:\r\n",
        "    credential = AzureCliCredential()\r\n",
        "    credential.get_token(\"https://management.azure.com/.default\")\r\n",
        "    \r\n",
        "except Exception as ex:\r\n",
        "    credential = InteractiveBrowserCredential()\r\n",
        "\r\n",
        "try:\r\n",
        "    ml_client = MLClient.from_config(credential=credential)\r\n",
        "except:\r\n",
        "    ml_client = MLClient(\r\n",
        "        credential,\r\n",
        "        subscription_id=\"80c77c76-74ba-4c8c-8229-4c3b2957990c\",\r\n",
        "        resource_group_name=\"sonata-test-rg\",\r\n",
        "        workspace_name=\"sonata-test-ws\",\r\n",
        "    )\r\n",
        "\r\n",
        "ws = Workspace(subscription_id=\"80c77c76-74ba-4c8c-8229-4c3b2957990c\",\r\n",
        "        resource_group=\"sonata-test-rg\",\r\n",
        "        workspace_name=\"sonata-test-ws\")\r\n",
        "\r\n",
        "\r\n",
        "# store the mlflow results in azure ml workspace\r\n",
        "# mlflow.set_tracking_uri(ws.get_mlflow_tracking_uri())\r\n"
      ],
      "outputs": [
        {
          "output_type": "stream",
          "name": "stderr",
          "text": "Found the config file in: /mnt/batch/tasks/shared/LS_root/mounts/clusters/v-suchi1/code/.azureml/config.json\n"
        }
      ],
      "execution_count": 9,
      "metadata": {
        "jupyter": {
          "source_hidden": false,
          "outputs_hidden": false
        },
        "nteract": {
          "transient": {
            "deleting": false
          }
        },
        "gather": {
          "logged": 1690291089707
        }
      }
    },
    {
      "cell_type": "code",
      "source": [
        "from azure.ai.ml import command, Input\r\n",
        "\r\n",
        "# define the command\r\n",
        "command_job = command(\r\n",
        "    code=\"./\",\r\n",
        "    command=\"python Distlbert.py\",\r\n",
        "    environment=\"gpt2-venv:6\",\r\n",
        "    # inputs={\r\n",
        "    #     \"cnn_dailymail\": Input(\r\n",
        "    #         type=\"uri_file\",\r\n",
        "    #         path=\"https://datasets-server.huggingface.co/rows?dataset=cnn_dailymail&config=3.0.0&split=validation&offset=0&limit=5\",\r\n",
        "    #     )\r\n",
        "    # },\r\n",
        "    compute=\"cpu-cluster\",\r\n",
        ")"
      ],
      "outputs": [],
      "execution_count": 28,
      "metadata": {
        "jupyter": {
          "source_hidden": false,
          "outputs_hidden": false
        },
        "nteract": {
          "transient": {
            "deleting": false
          }
        },
        "gather": {
          "logged": 1690294818335
        }
      }
    },
    {
      "cell_type": "code",
      "source": [
        "# submit the command\r\n",
        "returned_job = ml_client.jobs.create_or_update(command_job)\r\n",
        "# get a URL for the status of the job\r\n",
        "returned_job.studio_url"
      ],
      "outputs": [
        {
          "output_type": "stream",
          "name": "stderr",
          "text": "\u001b[32mUploading Automation (49.13 MBs): 100%|██████████| 49134689/49134689 [00:00<00:00, 67389887.16it/s]\n\u001b[39m\n\n"
        },
        {
          "output_type": "execute_result",
          "execution_count": 29,
          "data": {
            "text/plain": "'https://ml.azure.com/runs/bubbly_crayon_vzx3j4spr5?wsid=/subscriptions/80c77c76-74ba-4c8c-8229-4c3b2957990c/resourcegroups/sonata-test-rg/workspaces/sonata-test-ws&tid=72f988bf-86f1-41af-91ab-2d7cd011db47'"
          },
          "metadata": {}
        }
      ],
      "execution_count": 29,
      "metadata": {
        "jupyter": {
          "source_hidden": false,
          "outputs_hidden": false
        },
        "nteract": {
          "transient": {
            "deleting": false
          }
        },
        "gather": {
          "logged": 1690294824942
        }
      }
    }
  ],
  "metadata": {
    "kernelspec": {
      "name": "python310-sdkv2",
      "language": "python",
      "display_name": "Python 3.10 - SDK v2"
    },
    "language_info": {
      "name": "python",
      "version": "3.10.10",
      "mimetype": "text/x-python",
      "codemirror_mode": {
        "name": "ipython",
        "version": 3
      },
      "pygments_lexer": "ipython3",
      "nbconvert_exporter": "python",
      "file_extension": ".py"
    },
    "microsoft": {
      "ms_spell_check": {
        "ms_spell_check_language": "en"
      },
      "host": {
        "AzureML": {
          "notebookHasBeenCompleted": true
        }
      }
    },
    "kernel_info": {
      "name": "python310-sdkv2"
    },
    "nteract": {
      "version": "nteract-front-end@1.0.0"
    }
  },
  "nbformat": 4,
  "nbformat_minor": 2
}