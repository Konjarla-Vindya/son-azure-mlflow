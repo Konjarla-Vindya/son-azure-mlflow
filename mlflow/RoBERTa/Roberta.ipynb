{
  "cells": [
    {
      "cell_type": "code",
      "source": [
        "%pip install azureml-mlflow==1.52.0"
      ],
      "outputs": [
        {
          "output_type": "stream",
          "name": "stdout",
          "text": "Requirement already satisfied: azureml-mlflow==1.52.0 in /anaconda/envs/azureml_py310_sdkv2/lib/python3.10/site-packages (1.52.0)\nRequirement already satisfied: python-dateutil<3.0.0,>=2.7.3 in /anaconda/envs/azureml_py310_sdkv2/lib/python3.10/site-packages (from azureml-mlflow==1.52.0) (2.8.2)\nRequirement already satisfied: azure-identity in /anaconda/envs/azureml_py310_sdkv2/lib/python3.10/site-packages (from azureml-mlflow==1.52.0) (1.13.0)\nRequirement already satisfied: jsonpickle in /anaconda/envs/azureml_py310_sdkv2/lib/python3.10/site-packages (from azureml-mlflow==1.52.0) (2.2.0)\nRequirement already satisfied: mlflow-skinny in /anaconda/envs/azureml_py310_sdkv2/lib/python3.10/site-packages (from azureml-mlflow==1.52.0) (2.2.2)\nRequirement already satisfied: azure-core!=1.22.0,<2.0.0,>=1.8.0 in /anaconda/envs/azureml_py310_sdkv2/lib/python3.10/site-packages (from azureml-mlflow==1.52.0) (1.26.4)\nRequirement already satisfied: cryptography in /anaconda/envs/azureml_py310_sdkv2/lib/python3.10/site-packages (from azureml-mlflow==1.52.0) (40.0.1)\nRequirement already satisfied: azure-common<2.0.0,>=1.1 in /anaconda/envs/azureml_py310_sdkv2/lib/python3.10/site-packages (from azureml-mlflow==1.52.0) (1.1.28)\nRequirement already satisfied: msrest>=0.6.18 in /anaconda/envs/azureml_py310_sdkv2/lib/python3.10/site-packages (from azureml-mlflow==1.52.0) (0.7.1)\nRequirement already satisfied: azure-mgmt-core<2.0.0,>=1.2.0 in /anaconda/envs/azureml_py310_sdkv2/lib/python3.10/site-packages (from azureml-mlflow==1.52.0) (1.4.0)\nRequirement already satisfied: azure-storage-blob<=12.13.0,>=12.5.0 in /anaconda/envs/azureml_py310_sdkv2/lib/python3.10/site-packages (from azureml-mlflow==1.52.0) (12.13.0)\nRequirement already satisfied: requests>=2.18.4 in /anaconda/envs/azureml_py310_sdkv2/lib/python3.10/site-packages (from azure-core!=1.22.0,<2.0.0,>=1.8.0->azureml-mlflow==1.52.0) (2.28.2)\nRequirement already satisfied: typing-extensions>=4.3.0 in /anaconda/envs/azureml_py310_sdkv2/lib/python3.10/site-packages (from azure-core!=1.22.0,<2.0.0,>=1.8.0->azureml-mlflow==1.52.0) (4.5.0)\nRequirement already satisfied: six>=1.11.0 in /anaconda/envs/azureml_py310_sdkv2/lib/python3.10/site-packages (from azure-core!=1.22.0,<2.0.0,>=1.8.0->azureml-mlflow==1.52.0) (1.16.0)\nRequirement already satisfied: cffi>=1.12 in /anaconda/envs/azureml_py310_sdkv2/lib/python3.10/site-packages (from cryptography->azureml-mlflow==1.52.0) (1.15.1)\nRequirement already satisfied: certifi>=2017.4.17 in /anaconda/envs/azureml_py310_sdkv2/lib/python3.10/site-packages (from msrest>=0.6.18->azureml-mlflow==1.52.0) (2022.12.7)\nRequirement already satisfied: requests-oauthlib>=0.5.0 in /anaconda/envs/azureml_py310_sdkv2/lib/python3.10/site-packages (from msrest>=0.6.18->azureml-mlflow==1.52.0) (1.3.1)\nRequirement already satisfied: isodate>=0.6.0 in /anaconda/envs/azureml_py310_sdkv2/lib/python3.10/site-packages (from msrest>=0.6.18->azureml-mlflow==1.52.0) (0.6.1)\nRequirement already satisfied: msal<2.0.0,>=1.20.0 in /anaconda/envs/azureml_py310_sdkv2/lib/python3.10/site-packages (from azure-identity->azureml-mlflow==1.52.0) (1.21.0)\nRequirement already satisfied: msal-extensions<2.0.0,>=0.3.0 in /anaconda/envs/azureml_py310_sdkv2/lib/python3.10/site-packages (from azure-identity->azureml-mlflow==1.52.0) (1.0.0)\nRequirement already satisfied: protobuf<5,>=3.12.0 in /anaconda/envs/azureml_py310_sdkv2/lib/python3.10/site-packages (from mlflow-skinny->azureml-mlflow==1.52.0) (3.20.3)\nRequirement already satisfied: entrypoints<1 in /anaconda/envs/azureml_py310_sdkv2/lib/python3.10/site-packages (from mlflow-skinny->azureml-mlflow==1.52.0) (0.4)\nRequirement already satisfied: click<9,>=7.0 in /anaconda/envs/azureml_py310_sdkv2/lib/python3.10/site-packages (from mlflow-skinny->azureml-mlflow==1.52.0) (8.0.4)\nRequirement already satisfied: databricks-cli<1,>=0.8.7 in /anaconda/envs/azureml_py310_sdkv2/lib/python3.10/site-packages (from mlflow-skinny->azureml-mlflow==1.52.0) (0.17.6)\nRequirement already satisfied: pytz<2023 in /anaconda/envs/azureml_py310_sdkv2/lib/python3.10/site-packages (from mlflow-skinny->azureml-mlflow==1.52.0) (2022.7.1)\nRequirement already satisfied: packaging<24 in /anaconda/envs/azureml_py310_sdkv2/lib/python3.10/site-packages (from mlflow-skinny->azureml-mlflow==1.52.0) (21.3)\nRequirement already satisfied: gitpython<4,>=2.1.0 in /anaconda/envs/azureml_py310_sdkv2/lib/python3.10/site-packages (from mlflow-skinny->azureml-mlflow==1.52.0) (3.1.31)\nRequirement already satisfied: sqlparse<1,>=0.4.0 in /anaconda/envs/azureml_py310_sdkv2/lib/python3.10/site-packages (from mlflow-skinny->azureml-mlflow==1.52.0) (0.4.3)\nRequirement already satisfied: importlib-metadata!=4.7.0,<7,>=3.7.0 in /anaconda/envs/azureml_py310_sdkv2/lib/python3.10/site-packages (from mlflow-skinny->azureml-mlflow==1.52.0) (6.1.0)\nRequirement already satisfied: cloudpickle<3 in /anaconda/envs/azureml_py310_sdkv2/lib/python3.10/site-packages (from mlflow-skinny->azureml-mlflow==1.52.0) (2.2.1)\nRequirement already satisfied: pyyaml<7,>=5.1 in /anaconda/envs/azureml_py310_sdkv2/lib/python3.10/site-packages (from mlflow-skinny->azureml-mlflow==1.52.0) (6.0)\nRequirement already satisfied: pycparser in /anaconda/envs/azureml_py310_sdkv2/lib/python3.10/site-packages (from cffi>=1.12->cryptography->azureml-mlflow==1.52.0) (2.21)\nRequirement already satisfied: oauthlib>=3.1.0 in /anaconda/envs/azureml_py310_sdkv2/lib/python3.10/site-packages (from databricks-cli<1,>=0.8.7->mlflow-skinny->azureml-mlflow==1.52.0) (3.2.2)\nRequirement already satisfied: pyjwt>=1.7.0 in /anaconda/envs/azureml_py310_sdkv2/lib/python3.10/site-packages (from databricks-cli<1,>=0.8.7->mlflow-skinny->azureml-mlflow==1.52.0) (2.6.0)\nRequirement already satisfied: tabulate>=0.7.7 in /anaconda/envs/azureml_py310_sdkv2/lib/python3.10/site-packages (from databricks-cli<1,>=0.8.7->mlflow-skinny->azureml-mlflow==1.52.0) (0.9.0)\nRequirement already satisfied: gitdb<5,>=4.0.1 in /anaconda/envs/azureml_py310_sdkv2/lib/python3.10/site-packages (from gitpython<4,>=2.1.0->mlflow-skinny->azureml-mlflow==1.52.0) (4.0.10)\nRequirement already satisfied: zipp>=0.5 in /anaconda/envs/azureml_py310_sdkv2/lib/python3.10/site-packages (from importlib-metadata!=4.7.0,<7,>=3.7.0->mlflow-skinny->azureml-mlflow==1.52.0) (3.15.0)\nRequirement already satisfied: portalocker<3,>=1.0 in /anaconda/envs/azureml_py310_sdkv2/lib/python3.10/site-packages (from msal-extensions<2.0.0,>=0.3.0->azure-identity->azureml-mlflow==1.52.0) (2.7.0)\nRequirement already satisfied: pyparsing!=3.0.5,>=2.0.2 in /anaconda/envs/azureml_py310_sdkv2/lib/python3.10/site-packages (from packaging<24->mlflow-skinny->azureml-mlflow==1.52.0) (3.0.9)\nRequirement already satisfied: charset-normalizer<4,>=2 in /anaconda/envs/azureml_py310_sdkv2/lib/python3.10/site-packages (from requests>=2.18.4->azure-core!=1.22.0,<2.0.0,>=1.8.0->azureml-mlflow==1.52.0) (3.1.0)\nRequirement already satisfied: idna<4,>=2.5 in /anaconda/envs/azureml_py310_sdkv2/lib/python3.10/site-packages (from requests>=2.18.4->azure-core!=1.22.0,<2.0.0,>=1.8.0->azureml-mlflow==1.52.0) (3.4)\nRequirement already satisfied: urllib3<1.27,>=1.21.1 in /anaconda/envs/azureml_py310_sdkv2/lib/python3.10/site-packages (from requests>=2.18.4->azure-core!=1.22.0,<2.0.0,>=1.8.0->azureml-mlflow==1.52.0) (1.26.15)\nRequirement already satisfied: smmap<6,>=3.0.1 in /anaconda/envs/azureml_py310_sdkv2/lib/python3.10/site-packages (from gitdb<5,>=4.0.1->gitpython<4,>=2.1.0->mlflow-skinny->azureml-mlflow==1.52.0) (5.0.0)\nNote: you may need to restart the kernel to use updated packages.\n"
        }
      ],
      "execution_count": 2,
      "metadata": {
        "jupyter": {
          "source_hidden": false,
          "outputs_hidden": false
        },
        "nteract": {
          "transient": {
            "deleting": false
          }
        }
      }
    },
    {
      "cell_type": "code",
      "source": [
        "%pip install --upgrade torch\r\n",
        "%pip install transformers[torch]\r\n",
        "%pip install --upgrade mlflow\r\n",
        "%pip install --upgrade transformers=49.2.0\r\n",
        "%pip install --upgrade datasets==2.9.0"
      ],
      "outputs": [
        {
          "output_type": "stream",
          "name": "stdout",
          "text": "Requirement already satisfied: torch in /anaconda/envs/azureml_py310_sdkv2/lib/python3.10/site-packages (2.0.1)\nRequirement already satisfied: nvidia-cublas-cu11==11.10.3.66 in /anaconda/envs/azureml_py310_sdkv2/lib/python3.10/site-packages (from torch) (11.10.3.66)\nRequirement already satisfied: nvidia-curand-cu11==10.2.10.91 in /anaconda/envs/azureml_py310_sdkv2/lib/python3.10/site-packages (from torch) (10.2.10.91)\nRequirement already satisfied: nvidia-nccl-cu11==2.14.3 in /anaconda/envs/azureml_py310_sdkv2/lib/python3.10/site-packages (from torch) (2.14.3)\nRequirement already satisfied: nvidia-cudnn-cu11==8.5.0.96 in /anaconda/envs/azureml_py310_sdkv2/lib/python3.10/site-packages (from torch) (8.5.0.96)\nRequirement already satisfied: jinja2 in /anaconda/envs/azureml_py310_sdkv2/lib/python3.10/site-packages (from torch) (3.1.2)\nRequirement already satisfied: filelock in /anaconda/envs/azureml_py310_sdkv2/lib/python3.10/site-packages (from torch) (3.11.0)\nRequirement already satisfied: nvidia-cuda-cupti-cu11==11.7.101 in /anaconda/envs/azureml_py310_sdkv2/lib/python3.10/site-packages (from torch) (11.7.101)\nRequirement already satisfied: sympy in /anaconda/envs/azureml_py310_sdkv2/lib/python3.10/site-packages (from torch) (1.12)\nRequirement already satisfied: nvidia-cuda-runtime-cu11==11.7.99 in /anaconda/envs/azureml_py310_sdkv2/lib/python3.10/site-packages (from torch) (11.7.99)\nRequirement already satisfied: nvidia-cusparse-cu11==11.7.4.91 in /anaconda/envs/azureml_py310_sdkv2/lib/python3.10/site-packages (from torch) (11.7.4.91)\nRequirement already satisfied: nvidia-cufft-cu11==10.9.0.58 in /anaconda/envs/azureml_py310_sdkv2/lib/python3.10/site-packages (from torch) (10.9.0.58)\nRequirement already satisfied: networkx in /anaconda/envs/azureml_py310_sdkv2/lib/python3.10/site-packages (from torch) (3.1)\nRequirement already satisfied: nvidia-nvtx-cu11==11.7.91 in /anaconda/envs/azureml_py310_sdkv2/lib/python3.10/site-packages (from torch) (11.7.91)\nRequirement already satisfied: triton==2.0.0 in /anaconda/envs/azureml_py310_sdkv2/lib/python3.10/site-packages (from torch) (2.0.0)\nRequirement already satisfied: nvidia-cusolver-cu11==11.4.0.1 in /anaconda/envs/azureml_py310_sdkv2/lib/python3.10/site-packages (from torch) (11.4.0.1)\nRequirement already satisfied: nvidia-cuda-nvrtc-cu11==11.7.99 in /anaconda/envs/azureml_py310_sdkv2/lib/python3.10/site-packages (from torch) (11.7.99)\nRequirement already satisfied: typing-extensions in /anaconda/envs/azureml_py310_sdkv2/lib/python3.10/site-packages (from torch) (4.5.0)\nRequirement already satisfied: setuptools in /anaconda/envs/azureml_py310_sdkv2/lib/python3.10/site-packages (from nvidia-cublas-cu11==11.10.3.66->torch) (65.6.3)\nRequirement already satisfied: wheel in /anaconda/envs/azureml_py310_sdkv2/lib/python3.10/site-packages (from nvidia-cublas-cu11==11.10.3.66->torch) (0.38.4)\nRequirement already satisfied: cmake in /anaconda/envs/azureml_py310_sdkv2/lib/python3.10/site-packages (from triton==2.0.0->torch) (3.26.4)\nRequirement already satisfied: lit in /anaconda/envs/azureml_py310_sdkv2/lib/python3.10/site-packages (from triton==2.0.0->torch) (16.0.6)\nRequirement already satisfied: MarkupSafe>=2.0 in /anaconda/envs/azureml_py310_sdkv2/lib/python3.10/site-packages (from jinja2->torch) (2.1.2)\nRequirement already satisfied: mpmath>=0.19 in /anaconda/envs/azureml_py310_sdkv2/lib/python3.10/site-packages (from sympy->torch) (1.3.0)\nNote: you may need to restart the kernel to use updated packages.\nRequirement already satisfied: transformers[torch] in /anaconda/envs/azureml_py310_sdkv2/lib/python3.10/site-packages (4.30.2)\nRequirement already satisfied: pyyaml>=5.1 in /anaconda/envs/azureml_py310_sdkv2/lib/python3.10/site-packages (from transformers[torch]) (6.0)\nRequirement already satisfied: tokenizers!=0.11.3,<0.14,>=0.11.1 in /anaconda/envs/azureml_py310_sdkv2/lib/python3.10/site-packages (from transformers[torch]) (0.13.3)\nRequirement already satisfied: regex!=2019.12.17 in /anaconda/envs/azureml_py310_sdkv2/lib/python3.10/site-packages (from transformers[torch]) (2023.6.3)\nRequirement already satisfied: safetensors>=0.3.1 in /anaconda/envs/azureml_py310_sdkv2/lib/python3.10/site-packages (from transformers[torch]) (0.3.1)\nRequirement already satisfied: requests in /anaconda/envs/azureml_py310_sdkv2/lib/python3.10/site-packages (from transformers[torch]) (2.28.2)\nRequirement already satisfied: filelock in /anaconda/envs/azureml_py310_sdkv2/lib/python3.10/site-packages (from transformers[torch]) (3.11.0)\nRequirement already satisfied: huggingface-hub<1.0,>=0.14.1 in /anaconda/envs/azureml_py310_sdkv2/lib/python3.10/site-packages (from transformers[torch]) (0.15.1)\nRequirement already satisfied: packaging>=20.0 in /anaconda/envs/azureml_py310_sdkv2/lib/python3.10/site-packages (from transformers[torch]) (21.3)\nRequirement already satisfied: tqdm>=4.27 in /anaconda/envs/azureml_py310_sdkv2/lib/python3.10/site-packages (from transformers[torch]) (4.65.0)\nRequirement already satisfied: numpy>=1.17 in /anaconda/envs/azureml_py310_sdkv2/lib/python3.10/site-packages (from transformers[torch]) (1.23.5)\nRequirement already satisfied: torch!=1.12.0,>=1.9 in /anaconda/envs/azureml_py310_sdkv2/lib/python3.10/site-packages (from transformers[torch]) (2.0.1)\nRequirement already satisfied: accelerate>=0.20.2 in /anaconda/envs/azureml_py310_sdkv2/lib/python3.10/site-packages (from transformers[torch]) (0.20.3)\nRequirement already satisfied: psutil in /anaconda/envs/azureml_py310_sdkv2/lib/python3.10/site-packages (from accelerate>=0.20.2->transformers[torch]) (5.9.0)\nRequirement already satisfied: typing-extensions>=3.7.4.3 in /anaconda/envs/azureml_py310_sdkv2/lib/python3.10/site-packages (from huggingface-hub<1.0,>=0.14.1->transformers[torch]) (4.5.0)\nRequirement already satisfied: fsspec in /anaconda/envs/azureml_py310_sdkv2/lib/python3.10/site-packages (from huggingface-hub<1.0,>=0.14.1->transformers[torch]) (2023.3.0)\nRequirement already satisfied: pyparsing!=3.0.5,>=2.0.2 in /anaconda/envs/azureml_py310_sdkv2/lib/python3.10/site-packages (from packaging>=20.0->transformers[torch]) (3.0.9)\nRequirement already satisfied: nvidia-cublas-cu11==11.10.3.66 in /anaconda/envs/azureml_py310_sdkv2/lib/python3.10/site-packages (from torch!=1.12.0,>=1.9->transformers[torch]) (11.10.3.66)\nRequirement already satisfied: nvidia-cusolver-cu11==11.4.0.1 in /anaconda/envs/azureml_py310_sdkv2/lib/python3.10/site-packages (from torch!=1.12.0,>=1.9->transformers[torch]) (11.4.0.1)\nRequirement already satisfied: nvidia-cuda-runtime-cu11==11.7.99 in /anaconda/envs/azureml_py310_sdkv2/lib/python3.10/site-packages (from torch!=1.12.0,>=1.9->transformers[torch]) (11.7.99)\nRequirement already satisfied: nvidia-nccl-cu11==2.14.3 in /anaconda/envs/azureml_py310_sdkv2/lib/python3.10/site-packages (from torch!=1.12.0,>=1.9->transformers[torch]) (2.14.3)\nRequirement already satisfied: nvidia-cuda-cupti-cu11==11.7.101 in /anaconda/envs/azureml_py310_sdkv2/lib/python3.10/site-packages (from torch!=1.12.0,>=1.9->transformers[torch]) (11.7.101)\nRequirement already satisfied: nvidia-curand-cu11==10.2.10.91 in /anaconda/envs/azureml_py310_sdkv2/lib/python3.10/site-packages (from torch!=1.12.0,>=1.9->transformers[torch]) (10.2.10.91)\nRequirement already satisfied: nvidia-cusparse-cu11==11.7.4.91 in /anaconda/envs/azureml_py310_sdkv2/lib/python3.10/site-packages (from torch!=1.12.0,>=1.9->transformers[torch]) (11.7.4.91)\nRequirement already satisfied: networkx in /anaconda/envs/azureml_py310_sdkv2/lib/python3.10/site-packages (from torch!=1.12.0,>=1.9->transformers[torch]) (3.1)\nRequirement already satisfied: jinja2 in /anaconda/envs/azureml_py310_sdkv2/lib/python3.10/site-packages (from torch!=1.12.0,>=1.9->transformers[torch]) (3.1.2)\nRequirement already satisfied: nvidia-cudnn-cu11==8.5.0.96 in /anaconda/envs/azureml_py310_sdkv2/lib/python3.10/site-packages (from torch!=1.12.0,>=1.9->transformers[torch]) (8.5.0.96)\nRequirement already satisfied: triton==2.0.0 in /anaconda/envs/azureml_py310_sdkv2/lib/python3.10/site-packages (from torch!=1.12.0,>=1.9->transformers[torch]) (2.0.0)\nRequirement already satisfied: nvidia-cuda-nvrtc-cu11==11.7.99 in /anaconda/envs/azureml_py310_sdkv2/lib/python3.10/site-packages (from torch!=1.12.0,>=1.9->transformers[torch]) (11.7.99)\nRequirement already satisfied: sympy in /anaconda/envs/azureml_py310_sdkv2/lib/python3.10/site-packages (from torch!=1.12.0,>=1.9->transformers[torch]) (1.12)\nRequirement already satisfied: nvidia-nvtx-cu11==11.7.91 in /anaconda/envs/azureml_py310_sdkv2/lib/python3.10/site-packages (from torch!=1.12.0,>=1.9->transformers[torch]) (11.7.91)\nRequirement already satisfied: nvidia-cufft-cu11==10.9.0.58 in /anaconda/envs/azureml_py310_sdkv2/lib/python3.10/site-packages (from torch!=1.12.0,>=1.9->transformers[torch]) (10.9.0.58)\nRequirement already satisfied: wheel in /anaconda/envs/azureml_py310_sdkv2/lib/python3.10/site-packages (from nvidia-cublas-cu11==11.10.3.66->torch!=1.12.0,>=1.9->transformers[torch]) (0.38.4)\nRequirement already satisfied: setuptools in /anaconda/envs/azureml_py310_sdkv2/lib/python3.10/site-packages (from nvidia-cublas-cu11==11.10.3.66->torch!=1.12.0,>=1.9->transformers[torch]) (65.6.3)\nRequirement already satisfied: cmake in /anaconda/envs/azureml_py310_sdkv2/lib/python3.10/site-packages (from triton==2.0.0->torch!=1.12.0,>=1.9->transformers[torch]) (3.26.4)\nRequirement already satisfied: lit in /anaconda/envs/azureml_py310_sdkv2/lib/python3.10/site-packages (from triton==2.0.0->torch!=1.12.0,>=1.9->transformers[torch]) (16.0.6)\nRequirement already satisfied: idna<4,>=2.5 in /anaconda/envs/azureml_py310_sdkv2/lib/python3.10/site-packages (from requests->transformers[torch]) (3.4)\nRequirement already satisfied: urllib3<1.27,>=1.21.1 in /anaconda/envs/azureml_py310_sdkv2/lib/python3.10/site-packages (from requests->transformers[torch]) (1.26.15)\nRequirement already satisfied: certifi>=2017.4.17 in /anaconda/envs/azureml_py310_sdkv2/lib/python3.10/site-packages (from requests->transformers[torch]) (2022.12.7)\nRequirement already satisfied: charset-normalizer<4,>=2 in /anaconda/envs/azureml_py310_sdkv2/lib/python3.10/site-packages (from requests->transformers[torch]) (3.1.0)\nRequirement already satisfied: MarkupSafe>=2.0 in /anaconda/envs/azureml_py310_sdkv2/lib/python3.10/site-packages (from jinja2->torch!=1.12.0,>=1.9->transformers[torch]) (2.1.2)\nRequirement already satisfied: mpmath>=0.19 in /anaconda/envs/azureml_py310_sdkv2/lib/python3.10/site-packages (from sympy->torch!=1.12.0,>=1.9->transformers[torch]) (1.3.0)\nNote: you may need to restart the kernel to use updated packages.\nRequirement already satisfied: mlflow in /anaconda/envs/azureml_py310_sdkv2/lib/python3.10/site-packages (2.4.2)\nRequirement already satisfied: alembic!=1.10.0,<2 in /anaconda/envs/azureml_py310_sdkv2/lib/python3.10/site-packages (from mlflow) (1.10.3)\nRequirement already satisfied: gunicorn<21 in /anaconda/envs/azureml_py310_sdkv2/lib/python3.10/site-packages (from mlflow) (20.1.0)\nRequirement already satisfied: pyyaml<7,>=5.1 in /anaconda/envs/azureml_py310_sdkv2/lib/python3.10/site-packages (from mlflow) (6.0)\nRequirement already satisfied: docker<7,>=4.0.0 in /anaconda/envs/azureml_py310_sdkv2/lib/python3.10/site-packages (from mlflow) (6.0.1)\nRequirement already satisfied: Flask<3 in /anaconda/envs/azureml_py310_sdkv2/lib/python3.10/site-packages (from mlflow) (2.2.3)\nRequirement already satisfied: Jinja2<4,>=2.11 in /anaconda/envs/azureml_py310_sdkv2/lib/python3.10/site-packages (from mlflow) (3.1.2)\nRequirement already satisfied: requests<3,>=2.17.3 in /anaconda/envs/azureml_py310_sdkv2/lib/python3.10/site-packages (from mlflow) (2.28.2)\nRequirement already satisfied: gitpython<4,>=2.1.0 in /anaconda/envs/azureml_py310_sdkv2/lib/python3.10/site-packages (from mlflow) (3.1.31)\nRequirement already satisfied: cloudpickle<3 in /anaconda/envs/azureml_py310_sdkv2/lib/python3.10/site-packages (from mlflow) (2.2.1)\nRequirement already satisfied: packaging<24 in /anaconda/envs/azureml_py310_sdkv2/lib/python3.10/site-packages (from mlflow) (21.3)\nRequirement already satisfied: protobuf<5,>=3.12.0 in /anaconda/envs/azureml_py310_sdkv2/lib/python3.10/site-packages (from mlflow) (3.20.3)\nRequirement already satisfied: pyarrow<13,>=4.0.0 in /anaconda/envs/azureml_py310_sdkv2/lib/python3.10/site-packages (from mlflow) (11.0.0)\nRequirement already satisfied: scikit-learn<2 in /anaconda/envs/azureml_py310_sdkv2/lib/python3.10/site-packages (from mlflow) (1.2.2)\nRequirement already satisfied: numpy<2 in /anaconda/envs/azureml_py310_sdkv2/lib/python3.10/site-packages (from mlflow) (1.23.5)\nRequirement already satisfied: sqlparse<1,>=0.4.0 in /anaconda/envs/azureml_py310_sdkv2/lib/python3.10/site-packages (from mlflow) (0.4.3)\nRequirement already satisfied: sqlalchemy<3,>=1.4.0 in /anaconda/envs/azureml_py310_sdkv2/lib/python3.10/site-packages (from mlflow) (2.0.9)\nRequirement already satisfied: pytz<2024 in /anaconda/envs/azureml_py310_sdkv2/lib/python3.10/site-packages (from mlflow) (2022.7.1)\nRequirement already satisfied: entrypoints<1 in /anaconda/envs/azureml_py310_sdkv2/lib/python3.10/site-packages (from mlflow) (0.4)\nRequirement already satisfied: matplotlib<4 in /anaconda/envs/azureml_py310_sdkv2/lib/python3.10/site-packages (from mlflow) (3.7.1)\nRequirement already satisfied: databricks-cli<1,>=0.8.7 in /anaconda/envs/azureml_py310_sdkv2/lib/python3.10/site-packages (from mlflow) (0.17.6)\nRequirement already satisfied: click<9,>=7.0 in /anaconda/envs/azureml_py310_sdkv2/lib/python3.10/site-packages (from mlflow) (8.0.4)\nRequirement already satisfied: importlib-metadata!=4.7.0,<7,>=3.7.0 in /anaconda/envs/azureml_py310_sdkv2/lib/python3.10/site-packages (from mlflow) (6.1.0)\nRequirement already satisfied: scipy<2 in /anaconda/envs/azureml_py310_sdkv2/lib/python3.10/site-packages (from mlflow) (1.10.1)\nRequirement already satisfied: markdown<4,>=3.3 in /anaconda/envs/azureml_py310_sdkv2/lib/python3.10/site-packages (from mlflow) (3.4.3)\nRequirement already satisfied: pandas<3 in /anaconda/envs/azureml_py310_sdkv2/lib/python3.10/site-packages (from mlflow) (2.0.0)\nRequirement already satisfied: querystring-parser<2 in /anaconda/envs/azureml_py310_sdkv2/lib/python3.10/site-packages (from mlflow) (1.2.4)\nRequirement already satisfied: typing-extensions>=4 in /anaconda/envs/azureml_py310_sdkv2/lib/python3.10/site-packages (from alembic!=1.10.0,<2->mlflow) (4.5.0)\nRequirement already satisfied: Mako in /anaconda/envs/azureml_py310_sdkv2/lib/python3.10/site-packages (from alembic!=1.10.0,<2->mlflow) (1.2.4)\nRequirement already satisfied: tabulate>=0.7.7 in /anaconda/envs/azureml_py310_sdkv2/lib/python3.10/site-packages (from databricks-cli<1,>=0.8.7->mlflow) (0.9.0)\nRequirement already satisfied: six>=1.10.0 in /anaconda/envs/azureml_py310_sdkv2/lib/python3.10/site-packages (from databricks-cli<1,>=0.8.7->mlflow) (1.16.0)\nRequirement already satisfied: pyjwt>=1.7.0 in /anaconda/envs/azureml_py310_sdkv2/lib/python3.10/site-packages (from databricks-cli<1,>=0.8.7->mlflow) (2.6.0)\nRequirement already satisfied: oauthlib>=3.1.0 in /anaconda/envs/azureml_py310_sdkv2/lib/python3.10/site-packages (from databricks-cli<1,>=0.8.7->mlflow) (3.2.2)\nRequirement already satisfied: urllib3>=1.26.0 in /anaconda/envs/azureml_py310_sdkv2/lib/python3.10/site-packages (from docker<7,>=4.0.0->mlflow) (1.26.15)\nRequirement already satisfied: websocket-client>=0.32.0 in /anaconda/envs/azureml_py310_sdkv2/lib/python3.10/site-packages (from docker<7,>=4.0.0->mlflow) (1.5.1)\nRequirement already satisfied: itsdangerous>=2.0 in /anaconda/envs/azureml_py310_sdkv2/lib/python3.10/site-packages (from Flask<3->mlflow) (2.1.2)\nRequirement already satisfied: Werkzeug>=2.2.2 in /anaconda/envs/azureml_py310_sdkv2/lib/python3.10/site-packages (from Flask<3->mlflow) (2.2.3)\nRequirement already satisfied: gitdb<5,>=4.0.1 in /anaconda/envs/azureml_py310_sdkv2/lib/python3.10/site-packages (from gitpython<4,>=2.1.0->mlflow) (4.0.10)\nRequirement already satisfied: setuptools>=3.0 in /anaconda/envs/azureml_py310_sdkv2/lib/python3.10/site-packages (from gunicorn<21->mlflow) (65.6.3)\nRequirement already satisfied: zipp>=0.5 in /anaconda/envs/azureml_py310_sdkv2/lib/python3.10/site-packages (from importlib-metadata!=4.7.0,<7,>=3.7.0->mlflow) (3.15.0)\nRequirement already satisfied: MarkupSafe>=2.0 in /anaconda/envs/azureml_py310_sdkv2/lib/python3.10/site-packages (from Jinja2<4,>=2.11->mlflow) (2.1.2)\nRequirement already satisfied: pillow>=6.2.0 in /anaconda/envs/azureml_py310_sdkv2/lib/python3.10/site-packages (from matplotlib<4->mlflow) (9.5.0)\nRequirement already satisfied: cycler>=0.10 in /anaconda/envs/azureml_py310_sdkv2/lib/python3.10/site-packages (from matplotlib<4->mlflow) (0.11.0)\nRequirement already satisfied: kiwisolver>=1.0.1 in /anaconda/envs/azureml_py310_sdkv2/lib/python3.10/site-packages (from matplotlib<4->mlflow) (1.4.4)\nRequirement already satisfied: pyparsing>=2.3.1 in /anaconda/envs/azureml_py310_sdkv2/lib/python3.10/site-packages (from matplotlib<4->mlflow) (3.0.9)\nRequirement already satisfied: fonttools>=4.22.0 in /anaconda/envs/azureml_py310_sdkv2/lib/python3.10/site-packages (from matplotlib<4->mlflow) (4.39.3)\nRequirement already satisfied: contourpy>=1.0.1 in /anaconda/envs/azureml_py310_sdkv2/lib/python3.10/site-packages (from matplotlib<4->mlflow) (1.0.7)\nRequirement already satisfied: python-dateutil>=2.7 in /anaconda/envs/azureml_py310_sdkv2/lib/python3.10/site-packages (from matplotlib<4->mlflow) (2.8.2)\nRequirement already satisfied: tzdata>=2022.1 in /anaconda/envs/azureml_py310_sdkv2/lib/python3.10/site-packages (from pandas<3->mlflow) (2023.3)\nRequirement already satisfied: charset-normalizer<4,>=2 in /anaconda/envs/azureml_py310_sdkv2/lib/python3.10/site-packages (from requests<3,>=2.17.3->mlflow) (3.1.0)\nRequirement already satisfied: idna<4,>=2.5 in /anaconda/envs/azureml_py310_sdkv2/lib/python3.10/site-packages (from requests<3,>=2.17.3->mlflow) (3.4)\nRequirement already satisfied: certifi>=2017.4.17 in /anaconda/envs/azureml_py310_sdkv2/lib/python3.10/site-packages (from requests<3,>=2.17.3->mlflow) (2022.12.7)\nRequirement already satisfied: joblib>=1.1.1 in /anaconda/envs/azureml_py310_sdkv2/lib/python3.10/site-packages (from scikit-learn<2->mlflow) (1.2.0)\nRequirement already satisfied: threadpoolctl>=2.0.0 in /anaconda/envs/azureml_py310_sdkv2/lib/python3.10/site-packages (from scikit-learn<2->mlflow) (3.1.0)\nRequirement already satisfied: greenlet!=0.4.17 in /anaconda/envs/azureml_py310_sdkv2/lib/python3.10/site-packages (from sqlalchemy<3,>=1.4.0->mlflow) (2.0.2)\nRequirement already satisfied: smmap<6,>=3.0.1 in /anaconda/envs/azureml_py310_sdkv2/lib/python3.10/site-packages (from gitdb<5,>=4.0.1->gitpython<4,>=2.1.0->mlflow) (5.0.0)\nNote: you may need to restart the kernel to use updated packages.\n\u001b[31mERROR: Invalid requirement: 'transformers=49.2.0'\nHint: = is not a valid operator. Did you mean == ?\u001b[0m\u001b[31m\n\u001b[0mNote: you may need to restart the kernel to use updated packages.\nRequirement already satisfied: datasets==2.9.0 in /anaconda/envs/azureml_py310_sdkv2/lib/python3.10/site-packages (2.9.0)\nRequirement already satisfied: requests>=2.19.0 in /anaconda/envs/azureml_py310_sdkv2/lib/python3.10/site-packages (from datasets==2.9.0) (2.28.2)\nRequirement already satisfied: pyarrow>=6.0.0 in /anaconda/envs/azureml_py310_sdkv2/lib/python3.10/site-packages (from datasets==2.9.0) (11.0.0)\nRequirement already satisfied: pyyaml>=5.1 in /anaconda/envs/azureml_py310_sdkv2/lib/python3.10/site-packages (from datasets==2.9.0) (6.0)\nRequirement already satisfied: tqdm>=4.62.1 in /anaconda/envs/azureml_py310_sdkv2/lib/python3.10/site-packages (from datasets==2.9.0) (4.65.0)\nRequirement already satisfied: pandas in /anaconda/envs/azureml_py310_sdkv2/lib/python3.10/site-packages (from datasets==2.9.0) (2.0.0)\nRequirement already satisfied: fsspec[http]>=2021.11.1 in /anaconda/envs/azureml_py310_sdkv2/lib/python3.10/site-packages (from datasets==2.9.0) (2023.3.0)\nRequirement already satisfied: responses<0.19 in /anaconda/envs/azureml_py310_sdkv2/lib/python3.10/site-packages (from datasets==2.9.0) (0.18.0)\nRequirement already satisfied: huggingface-hub<1.0.0,>=0.2.0 in /anaconda/envs/azureml_py310_sdkv2/lib/python3.10/site-packages (from datasets==2.9.0) (0.15.1)\nRequirement already satisfied: aiohttp in /anaconda/envs/azureml_py310_sdkv2/lib/python3.10/site-packages (from datasets==2.9.0) (3.8.4)\nRequirement already satisfied: multiprocess in /anaconda/envs/azureml_py310_sdkv2/lib/python3.10/site-packages (from datasets==2.9.0) (0.70.14)\nRequirement already satisfied: numpy>=1.17 in /anaconda/envs/azureml_py310_sdkv2/lib/python3.10/site-packages (from datasets==2.9.0) (1.23.5)\nRequirement already satisfied: xxhash in /anaconda/envs/azureml_py310_sdkv2/lib/python3.10/site-packages (from datasets==2.9.0) (3.2.0)\nRequirement already satisfied: dill<0.3.7 in /anaconda/envs/azureml_py310_sdkv2/lib/python3.10/site-packages (from datasets==2.9.0) (0.3.6)\nRequirement already satisfied: packaging in /anaconda/envs/azureml_py310_sdkv2/lib/python3.10/site-packages (from datasets==2.9.0) (21.3)\nRequirement already satisfied: yarl<2.0,>=1.0 in /anaconda/envs/azureml_py310_sdkv2/lib/python3.10/site-packages (from aiohttp->datasets==2.9.0) (1.9.2)\nRequirement already satisfied: multidict<7.0,>=4.5 in /anaconda/envs/azureml_py310_sdkv2/lib/python3.10/site-packages (from aiohttp->datasets==2.9.0) (6.0.4)\nRequirement already satisfied: frozenlist>=1.1.1 in /anaconda/envs/azureml_py310_sdkv2/lib/python3.10/site-packages (from aiohttp->datasets==2.9.0) (1.3.3)\nRequirement already satisfied: charset-normalizer<4.0,>=2.0 in /anaconda/envs/azureml_py310_sdkv2/lib/python3.10/site-packages (from aiohttp->datasets==2.9.0) (3.1.0)\nRequirement already satisfied: attrs>=17.3.0 in /anaconda/envs/azureml_py310_sdkv2/lib/python3.10/site-packages (from aiohttp->datasets==2.9.0) (22.2.0)\nRequirement already satisfied: aiosignal>=1.1.2 in /anaconda/envs/azureml_py310_sdkv2/lib/python3.10/site-packages (from aiohttp->datasets==2.9.0) (1.3.1)\nRequirement already satisfied: async-timeout<5.0,>=4.0.0a3 in /anaconda/envs/azureml_py310_sdkv2/lib/python3.10/site-packages (from aiohttp->datasets==2.9.0) (4.0.2)\nRequirement already satisfied: filelock in /anaconda/envs/azureml_py310_sdkv2/lib/python3.10/site-packages (from huggingface-hub<1.0.0,>=0.2.0->datasets==2.9.0) (3.11.0)\nRequirement already satisfied: typing-extensions>=3.7.4.3 in /anaconda/envs/azureml_py310_sdkv2/lib/python3.10/site-packages (from huggingface-hub<1.0.0,>=0.2.0->datasets==2.9.0) (4.5.0)\nRequirement already satisfied: pyparsing!=3.0.5,>=2.0.2 in /anaconda/envs/azureml_py310_sdkv2/lib/python3.10/site-packages (from packaging->datasets==2.9.0) (3.0.9)\nRequirement already satisfied: idna<4,>=2.5 in /anaconda/envs/azureml_py310_sdkv2/lib/python3.10/site-packages (from requests>=2.19.0->datasets==2.9.0) (3.4)\nRequirement already satisfied: urllib3<1.27,>=1.21.1 in /anaconda/envs/azureml_py310_sdkv2/lib/python3.10/site-packages (from requests>=2.19.0->datasets==2.9.0) (1.26.15)\nRequirement already satisfied: certifi>=2017.4.17 in /anaconda/envs/azureml_py310_sdkv2/lib/python3.10/site-packages (from requests>=2.19.0->datasets==2.9.0) (2022.12.7)\nRequirement already satisfied: pytz>=2020.1 in /anaconda/envs/azureml_py310_sdkv2/lib/python3.10/site-packages (from pandas->datasets==2.9.0) (2022.7.1)\nRequirement already satisfied: python-dateutil>=2.8.2 in /anaconda/envs/azureml_py310_sdkv2/lib/python3.10/site-packages (from pandas->datasets==2.9.0) (2.8.2)\nRequirement already satisfied: tzdata>=2022.1 in /anaconda/envs/azureml_py310_sdkv2/lib/python3.10/site-packages (from pandas->datasets==2.9.0) (2023.3)\nRequirement already satisfied: six>=1.5 in /anaconda/envs/azureml_py310_sdkv2/lib/python3.10/site-packages (from python-dateutil>=2.8.2->pandas->datasets==2.9.0) (1.16.0)\nNote: you may need to restart the kernel to use updated packages.\n"
        }
      ],
      "execution_count": 3,
      "metadata": {}
    },
    {
      "cell_type": "code",
      "source": [
        "%pip install evaluate"
      ],
      "outputs": [
        {
          "output_type": "stream",
          "name": "stdout",
          "text": "Requirement already satisfied: evaluate in /anaconda/envs/azureml_py310_sdkv2/lib/python3.10/site-packages (0.4.0)\nRequirement already satisfied: multiprocess in /anaconda/envs/azureml_py310_sdkv2/lib/python3.10/site-packages (from evaluate) (0.70.14)\nRequirement already satisfied: numpy>=1.17 in /anaconda/envs/azureml_py310_sdkv2/lib/python3.10/site-packages (from evaluate) (1.23.5)\nRequirement already satisfied: xxhash in /anaconda/envs/azureml_py310_sdkv2/lib/python3.10/site-packages (from evaluate) (3.2.0)\nRequirement already satisfied: tqdm>=4.62.1 in /anaconda/envs/azureml_py310_sdkv2/lib/python3.10/site-packages (from evaluate) (4.65.0)\nRequirement already satisfied: pandas in /anaconda/envs/azureml_py310_sdkv2/lib/python3.10/site-packages (from evaluate) (2.0.0)\nRequirement already satisfied: huggingface-hub>=0.7.0 in /anaconda/envs/azureml_py310_sdkv2/lib/python3.10/site-packages (from evaluate) (0.15.1)\nRequirement already satisfied: fsspec[http]>=2021.05.0 in /anaconda/envs/azureml_py310_sdkv2/lib/python3.10/site-packages (from evaluate) (2023.3.0)\nRequirement already satisfied: responses<0.19 in /anaconda/envs/azureml_py310_sdkv2/lib/python3.10/site-packages (from evaluate) (0.18.0)\nRequirement already satisfied: datasets>=2.0.0 in /anaconda/envs/azureml_py310_sdkv2/lib/python3.10/site-packages (from evaluate) (2.9.0)\nRequirement already satisfied: requests>=2.19.0 in /anaconda/envs/azureml_py310_sdkv2/lib/python3.10/site-packages (from evaluate) (2.28.2)\nRequirement already satisfied: packaging in /anaconda/envs/azureml_py310_sdkv2/lib/python3.10/site-packages (from evaluate) (21.3)\nRequirement already satisfied: dill in /anaconda/envs/azureml_py310_sdkv2/lib/python3.10/site-packages (from evaluate) (0.3.6)\nRequirement already satisfied: pyarrow>=6.0.0 in /anaconda/envs/azureml_py310_sdkv2/lib/python3.10/site-packages (from datasets>=2.0.0->evaluate) (11.0.0)\nRequirement already satisfied: aiohttp in /anaconda/envs/azureml_py310_sdkv2/lib/python3.10/site-packages (from datasets>=2.0.0->evaluate) (3.8.4)\nRequirement already satisfied: pyyaml>=5.1 in /anaconda/envs/azureml_py310_sdkv2/lib/python3.10/site-packages (from datasets>=2.0.0->evaluate) (6.0)\nRequirement already satisfied: filelock in /anaconda/envs/azureml_py310_sdkv2/lib/python3.10/site-packages (from huggingface-hub>=0.7.0->evaluate) (3.11.0)\nRequirement already satisfied: typing-extensions>=3.7.4.3 in /anaconda/envs/azureml_py310_sdkv2/lib/python3.10/site-packages (from huggingface-hub>=0.7.0->evaluate) (4.5.0)\nRequirement already satisfied: pyparsing!=3.0.5,>=2.0.2 in /anaconda/envs/azureml_py310_sdkv2/lib/python3.10/site-packages (from packaging->evaluate) (3.0.9)\nRequirement already satisfied: idna<4,>=2.5 in /anaconda/envs/azureml_py310_sdkv2/lib/python3.10/site-packages (from requests>=2.19.0->evaluate) (3.4)\nRequirement already satisfied: urllib3<1.27,>=1.21.1 in /anaconda/envs/azureml_py310_sdkv2/lib/python3.10/site-packages (from requests>=2.19.0->evaluate) (1.26.15)\nRequirement already satisfied: certifi>=2017.4.17 in /anaconda/envs/azureml_py310_sdkv2/lib/python3.10/site-packages (from requests>=2.19.0->evaluate) (2022.12.7)\nRequirement already satisfied: charset-normalizer<4,>=2 in /anaconda/envs/azureml_py310_sdkv2/lib/python3.10/site-packages (from requests>=2.19.0->evaluate) (3.1.0)\nRequirement already satisfied: tzdata>=2022.1 in /anaconda/envs/azureml_py310_sdkv2/lib/python3.10/site-packages (from pandas->evaluate) (2023.3)\nRequirement already satisfied: python-dateutil>=2.8.2 in /anaconda/envs/azureml_py310_sdkv2/lib/python3.10/site-packages (from pandas->evaluate) (2.8.2)\nRequirement already satisfied: pytz>=2020.1 in /anaconda/envs/azureml_py310_sdkv2/lib/python3.10/site-packages (from pandas->evaluate) (2022.7.1)\nRequirement already satisfied: async-timeout<5.0,>=4.0.0a3 in /anaconda/envs/azureml_py310_sdkv2/lib/python3.10/site-packages (from aiohttp->datasets>=2.0.0->evaluate) (4.0.2)\nRequirement already satisfied: multidict<7.0,>=4.5 in /anaconda/envs/azureml_py310_sdkv2/lib/python3.10/site-packages (from aiohttp->datasets>=2.0.0->evaluate) (6.0.4)\nRequirement already satisfied: frozenlist>=1.1.1 in /anaconda/envs/azureml_py310_sdkv2/lib/python3.10/site-packages (from aiohttp->datasets>=2.0.0->evaluate) (1.3.3)\nRequirement already satisfied: attrs>=17.3.0 in /anaconda/envs/azureml_py310_sdkv2/lib/python3.10/site-packages (from aiohttp->datasets>=2.0.0->evaluate) (22.2.0)\nRequirement already satisfied: yarl<2.0,>=1.0 in /anaconda/envs/azureml_py310_sdkv2/lib/python3.10/site-packages (from aiohttp->datasets>=2.0.0->evaluate) (1.9.2)\nRequirement already satisfied: aiosignal>=1.1.2 in /anaconda/envs/azureml_py310_sdkv2/lib/python3.10/site-packages (from aiohttp->datasets>=2.0.0->evaluate) (1.3.1)\nRequirement already satisfied: six>=1.5 in /anaconda/envs/azureml_py310_sdkv2/lib/python3.10/site-packages (from python-dateutil>=2.8.2->pandas->evaluate) (1.16.0)\nNote: you may need to restart the kernel to use updated packages.\n"
        }
      ],
      "execution_count": 4,
      "metadata": {
        "jupyter": {
          "source_hidden": false,
          "outputs_hidden": false
        },
        "nteract": {
          "transient": {
            "deleting": false
          }
        }
      }
    },
    {
      "cell_type": "code",
      "source": [
        "%pip install mlflow azureml-mlflow"
      ],
      "outputs": [
        {
          "output_type": "stream",
          "name": "stdout",
          "text": "Requirement already satisfied: mlflow in /anaconda/envs/azureml_py310_sdkv2/lib/python3.10/site-packages (2.4.2)\nRequirement already satisfied: azureml-mlflow in /anaconda/envs/azureml_py310_sdkv2/lib/python3.10/site-packages (1.52.0)\nRequirement already satisfied: click<9,>=7.0 in /anaconda/envs/azureml_py310_sdkv2/lib/python3.10/site-packages (from mlflow) (8.0.4)\nRequirement already satisfied: packaging<24 in /anaconda/envs/azureml_py310_sdkv2/lib/python3.10/site-packages (from mlflow) (21.3)\nRequirement already satisfied: markdown<4,>=3.3 in /anaconda/envs/azureml_py310_sdkv2/lib/python3.10/site-packages (from mlflow) (3.4.3)\nRequirement already satisfied: alembic!=1.10.0,<2 in /anaconda/envs/azureml_py310_sdkv2/lib/python3.10/site-packages (from mlflow) (1.10.3)\nRequirement already satisfied: pyarrow<13,>=4.0.0 in /anaconda/envs/azureml_py310_sdkv2/lib/python3.10/site-packages (from mlflow) (11.0.0)\nRequirement already satisfied: pytz<2024 in /anaconda/envs/azureml_py310_sdkv2/lib/python3.10/site-packages (from mlflow) (2022.7.1)\nRequirement already satisfied: scikit-learn<2 in /anaconda/envs/azureml_py310_sdkv2/lib/python3.10/site-packages (from mlflow) (1.2.2)\nRequirement already satisfied: Jinja2<4,>=2.11 in /anaconda/envs/azureml_py310_sdkv2/lib/python3.10/site-packages (from mlflow) (3.1.2)\nRequirement already satisfied: requests<3,>=2.17.3 in /anaconda/envs/azureml_py310_sdkv2/lib/python3.10/site-packages (from mlflow) (2.28.2)\nRequirement already satisfied: matplotlib<4 in /anaconda/envs/azureml_py310_sdkv2/lib/python3.10/site-packages (from mlflow) (3.7.1)\nRequirement already satisfied: sqlalchemy<3,>=1.4.0 in /anaconda/envs/azureml_py310_sdkv2/lib/python3.10/site-packages (from mlflow) (2.0.9)\nRequirement already satisfied: gitpython<4,>=2.1.0 in /anaconda/envs/azureml_py310_sdkv2/lib/python3.10/site-packages (from mlflow) (3.1.31)\nRequirement already satisfied: Flask<3 in /anaconda/envs/azureml_py310_sdkv2/lib/python3.10/site-packages (from mlflow) (2.2.3)\nRequirement already satisfied: querystring-parser<2 in /anaconda/envs/azureml_py310_sdkv2/lib/python3.10/site-packages (from mlflow) (1.2.4)\nRequirement already satisfied: pyyaml<7,>=5.1 in /anaconda/envs/azureml_py310_sdkv2/lib/python3.10/site-packages (from mlflow) (6.0)\nRequirement already satisfied: scipy<2 in /anaconda/envs/azureml_py310_sdkv2/lib/python3.10/site-packages (from mlflow) (1.10.1)\nRequirement already satisfied: docker<7,>=4.0.0 in /anaconda/envs/azureml_py310_sdkv2/lib/python3.10/site-packages (from mlflow) (6.0.1)\nRequirement already satisfied: pandas<3 in /anaconda/envs/azureml_py310_sdkv2/lib/python3.10/site-packages (from mlflow) (2.0.0)\nRequirement already satisfied: entrypoints<1 in /anaconda/envs/azureml_py310_sdkv2/lib/python3.10/site-packages (from mlflow) (0.4)\nRequirement already satisfied: databricks-cli<1,>=0.8.7 in /anaconda/envs/azureml_py310_sdkv2/lib/python3.10/site-packages (from mlflow) (0.17.6)\nRequirement already satisfied: cloudpickle<3 in /anaconda/envs/azureml_py310_sdkv2/lib/python3.10/site-packages (from mlflow) (2.2.1)\nRequirement already satisfied: numpy<2 in /anaconda/envs/azureml_py310_sdkv2/lib/python3.10/site-packages (from mlflow) (1.23.5)\nRequirement already satisfied: protobuf<5,>=3.12.0 in /anaconda/envs/azureml_py310_sdkv2/lib/python3.10/site-packages (from mlflow) (3.20.3)\nRequirement already satisfied: importlib-metadata!=4.7.0,<7,>=3.7.0 in /anaconda/envs/azureml_py310_sdkv2/lib/python3.10/site-packages (from mlflow) (6.1.0)\nRequirement already satisfied: gunicorn<21 in /anaconda/envs/azureml_py310_sdkv2/lib/python3.10/site-packages (from mlflow) (20.1.0)\nRequirement already satisfied: sqlparse<1,>=0.4.0 in /anaconda/envs/azureml_py310_sdkv2/lib/python3.10/site-packages (from mlflow) (0.4.3)\nRequirement already satisfied: python-dateutil<3.0.0,>=2.7.3 in /anaconda/envs/azureml_py310_sdkv2/lib/python3.10/site-packages (from azureml-mlflow) (2.8.2)\nRequirement already satisfied: mlflow-skinny in /anaconda/envs/azureml_py310_sdkv2/lib/python3.10/site-packages (from azureml-mlflow) (2.2.2)\nRequirement already satisfied: azure-mgmt-core<2.0.0,>=1.2.0 in /anaconda/envs/azureml_py310_sdkv2/lib/python3.10/site-packages (from azureml-mlflow) (1.4.0)\nRequirement already satisfied: cryptography in /anaconda/envs/azureml_py310_sdkv2/lib/python3.10/site-packages (from azureml-mlflow) (40.0.1)\nRequirement already satisfied: azure-core!=1.22.0,<2.0.0,>=1.8.0 in /anaconda/envs/azureml_py310_sdkv2/lib/python3.10/site-packages (from azureml-mlflow) (1.26.4)\nRequirement already satisfied: azure-identity in /anaconda/envs/azureml_py310_sdkv2/lib/python3.10/site-packages (from azureml-mlflow) (1.13.0)\nRequirement already satisfied: azure-common<2.0.0,>=1.1 in /anaconda/envs/azureml_py310_sdkv2/lib/python3.10/site-packages (from azureml-mlflow) (1.1.28)\nRequirement already satisfied: jsonpickle in /anaconda/envs/azureml_py310_sdkv2/lib/python3.10/site-packages (from azureml-mlflow) (2.2.0)\nRequirement already satisfied: msrest>=0.6.18 in /anaconda/envs/azureml_py310_sdkv2/lib/python3.10/site-packages (from azureml-mlflow) (0.7.1)\nRequirement already satisfied: azure-storage-blob<=12.13.0,>=12.5.0 in /anaconda/envs/azureml_py310_sdkv2/lib/python3.10/site-packages (from azureml-mlflow) (12.13.0)\nRequirement already satisfied: Mako in /anaconda/envs/azureml_py310_sdkv2/lib/python3.10/site-packages (from alembic!=1.10.0,<2->mlflow) (1.2.4)\nRequirement already satisfied: typing-extensions>=4 in /anaconda/envs/azureml_py310_sdkv2/lib/python3.10/site-packages (from alembic!=1.10.0,<2->mlflow) (4.5.0)\nRequirement already satisfied: six>=1.11.0 in /anaconda/envs/azureml_py310_sdkv2/lib/python3.10/site-packages (from azure-core!=1.22.0,<2.0.0,>=1.8.0->azureml-mlflow) (1.16.0)\nRequirement already satisfied: cffi>=1.12 in /anaconda/envs/azureml_py310_sdkv2/lib/python3.10/site-packages (from cryptography->azureml-mlflow) (1.15.1)\nRequirement already satisfied: tabulate>=0.7.7 in /anaconda/envs/azureml_py310_sdkv2/lib/python3.10/site-packages (from databricks-cli<1,>=0.8.7->mlflow) (0.9.0)\nRequirement already satisfied: pyjwt>=1.7.0 in /anaconda/envs/azureml_py310_sdkv2/lib/python3.10/site-packages (from databricks-cli<1,>=0.8.7->mlflow) (2.6.0)\nRequirement already satisfied: oauthlib>=3.1.0 in /anaconda/envs/azureml_py310_sdkv2/lib/python3.10/site-packages (from databricks-cli<1,>=0.8.7->mlflow) (3.2.2)\nRequirement already satisfied: websocket-client>=0.32.0 in /anaconda/envs/azureml_py310_sdkv2/lib/python3.10/site-packages (from docker<7,>=4.0.0->mlflow) (1.5.1)\nRequirement already satisfied: urllib3>=1.26.0 in /anaconda/envs/azureml_py310_sdkv2/lib/python3.10/site-packages (from docker<7,>=4.0.0->mlflow) (1.26.15)\nRequirement already satisfied: itsdangerous>=2.0 in /anaconda/envs/azureml_py310_sdkv2/lib/python3.10/site-packages (from Flask<3->mlflow) (2.1.2)\nRequirement already satisfied: Werkzeug>=2.2.2 in /anaconda/envs/azureml_py310_sdkv2/lib/python3.10/site-packages (from Flask<3->mlflow) (2.2.3)\nRequirement already satisfied: gitdb<5,>=4.0.1 in /anaconda/envs/azureml_py310_sdkv2/lib/python3.10/site-packages (from gitpython<4,>=2.1.0->mlflow) (4.0.10)\nRequirement already satisfied: setuptools>=3.0 in /anaconda/envs/azureml_py310_sdkv2/lib/python3.10/site-packages (from gunicorn<21->mlflow) (65.6.3)\nRequirement already satisfied: zipp>=0.5 in /anaconda/envs/azureml_py310_sdkv2/lib/python3.10/site-packages (from importlib-metadata!=4.7.0,<7,>=3.7.0->mlflow) (3.15.0)\nRequirement already satisfied: MarkupSafe>=2.0 in /anaconda/envs/azureml_py310_sdkv2/lib/python3.10/site-packages (from Jinja2<4,>=2.11->mlflow) (2.1.2)\nRequirement already satisfied: pyparsing>=2.3.1 in /anaconda/envs/azureml_py310_sdkv2/lib/python3.10/site-packages (from matplotlib<4->mlflow) (3.0.9)\nRequirement already satisfied: contourpy>=1.0.1 in /anaconda/envs/azureml_py310_sdkv2/lib/python3.10/site-packages (from matplotlib<4->mlflow) (1.0.7)\nRequirement already satisfied: pillow>=6.2.0 in /anaconda/envs/azureml_py310_sdkv2/lib/python3.10/site-packages (from matplotlib<4->mlflow) (9.5.0)\nRequirement already satisfied: cycler>=0.10 in /anaconda/envs/azureml_py310_sdkv2/lib/python3.10/site-packages (from matplotlib<4->mlflow) (0.11.0)\nRequirement already satisfied: fonttools>=4.22.0 in /anaconda/envs/azureml_py310_sdkv2/lib/python3.10/site-packages (from matplotlib<4->mlflow) (4.39.3)\nRequirement already satisfied: kiwisolver>=1.0.1 in /anaconda/envs/azureml_py310_sdkv2/lib/python3.10/site-packages (from matplotlib<4->mlflow) (1.4.4)\nRequirement already satisfied: certifi>=2017.4.17 in /anaconda/envs/azureml_py310_sdkv2/lib/python3.10/site-packages (from msrest>=0.6.18->azureml-mlflow) (2022.12.7)\nRequirement already satisfied: requests-oauthlib>=0.5.0 in /anaconda/envs/azureml_py310_sdkv2/lib/python3.10/site-packages (from msrest>=0.6.18->azureml-mlflow) (1.3.1)\nRequirement already satisfied: isodate>=0.6.0 in /anaconda/envs/azureml_py310_sdkv2/lib/python3.10/site-packages (from msrest>=0.6.18->azureml-mlflow) (0.6.1)\nRequirement already satisfied: tzdata>=2022.1 in /anaconda/envs/azureml_py310_sdkv2/lib/python3.10/site-packages (from pandas<3->mlflow) (2023.3)\nRequirement already satisfied: idna<4,>=2.5 in /anaconda/envs/azureml_py310_sdkv2/lib/python3.10/site-packages (from requests<3,>=2.17.3->mlflow) (3.4)\nRequirement already satisfied: charset-normalizer<4,>=2 in /anaconda/envs/azureml_py310_sdkv2/lib/python3.10/site-packages (from requests<3,>=2.17.3->mlflow) (3.1.0)\nRequirement already satisfied: joblib>=1.1.1 in /anaconda/envs/azureml_py310_sdkv2/lib/python3.10/site-packages (from scikit-learn<2->mlflow) (1.2.0)\nRequirement already satisfied: threadpoolctl>=2.0.0 in /anaconda/envs/azureml_py310_sdkv2/lib/python3.10/site-packages (from scikit-learn<2->mlflow) (3.1.0)\nRequirement already satisfied: greenlet!=0.4.17 in /anaconda/envs/azureml_py310_sdkv2/lib/python3.10/site-packages (from sqlalchemy<3,>=1.4.0->mlflow) (2.0.2)\nRequirement already satisfied: msal<2.0.0,>=1.20.0 in /anaconda/envs/azureml_py310_sdkv2/lib/python3.10/site-packages (from azure-identity->azureml-mlflow) (1.21.0)\nRequirement already satisfied: msal-extensions<2.0.0,>=0.3.0 in /anaconda/envs/azureml_py310_sdkv2/lib/python3.10/site-packages (from azure-identity->azureml-mlflow) (1.0.0)\nRequirement already satisfied: pycparser in /anaconda/envs/azureml_py310_sdkv2/lib/python3.10/site-packages (from cffi>=1.12->cryptography->azureml-mlflow) (2.21)\nRequirement already satisfied: smmap<6,>=3.0.1 in /anaconda/envs/azureml_py310_sdkv2/lib/python3.10/site-packages (from gitdb<5,>=4.0.1->gitpython<4,>=2.1.0->mlflow) (5.0.0)\nRequirement already satisfied: portalocker<3,>=1.0 in /anaconda/envs/azureml_py310_sdkv2/lib/python3.10/site-packages (from msal-extensions<2.0.0,>=0.3.0->azure-identity->azureml-mlflow) (2.7.0)\nNote: you may need to restart the kernel to use updated packages.\n"
        }
      ],
      "execution_count": 5,
      "metadata": {
        "jupyter": {
          "source_hidden": false,
          "outputs_hidden": false
        },
        "nteract": {
          "transient": {
            "deleting": false
          }
        }
      }
    },
    {
      "cell_type": "code",
      "source": [
        "import os \r\n",
        "import mlflow\r\n",
        "import pandas as pd\r\n",
        "import numpy as np\r\n",
        "from datasets import load_dataset\r\n",
        "import evaluate\r\n",
        "from azureml.core import Workspace\r\n",
        "from transformers import AutoModelForSequenceClassification,AutoTokenizer,TrainingArguments,Trainer\r\n",
        "import pickle\r\n",
        "import time\r\n",
        "from azure.ai.ml import MLClient\r\n",
        "from azure.identity import DefaultAzureCredential,AzureCliCredential\r\n",
        "\r\n",
        "subscription_id = '80c77c76-74ba-4c8c-8229-4c3b2957990c'\r\n",
        "resource_group = 'sonata-test-rg'\r\n",
        "workspace_name = 'sonata-test-ws'\r\n",
        "\r\n",
        "credential = AzureCliCredential()\r\n",
        "ws = Workspace(subscription_id, resource_group, workspace_name)\r\n",
        "\r\n",
        "workspace_ml_client = MLClient(\r\n",
        "        credential, subscription_id, resource_group, ws\r\n",
        "    )\r\n",
        "\r\n",
        "# store the mlflow results in azure ml workspace\r\n",
        "mlflow.set_tracking_uri(ws.get_mlflow_tracking_uri())\r\n"
      ],
      "outputs": [
        {
          "output_type": "stream",
          "name": "stderr",
          "text": "/anaconda/envs/azureml_py310_sdkv2/lib/python3.10/site-packages/tqdm/auto.py:21: TqdmWarning: IProgress not found. Please update jupyter and ipywidgets. See https://ipywidgets.readthedocs.io/en/stable/user_install.html\n  from .autonotebook import tqdm as notebook_tqdm\n"
        }
      ],
      "execution_count": 6,
      "metadata": {
        "jupyter": {
          "source_hidden": false,
          "outputs_hidden": false
        },
        "nteract": {
          "transient": {
            "deleting": false
          }
        },
        "gather": {
          "logged": 1689329208636
        }
      }
    },
    {
      "cell_type": "code",
      "source": [
        "# genrating a unique timestamp that can be used for names and versions that need to be unique\r\n",
        "timestamp = str(int(time.time()))"
      ],
      "outputs": [],
      "execution_count": 7,
      "metadata": {
        "jupyter": {
          "source_hidden": false,
          "outputs_hidden": false
        },
        "nteract": {
          "transient": {
            "deleting": false
          }
        },
        "gather": {
          "logged": 1689329208843
        }
      }
    },
    {
      "cell_type": "code",
      "source": [
        "import mlflow"
      ],
      "outputs": [],
      "execution_count": 8,
      "metadata": {
        "jupyter": {
          "source_hidden": false,
          "outputs_hidden": false
        },
        "nteract": {
          "transient": {
            "deleting": false
          }
        },
        "gather": {
          "logged": 1689329208974
        }
      }
    },
    {
      "cell_type": "code",
      "source": [
        "EXPERIMENT_NAME = \"Experiment with RoBerta_HF\"\r\n",
        "mlflow.set_experiment(EXPERIMENT_NAME)"
      ],
      "outputs": [
        {
          "output_type": "execute_result",
          "execution_count": 9,
          "data": {
            "text/plain": "<Experiment: artifact_location='', creation_time=1689074342754, experiment_id='2f93ed0c-13c6-4c16-bc99-4c8ad255f092', last_update_time=None, lifecycle_stage='active', name='Experiment with RoBerta_HF', tags={}>"
          },
          "metadata": {}
        }
      ],
      "execution_count": 9,
      "metadata": {
        "jupyter": {
          "source_hidden": false,
          "outputs_hidden": false
        },
        "nteract": {
          "transient": {
            "deleting": false
          }
        },
        "gather": {
          "logged": 1689329209418
        }
      }
    },
    {
      "cell_type": "code",
      "source": [
        "Model_Name = 'SamLowe/roberta-base-go_emotions'"
      ],
      "outputs": [],
      "execution_count": 10,
      "metadata": {
        "jupyter": {
          "source_hidden": false,
          "outputs_hidden": false
        },
        "nteract": {
          "transient": {
            "deleting": false
          }
        },
        "gather": {
          "logged": 1689329209544
        }
      }
    },
    {
      "cell_type": "code",
      "source": [
        "# with mlflow.start_run() as run:\r\n",
        "    # loading the train & test data with 1000 rows\r\n",
        "test_dataset = load_dataset(\"glue\",\"cola\", split=\"test\").shuffle().select(range(100))\r\n",
        "train_dataset = load_dataset(\"glue\",\"cola\", split=\"train\").shuffle().select(range(100))"
      ],
      "outputs": [
        {
          "output_type": "stream",
          "name": "stderr",
          "text": "Found cached dataset glue (/home/azureuser/.cache/huggingface/datasets/glue/cola/1.0.0/dacbe3125aa31d7f70367a07a8a9e72a5a0bfeb5fc42e75c9db75b96da6053ad)\nFound cached dataset glue (/home/azureuser/.cache/huggingface/datasets/glue/cola/1.0.0/dacbe3125aa31d7f70367a07a8a9e72a5a0bfeb5fc42e75c9db75b96da6053ad)\n"
        }
      ],
      "execution_count": 11,
      "metadata": {
        "jupyter": {
          "source_hidden": false,
          "outputs_hidden": false
        },
        "nteract": {
          "transient": {
            "deleting": false
          }
        },
        "gather": {
          "logged": 1689329211539
        }
      }
    },
    {
      "cell_type": "code",
      "source": [
        "#checking the features\r\n",
        "features = train_dataset.features\r\n",
        "print(features)\r\n",
        "    "
      ],
      "outputs": [
        {
          "output_type": "stream",
          "name": "stdout",
          "text": "{'sentence': Value(dtype='string', id=None), 'label': ClassLabel(names=['unacceptable', 'acceptable'], id=None), 'idx': Value(dtype='int32', id=None)}\n"
        }
      ],
      "execution_count": 12,
      "metadata": {
        "jupyter": {
          "source_hidden": false,
          "outputs_hidden": false
        },
        "nteract": {
          "transient": {
            "deleting": false
          }
        },
        "gather": {
          "logged": 1689329211667
        }
      }
    },
    {
      "cell_type": "code",
      "source": [
        "#Understanding the lables in datasets\r\n",
        "print(features[\"label\"].int2str(0)) "
      ],
      "outputs": [
        {
          "output_type": "stream",
          "name": "stdout",
          "text": "unacceptable\n"
        }
      ],
      "execution_count": 13,
      "metadata": {
        "jupyter": {
          "source_hidden": false,
          "outputs_hidden": false
        },
        "nteract": {
          "transient": {
            "deleting": false
          }
        },
        "gather": {
          "logged": 1689329211889
        }
      }
    },
    {
      "cell_type": "code",
      "source": [
        "#converting id to labels\r\n",
        "id2label = {idx:features[\"label\"].int2str(idx) for idx in range(2)}\r\n",
        "print(id2label)"
      ],
      "outputs": [
        {
          "output_type": "stream",
          "name": "stdout",
          "text": "{0: 'unacceptable', 1: 'acceptable'}\n"
        }
      ],
      "execution_count": 14,
      "metadata": {
        "jupyter": {
          "source_hidden": false,
          "outputs_hidden": false
        },
        "nteract": {
          "transient": {
            "deleting": false
          }
        },
        "gather": {
          "logged": 1689329212028
        }
      }
    },
    {
      "cell_type": "code",
      "source": [
        "#converting labels to ids\r\n",
        "label2id = {value:key for key,value in id2label.items()}\r\n",
        "print(label2id)"
      ],
      "outputs": [
        {
          "output_type": "stream",
          "name": "stdout",
          "text": "{'unacceptable': 0, 'acceptable': 1}\n"
        }
      ],
      "execution_count": 15,
      "metadata": {
        "jupyter": {
          "source_hidden": false,
          "outputs_hidden": false
        },
        "nteract": {
          "transient": {
            "deleting": false
          }
        },
        "gather": {
          "logged": 1689329212158
        }
      }
    },
    {
      "cell_type": "code",
      "source": [
        "#loding the basemodel\r\n",
        "model = AutoModelForSequenceClassification.from_pretrained(\r\n",
        "        Model_Name\r\n",
        "        # ,num_labels = 2,\r\n",
        "        # id2label = id2label,\r\n",
        "        # label2id = label2id\r\n",
        "        )"
      ],
      "outputs": [],
      "execution_count": 16,
      "metadata": {
        "jupyter": {
          "source_hidden": false,
          "outputs_hidden": false
        },
        "nteract": {
          "transient": {
            "deleting": false
          }
        },
        "gather": {
          "logged": 1689329234072
        }
      }
    },
    {
      "cell_type": "code",
      "source": [
        "#Preprocessing the data to suit with model compatability\r\n",
        "tokenizer = AutoTokenizer.from_pretrained(Model_Name)"
      ],
      "outputs": [],
      "execution_count": 17,
      "metadata": {
        "jupyter": {
          "source_hidden": false,
          "outputs_hidden": false
        },
        "nteract": {
          "transient": {
            "deleting": false
          }
        },
        "gather": {
          "logged": 1689329234415
        }
      }
    },
    {
      "cell_type": "code",
      "source": [
        "%pip install xformers"
      ],
      "outputs": [
        {
          "output_type": "stream",
          "name": "stdout",
          "text": "Requirement already satisfied: xformers in /anaconda/envs/azureml_py310_sdkv2/lib/python3.10/site-packages (0.0.20)\nRequirement already satisfied: pyre-extensions==0.0.29 in /anaconda/envs/azureml_py310_sdkv2/lib/python3.10/site-packages (from xformers) (0.0.29)\nRequirement already satisfied: torch==2.0.1 in /anaconda/envs/azureml_py310_sdkv2/lib/python3.10/site-packages (from xformers) (2.0.1)\nRequirement already satisfied: numpy in /anaconda/envs/azureml_py310_sdkv2/lib/python3.10/site-packages (from xformers) (1.23.5)\nRequirement already satisfied: typing-extensions in /anaconda/envs/azureml_py310_sdkv2/lib/python3.10/site-packages (from pyre-extensions==0.0.29->xformers) (4.5.0)\nRequirement already satisfied: typing-inspect in /anaconda/envs/azureml_py310_sdkv2/lib/python3.10/site-packages (from pyre-extensions==0.0.29->xformers) (0.9.0)\nRequirement already satisfied: networkx in /anaconda/envs/azureml_py310_sdkv2/lib/python3.10/site-packages (from torch==2.0.1->xformers) (3.1)\nRequirement already satisfied: triton==2.0.0 in /anaconda/envs/azureml_py310_sdkv2/lib/python3.10/site-packages (from torch==2.0.1->xformers) (2.0.0)\nRequirement already satisfied: nvidia-cuda-cupti-cu11==11.7.101 in /anaconda/envs/azureml_py310_sdkv2/lib/python3.10/site-packages (from torch==2.0.1->xformers) (11.7.101)\nRequirement already satisfied: nvidia-cuda-runtime-cu11==11.7.99 in /anaconda/envs/azureml_py310_sdkv2/lib/python3.10/site-packages (from torch==2.0.1->xformers) (11.7.99)\nRequirement already satisfied: nvidia-cublas-cu11==11.10.3.66 in /anaconda/envs/azureml_py310_sdkv2/lib/python3.10/site-packages (from torch==2.0.1->xformers) (11.10.3.66)\nRequirement already satisfied: jinja2 in /anaconda/envs/azureml_py310_sdkv2/lib/python3.10/site-packages (from torch==2.0.1->xformers) (3.1.2)\nRequirement already satisfied: nvidia-curand-cu11==10.2.10.91 in /anaconda/envs/azureml_py310_sdkv2/lib/python3.10/site-packages (from torch==2.0.1->xformers) (10.2.10.91)\nRequirement already satisfied: nvidia-nvtx-cu11==11.7.91 in /anaconda/envs/azureml_py310_sdkv2/lib/python3.10/site-packages (from torch==2.0.1->xformers) (11.7.91)\nRequirement already satisfied: filelock in /anaconda/envs/azureml_py310_sdkv2/lib/python3.10/site-packages (from torch==2.0.1->xformers) (3.11.0)\nRequirement already satisfied: sympy in /anaconda/envs/azureml_py310_sdkv2/lib/python3.10/site-packages (from torch==2.0.1->xformers) (1.12)\nRequirement already satisfied: nvidia-cusparse-cu11==11.7.4.91 in /anaconda/envs/azureml_py310_sdkv2/lib/python3.10/site-packages (from torch==2.0.1->xformers) (11.7.4.91)\nRequirement already satisfied: nvidia-cuda-nvrtc-cu11==11.7.99 in /anaconda/envs/azureml_py310_sdkv2/lib/python3.10/site-packages (from torch==2.0.1->xformers) (11.7.99)\nRequirement already satisfied: nvidia-nccl-cu11==2.14.3 in /anaconda/envs/azureml_py310_sdkv2/lib/python3.10/site-packages (from torch==2.0.1->xformers) (2.14.3)\nRequirement already satisfied: nvidia-cudnn-cu11==8.5.0.96 in /anaconda/envs/azureml_py310_sdkv2/lib/python3.10/site-packages (from torch==2.0.1->xformers) (8.5.0.96)\nRequirement already satisfied: nvidia-cusolver-cu11==11.4.0.1 in /anaconda/envs/azureml_py310_sdkv2/lib/python3.10/site-packages (from torch==2.0.1->xformers) (11.4.0.1)\nRequirement already satisfied: nvidia-cufft-cu11==10.9.0.58 in /anaconda/envs/azureml_py310_sdkv2/lib/python3.10/site-packages (from torch==2.0.1->xformers) (10.9.0.58)\nRequirement already satisfied: wheel in /anaconda/envs/azureml_py310_sdkv2/lib/python3.10/site-packages (from nvidia-cublas-cu11==11.10.3.66->torch==2.0.1->xformers) (0.38.4)\nRequirement already satisfied: setuptools in /anaconda/envs/azureml_py310_sdkv2/lib/python3.10/site-packages (from nvidia-cublas-cu11==11.10.3.66->torch==2.0.1->xformers) (65.6.3)\nRequirement already satisfied: cmake in /anaconda/envs/azureml_py310_sdkv2/lib/python3.10/site-packages (from triton==2.0.0->torch==2.0.1->xformers) (3.26.4)\nRequirement already satisfied: lit in /anaconda/envs/azureml_py310_sdkv2/lib/python3.10/site-packages (from triton==2.0.0->torch==2.0.1->xformers) (16.0.6)\nRequirement already satisfied: MarkupSafe>=2.0 in /anaconda/envs/azureml_py310_sdkv2/lib/python3.10/site-packages (from jinja2->torch==2.0.1->xformers) (2.1.2)\nRequirement already satisfied: mpmath>=0.19 in /anaconda/envs/azureml_py310_sdkv2/lib/python3.10/site-packages (from sympy->torch==2.0.1->xformers) (1.3.0)\nRequirement already satisfied: mypy-extensions>=0.3.0 in /anaconda/envs/azureml_py310_sdkv2/lib/python3.10/site-packages (from typing-inspect->pyre-extensions==0.0.29->xformers) (1.0.0)\nNote: you may need to restart the kernel to use updated packages.\n"
        }
      ],
      "execution_count": 18,
      "metadata": {
        "jupyter": {
          "source_hidden": false,
          "outputs_hidden": false
        },
        "nteract": {
          "transient": {
            "deleting": false
          }
        }
      }
    },
    {
      "cell_type": "code",
      "source": [
        "#Save the model in mlflow with tokenizer\r\n",
        "base_model = mlflow.transformers.log_model(\r\n",
        "        transformers_model={\"model\": model, \"tokenizer\": tokenizer},\r\n",
        "        task=\"text-classification\",\r\n",
        "        artifact_path=\"Models/basemodel\",\r\n",
        "        input_example=[\"base model loaded directly from transformer's\"],\r\n",
        "        registered_model_name=\"RoBerta_HF\"\r\n",
        "        )"
      ],
      "outputs": [
        {
          "output_type": "stream",
          "name": "stderr",
          "text": "/tmp/ipykernel_5986/545235599.py:2: FutureWarning: The 'transformers' MLflow Models integration is known to be compatible with the following package version ranges: ``4.25.1`` -  ``4.29.2``. MLflow Models integrations with transformers may not succeed when used with package versions outside of this range.\n  base_model = mlflow.transformers.log_model(\n/anaconda/envs/azureml_py310_sdkv2/lib/python3.10/site-packages/mlflow/models/model.py:562: FutureWarning: The 'transformers' MLflow Models integration is known to be compatible with the following package version ranges: ``4.25.1`` -  ``4.29.2``. MLflow Models integrations with transformers may not succeed when used with package versions outside of this range.\n  flavor.save_model(path=local_path, mlflow_model=mlflow_model, **kwargs)\n/anaconda/envs/azureml_py310_sdkv2/lib/python3.10/site-packages/_distutils_hack/__init__.py:33: UserWarning: Setuptools is replacing distutils.\n  warnings.warn(\"Setuptools is replacing distutils.\")\nRegistered model 'RoBerta_HF' already exists. Creating a new version of this model...\n2023/07/14 10:08:37 INFO mlflow.tracking._model_registry.client: Waiting up to 300 seconds for model version to finish creation. Model name: RoBerta_HF, version 6\nCreated version '6' of model 'RoBerta_HF'.\n"
        }
      ],
      "execution_count": 19,
      "metadata": {
        "jupyter": {
          "source_hidden": false,
          "outputs_hidden": false
        },
        "nteract": {
          "transient": {
            "deleting": false
          }
        },
        "gather": {
          "logged": 1689329317396
        }
      }
    },
    {
      "cell_type": "code",
      "source": [
        "# model_uri = f\"models:/Roberta_HF/4\"\r\n",
        "# model = mlflow.pyfunc.load_model(model_uri)"
      ],
      "outputs": [],
      "execution_count": 20,
      "metadata": {
        "jupyter": {
          "source_hidden": false,
          "outputs_hidden": false
        },
        "nteract": {
          "transient": {
            "deleting": false
          }
        },
        "gather": {
          "logged": 1689329317613
        }
      }
    },
    {
      "cell_type": "code",
      "source": [
        "# # need to specify model versions until the bug to support fetching the latest version using latest label is fixed\r\n",
        "# model_details = [\r\n",
        "#     {\"name\": \"Roberta_HF\"},\r\n",
        "#     # please prepare appropriate dataset and config in similar way to run evaluation on this dataset\r\n",
        "#     #     {\"name\": \"finiteautomata-bertweet-base-sentiment-analysis\"},\r\n",
        "# ]"
      ],
      "outputs": [],
      "execution_count": 21,
      "metadata": {
        "jupyter": {
          "source_hidden": false,
          "outputs_hidden": false
        },
        "nteract": {
          "transient": {
            "deleting": false
          }
        },
        "gather": {
          "logged": 1689329317757
        }
      }
    },
    {
      "cell_type": "code",
      "source": [
        "# models = []\r\n",
        "# for model in client.search_registered_models():\r\n",
        "#     print(f\"{model.name}\")\r\n",
        "#     print(list(model.latest_versions))\r\n",
        "# # for model in model_details:\r\n",
        "# #     client.get_registered_model(model.name)\r\n",
        "# #     reg_model = list(registry_ml_client.models.list(name=model[\"name\"]))[0]\r\n",
        "# #     print(reg_model.id)\r\n",
        "# #     models.append({**model, \"version\": reg_model.version})"
      ],
      "outputs": [],
      "execution_count": 22,
      "metadata": {
        "jupyter": {
          "source_hidden": false,
          "outputs_hidden": false
        },
        "nteract": {
          "transient": {
            "deleting": false
          }
        },
        "gather": {
          "logged": 1689329317881
        }
      }
    },
    {
      "cell_type": "code",
      "source": [
        "# base_model.model_uri"
      ],
      "outputs": [],
      "execution_count": 23,
      "metadata": {
        "jupyter": {
          "source_hidden": false,
          "outputs_hidden": false
        },
        "nteract": {
          "transient": {
            "deleting": false
          }
        },
        "gather": {
          "logged": 1689329318010
        }
      }
    },
    {
      "cell_type": "code",
      "source": [
        "# client = mlflow.tracking.MlflowClient()\r\n",
        "# client"
      ],
      "outputs": [],
      "execution_count": 24,
      "metadata": {
        "jupyter": {
          "source_hidden": false,
          "outputs_hidden": false
        },
        "nteract": {
          "transient": {
            "deleting": false
          }
        },
        "gather": {
          "logged": 1689329318140
        }
      }
    },
    {
      "cell_type": "code",
      "source": [
        "# for model in client.search_registered_models():\r\n",
        "#     print(f\"{model.name}\")"
      ],
      "outputs": [],
      "execution_count": 25,
      "metadata": {
        "jupyter": {
          "source_hidden": false,
          "outputs_hidden": false
        },
        "nteract": {
          "transient": {
            "deleting": false
          }
        },
        "gather": {
          "logged": 1689329318272
        }
      }
    },
    {
      "cell_type": "code",
      "source": [
        "# train_model=client.get_model_version(\"Roberta_HF\", version=1)\r\n",
        "# train_model.id"
      ],
      "outputs": [],
      "execution_count": 26,
      "metadata": {
        "jupyter": {
          "source_hidden": false,
          "outputs_hidden": false
        },
        "nteract": {
          "transient": {
            "deleting": false
          }
        },
        "gather": {
          "logged": 1689329318409
        }
      }
    },
    {
      "cell_type": "code",
      "source": [
        "def tokenizer_function(examples):\r\n",
        "        return tokenizer(examples['sentence'],padding='max_length',truncation=True)\r\n"
      ],
      "outputs": [],
      "execution_count": 27,
      "metadata": {
        "jupyter": {
          "source_hidden": false,
          "outputs_hidden": false
        },
        "nteract": {
          "transient": {
            "deleting": false
          }
        },
        "gather": {
          "logged": 1689329318569
        }
      }
    },
    {
      "cell_type": "code",
      "source": [
        "train_dataset = train_dataset.map(tokenizer_function,batched=True)\r\n",
        "test_dataset = test_dataset.map(tokenizer_function,batched = True)\r\n",
        "    \r\n",
        "print(train_dataset)"
      ],
      "outputs": [
        {
          "output_type": "stream",
          "name": "stderr",
          "text": "100%|██████████| 1/1 [00:00<00:00, 14.50ba/s]\n100%|██████████| 1/1 [00:00<00:00, 39.95ba/s]\n"
        },
        {
          "output_type": "stream",
          "name": "stdout",
          "text": "Dataset({\n    features: ['sentence', 'label', 'idx', 'input_ids', 'attention_mask'],\n    num_rows: 100\n})\n"
        }
      ],
      "execution_count": 28,
      "metadata": {
        "jupyter": {
          "source_hidden": false,
          "outputs_hidden": false
        },
        "nteract": {
          "transient": {
            "deleting": false
          }
        },
        "gather": {
          "logged": 1689329318789
        }
      }
    },
    {
      "cell_type": "code",
      "source": [
        "#converting the data into pandas df\r\n",
        "train_dataset_df = train_dataset.to_pandas() \r\n",
        "print(train_dataset_df)"
      ],
      "outputs": [
        {
          "output_type": "stream",
          "name": "stdout",
          "text": "                                             sentence  label   idx   \n0    Whenever Bill smokes, Susan hates him much more.      1   223  \\\n1                 I saw more of the man than you did.      1  5397   \n2   That Bill's breath smells of onions bothers Erin.      1  5744   \n3                              We made them are rude.      0  4117   \n4                    That was why she looked so nice.      1  5099   \n..                                                ...    ...   ...   \n95                 The bed was fallen on by the dust.      0  6135   \n96  David constructed the mansion from bricks into...      0  2949   \n97               Susan gave the ball halfway to Bill.      0  2032   \n98                                     The cup broke.      1  2180   \n99            Carla poured lemonade into the pitcher.      1  2135   \n\n                                            input_ids   \n0   [0, 32395, 1585, 40383, 6, 6470, 27701, 123, 2...  \\\n1   [0, 100, 794, 55, 9, 5, 313, 87, 47, 222, 4, 2...   \n2   [0, 1711, 1585, 18, 8016, 28078, 9, 21568, 380...   \n3   [0, 170, 156, 106, 32, 21820, 4, 2, 1, 1, 1, 1...   \n4   [0, 1711, 21, 596, 79, 1415, 98, 2579, 4, 2, 1...   \n..                                                ...   \n95  [0, 133, 3267, 21, 4491, 15, 30, 5, 8402, 4, 2...   \n96  [0, 8773, 11236, 5, 15906, 31, 23938, 88, 10, ...   \n97  [0, 38621, 851, 5, 1011, 13177, 7, 1585, 4, 2,...   \n98  [0, 133, 4946, 2263, 4, 2, 1, 1, 1, 1, 1, 1, 1...   \n99  [0, 9518, 2560, 13414, 14099, 1829, 88, 5, 765...   \n\n                                       attention_mask  \n0   [1, 1, 1, 1, 1, 1, 1, 1, 1, 1, 1, 1, 0, 0, 0, ...  \n1   [1, 1, 1, 1, 1, 1, 1, 1, 1, 1, 1, 1, 0, 0, 0, ...  \n2   [1, 1, 1, 1, 1, 1, 1, 1, 1, 1, 1, 1, 0, 0, 0, ...  \n3   [1, 1, 1, 1, 1, 1, 1, 1, 0, 0, 0, 0, 0, 0, 0, ...  \n4   [1, 1, 1, 1, 1, 1, 1, 1, 1, 1, 0, 0, 0, 0, 0, ...  \n..                                                ...  \n95  [1, 1, 1, 1, 1, 1, 1, 1, 1, 1, 1, 0, 0, 0, 0, ...  \n96  [1, 1, 1, 1, 1, 1, 1, 1, 1, 1, 1, 1, 0, 0, 0, ...  \n97  [1, 1, 1, 1, 1, 1, 1, 1, 1, 1, 0, 0, 0, 0, 0, ...  \n98  [1, 1, 1, 1, 1, 1, 0, 0, 0, 0, 0, 0, 0, 0, 0, ...  \n99  [1, 1, 1, 1, 1, 1, 1, 1, 1, 1, 1, 0, 0, 0, 0, ...  \n\n[100 rows x 5 columns]\n"
        }
      ],
      "execution_count": 29,
      "metadata": {
        "jupyter": {
          "source_hidden": false,
          "outputs_hidden": false
        },
        "nteract": {
          "transient": {
            "deleting": false
          }
        },
        "gather": {
          "logged": 1689329318903
        }
      }
    },
    {
      "cell_type": "code",
      "source": [
        "# train_dataset_df[\"label\"] = train_dataset_df[\"label\"].astype(int)"
      ],
      "outputs": [],
      "execution_count": 30,
      "metadata": {
        "jupyter": {
          "source_hidden": false,
          "outputs_hidden": false
        },
        "nteract": {
          "transient": {
            "deleting": false
          }
        },
        "gather": {
          "logged": 1689329319027
        }
      }
    },
    {
      "cell_type": "code",
      "source": [
        "# type(test_dataset[\"label\"])"
      ],
      "outputs": [],
      "execution_count": 31,
      "metadata": {
        "jupyter": {
          "source_hidden": false,
          "outputs_hidden": false
        },
        "nteract": {
          "transient": {
            "deleting": false
          }
        },
        "gather": {
          "logged": 1689329319148
        }
      }
    },
    {
      "cell_type": "code",
      "source": [
        "#save the train & test dataset\r\n",
        "test_dataset.to_csv(\"glue_test_data.csv\")\r\n",
        "train_dataset.to_csv(\"glue_train_data.csv\")\r\n",
        "    \r\n",
        "mlflow.log_artifact(\"glue_test_data.csv\", artifact_path = \"Datasets\")\r\n",
        "mlflow.log_artifact(\"glue_train_data.csv\", artifact_path = \"Datasets\")\r\n",
        "    \r\n",
        "\r\n",
        "    "
      ],
      "outputs": [
        {
          "output_type": "stream",
          "name": "stderr",
          "text": "\rCreating CSV from Arrow format:   0%|          | 0/1 [00:00<?, ?ba/s]\rCreating CSV from Arrow format: 100%|██████████| 1/1 [00:00<00:00,  6.33ba/s]\rCreating CSV from Arrow format: 100%|██████████| 1/1 [00:00<00:00,  6.29ba/s]\n\rCreating CSV from Arrow format:   0%|          | 0/1 [00:00<?, ?ba/s]\rCreating CSV from Arrow format: 100%|██████████| 1/1 [00:00<00:00,  6.47ba/s]\rCreating CSV from Arrow format: 100%|██████████| 1/1 [00:00<00:00,  6.44ba/s]\n"
        }
      ],
      "execution_count": 32,
      "metadata": {
        "jupyter": {
          "source_hidden": false,
          "outputs_hidden": false
        },
        "nteract": {
          "transient": {
            "deleting": false
          }
        },
        "gather": {
          "logged": 1689329319287
        }
      }
    },
    {
      "cell_type": "code",
      "source": [
        "import numpy as np\r\n",
        "from datasets import load_dataset\r\n",
        "from transformers import (\r\n",
        "    BertForSequenceClassification,\r\n",
        "    BertTokenizerFast,\r\n",
        "    TrainingArguments,\r\n",
        "    Trainer,\r\n",
        "    EvalPrediction,\r\n",
        ")\r\n",
        "\r\n",
        "metric = evaluate.load(\"accuracy\")\r\n",
        "\r\n",
        "\r\n",
        "def compute_metrics(eval_preds: EvalPrediction):\r\n",
        "    x, y = eval_preds\r\n",
        "    preds = np.argmax(x, -1)\r\n",
        "    return metric.compute(predictions=preds, references=y)\r\n",
        "\r\n"
      ],
      "outputs": [],
      "execution_count": 33,
      "metadata": {
        "jupyter": {
          "source_hidden": false,
          "outputs_hidden": false
        },
        "nteract": {
          "transient": {
            "deleting": false
          }
        },
        "gather": {
          "logged": 1689329319558
        }
      }
    },
    {
      "cell_type": "code",
      "source": [
        "# model_uri = f\"models:/Roberta_HF/1\"\r\n",
        "# loaded_model = mlflow.pyfunc.load_model(model_uri)"
      ],
      "outputs": [],
      "execution_count": 34,
      "metadata": {
        "jupyter": {
          "source_hidden": false,
          "outputs_hidden": false
        },
        "nteract": {
          "transient": {
            "deleting": false
          }
        },
        "gather": {
          "logged": 1689329319739
        }
      }
    },
    {
      "cell_type": "code",
      "source": [
        "train_dataset.set_format(type=\"torch\", columns=['sentence', 'label', 'idx', 'input_ids', 'attention_mask'])\r\n",
        "train_dataset.format['type']"
      ],
      "outputs": [
        {
          "output_type": "execute_result",
          "execution_count": 35,
          "data": {
            "text/plain": "'torch'"
          },
          "metadata": {}
        }
      ],
      "execution_count": 35,
      "metadata": {
        "jupyter": {
          "source_hidden": false,
          "outputs_hidden": false
        },
        "nteract": {
          "transient": {
            "deleting": false
          }
        },
        "gather": {
          "logged": 1689329319886
        }
      }
    },
    {
      "cell_type": "code",
      "source": [
        "Training_args = TrainingArguments(\r\n",
        "    hub_model_id='RoBerta_HF:5',\r\n",
        "    num_train_epochs = 1,\r\n",
        "    output_dir= \".\",\r\n",
        "    logging_steps=500,\r\n",
        "    save_strategy=\"epoch\",\r\n",
        "    push_to_hub=False,\r\n",
        "    \r\n",
        ")"
      ],
      "outputs": [],
      "execution_count": 36,
      "metadata": {
        "jupyter": {
          "source_hidden": false,
          "outputs_hidden": false
        },
        "nteract": {
          "transient": {
            "deleting": false
          }
        },
        "gather": {
          "logged": 1689329320023
        }
      }
    },
    {
      "cell_type": "code",
      "source": [
        "trainer = Trainer(\r\n",
        "    model = model,\r\n",
        "    args = Training_args,\r\n",
        "    train_dataset = train_dataset,\r\n",
        "    eval_dataset = test_dataset,\r\n",
        "    compute_metrics=compute_metrics\r\n",
        "    )\r\n",
        "    \r\n",
        "\r\n",
        "#train the model and print the metrics related to trainer & accuracy \r\n",
        "# result = trainer.train()"
      ],
      "outputs": [],
      "execution_count": 37,
      "metadata": {
        "jupyter": {
          "source_hidden": false,
          "outputs_hidden": false
        },
        "nteract": {
          "transient": {
            "deleting": false
          }
        },
        "gather": {
          "logged": 1689329320792
        }
      }
    },
    {
      "cell_type": "code",
      "source": [
        "result = trainer.train()"
      ],
      "outputs": [
        {
          "output_type": "stream",
          "name": "stderr",
          "text": "/anaconda/envs/azureml_py310_sdkv2/lib/python3.10/site-packages/transformers/optimization.py:411: FutureWarning: This implementation of AdamW is deprecated and will be removed in a future version. Use the PyTorch implementation torch.optim.AdamW instead, or set `no_deprecation_warning=True` to disable this warning\n  warnings.warn(\n"
        },
        {
          "output_type": "error",
          "ename": "ValueError",
          "evalue": "Target size (torch.Size([8])) must be the same as input size (torch.Size([8, 28]))",
          "traceback": [
            "\u001b[0;31m---------------------------------------------------------------------------\u001b[0m",
            "\u001b[0;31mValueError\u001b[0m                                Traceback (most recent call last)",
            "Cell \u001b[0;32mIn[38], line 1\u001b[0m\n\u001b[0;32m----> 1\u001b[0m result \u001b[38;5;241m=\u001b[39m \u001b[43mtrainer\u001b[49m\u001b[38;5;241;43m.\u001b[39;49m\u001b[43mtrain\u001b[49m\u001b[43m(\u001b[49m\u001b[43m)\u001b[49m\n",
            "File \u001b[0;32m/anaconda/envs/azureml_py310_sdkv2/lib/python3.10/site-packages/transformers/trainer.py:1645\u001b[0m, in \u001b[0;36mTrainer.train\u001b[0;34m(self, resume_from_checkpoint, trial, ignore_keys_for_eval, **kwargs)\u001b[0m\n\u001b[1;32m   1640\u001b[0m     \u001b[38;5;28mself\u001b[39m\u001b[38;5;241m.\u001b[39mmodel_wrapped \u001b[38;5;241m=\u001b[39m \u001b[38;5;28mself\u001b[39m\u001b[38;5;241m.\u001b[39mmodel\n\u001b[1;32m   1642\u001b[0m inner_training_loop \u001b[38;5;241m=\u001b[39m find_executable_batch_size(\n\u001b[1;32m   1643\u001b[0m     \u001b[38;5;28mself\u001b[39m\u001b[38;5;241m.\u001b[39m_inner_training_loop, \u001b[38;5;28mself\u001b[39m\u001b[38;5;241m.\u001b[39m_train_batch_size, args\u001b[38;5;241m.\u001b[39mauto_find_batch_size\n\u001b[1;32m   1644\u001b[0m )\n\u001b[0;32m-> 1645\u001b[0m \u001b[38;5;28;01mreturn\u001b[39;00m \u001b[43minner_training_loop\u001b[49m\u001b[43m(\u001b[49m\n\u001b[1;32m   1646\u001b[0m \u001b[43m    \u001b[49m\u001b[43margs\u001b[49m\u001b[38;5;241;43m=\u001b[39;49m\u001b[43margs\u001b[49m\u001b[43m,\u001b[49m\n\u001b[1;32m   1647\u001b[0m \u001b[43m    \u001b[49m\u001b[43mresume_from_checkpoint\u001b[49m\u001b[38;5;241;43m=\u001b[39;49m\u001b[43mresume_from_checkpoint\u001b[49m\u001b[43m,\u001b[49m\n\u001b[1;32m   1648\u001b[0m \u001b[43m    \u001b[49m\u001b[43mtrial\u001b[49m\u001b[38;5;241;43m=\u001b[39;49m\u001b[43mtrial\u001b[49m\u001b[43m,\u001b[49m\n\u001b[1;32m   1649\u001b[0m \u001b[43m    \u001b[49m\u001b[43mignore_keys_for_eval\u001b[49m\u001b[38;5;241;43m=\u001b[39;49m\u001b[43mignore_keys_for_eval\u001b[49m\u001b[43m,\u001b[49m\n\u001b[1;32m   1650\u001b[0m \u001b[43m\u001b[49m\u001b[43m)\u001b[49m\n",
            "File \u001b[0;32m/anaconda/envs/azureml_py310_sdkv2/lib/python3.10/site-packages/transformers/trainer.py:1938\u001b[0m, in \u001b[0;36mTrainer._inner_training_loop\u001b[0;34m(self, batch_size, args, resume_from_checkpoint, trial, ignore_keys_for_eval)\u001b[0m\n\u001b[1;32m   1935\u001b[0m     \u001b[38;5;28mself\u001b[39m\u001b[38;5;241m.\u001b[39mcontrol \u001b[38;5;241m=\u001b[39m \u001b[38;5;28mself\u001b[39m\u001b[38;5;241m.\u001b[39mcallback_handler\u001b[38;5;241m.\u001b[39mon_step_begin(args, \u001b[38;5;28mself\u001b[39m\u001b[38;5;241m.\u001b[39mstate, \u001b[38;5;28mself\u001b[39m\u001b[38;5;241m.\u001b[39mcontrol)\n\u001b[1;32m   1937\u001b[0m \u001b[38;5;28;01mwith\u001b[39;00m \u001b[38;5;28mself\u001b[39m\u001b[38;5;241m.\u001b[39maccelerator\u001b[38;5;241m.\u001b[39maccumulate(model):\n\u001b[0;32m-> 1938\u001b[0m     tr_loss_step \u001b[38;5;241m=\u001b[39m \u001b[38;5;28;43mself\u001b[39;49m\u001b[38;5;241;43m.\u001b[39;49m\u001b[43mtraining_step\u001b[49m\u001b[43m(\u001b[49m\u001b[43mmodel\u001b[49m\u001b[43m,\u001b[49m\u001b[43m \u001b[49m\u001b[43minputs\u001b[49m\u001b[43m)\u001b[49m\n\u001b[1;32m   1940\u001b[0m \u001b[38;5;28;01mif\u001b[39;00m (\n\u001b[1;32m   1941\u001b[0m     args\u001b[38;5;241m.\u001b[39mlogging_nan_inf_filter\n\u001b[1;32m   1942\u001b[0m     \u001b[38;5;129;01mand\u001b[39;00m \u001b[38;5;129;01mnot\u001b[39;00m is_torch_tpu_available()\n\u001b[1;32m   1943\u001b[0m     \u001b[38;5;129;01mand\u001b[39;00m (torch\u001b[38;5;241m.\u001b[39misnan(tr_loss_step) \u001b[38;5;129;01mor\u001b[39;00m torch\u001b[38;5;241m.\u001b[39misinf(tr_loss_step))\n\u001b[1;32m   1944\u001b[0m ):\n\u001b[1;32m   1945\u001b[0m     \u001b[38;5;66;03m# if loss is nan or inf simply add the average of previous logged losses\u001b[39;00m\n\u001b[1;32m   1946\u001b[0m     tr_loss \u001b[38;5;241m+\u001b[39m\u001b[38;5;241m=\u001b[39m tr_loss \u001b[38;5;241m/\u001b[39m (\u001b[38;5;241m1\u001b[39m \u001b[38;5;241m+\u001b[39m \u001b[38;5;28mself\u001b[39m\u001b[38;5;241m.\u001b[39mstate\u001b[38;5;241m.\u001b[39mglobal_step \u001b[38;5;241m-\u001b[39m \u001b[38;5;28mself\u001b[39m\u001b[38;5;241m.\u001b[39m_globalstep_last_logged)\n",
            "File \u001b[0;32m/anaconda/envs/azureml_py310_sdkv2/lib/python3.10/site-packages/transformers/trainer.py:2759\u001b[0m, in \u001b[0;36mTrainer.training_step\u001b[0;34m(self, model, inputs)\u001b[0m\n\u001b[1;32m   2756\u001b[0m     \u001b[38;5;28;01mreturn\u001b[39;00m loss_mb\u001b[38;5;241m.\u001b[39mreduce_mean()\u001b[38;5;241m.\u001b[39mdetach()\u001b[38;5;241m.\u001b[39mto(\u001b[38;5;28mself\u001b[39m\u001b[38;5;241m.\u001b[39margs\u001b[38;5;241m.\u001b[39mdevice)\n\u001b[1;32m   2758\u001b[0m \u001b[38;5;28;01mwith\u001b[39;00m \u001b[38;5;28mself\u001b[39m\u001b[38;5;241m.\u001b[39mcompute_loss_context_manager():\n\u001b[0;32m-> 2759\u001b[0m     loss \u001b[38;5;241m=\u001b[39m \u001b[38;5;28;43mself\u001b[39;49m\u001b[38;5;241;43m.\u001b[39;49m\u001b[43mcompute_loss\u001b[49m\u001b[43m(\u001b[49m\u001b[43mmodel\u001b[49m\u001b[43m,\u001b[49m\u001b[43m \u001b[49m\u001b[43minputs\u001b[49m\u001b[43m)\u001b[49m\n\u001b[1;32m   2761\u001b[0m \u001b[38;5;28;01mif\u001b[39;00m \u001b[38;5;28mself\u001b[39m\u001b[38;5;241m.\u001b[39margs\u001b[38;5;241m.\u001b[39mn_gpu \u001b[38;5;241m>\u001b[39m \u001b[38;5;241m1\u001b[39m:\n\u001b[1;32m   2762\u001b[0m     loss \u001b[38;5;241m=\u001b[39m loss\u001b[38;5;241m.\u001b[39mmean()  \u001b[38;5;66;03m# mean() to average on multi-gpu parallel training\u001b[39;00m\n",
            "File \u001b[0;32m/anaconda/envs/azureml_py310_sdkv2/lib/python3.10/site-packages/transformers/trainer.py:2784\u001b[0m, in \u001b[0;36mTrainer.compute_loss\u001b[0;34m(self, model, inputs, return_outputs)\u001b[0m\n\u001b[1;32m   2782\u001b[0m \u001b[38;5;28;01melse\u001b[39;00m:\n\u001b[1;32m   2783\u001b[0m     labels \u001b[38;5;241m=\u001b[39m \u001b[38;5;28;01mNone\u001b[39;00m\n\u001b[0;32m-> 2784\u001b[0m outputs \u001b[38;5;241m=\u001b[39m \u001b[43mmodel\u001b[49m\u001b[43m(\u001b[49m\u001b[38;5;241;43m*\u001b[39;49m\u001b[38;5;241;43m*\u001b[39;49m\u001b[43minputs\u001b[49m\u001b[43m)\u001b[49m\n\u001b[1;32m   2785\u001b[0m \u001b[38;5;66;03m# Save past state if it exists\u001b[39;00m\n\u001b[1;32m   2786\u001b[0m \u001b[38;5;66;03m# TODO: this needs to be fixed and made cleaner later.\u001b[39;00m\n\u001b[1;32m   2787\u001b[0m \u001b[38;5;28;01mif\u001b[39;00m \u001b[38;5;28mself\u001b[39m\u001b[38;5;241m.\u001b[39margs\u001b[38;5;241m.\u001b[39mpast_index \u001b[38;5;241m>\u001b[39m\u001b[38;5;241m=\u001b[39m \u001b[38;5;241m0\u001b[39m:\n",
            "File \u001b[0;32m/anaconda/envs/azureml_py310_sdkv2/lib/python3.10/site-packages/torch/nn/modules/module.py:1501\u001b[0m, in \u001b[0;36mModule._call_impl\u001b[0;34m(self, *args, **kwargs)\u001b[0m\n\u001b[1;32m   1496\u001b[0m \u001b[38;5;66;03m# If we don't have any hooks, we want to skip the rest of the logic in\u001b[39;00m\n\u001b[1;32m   1497\u001b[0m \u001b[38;5;66;03m# this function, and just call forward.\u001b[39;00m\n\u001b[1;32m   1498\u001b[0m \u001b[38;5;28;01mif\u001b[39;00m \u001b[38;5;129;01mnot\u001b[39;00m (\u001b[38;5;28mself\u001b[39m\u001b[38;5;241m.\u001b[39m_backward_hooks \u001b[38;5;129;01mor\u001b[39;00m \u001b[38;5;28mself\u001b[39m\u001b[38;5;241m.\u001b[39m_backward_pre_hooks \u001b[38;5;129;01mor\u001b[39;00m \u001b[38;5;28mself\u001b[39m\u001b[38;5;241m.\u001b[39m_forward_hooks \u001b[38;5;129;01mor\u001b[39;00m \u001b[38;5;28mself\u001b[39m\u001b[38;5;241m.\u001b[39m_forward_pre_hooks\n\u001b[1;32m   1499\u001b[0m         \u001b[38;5;129;01mor\u001b[39;00m _global_backward_pre_hooks \u001b[38;5;129;01mor\u001b[39;00m _global_backward_hooks\n\u001b[1;32m   1500\u001b[0m         \u001b[38;5;129;01mor\u001b[39;00m _global_forward_hooks \u001b[38;5;129;01mor\u001b[39;00m _global_forward_pre_hooks):\n\u001b[0;32m-> 1501\u001b[0m     \u001b[38;5;28;01mreturn\u001b[39;00m \u001b[43mforward_call\u001b[49m\u001b[43m(\u001b[49m\u001b[38;5;241;43m*\u001b[39;49m\u001b[43margs\u001b[49m\u001b[43m,\u001b[49m\u001b[43m \u001b[49m\u001b[38;5;241;43m*\u001b[39;49m\u001b[38;5;241;43m*\u001b[39;49m\u001b[43mkwargs\u001b[49m\u001b[43m)\u001b[49m\n\u001b[1;32m   1502\u001b[0m \u001b[38;5;66;03m# Do not call functions when jit is used\u001b[39;00m\n\u001b[1;32m   1503\u001b[0m full_backward_hooks, non_full_backward_hooks \u001b[38;5;241m=\u001b[39m [], []\n",
            "File \u001b[0;32m/anaconda/envs/azureml_py310_sdkv2/lib/python3.10/site-packages/transformers/models/roberta/modeling_roberta.py:1253\u001b[0m, in \u001b[0;36mRobertaForSequenceClassification.forward\u001b[0;34m(self, input_ids, attention_mask, token_type_ids, position_ids, head_mask, inputs_embeds, labels, output_attentions, output_hidden_states, return_dict)\u001b[0m\n\u001b[1;32m   1251\u001b[0m     \u001b[38;5;28;01melif\u001b[39;00m \u001b[38;5;28mself\u001b[39m\u001b[38;5;241m.\u001b[39mconfig\u001b[38;5;241m.\u001b[39mproblem_type \u001b[38;5;241m==\u001b[39m \u001b[38;5;124m\"\u001b[39m\u001b[38;5;124mmulti_label_classification\u001b[39m\u001b[38;5;124m\"\u001b[39m:\n\u001b[1;32m   1252\u001b[0m         loss_fct \u001b[38;5;241m=\u001b[39m BCEWithLogitsLoss()\n\u001b[0;32m-> 1253\u001b[0m         loss \u001b[38;5;241m=\u001b[39m \u001b[43mloss_fct\u001b[49m\u001b[43m(\u001b[49m\u001b[43mlogits\u001b[49m\u001b[43m,\u001b[49m\u001b[43m \u001b[49m\u001b[43mlabels\u001b[49m\u001b[43m)\u001b[49m\n\u001b[1;32m   1255\u001b[0m \u001b[38;5;28;01mif\u001b[39;00m \u001b[38;5;129;01mnot\u001b[39;00m return_dict:\n\u001b[1;32m   1256\u001b[0m     output \u001b[38;5;241m=\u001b[39m (logits,) \u001b[38;5;241m+\u001b[39m outputs[\u001b[38;5;241m2\u001b[39m:]\n",
            "File \u001b[0;32m/anaconda/envs/azureml_py310_sdkv2/lib/python3.10/site-packages/torch/nn/modules/module.py:1501\u001b[0m, in \u001b[0;36mModule._call_impl\u001b[0;34m(self, *args, **kwargs)\u001b[0m\n\u001b[1;32m   1496\u001b[0m \u001b[38;5;66;03m# If we don't have any hooks, we want to skip the rest of the logic in\u001b[39;00m\n\u001b[1;32m   1497\u001b[0m \u001b[38;5;66;03m# this function, and just call forward.\u001b[39;00m\n\u001b[1;32m   1498\u001b[0m \u001b[38;5;28;01mif\u001b[39;00m \u001b[38;5;129;01mnot\u001b[39;00m (\u001b[38;5;28mself\u001b[39m\u001b[38;5;241m.\u001b[39m_backward_hooks \u001b[38;5;129;01mor\u001b[39;00m \u001b[38;5;28mself\u001b[39m\u001b[38;5;241m.\u001b[39m_backward_pre_hooks \u001b[38;5;129;01mor\u001b[39;00m \u001b[38;5;28mself\u001b[39m\u001b[38;5;241m.\u001b[39m_forward_hooks \u001b[38;5;129;01mor\u001b[39;00m \u001b[38;5;28mself\u001b[39m\u001b[38;5;241m.\u001b[39m_forward_pre_hooks\n\u001b[1;32m   1499\u001b[0m         \u001b[38;5;129;01mor\u001b[39;00m _global_backward_pre_hooks \u001b[38;5;129;01mor\u001b[39;00m _global_backward_hooks\n\u001b[1;32m   1500\u001b[0m         \u001b[38;5;129;01mor\u001b[39;00m _global_forward_hooks \u001b[38;5;129;01mor\u001b[39;00m _global_forward_pre_hooks):\n\u001b[0;32m-> 1501\u001b[0m     \u001b[38;5;28;01mreturn\u001b[39;00m \u001b[43mforward_call\u001b[49m\u001b[43m(\u001b[49m\u001b[38;5;241;43m*\u001b[39;49m\u001b[43margs\u001b[49m\u001b[43m,\u001b[49m\u001b[43m \u001b[49m\u001b[38;5;241;43m*\u001b[39;49m\u001b[38;5;241;43m*\u001b[39;49m\u001b[43mkwargs\u001b[49m\u001b[43m)\u001b[49m\n\u001b[1;32m   1502\u001b[0m \u001b[38;5;66;03m# Do not call functions when jit is used\u001b[39;00m\n\u001b[1;32m   1503\u001b[0m full_backward_hooks, non_full_backward_hooks \u001b[38;5;241m=\u001b[39m [], []\n",
            "File \u001b[0;32m/anaconda/envs/azureml_py310_sdkv2/lib/python3.10/site-packages/torch/nn/modules/loss.py:720\u001b[0m, in \u001b[0;36mBCEWithLogitsLoss.forward\u001b[0;34m(self, input, target)\u001b[0m\n\u001b[1;32m    719\u001b[0m \u001b[38;5;28;01mdef\u001b[39;00m \u001b[38;5;21mforward\u001b[39m(\u001b[38;5;28mself\u001b[39m, \u001b[38;5;28minput\u001b[39m: Tensor, target: Tensor) \u001b[38;5;241m-\u001b[39m\u001b[38;5;241m>\u001b[39m Tensor:\n\u001b[0;32m--> 720\u001b[0m     \u001b[38;5;28;01mreturn\u001b[39;00m \u001b[43mF\u001b[49m\u001b[38;5;241;43m.\u001b[39;49m\u001b[43mbinary_cross_entropy_with_logits\u001b[49m\u001b[43m(\u001b[49m\u001b[38;5;28;43minput\u001b[39;49m\u001b[43m,\u001b[49m\u001b[43m \u001b[49m\u001b[43mtarget\u001b[49m\u001b[43m,\u001b[49m\n\u001b[1;32m    721\u001b[0m \u001b[43m                                              \u001b[49m\u001b[38;5;28;43mself\u001b[39;49m\u001b[38;5;241;43m.\u001b[39;49m\u001b[43mweight\u001b[49m\u001b[43m,\u001b[49m\n\u001b[1;32m    722\u001b[0m \u001b[43m                                              \u001b[49m\u001b[43mpos_weight\u001b[49m\u001b[38;5;241;43m=\u001b[39;49m\u001b[38;5;28;43mself\u001b[39;49m\u001b[38;5;241;43m.\u001b[39;49m\u001b[43mpos_weight\u001b[49m\u001b[43m,\u001b[49m\n\u001b[1;32m    723\u001b[0m \u001b[43m                                              \u001b[49m\u001b[43mreduction\u001b[49m\u001b[38;5;241;43m=\u001b[39;49m\u001b[38;5;28;43mself\u001b[39;49m\u001b[38;5;241;43m.\u001b[39;49m\u001b[43mreduction\u001b[49m\u001b[43m)\u001b[49m\n",
            "File \u001b[0;32m/anaconda/envs/azureml_py310_sdkv2/lib/python3.10/site-packages/torch/nn/functional.py:3163\u001b[0m, in \u001b[0;36mbinary_cross_entropy_with_logits\u001b[0;34m(input, target, weight, size_average, reduce, reduction, pos_weight)\u001b[0m\n\u001b[1;32m   3160\u001b[0m     reduction_enum \u001b[38;5;241m=\u001b[39m _Reduction\u001b[38;5;241m.\u001b[39mget_enum(reduction)\n\u001b[1;32m   3162\u001b[0m \u001b[38;5;28;01mif\u001b[39;00m \u001b[38;5;129;01mnot\u001b[39;00m (target\u001b[38;5;241m.\u001b[39msize() \u001b[38;5;241m==\u001b[39m \u001b[38;5;28minput\u001b[39m\u001b[38;5;241m.\u001b[39msize()):\n\u001b[0;32m-> 3163\u001b[0m     \u001b[38;5;28;01mraise\u001b[39;00m \u001b[38;5;167;01mValueError\u001b[39;00m(\u001b[38;5;124m\"\u001b[39m\u001b[38;5;124mTarget size (\u001b[39m\u001b[38;5;132;01m{}\u001b[39;00m\u001b[38;5;124m) must be the same as input size (\u001b[39m\u001b[38;5;132;01m{}\u001b[39;00m\u001b[38;5;124m)\u001b[39m\u001b[38;5;124m\"\u001b[39m\u001b[38;5;241m.\u001b[39mformat(target\u001b[38;5;241m.\u001b[39msize(), \u001b[38;5;28minput\u001b[39m\u001b[38;5;241m.\u001b[39msize()))\n\u001b[1;32m   3165\u001b[0m \u001b[38;5;28;01mreturn\u001b[39;00m torch\u001b[38;5;241m.\u001b[39mbinary_cross_entropy_with_logits(\u001b[38;5;28minput\u001b[39m, target, weight, pos_weight, reduction_enum)\n",
            "\u001b[0;31mValueError\u001b[0m: Target size (torch.Size([8])) must be the same as input size (torch.Size([8, 28]))"
          ]
        }
      ],
      "execution_count": 38,
      "metadata": {
        "jupyter": {
          "source_hidden": false,
          "outputs_hidden": false
        },
        "nteract": {
          "transient": {
            "deleting": false
          }
        },
        "gather": {
          "logged": 1689329324308
        }
      }
    },
    {
      "cell_type": "code",
      "source": [
        "mlflow.end_run()"
      ],
      "outputs": [],
      "execution_count": 39,
      "metadata": {
        "jupyter": {
          "source_hidden": false,
          "outputs_hidden": false
        },
        "nteract": {
          "transient": {
            "deleting": false
          }
        },
        "gather": {
          "logged": 1689329348985
        }
      }
    },
    {
      "cell_type": "code",
      "source": [
        "# create a deployment\r\n",
        "demo_deployment = ManagedOnlineDeployment(\r\n",
        "    name=\"RoBertaEndpoint\",\r\n",
        "    endpoint_name=online_endpoint_name,\r\n",
        "    model='RoBerta_HF:3',\r\n",
        "    instance_type=\"Standard_DS2_v2\",\r\n",
        "    instance_count=1,\r\n",
        "    request_settings=OnlineRequestSettings(\r\n",
        "        request_timeout_ms=60000,\r\n",
        "    ),\r\n",
        ")\r\n",
        "workspace_ml_client.online_deployments.begin_create_or_update(demo_deployment).wait()\r\n",
        "endpoint.traffic = {\"RoBertaEndpoint\": 100}\r\n",
        "workspace_ml_client.begin_create_or_update(endpoint).result()"
      ],
      "outputs": [
        {
          "output_type": "error",
          "ename": "NameError",
          "evalue": "name 'ManagedOnlineDeployment' is not defined",
          "traceback": [
            "\u001b[0;31m---------------------------------------------------------------------------\u001b[0m",
            "\u001b[0;31mNameError\u001b[0m                                 Traceback (most recent call last)",
            "Cell \u001b[0;32mIn[1], line 2\u001b[0m\n\u001b[1;32m      1\u001b[0m \u001b[38;5;66;03m# create a deployment\u001b[39;00m\n\u001b[0;32m----> 2\u001b[0m demo_deployment \u001b[38;5;241m=\u001b[39m \u001b[43mManagedOnlineDeployment\u001b[49m(\n\u001b[1;32m      3\u001b[0m     name\u001b[38;5;241m=\u001b[39m\u001b[38;5;124m\"\u001b[39m\u001b[38;5;124mRoBertaEndpoint\u001b[39m\u001b[38;5;124m\"\u001b[39m,\n\u001b[1;32m      4\u001b[0m     endpoint_name\u001b[38;5;241m=\u001b[39monline_endpoint_name,\n\u001b[1;32m      5\u001b[0m     model\u001b[38;5;241m=\u001b[39m\u001b[38;5;124m'\u001b[39m\u001b[38;5;124mRoBerta_HF:3\u001b[39m\u001b[38;5;124m'\u001b[39m,\n\u001b[1;32m      6\u001b[0m     instance_type\u001b[38;5;241m=\u001b[39m\u001b[38;5;124m\"\u001b[39m\u001b[38;5;124mStandard_DS2_v2\u001b[39m\u001b[38;5;124m\"\u001b[39m,\n\u001b[1;32m      7\u001b[0m     instance_count\u001b[38;5;241m=\u001b[39m\u001b[38;5;241m1\u001b[39m,\n\u001b[1;32m      8\u001b[0m     request_settings\u001b[38;5;241m=\u001b[39mOnlineRequestSettings(\n\u001b[1;32m      9\u001b[0m         request_timeout_ms\u001b[38;5;241m=\u001b[39m\u001b[38;5;241m60000\u001b[39m,\n\u001b[1;32m     10\u001b[0m     ),\n\u001b[1;32m     11\u001b[0m )\n\u001b[1;32m     12\u001b[0m workspace_ml_client\u001b[38;5;241m.\u001b[39monline_deployments\u001b[38;5;241m.\u001b[39mbegin_create_or_update(demo_deployment)\u001b[38;5;241m.\u001b[39mwait()\n\u001b[1;32m     13\u001b[0m endpoint\u001b[38;5;241m.\u001b[39mtraffic \u001b[38;5;241m=\u001b[39m {\u001b[38;5;124m\"\u001b[39m\u001b[38;5;124mRoBertaEndpoint\u001b[39m\u001b[38;5;124m\"\u001b[39m: \u001b[38;5;241m100\u001b[39m}\n",
            "\u001b[0;31mNameError\u001b[0m: name 'ManagedOnlineDeployment' is not defined"
          ]
        }
      ],
      "execution_count": 1,
      "metadata": {
        "jupyter": {
          "source_hidden": false,
          "outputs_hidden": false
        },
        "nteract": {
          "transient": {
            "deleting": false
          }
        },
        "gather": {
          "logged": 1689329076346
        }
      }
    },
    {
      "cell_type": "code",
      "source": [
        "import json\r\n",
        "import os\r\n",
        "\r\n",
        "# pick 1 random row\r\n",
        "sample_df = train_df.sample(1)\r\n",
        "# create a json object with the key as \"inputs\" and value as a list of values from the en column of the sample_df dataframe\r\n",
        "sample_json = {\"inputs\": sample_df[\"text\"].tolist()}\r\n",
        "# save the json object to a file named sample_score.json in the ./polyglot_ner-dataset folder\r\n",
        "test_json = {\"inputs\": {\"input_string\": sample_df[\"text\"].tolist()}}\r\n",
        "# save the json object to a file named sample_score.json in the ./polyglot_ner-dataset folder\r\n",
        "with open(os.path.join(\".\", \"ML Flows\", \"sample_score.json\"), \"w\") as f:\r\n",
        "    json.dump(test_json, f)\r\n",
        "sample_df.head()"
      ],
      "outputs": [],
      "execution_count": null,
      "metadata": {
        "jupyter": {
          "source_hidden": false,
          "outputs_hidden": false
        },
        "nteract": {
          "transient": {
            "deleting": false
          }
        },
        "gather": {
          "logged": 1689329076512
        }
      }
    },
    {
      "cell_type": "code",
      "source": [
        "# score the sample_score.json file using the online endpoint with the azureml endpoint invoke method\r\n",
        "response = workspace_ml_client.online_endpoints.invoke(\r\n",
        "    endpoint_name=online_endpoint_name,\r\n",
        "    deployment_name=\"RoBertaEndpoint\",\r\n",
        "    request_file=\"./ML Flows/sample_score.json\",\r\n",
        ")\r\n",
        "print(\"raw response: \\n\", response, \"\\n\")\r\n",
        "# convert the json response to a pandas dataframe\r\n",
        "response_df = pd.read_json(response)\r\n",
        "response_df.head()"
      ],
      "outputs": [],
      "execution_count": null,
      "metadata": {
        "jupyter": {
          "source_hidden": false,
          "outputs_hidden": false
        },
        "nteract": {
          "transient": {
            "deleting": false
          }
        },
        "gather": {
          "logged": 1689329076529
        }
      }
    },
    {
      "cell_type": "code",
      "source": [
        "workspace_ml_client.online_endpoints.begin_delete(name=online_endpoint_name).wait()"
      ],
      "outputs": [],
      "execution_count": null,
      "metadata": {
        "jupyter": {
          "source_hidden": false,
          "outputs_hidden": false
        },
        "nteract": {
          "transient": {
            "deleting": false
          }
        },
        "gather": {
          "logged": 1689329076545
        }
      }
    },
    {
      "cell_type": "code",
      "source": [
        "# mlflow.pyfunc.save_model(path=base_model.model_uri, python_model=\"Roberta_HF\")"
      ],
      "outputs": [],
      "execution_count": null,
      "metadata": {
        "jupyter": {
          "source_hidden": false,
          "outputs_hidden": false
        },
        "nteract": {
          "transient": {
            "deleting": false
          }
        },
        "gather": {
          "logged": 1689329076560
        }
      }
    }
  ],
  "metadata": {
    "kernelspec": {
      "name": "python310-sdkv2",
      "language": "python",
      "display_name": "Python 3.10 - SDK v2"
    },
    "language_info": {
      "name": "python",
      "version": "3.10.10",
      "mimetype": "text/x-python",
      "codemirror_mode": {
        "name": "ipython",
        "version": 3
      },
      "pygments_lexer": "ipython3",
      "nbconvert_exporter": "python",
      "file_extension": ".py"
    },
    "microsoft": {
      "ms_spell_check": {
        "ms_spell_check_language": "en"
      },
      "host": {
        "AzureML": {
          "notebookHasBeenCompleted": true
        }
      }
    },
    "kernel_info": {
      "name": "python310-sdkv2"
    },
    "nteract": {
      "version": "nteract-front-end@1.0.0"
    }
  },
  "nbformat": 4,
  "nbformat_minor": 2
}