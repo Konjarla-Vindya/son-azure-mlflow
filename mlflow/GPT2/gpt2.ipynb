{
  "cells": [
    {
      "cell_type": "code",
      "source": [
        "%pip install transformers==4.29.0\r\n",
        "%pip install --upgrade accelerate\r\n",
        "%pip install datasets\r\n",
        "%pip install mlflow\r\n",
        "%pip install azureml-mlflow==1.52.0\r\n",
        "%pip install evaluate"
      ],
      "outputs": [
        {
          "output_type": "stream",
          "name": "stdout",
          "text": "Requirement already satisfied: transformers==4.29.0 in /anaconda/envs/azureml_py310_sdkv2/lib/python3.10/site-packages (4.29.0)\nRequirement already satisfied: filelock in /anaconda/envs/azureml_py310_sdkv2/lib/python3.10/site-packages (from transformers==4.29.0) (3.11.0)\nRequirement already satisfied: huggingface-hub<1.0,>=0.11.0 in /anaconda/envs/azureml_py310_sdkv2/lib/python3.10/site-packages (from transformers==4.29.0) (0.16.4)\nRequirement already satisfied: numpy>=1.17 in /anaconda/envs/azureml_py310_sdkv2/lib/python3.10/site-packages (from transformers==4.29.0) (1.23.5)\nRequirement already satisfied: packaging>=20.0 in /anaconda/envs/azureml_py310_sdkv2/lib/python3.10/site-packages (from transformers==4.29.0) (21.3)\nRequirement already satisfied: pyyaml>=5.1 in /anaconda/envs/azureml_py310_sdkv2/lib/python3.10/site-packages (from transformers==4.29.0) (6.0)\nRequirement already satisfied: regex!=2019.12.17 in /anaconda/envs/azureml_py310_sdkv2/lib/python3.10/site-packages (from transformers==4.29.0) (2023.6.3)\nRequirement already satisfied: requests in /anaconda/envs/azureml_py310_sdkv2/lib/python3.10/site-packages (from transformers==4.29.0) (2.28.2)\nRequirement already satisfied: tokenizers!=0.11.3,<0.14,>=0.11.1 in /anaconda/envs/azureml_py310_sdkv2/lib/python3.10/site-packages (from transformers==4.29.0) (0.13.3)\nRequirement already satisfied: tqdm>=4.27 in /anaconda/envs/azureml_py310_sdkv2/lib/python3.10/site-packages (from transformers==4.29.0) (4.65.0)\nRequirement already satisfied: fsspec in /anaconda/envs/azureml_py310_sdkv2/lib/python3.10/site-packages (from huggingface-hub<1.0,>=0.11.0->transformers==4.29.0) (2023.3.0)\nRequirement already satisfied: typing-extensions>=3.7.4.3 in /anaconda/envs/azureml_py310_sdkv2/lib/python3.10/site-packages (from huggingface-hub<1.0,>=0.11.0->transformers==4.29.0) (4.5.0)\nRequirement already satisfied: pyparsing!=3.0.5,>=2.0.2 in /anaconda/envs/azureml_py310_sdkv2/lib/python3.10/site-packages (from packaging>=20.0->transformers==4.29.0) (3.0.9)\nRequirement already satisfied: charset-normalizer<4,>=2 in /anaconda/envs/azureml_py310_sdkv2/lib/python3.10/site-packages (from requests->transformers==4.29.0) (3.1.0)\nRequirement already satisfied: idna<4,>=2.5 in /anaconda/envs/azureml_py310_sdkv2/lib/python3.10/site-packages (from requests->transformers==4.29.0) (3.4)\nRequirement already satisfied: urllib3<1.27,>=1.21.1 in /anaconda/envs/azureml_py310_sdkv2/lib/python3.10/site-packages (from requests->transformers==4.29.0) (1.26.15)\nRequirement already satisfied: certifi>=2017.4.17 in /anaconda/envs/azureml_py310_sdkv2/lib/python3.10/site-packages (from requests->transformers==4.29.0) (2022.12.7)\nNote: you may need to restart the kernel to use updated packages.\nRequirement already satisfied: accelerate in /anaconda/envs/azureml_py310_sdkv2/lib/python3.10/site-packages (0.21.0)\nRequirement already satisfied: numpy>=1.17 in /anaconda/envs/azureml_py310_sdkv2/lib/python3.10/site-packages (from accelerate) (1.23.5)\nRequirement already satisfied: packaging>=20.0 in /anaconda/envs/azureml_py310_sdkv2/lib/python3.10/site-packages (from accelerate) (21.3)\nRequirement already satisfied: psutil in /anaconda/envs/azureml_py310_sdkv2/lib/python3.10/site-packages (from accelerate) (5.9.0)\nRequirement already satisfied: pyyaml in /anaconda/envs/azureml_py310_sdkv2/lib/python3.10/site-packages (from accelerate) (6.0)\nRequirement already satisfied: torch>=1.10.0 in /anaconda/envs/azureml_py310_sdkv2/lib/python3.10/site-packages (from accelerate) (2.0.1)\nRequirement already satisfied: pyparsing!=3.0.5,>=2.0.2 in /anaconda/envs/azureml_py310_sdkv2/lib/python3.10/site-packages (from packaging>=20.0->accelerate) (3.0.9)\nRequirement already satisfied: filelock in /anaconda/envs/azureml_py310_sdkv2/lib/python3.10/site-packages (from torch>=1.10.0->accelerate) (3.11.0)\nRequirement already satisfied: typing-extensions in /anaconda/envs/azureml_py310_sdkv2/lib/python3.10/site-packages (from torch>=1.10.0->accelerate) (4.5.0)\nRequirement already satisfied: sympy in /anaconda/envs/azureml_py310_sdkv2/lib/python3.10/site-packages (from torch>=1.10.0->accelerate) (1.12)\nRequirement already satisfied: networkx in /anaconda/envs/azureml_py310_sdkv2/lib/python3.10/site-packages (from torch>=1.10.0->accelerate) (3.1)\nRequirement already satisfied: jinja2 in /anaconda/envs/azureml_py310_sdkv2/lib/python3.10/site-packages (from torch>=1.10.0->accelerate) (3.1.2)\nRequirement already satisfied: nvidia-cuda-nvrtc-cu11==11.7.99 in /anaconda/envs/azureml_py310_sdkv2/lib/python3.10/site-packages (from torch>=1.10.0->accelerate) (11.7.99)\nRequirement already satisfied: nvidia-cuda-runtime-cu11==11.7.99 in /anaconda/envs/azureml_py310_sdkv2/lib/python3.10/site-packages (from torch>=1.10.0->accelerate) (11.7.99)\nRequirement already satisfied: nvidia-cuda-cupti-cu11==11.7.101 in /anaconda/envs/azureml_py310_sdkv2/lib/python3.10/site-packages (from torch>=1.10.0->accelerate) (11.7.101)\nRequirement already satisfied: nvidia-cudnn-cu11==8.5.0.96 in /anaconda/envs/azureml_py310_sdkv2/lib/python3.10/site-packages (from torch>=1.10.0->accelerate) (8.5.0.96)\nRequirement already satisfied: nvidia-cublas-cu11==11.10.3.66 in /anaconda/envs/azureml_py310_sdkv2/lib/python3.10/site-packages (from torch>=1.10.0->accelerate) (11.10.3.66)\nRequirement already satisfied: nvidia-cufft-cu11==10.9.0.58 in /anaconda/envs/azureml_py310_sdkv2/lib/python3.10/site-packages (from torch>=1.10.0->accelerate) (10.9.0.58)\nRequirement already satisfied: nvidia-curand-cu11==10.2.10.91 in /anaconda/envs/azureml_py310_sdkv2/lib/python3.10/site-packages (from torch>=1.10.0->accelerate) (10.2.10.91)\nRequirement already satisfied: nvidia-cusolver-cu11==11.4.0.1 in /anaconda/envs/azureml_py310_sdkv2/lib/python3.10/site-packages (from torch>=1.10.0->accelerate) (11.4.0.1)\nRequirement already satisfied: nvidia-cusparse-cu11==11.7.4.91 in /anaconda/envs/azureml_py310_sdkv2/lib/python3.10/site-packages (from torch>=1.10.0->accelerate) (11.7.4.91)\nRequirement already satisfied: nvidia-nccl-cu11==2.14.3 in /anaconda/envs/azureml_py310_sdkv2/lib/python3.10/site-packages (from torch>=1.10.0->accelerate) (2.14.3)\nRequirement already satisfied: nvidia-nvtx-cu11==11.7.91 in /anaconda/envs/azureml_py310_sdkv2/lib/python3.10/site-packages (from torch>=1.10.0->accelerate) (11.7.91)\nRequirement already satisfied: triton==2.0.0 in /anaconda/envs/azureml_py310_sdkv2/lib/python3.10/site-packages (from torch>=1.10.0->accelerate) (2.0.0)\nRequirement already satisfied: setuptools in /anaconda/envs/azureml_py310_sdkv2/lib/python3.10/site-packages (from nvidia-cublas-cu11==11.10.3.66->torch>=1.10.0->accelerate) (65.6.3)\nRequirement already satisfied: wheel in /anaconda/envs/azureml_py310_sdkv2/lib/python3.10/site-packages (from nvidia-cublas-cu11==11.10.3.66->torch>=1.10.0->accelerate) (0.38.4)\nRequirement already satisfied: cmake in /anaconda/envs/azureml_py310_sdkv2/lib/python3.10/site-packages (from triton==2.0.0->torch>=1.10.0->accelerate) (3.26.4)\nRequirement already satisfied: lit in /anaconda/envs/azureml_py310_sdkv2/lib/python3.10/site-packages (from triton==2.0.0->torch>=1.10.0->accelerate) (16.0.6)\nRequirement already satisfied: MarkupSafe>=2.0 in /anaconda/envs/azureml_py310_sdkv2/lib/python3.10/site-packages (from jinja2->torch>=1.10.0->accelerate) (2.1.2)\nRequirement already satisfied: mpmath>=0.19 in /anaconda/envs/azureml_py310_sdkv2/lib/python3.10/site-packages (from sympy->torch>=1.10.0->accelerate) (1.3.0)\nNote: you may need to restart the kernel to use updated packages.\nRequirement already satisfied: datasets in /anaconda/envs/azureml_py310_sdkv2/lib/python3.10/site-packages (2.9.0)\nRequirement already satisfied: numpy>=1.17 in /anaconda/envs/azureml_py310_sdkv2/lib/python3.10/site-packages (from datasets) (1.23.5)\nRequirement already satisfied: pyarrow>=6.0.0 in /anaconda/envs/azureml_py310_sdkv2/lib/python3.10/site-packages (from datasets) (11.0.0)\nRequirement already satisfied: dill<0.3.7 in /anaconda/envs/azureml_py310_sdkv2/lib/python3.10/site-packages (from datasets) (0.3.6)\nRequirement already satisfied: pandas in /anaconda/envs/azureml_py310_sdkv2/lib/python3.10/site-packages (from datasets) (2.0.0)\nRequirement already satisfied: requests>=2.19.0 in /anaconda/envs/azureml_py310_sdkv2/lib/python3.10/site-packages (from datasets) (2.28.2)\nRequirement already satisfied: tqdm>=4.62.1 in /anaconda/envs/azureml_py310_sdkv2/lib/python3.10/site-packages (from datasets) (4.65.0)\nRequirement already satisfied: xxhash in /anaconda/envs/azureml_py310_sdkv2/lib/python3.10/site-packages (from datasets) (3.2.0)\nRequirement already satisfied: multiprocess in /anaconda/envs/azureml_py310_sdkv2/lib/python3.10/site-packages (from datasets) (0.70.14)\nRequirement already satisfied: fsspec[http]>=2021.11.1 in /anaconda/envs/azureml_py310_sdkv2/lib/python3.10/site-packages (from datasets) (2023.3.0)\nRequirement already satisfied: aiohttp in /anaconda/envs/azureml_py310_sdkv2/lib/python3.10/site-packages (from datasets) (3.8.4)\nRequirement already satisfied: huggingface-hub<1.0.0,>=0.2.0 in /anaconda/envs/azureml_py310_sdkv2/lib/python3.10/site-packages (from datasets) (0.16.4)\nRequirement already satisfied: packaging in /anaconda/envs/azureml_py310_sdkv2/lib/python3.10/site-packages (from datasets) (21.3)\nRequirement already satisfied: responses<0.19 in /anaconda/envs/azureml_py310_sdkv2/lib/python3.10/site-packages (from datasets) (0.18.0)\nRequirement already satisfied: pyyaml>=5.1 in /anaconda/envs/azureml_py310_sdkv2/lib/python3.10/site-packages (from datasets) (6.0)\nRequirement already satisfied: attrs>=17.3.0 in /anaconda/envs/azureml_py310_sdkv2/lib/python3.10/site-packages (from aiohttp->datasets) (22.2.0)\nRequirement already satisfied: charset-normalizer<4.0,>=2.0 in /anaconda/envs/azureml_py310_sdkv2/lib/python3.10/site-packages (from aiohttp->datasets) (3.1.0)\nRequirement already satisfied: multidict<7.0,>=4.5 in /anaconda/envs/azureml_py310_sdkv2/lib/python3.10/site-packages (from aiohttp->datasets) (6.0.4)\nRequirement already satisfied: async-timeout<5.0,>=4.0.0a3 in /anaconda/envs/azureml_py310_sdkv2/lib/python3.10/site-packages (from aiohttp->datasets) (4.0.2)\nRequirement already satisfied: yarl<2.0,>=1.0 in /anaconda/envs/azureml_py310_sdkv2/lib/python3.10/site-packages (from aiohttp->datasets) (1.9.2)\nRequirement already satisfied: frozenlist>=1.1.1 in /anaconda/envs/azureml_py310_sdkv2/lib/python3.10/site-packages (from aiohttp->datasets) (1.3.3)\nRequirement already satisfied: aiosignal>=1.1.2 in /anaconda/envs/azureml_py310_sdkv2/lib/python3.10/site-packages (from aiohttp->datasets) (1.3.1)\nRequirement already satisfied: filelock in /anaconda/envs/azureml_py310_sdkv2/lib/python3.10/site-packages (from huggingface-hub<1.0.0,>=0.2.0->datasets) (3.11.0)\nRequirement already satisfied: typing-extensions>=3.7.4.3 in /anaconda/envs/azureml_py310_sdkv2/lib/python3.10/site-packages (from huggingface-hub<1.0.0,>=0.2.0->datasets) (4.5.0)\nRequirement already satisfied: pyparsing!=3.0.5,>=2.0.2 in /anaconda/envs/azureml_py310_sdkv2/lib/python3.10/site-packages (from packaging->datasets) (3.0.9)\nRequirement already satisfied: idna<4,>=2.5 in /anaconda/envs/azureml_py310_sdkv2/lib/python3.10/site-packages (from requests>=2.19.0->datasets) (3.4)\nRequirement already satisfied: urllib3<1.27,>=1.21.1 in /anaconda/envs/azureml_py310_sdkv2/lib/python3.10/site-packages (from requests>=2.19.0->datasets) (1.26.15)\nRequirement already satisfied: certifi>=2017.4.17 in /anaconda/envs/azureml_py310_sdkv2/lib/python3.10/site-packages (from requests>=2.19.0->datasets) (2022.12.7)\nRequirement already satisfied: python-dateutil>=2.8.2 in /anaconda/envs/azureml_py310_sdkv2/lib/python3.10/site-packages (from pandas->datasets) (2.8.2)\nRequirement already satisfied: pytz>=2020.1 in /anaconda/envs/azureml_py310_sdkv2/lib/python3.10/site-packages (from pandas->datasets) (2022.7.1)\nRequirement already satisfied: tzdata>=2022.1 in /anaconda/envs/azureml_py310_sdkv2/lib/python3.10/site-packages (from pandas->datasets) (2023.3)\nRequirement already satisfied: six>=1.5 in /anaconda/envs/azureml_py310_sdkv2/lib/python3.10/site-packages (from python-dateutil>=2.8.2->pandas->datasets) (1.16.0)\nNote: you may need to restart the kernel to use updated packages.\nRequirement already satisfied: mlflow in /anaconda/envs/azureml_py310_sdkv2/lib/python3.10/site-packages (2.4.2)\nRequirement already satisfied: click<9,>=7.0 in /anaconda/envs/azureml_py310_sdkv2/lib/python3.10/site-packages (from mlflow) (8.0.4)\nRequirement already satisfied: cloudpickle<3 in /anaconda/envs/azureml_py310_sdkv2/lib/python3.10/site-packages (from mlflow) (2.2.1)\nRequirement already satisfied: databricks-cli<1,>=0.8.7 in /anaconda/envs/azureml_py310_sdkv2/lib/python3.10/site-packages (from mlflow) (0.17.6)\nRequirement already satisfied: entrypoints<1 in /anaconda/envs/azureml_py310_sdkv2/lib/python3.10/site-packages (from mlflow) (0.4)\nRequirement already satisfied: gitpython<4,>=2.1.0 in /anaconda/envs/azureml_py310_sdkv2/lib/python3.10/site-packages (from mlflow) (3.1.31)\nRequirement already satisfied: pyyaml<7,>=5.1 in /anaconda/envs/azureml_py310_sdkv2/lib/python3.10/site-packages (from mlflow) (6.0)\nRequirement already satisfied: protobuf<5,>=3.12.0 in /anaconda/envs/azureml_py310_sdkv2/lib/python3.10/site-packages (from mlflow) (3.20.3)\nRequirement already satisfied: pytz<2024 in /anaconda/envs/azureml_py310_sdkv2/lib/python3.10/site-packages (from mlflow) (2022.7.1)\nRequirement already satisfied: requests<3,>=2.17.3 in /anaconda/envs/azureml_py310_sdkv2/lib/python3.10/site-packages (from mlflow) (2.28.2)\nRequirement already satisfied: packaging<24 in /anaconda/envs/azureml_py310_sdkv2/lib/python3.10/site-packages (from mlflow) (21.3)\nRequirement already satisfied: importlib-metadata!=4.7.0,<7,>=3.7.0 in /anaconda/envs/azureml_py310_sdkv2/lib/python3.10/site-packages (from mlflow) (6.1.0)\nRequirement already satisfied: sqlparse<1,>=0.4.0 in /anaconda/envs/azureml_py310_sdkv2/lib/python3.10/site-packages (from mlflow) (0.4.3)\nRequirement already satisfied: alembic!=1.10.0,<2 in /anaconda/envs/azureml_py310_sdkv2/lib/python3.10/site-packages (from mlflow) (1.10.3)\nRequirement already satisfied: docker<7,>=4.0.0 in /anaconda/envs/azureml_py310_sdkv2/lib/python3.10/site-packages (from mlflow) (6.0.1)\nRequirement already satisfied: Flask<3 in /anaconda/envs/azureml_py310_sdkv2/lib/python3.10/site-packages (from mlflow) (2.2.3)\nRequirement already satisfied: numpy<2 in /anaconda/envs/azureml_py310_sdkv2/lib/python3.10/site-packages (from mlflow) (1.23.5)\nRequirement already satisfied: scipy<2 in /anaconda/envs/azureml_py310_sdkv2/lib/python3.10/site-packages (from mlflow) (1.10.1)\nRequirement already satisfied: pandas<3 in /anaconda/envs/azureml_py310_sdkv2/lib/python3.10/site-packages (from mlflow) (2.0.0)\nRequirement already satisfied: querystring-parser<2 in /anaconda/envs/azureml_py310_sdkv2/lib/python3.10/site-packages (from mlflow) (1.2.4)\nRequirement already satisfied: sqlalchemy<3,>=1.4.0 in /anaconda/envs/azureml_py310_sdkv2/lib/python3.10/site-packages (from mlflow) (2.0.9)\nRequirement already satisfied: scikit-learn<2 in /anaconda/envs/azureml_py310_sdkv2/lib/python3.10/site-packages (from mlflow) (1.2.2)\nRequirement already satisfied: pyarrow<13,>=4.0.0 in /anaconda/envs/azureml_py310_sdkv2/lib/python3.10/site-packages (from mlflow) (11.0.0)\nRequirement already satisfied: markdown<4,>=3.3 in /anaconda/envs/azureml_py310_sdkv2/lib/python3.10/site-packages (from mlflow) (3.4.3)\nRequirement already satisfied: matplotlib<4 in /anaconda/envs/azureml_py310_sdkv2/lib/python3.10/site-packages (from mlflow) (3.7.1)\nRequirement already satisfied: gunicorn<21 in /anaconda/envs/azureml_py310_sdkv2/lib/python3.10/site-packages (from mlflow) (20.1.0)\nRequirement already satisfied: Jinja2<4,>=2.11 in /anaconda/envs/azureml_py310_sdkv2/lib/python3.10/site-packages (from mlflow) (3.1.2)\nRequirement already satisfied: Mako in /anaconda/envs/azureml_py310_sdkv2/lib/python3.10/site-packages (from alembic!=1.10.0,<2->mlflow) (1.2.4)\nRequirement already satisfied: typing-extensions>=4 in /anaconda/envs/azureml_py310_sdkv2/lib/python3.10/site-packages (from alembic!=1.10.0,<2->mlflow) (4.5.0)\nRequirement already satisfied: pyjwt>=1.7.0 in /anaconda/envs/azureml_py310_sdkv2/lib/python3.10/site-packages (from databricks-cli<1,>=0.8.7->mlflow) (2.6.0)\nRequirement already satisfied: oauthlib>=3.1.0 in /anaconda/envs/azureml_py310_sdkv2/lib/python3.10/site-packages (from databricks-cli<1,>=0.8.7->mlflow) (3.2.2)\nRequirement already satisfied: tabulate>=0.7.7 in /anaconda/envs/azureml_py310_sdkv2/lib/python3.10/site-packages (from databricks-cli<1,>=0.8.7->mlflow) (0.9.0)\nRequirement already satisfied: six>=1.10.0 in /anaconda/envs/azureml_py310_sdkv2/lib/python3.10/site-packages (from databricks-cli<1,>=0.8.7->mlflow) (1.16.0)\nRequirement already satisfied: urllib3>=1.26.0 in /anaconda/envs/azureml_py310_sdkv2/lib/python3.10/site-packages (from docker<7,>=4.0.0->mlflow) (1.26.15)\nRequirement already satisfied: websocket-client>=0.32.0 in /anaconda/envs/azureml_py310_sdkv2/lib/python3.10/site-packages (from docker<7,>=4.0.0->mlflow) (1.5.1)\nRequirement already satisfied: Werkzeug>=2.2.2 in /anaconda/envs/azureml_py310_sdkv2/lib/python3.10/site-packages (from Flask<3->mlflow) (2.2.3)\nRequirement already satisfied: itsdangerous>=2.0 in /anaconda/envs/azureml_py310_sdkv2/lib/python3.10/site-packages (from Flask<3->mlflow) (2.1.2)\nRequirement already satisfied: gitdb<5,>=4.0.1 in /anaconda/envs/azureml_py310_sdkv2/lib/python3.10/site-packages (from gitpython<4,>=2.1.0->mlflow) (4.0.10)\nRequirement already satisfied: setuptools>=3.0 in /anaconda/envs/azureml_py310_sdkv2/lib/python3.10/site-packages (from gunicorn<21->mlflow) (65.6.3)\nRequirement already satisfied: zipp>=0.5 in /anaconda/envs/azureml_py310_sdkv2/lib/python3.10/site-packages (from importlib-metadata!=4.7.0,<7,>=3.7.0->mlflow) (3.15.0)\nRequirement already satisfied: MarkupSafe>=2.0 in /anaconda/envs/azureml_py310_sdkv2/lib/python3.10/site-packages (from Jinja2<4,>=2.11->mlflow) (2.1.2)\nRequirement already satisfied: contourpy>=1.0.1 in /anaconda/envs/azureml_py310_sdkv2/lib/python3.10/site-packages (from matplotlib<4->mlflow) (1.0.7)\nRequirement already satisfied: cycler>=0.10 in /anaconda/envs/azureml_py310_sdkv2/lib/python3.10/site-packages (from matplotlib<4->mlflow) (0.11.0)\nRequirement already satisfied: fonttools>=4.22.0 in /anaconda/envs/azureml_py310_sdkv2/lib/python3.10/site-packages (from matplotlib<4->mlflow) (4.39.3)\nRequirement already satisfied: kiwisolver>=1.0.1 in /anaconda/envs/azureml_py310_sdkv2/lib/python3.10/site-packages (from matplotlib<4->mlflow) (1.4.4)\nRequirement already satisfied: pillow>=6.2.0 in /anaconda/envs/azureml_py310_sdkv2/lib/python3.10/site-packages (from matplotlib<4->mlflow) (9.5.0)\nRequirement already satisfied: pyparsing>=2.3.1 in /anaconda/envs/azureml_py310_sdkv2/lib/python3.10/site-packages (from matplotlib<4->mlflow) (3.0.9)\nRequirement already satisfied: python-dateutil>=2.7 in /anaconda/envs/azureml_py310_sdkv2/lib/python3.10/site-packages (from matplotlib<4->mlflow) (2.8.2)\nRequirement already satisfied: tzdata>=2022.1 in /anaconda/envs/azureml_py310_sdkv2/lib/python3.10/site-packages (from pandas<3->mlflow) (2023.3)\nRequirement already satisfied: charset-normalizer<4,>=2 in /anaconda/envs/azureml_py310_sdkv2/lib/python3.10/site-packages (from requests<3,>=2.17.3->mlflow) (3.1.0)\nRequirement already satisfied: idna<4,>=2.5 in /anaconda/envs/azureml_py310_sdkv2/lib/python3.10/site-packages (from requests<3,>=2.17.3->mlflow) (3.4)\nRequirement already satisfied: certifi>=2017.4.17 in /anaconda/envs/azureml_py310_sdkv2/lib/python3.10/site-packages (from requests<3,>=2.17.3->mlflow) (2022.12.7)\nRequirement already satisfied: joblib>=1.1.1 in /anaconda/envs/azureml_py310_sdkv2/lib/python3.10/site-packages (from scikit-learn<2->mlflow) (1.2.0)\nRequirement already satisfied: threadpoolctl>=2.0.0 in /anaconda/envs/azureml_py310_sdkv2/lib/python3.10/site-packages (from scikit-learn<2->mlflow) (3.1.0)\nRequirement already satisfied: greenlet!=0.4.17 in /anaconda/envs/azureml_py310_sdkv2/lib/python3.10/site-packages (from sqlalchemy<3,>=1.4.0->mlflow) (2.0.2)\nRequirement already satisfied: smmap<6,>=3.0.1 in /anaconda/envs/azureml_py310_sdkv2/lib/python3.10/site-packages (from gitdb<5,>=4.0.1->gitpython<4,>=2.1.0->mlflow) (5.0.0)\nNote: you may need to restart the kernel to use updated packages.\nRequirement already satisfied: azureml-mlflow==1.52.0 in /anaconda/envs/azureml_py310_sdkv2/lib/python3.10/site-packages (1.52.0)\nRequirement already satisfied: jsonpickle in /anaconda/envs/azureml_py310_sdkv2/lib/python3.10/site-packages (from azureml-mlflow==1.52.0) (2.2.0)\nRequirement already satisfied: mlflow-skinny in /anaconda/envs/azureml_py310_sdkv2/lib/python3.10/site-packages (from azureml-mlflow==1.52.0) (2.2.2)\nRequirement already satisfied: azure-identity in /anaconda/envs/azureml_py310_sdkv2/lib/python3.10/site-packages (from azureml-mlflow==1.52.0) (1.13.0)\nRequirement already satisfied: msrest>=0.6.18 in /anaconda/envs/azureml_py310_sdkv2/lib/python3.10/site-packages (from azureml-mlflow==1.52.0) (0.7.1)\nRequirement already satisfied: azure-core!=1.22.0,<2.0.0,>=1.8.0 in /anaconda/envs/azureml_py310_sdkv2/lib/python3.10/site-packages (from azureml-mlflow==1.52.0) (1.28.0)\nRequirement already satisfied: azure-mgmt-core<2.0.0,>=1.2.0 in /anaconda/envs/azureml_py310_sdkv2/lib/python3.10/site-packages (from azureml-mlflow==1.52.0) (1.4.0)\nRequirement already satisfied: azure-storage-blob<=12.13.0,>=12.5.0 in /anaconda/envs/azureml_py310_sdkv2/lib/python3.10/site-packages (from azureml-mlflow==1.52.0) (12.13.0)\nRequirement already satisfied: azure-common<2.0.0,>=1.1 in /anaconda/envs/azureml_py310_sdkv2/lib/python3.10/site-packages (from azureml-mlflow==1.52.0) (1.1.28)\nRequirement already satisfied: cryptography in /anaconda/envs/azureml_py310_sdkv2/lib/python3.10/site-packages (from azureml-mlflow==1.52.0) (40.0.1)\nRequirement already satisfied: python-dateutil<3.0.0,>=2.7.3 in /anaconda/envs/azureml_py310_sdkv2/lib/python3.10/site-packages (from azureml-mlflow==1.52.0) (2.8.2)\nRequirement already satisfied: requests>=2.18.4 in /anaconda/envs/azureml_py310_sdkv2/lib/python3.10/site-packages (from azure-core!=1.22.0,<2.0.0,>=1.8.0->azureml-mlflow==1.52.0) (2.28.2)\nRequirement already satisfied: six>=1.11.0 in /anaconda/envs/azureml_py310_sdkv2/lib/python3.10/site-packages (from azure-core!=1.22.0,<2.0.0,>=1.8.0->azureml-mlflow==1.52.0) (1.16.0)\nRequirement already satisfied: typing-extensions>=4.3.0 in /anaconda/envs/azureml_py310_sdkv2/lib/python3.10/site-packages (from azure-core!=1.22.0,<2.0.0,>=1.8.0->azureml-mlflow==1.52.0) (4.5.0)\nRequirement already satisfied: cffi>=1.12 in /anaconda/envs/azureml_py310_sdkv2/lib/python3.10/site-packages (from cryptography->azureml-mlflow==1.52.0) (1.15.1)\nRequirement already satisfied: certifi>=2017.4.17 in /anaconda/envs/azureml_py310_sdkv2/lib/python3.10/site-packages (from msrest>=0.6.18->azureml-mlflow==1.52.0) (2022.12.7)\nRequirement already satisfied: isodate>=0.6.0 in /anaconda/envs/azureml_py310_sdkv2/lib/python3.10/site-packages (from msrest>=0.6.18->azureml-mlflow==1.52.0) (0.6.1)\nRequirement already satisfied: requests-oauthlib>=0.5.0 in /anaconda/envs/azureml_py310_sdkv2/lib/python3.10/site-packages (from msrest>=0.6.18->azureml-mlflow==1.52.0) (1.3.1)\nRequirement already satisfied: msal<2.0.0,>=1.20.0 in /anaconda/envs/azureml_py310_sdkv2/lib/python3.10/site-packages (from azure-identity->azureml-mlflow==1.52.0) (1.21.0)\nRequirement already satisfied: msal-extensions<2.0.0,>=0.3.0 in /anaconda/envs/azureml_py310_sdkv2/lib/python3.10/site-packages (from azure-identity->azureml-mlflow==1.52.0) (1.0.0)\nRequirement already satisfied: click<9,>=7.0 in /anaconda/envs/azureml_py310_sdkv2/lib/python3.10/site-packages (from mlflow-skinny->azureml-mlflow==1.52.0) (8.0.4)\nRequirement already satisfied: cloudpickle<3 in /anaconda/envs/azureml_py310_sdkv2/lib/python3.10/site-packages (from mlflow-skinny->azureml-mlflow==1.52.0) (2.2.1)\nRequirement already satisfied: databricks-cli<1,>=0.8.7 in /anaconda/envs/azureml_py310_sdkv2/lib/python3.10/site-packages (from mlflow-skinny->azureml-mlflow==1.52.0) (0.17.6)\nRequirement already satisfied: entrypoints<1 in /anaconda/envs/azureml_py310_sdkv2/lib/python3.10/site-packages (from mlflow-skinny->azureml-mlflow==1.52.0) (0.4)\nRequirement already satisfied: gitpython<4,>=2.1.0 in /anaconda/envs/azureml_py310_sdkv2/lib/python3.10/site-packages (from mlflow-skinny->azureml-mlflow==1.52.0) (3.1.31)\nRequirement already satisfied: pyyaml<7,>=5.1 in /anaconda/envs/azureml_py310_sdkv2/lib/python3.10/site-packages (from mlflow-skinny->azureml-mlflow==1.52.0) (6.0)\nRequirement already satisfied: protobuf<5,>=3.12.0 in /anaconda/envs/azureml_py310_sdkv2/lib/python3.10/site-packages (from mlflow-skinny->azureml-mlflow==1.52.0) (3.20.3)\nRequirement already satisfied: pytz<2023 in /anaconda/envs/azureml_py310_sdkv2/lib/python3.10/site-packages (from mlflow-skinny->azureml-mlflow==1.52.0) (2022.7.1)\nRequirement already satisfied: packaging<24 in /anaconda/envs/azureml_py310_sdkv2/lib/python3.10/site-packages (from mlflow-skinny->azureml-mlflow==1.52.0) (21.3)\nRequirement already satisfied: importlib-metadata!=4.7.0,<7,>=3.7.0 in /anaconda/envs/azureml_py310_sdkv2/lib/python3.10/site-packages (from mlflow-skinny->azureml-mlflow==1.52.0) (6.1.0)\nRequirement already satisfied: sqlparse<1,>=0.4.0 in /anaconda/envs/azureml_py310_sdkv2/lib/python3.10/site-packages (from mlflow-skinny->azureml-mlflow==1.52.0) (0.4.3)\nRequirement already satisfied: pycparser in /anaconda/envs/azureml_py310_sdkv2/lib/python3.10/site-packages (from cffi>=1.12->cryptography->azureml-mlflow==1.52.0) (2.21)\nRequirement already satisfied: pyjwt>=1.7.0 in /anaconda/envs/azureml_py310_sdkv2/lib/python3.10/site-packages (from databricks-cli<1,>=0.8.7->mlflow-skinny->azureml-mlflow==1.52.0) (2.6.0)\nRequirement already satisfied: oauthlib>=3.1.0 in /anaconda/envs/azureml_py310_sdkv2/lib/python3.10/site-packages (from databricks-cli<1,>=0.8.7->mlflow-skinny->azureml-mlflow==1.52.0) (3.2.2)\nRequirement already satisfied: tabulate>=0.7.7 in /anaconda/envs/azureml_py310_sdkv2/lib/python3.10/site-packages (from databricks-cli<1,>=0.8.7->mlflow-skinny->azureml-mlflow==1.52.0) (0.9.0)\nRequirement already satisfied: gitdb<5,>=4.0.1 in /anaconda/envs/azureml_py310_sdkv2/lib/python3.10/site-packages (from gitpython<4,>=2.1.0->mlflow-skinny->azureml-mlflow==1.52.0) (4.0.10)\nRequirement already satisfied: zipp>=0.5 in /anaconda/envs/azureml_py310_sdkv2/lib/python3.10/site-packages (from importlib-metadata!=4.7.0,<7,>=3.7.0->mlflow-skinny->azureml-mlflow==1.52.0) (3.15.0)\nRequirement already satisfied: portalocker<3,>=1.0 in /anaconda/envs/azureml_py310_sdkv2/lib/python3.10/site-packages (from msal-extensions<2.0.0,>=0.3.0->azure-identity->azureml-mlflow==1.52.0) (2.7.0)\nRequirement already satisfied: pyparsing!=3.0.5,>=2.0.2 in /anaconda/envs/azureml_py310_sdkv2/lib/python3.10/site-packages (from packaging<24->mlflow-skinny->azureml-mlflow==1.52.0) (3.0.9)\nRequirement already satisfied: charset-normalizer<4,>=2 in /anaconda/envs/azureml_py310_sdkv2/lib/python3.10/site-packages (from requests>=2.18.4->azure-core!=1.22.0,<2.0.0,>=1.8.0->azureml-mlflow==1.52.0) (3.1.0)\nRequirement already satisfied: idna<4,>=2.5 in /anaconda/envs/azureml_py310_sdkv2/lib/python3.10/site-packages (from requests>=2.18.4->azure-core!=1.22.0,<2.0.0,>=1.8.0->azureml-mlflow==1.52.0) (3.4)\nRequirement already satisfied: urllib3<1.27,>=1.21.1 in /anaconda/envs/azureml_py310_sdkv2/lib/python3.10/site-packages (from requests>=2.18.4->azure-core!=1.22.0,<2.0.0,>=1.8.0->azureml-mlflow==1.52.0) (1.26.15)\nRequirement already satisfied: smmap<6,>=3.0.1 in /anaconda/envs/azureml_py310_sdkv2/lib/python3.10/site-packages (from gitdb<5,>=4.0.1->gitpython<4,>=2.1.0->mlflow-skinny->azureml-mlflow==1.52.0) (5.0.0)\nNote: you may need to restart the kernel to use updated packages.\nRequirement already satisfied: evaluate in /anaconda/envs/azureml_py310_sdkv2/lib/python3.10/site-packages (0.4.0)\nRequirement already satisfied: datasets>=2.0.0 in /anaconda/envs/azureml_py310_sdkv2/lib/python3.10/site-packages (from evaluate) (2.9.0)\nRequirement already satisfied: numpy>=1.17 in /anaconda/envs/azureml_py310_sdkv2/lib/python3.10/site-packages (from evaluate) (1.23.5)\nRequirement already satisfied: dill in /anaconda/envs/azureml_py310_sdkv2/lib/python3.10/site-packages (from evaluate) (0.3.6)\nRequirement already satisfied: pandas in /anaconda/envs/azureml_py310_sdkv2/lib/python3.10/site-packages (from evaluate) (2.0.0)\nRequirement already satisfied: requests>=2.19.0 in /anaconda/envs/azureml_py310_sdkv2/lib/python3.10/site-packages (from evaluate) (2.28.2)\nRequirement already satisfied: tqdm>=4.62.1 in /anaconda/envs/azureml_py310_sdkv2/lib/python3.10/site-packages (from evaluate) (4.65.0)\nRequirement already satisfied: xxhash in /anaconda/envs/azureml_py310_sdkv2/lib/python3.10/site-packages (from evaluate) (3.2.0)\nRequirement already satisfied: multiprocess in /anaconda/envs/azureml_py310_sdkv2/lib/python3.10/site-packages (from evaluate) (0.70.14)\nRequirement already satisfied: fsspec[http]>=2021.05.0 in /anaconda/envs/azureml_py310_sdkv2/lib/python3.10/site-packages (from evaluate) (2023.3.0)\nRequirement already satisfied: huggingface-hub>=0.7.0 in /anaconda/envs/azureml_py310_sdkv2/lib/python3.10/site-packages (from evaluate) (0.16.4)\nRequirement already satisfied: packaging in /anaconda/envs/azureml_py310_sdkv2/lib/python3.10/site-packages (from evaluate) (21.3)\nRequirement already satisfied: responses<0.19 in /anaconda/envs/azureml_py310_sdkv2/lib/python3.10/site-packages (from evaluate) (0.18.0)\nRequirement already satisfied: pyarrow>=6.0.0 in /anaconda/envs/azureml_py310_sdkv2/lib/python3.10/site-packages (from datasets>=2.0.0->evaluate) (11.0.0)\nRequirement already satisfied: aiohttp in /anaconda/envs/azureml_py310_sdkv2/lib/python3.10/site-packages (from datasets>=2.0.0->evaluate) (3.8.4)\nRequirement already satisfied: pyyaml>=5.1 in /anaconda/envs/azureml_py310_sdkv2/lib/python3.10/site-packages (from datasets>=2.0.0->evaluate) (6.0)\nRequirement already satisfied: filelock in /anaconda/envs/azureml_py310_sdkv2/lib/python3.10/site-packages (from huggingface-hub>=0.7.0->evaluate) (3.11.0)\nRequirement already satisfied: typing-extensions>=3.7.4.3 in /anaconda/envs/azureml_py310_sdkv2/lib/python3.10/site-packages (from huggingface-hub>=0.7.0->evaluate) (4.5.0)\nRequirement already satisfied: pyparsing!=3.0.5,>=2.0.2 in /anaconda/envs/azureml_py310_sdkv2/lib/python3.10/site-packages (from packaging->evaluate) (3.0.9)\nRequirement already satisfied: charset-normalizer<4,>=2 in /anaconda/envs/azureml_py310_sdkv2/lib/python3.10/site-packages (from requests>=2.19.0->evaluate) (3.1.0)\nRequirement already satisfied: idna<4,>=2.5 in /anaconda/envs/azureml_py310_sdkv2/lib/python3.10/site-packages (from requests>=2.19.0->evaluate) (3.4)\nRequirement already satisfied: urllib3<1.27,>=1.21.1 in /anaconda/envs/azureml_py310_sdkv2/lib/python3.10/site-packages (from requests>=2.19.0->evaluate) (1.26.15)\nRequirement already satisfied: certifi>=2017.4.17 in /anaconda/envs/azureml_py310_sdkv2/lib/python3.10/site-packages (from requests>=2.19.0->evaluate) (2022.12.7)\nRequirement already satisfied: python-dateutil>=2.8.2 in /anaconda/envs/azureml_py310_sdkv2/lib/python3.10/site-packages (from pandas->evaluate) (2.8.2)\nRequirement already satisfied: pytz>=2020.1 in /anaconda/envs/azureml_py310_sdkv2/lib/python3.10/site-packages (from pandas->evaluate) (2022.7.1)\nRequirement already satisfied: tzdata>=2022.1 in /anaconda/envs/azureml_py310_sdkv2/lib/python3.10/site-packages (from pandas->evaluate) (2023.3)\nRequirement already satisfied: attrs>=17.3.0 in /anaconda/envs/azureml_py310_sdkv2/lib/python3.10/site-packages (from aiohttp->datasets>=2.0.0->evaluate) (22.2.0)\nRequirement already satisfied: multidict<7.0,>=4.5 in /anaconda/envs/azureml_py310_sdkv2/lib/python3.10/site-packages (from aiohttp->datasets>=2.0.0->evaluate) (6.0.4)\nRequirement already satisfied: async-timeout<5.0,>=4.0.0a3 in /anaconda/envs/azureml_py310_sdkv2/lib/python3.10/site-packages (from aiohttp->datasets>=2.0.0->evaluate) (4.0.2)\nRequirement already satisfied: yarl<2.0,>=1.0 in /anaconda/envs/azureml_py310_sdkv2/lib/python3.10/site-packages (from aiohttp->datasets>=2.0.0->evaluate) (1.9.2)\nRequirement already satisfied: frozenlist>=1.1.1 in /anaconda/envs/azureml_py310_sdkv2/lib/python3.10/site-packages (from aiohttp->datasets>=2.0.0->evaluate) (1.3.3)\nRequirement already satisfied: aiosignal>=1.1.2 in /anaconda/envs/azureml_py310_sdkv2/lib/python3.10/site-packages (from aiohttp->datasets>=2.0.0->evaluate) (1.3.1)\nRequirement already satisfied: six>=1.5 in /anaconda/envs/azureml_py310_sdkv2/lib/python3.10/site-packages (from python-dateutil>=2.8.2->pandas->evaluate) (1.16.0)\nNote: you may need to restart the kernel to use updated packages.\n"
        }
      ],
      "execution_count": 2,
      "metadata": {
        "jupyter": {
          "source_hidden": false,
          "outputs_hidden": false
        },
        "nteract": {
          "transient": {
            "deleting": false
          }
        }
      }
    },
    {
      "cell_type": "code",
      "source": [
        "import mlflow\r\n",
        "from azure.ai.ml import MLClient\r\n",
        "from azureml.core import Workspace\r\n",
        "from azure.identity import DefaultAzureCredential\r\n",
        "\r\n",
        "subscription_id = '80c77c76-74ba-4c8c-8229-4c3b2957990c'\r\n",
        "resource_group = 'sonata-test-rg'\r\n",
        "workspace_name = 'sonata-test-ws'\r\n",
        "\r\n",
        "credential = DefaultAzureCredential()\r\n",
        "ws = Workspace(subscription_id, resource_group, workspace_name)\r\n",
        "\r\n",
        "workspace_ml_client = MLClient(\r\n",
        "        credential, subscription_id, resource_group, ws\r\n",
        "    )"
      ],
      "outputs": [],
      "execution_count": 3,
      "metadata": {
        "jupyter": {
          "source_hidden": false,
          "outputs_hidden": false
        },
        "nteract": {
          "transient": {
            "deleting": false
          }
        },
        "gather": {
          "logged": 1689606187565
        }
      }
    },
    {
      "cell_type": "code",
      "source": [
        "# store the mlflow results in azure ml workspace\r\n",
        "mlflow.set_tracking_uri(ws.get_mlflow_tracking_uri())"
      ],
      "outputs": [],
      "execution_count": 4,
      "metadata": {
        "jupyter": {
          "source_hidden": false,
          "outputs_hidden": false
        },
        "nteract": {
          "transient": {
            "deleting": false
          }
        },
        "gather": {
          "logged": 1689606262453
        }
      }
    },
    {
      "cell_type": "code",
      "source": [
        "modelname = 'gpt2-medium'\r\n",
        "from transformers import AutoModelForCausalLM\r\n",
        "from transformers import AutoTokenizer\r\n",
        "\r\n",
        "tokenizer = AutoTokenizer.from_pretrained(modelname)\r\n",
        "model = AutoModelForCausalLM.from_pretrained(modelname)"
      ],
      "outputs": [
        {
          "output_type": "stream",
          "name": "stderr",
          "text": "/anaconda/envs/azureml_py310_sdkv2/lib/python3.10/site-packages/tqdm/auto.py:21: TqdmWarning: IProgress not found. Please update jupyter and ipywidgets. See https://ipywidgets.readthedocs.io/en/stable/user_install.html\n  from .autonotebook import tqdm as notebook_tqdm\n"
        }
      ],
      "execution_count": 5,
      "metadata": {
        "gather": {
          "logged": 1689606295336
        }
      }
    },
    {
      "cell_type": "code",
      "source": [
        "basemodel = mlflow.transformers.log_model(\r\n",
        "        transformers_model={\"model\": model, \"tokenizer\": tokenizer },\r\n",
        "        task=\"text-generation\",\r\n",
        "        artifact_path=\"models/basemodel\",\r\n",
        "        input_example=[\"base model loaded directly from transformer's\"],\r\n",
        "        registered_model_name=\"Gpt-2-medium-base-model\"\r\n",
        "        )"
      ],
      "outputs": [
        {
          "output_type": "stream",
          "name": "stderr",
          "text": "Setting `pad_token_id` to `eos_token_id`:50256 for open-end generation.\n/anaconda/envs/azureml_py310_sdkv2/lib/python3.10/site-packages/transformers/generation/utils.py:1346: UserWarning: Using `max_length`'s default (50) to control the generation length. This behaviour is deprecated and will be removed from the config in v5 of Transformers -- we recommend using `max_new_tokens` to control the maximum length of the generation.\n  warnings.warn(\n2023/07/17 15:06:34 WARNING mlflow.utils.environment: Encountered an unexpected error while inferring pip requirements (model URI: /tmp/tmp6dfdvesm/model, flavor: transformers), fall back to return ['transformers==4.29.0', 'torch==2.0.1', 'torchvision==0.15.2', 'accelerate==0.21.0']. Set logging level to DEBUG to see the full traceback.\n/anaconda/envs/azureml_py310_sdkv2/lib/python3.10/site-packages/_distutils_hack/__init__.py:33: UserWarning: Setuptools is replacing distutils.\n  warnings.warn(\"Setuptools is replacing distutils.\")\nSuccessfully registered model 'Gpt-2-medium-base-model'.\n2023/07/17 15:06:48 INFO mlflow.tracking._model_registry.client: Waiting up to 300 seconds for model version to finish creation. Model name: Gpt-2-medium-base-model, version 1\nCreated version '1' of model 'Gpt-2-medium-base-model'.\n"
        }
      ],
      "execution_count": 6,
      "metadata": {
        "jupyter": {
          "source_hidden": false,
          "outputs_hidden": false
        },
        "nteract": {
          "transient": {
            "deleting": false
          }
        },
        "gather": {
          "logged": 1689606391643
        }
      }
    },
    {
      "cell_type": "code",
      "source": [
        "mlmodel = mlflow.transformers.save_model(\r\n",
        "    transformers_model={\"model\": model, \"tokenizer\": tokenizer },\r\n",
        "    path=\"./gpt2savedmodel\"\r\n",
        ")"
      ],
      "outputs": [],
      "execution_count": 42,
      "metadata": {
        "jupyter": {
          "source_hidden": false,
          "outputs_hidden": false
        },
        "nteract": {
          "transient": {
            "deleting": false
          }
        },
        "gather": {
          "logged": 1689607643420
        }
      }
    },
    {
      "cell_type": "code",
      "source": [
        "mlmodel"
      ],
      "outputs": [],
      "execution_count": 46,
      "metadata": {
        "jupyter": {
          "source_hidden": false,
          "outputs_hidden": false
        },
        "nteract": {
          "transient": {
            "deleting": false
          }
        },
        "gather": {
          "logged": 1689607719909
        }
      }
    },
    {
      "cell_type": "code",
      "source": [
        "from datasets import load_dataset\r\n",
        "traindataset = load_dataset(\"cnn_dailymail\",\"3.0.0\", split=\"train\").shuffle().select(range(100))\r\n",
        "testdataset = load_dataset(\"cnn_dailymail\", \"3.0.0\", split=\"test\").shuffle().select(range(50))"
      ],
      "outputs": [
        {
          "output_type": "stream",
          "name": "stderr",
          "text": "Found cached dataset cnn_dailymail (/home/azureuser/.cache/huggingface/datasets/cnn_dailymail/3.0.0/3.0.0/1b3c71476f6d152c31c1730e83ccb08bcf23e348233f4fcc11e182248e6bf7de)\nFound cached dataset cnn_dailymail (/home/azureuser/.cache/huggingface/datasets/cnn_dailymail/3.0.0/3.0.0/1b3c71476f6d152c31c1730e83ccb08bcf23e348233f4fcc11e182248e6bf7de)\n"
        }
      ],
      "execution_count": 8,
      "metadata": {
        "jupyter": {
          "source_hidden": false,
          "outputs_hidden": false
        },
        "nteract": {
          "transient": {
            "deleting": false
          }
        },
        "gather": {
          "logged": 1689606466460
        }
      }
    },
    {
      "cell_type": "code",
      "source": [
        "traindataset_df=traindataset.to_pandas()\r\n",
        "traindataset_df"
      ],
      "outputs": [
        {
          "output_type": "execute_result",
          "execution_count": 9,
          "data": {
            "text/plain": "                                              article   \n0   By . Chris Parsons . PUBLISHED: . 22:18 EST, 1...  \\\n1   Luay al-Khatteeb has spoken to CNN previously ...   \n2   By . Hugo Gye and Peter Allen In Paris . PUBLI...   \n3   Alex Salmond is planning a visit to watch the ...   \n4   By . Pa Reporter . Jazz Carlin and Fran Halsal...   \n..                                                ...   \n95  (CNN) -- Jason Derulo has a message for fans w...   \n96  By . Lucy Crossley . PUBLISHED: . 07:01 EST, 2...   \n97  By . Simon Parry . PUBLISHED: . 18:58 EST, 31 ...   \n98  (CNN) -- More than two dozen children were amo...   \n99  By . Laura Williamson . Follow @@laura_mail . ...   \n\n                                           highlights   \n0   Channel were 'disloyal and ungrateful' to X Fa...  \\\n1   Luay al-Khatteeb says ISIS now controls 60% of...   \n2   Zaid Al-Hilli, 53, interrogated over killing o...   \n3   4million Scots to take part in independence re...   \n4   Jazz Carlin wins gold in 400m freestyle at the...   \n..                                                ...   \n95  Derulo confirmed the breakup during a radio in...   \n96  Joy Turnbull, 63, was mending a fence with hus...   \n97  Lindsay Sandiford did not find out about her f...   \n98  Twenty-seven minors, including one boy, were a...   \n99  Sprinter's time of 10.03secs puts him second i...   \n\n                                          id  \n0   8d9236aa44b87371d0c9ba71b497e9a453c36d40  \n1   2c9f2c08ebfd60634f4f188c3af00d77f5da18dd  \n2   37cae83e10c72cf8705e0f9f8f2274cba041714d  \n3   bcebaa4f06b0f77b4bc176f26d4e9833066e8b7a  \n4   49fd21336d7632a1c7f00e83a5cdce5f83d5bfcb  \n..                                       ...  \n95  acc6576067efe4b2204b6bd2b2010b59bb819af3  \n96  2d7c3c9573152d9b7368dbb04001b6ac581903b0  \n97  e405abf895265ad1c9cef9ad4e50c77ff6a96500  \n98  5196ad6481251dbc29eb6a355013c12d2a3c2c5b  \n99  fd74fac554862ac13045e7356d1e5945b0707920  \n\n[100 rows x 3 columns]",
            "text/html": "<div>\n<style scoped>\n    .dataframe tbody tr th:only-of-type {\n        vertical-align: middle;\n    }\n\n    .dataframe tbody tr th {\n        vertical-align: top;\n    }\n\n    .dataframe thead th {\n        text-align: right;\n    }\n</style>\n<table border=\"1\" class=\"dataframe\">\n  <thead>\n    <tr style=\"text-align: right;\">\n      <th></th>\n      <th>article</th>\n      <th>highlights</th>\n      <th>id</th>\n    </tr>\n  </thead>\n  <tbody>\n    <tr>\n      <th>0</th>\n      <td>By . Chris Parsons . PUBLISHED: . 22:18 EST, 1...</td>\n      <td>Channel were 'disloyal and ungrateful' to X Fa...</td>\n      <td>8d9236aa44b87371d0c9ba71b497e9a453c36d40</td>\n    </tr>\n    <tr>\n      <th>1</th>\n      <td>Luay al-Khatteeb has spoken to CNN previously ...</td>\n      <td>Luay al-Khatteeb says ISIS now controls 60% of...</td>\n      <td>2c9f2c08ebfd60634f4f188c3af00d77f5da18dd</td>\n    </tr>\n    <tr>\n      <th>2</th>\n      <td>By . Hugo Gye and Peter Allen In Paris . PUBLI...</td>\n      <td>Zaid Al-Hilli, 53, interrogated over killing o...</td>\n      <td>37cae83e10c72cf8705e0f9f8f2274cba041714d</td>\n    </tr>\n    <tr>\n      <th>3</th>\n      <td>Alex Salmond is planning a visit to watch the ...</td>\n      <td>4million Scots to take part in independence re...</td>\n      <td>bcebaa4f06b0f77b4bc176f26d4e9833066e8b7a</td>\n    </tr>\n    <tr>\n      <th>4</th>\n      <td>By . Pa Reporter . Jazz Carlin and Fran Halsal...</td>\n      <td>Jazz Carlin wins gold in 400m freestyle at the...</td>\n      <td>49fd21336d7632a1c7f00e83a5cdce5f83d5bfcb</td>\n    </tr>\n    <tr>\n      <th>...</th>\n      <td>...</td>\n      <td>...</td>\n      <td>...</td>\n    </tr>\n    <tr>\n      <th>95</th>\n      <td>(CNN) -- Jason Derulo has a message for fans w...</td>\n      <td>Derulo confirmed the breakup during a radio in...</td>\n      <td>acc6576067efe4b2204b6bd2b2010b59bb819af3</td>\n    </tr>\n    <tr>\n      <th>96</th>\n      <td>By . Lucy Crossley . PUBLISHED: . 07:01 EST, 2...</td>\n      <td>Joy Turnbull, 63, was mending a fence with hus...</td>\n      <td>2d7c3c9573152d9b7368dbb04001b6ac581903b0</td>\n    </tr>\n    <tr>\n      <th>97</th>\n      <td>By . Simon Parry . PUBLISHED: . 18:58 EST, 31 ...</td>\n      <td>Lindsay Sandiford did not find out about her f...</td>\n      <td>e405abf895265ad1c9cef9ad4e50c77ff6a96500</td>\n    </tr>\n    <tr>\n      <th>98</th>\n      <td>(CNN) -- More than two dozen children were amo...</td>\n      <td>Twenty-seven minors, including one boy, were a...</td>\n      <td>5196ad6481251dbc29eb6a355013c12d2a3c2c5b</td>\n    </tr>\n    <tr>\n      <th>99</th>\n      <td>By . Laura Williamson . Follow @@laura_mail . ...</td>\n      <td>Sprinter's time of 10.03secs puts him second i...</td>\n      <td>fd74fac554862ac13045e7356d1e5945b0707920</td>\n    </tr>\n  </tbody>\n</table>\n<p>100 rows × 3 columns</p>\n</div>"
          },
          "metadata": {}
        }
      ],
      "execution_count": 9,
      "metadata": {
        "jupyter": {
          "source_hidden": false,
          "outputs_hidden": false
        },
        "nteract": {
          "transient": {
            "deleting": false
          }
        },
        "gather": {
          "logged": 1689606520516
        }
      }
    },
    {
      "cell_type": "code",
      "source": [
        "def tokenizer_function(examples):\r\n",
        "        return tokenizer(examples[\"article\"],text_target=examples[\"highlights\"],truncation=True,padding=True,max_length=128,return_tensors=\"pt\")\r\n",
        "\r\n",
        "tokenizer.pad_token = tokenizer.eos_token\r\n",
        "#tokenizer.add_special_tokens({'pad_token': '-'})\r\n",
        "traindataset = traindataset.map(tokenizer_function,batched=True)\r\n",
        "testdataset = testdataset.map(tokenizer_function,batched=True)"
      ],
      "outputs": [
        {
          "output_type": "stream",
          "name": "stderr",
          "text": "100%|██████████| 1/1 [00:00<00:00,  2.19ba/s]\n100%|██████████| 1/1 [00:00<00:00,  2.16ba/s]\n"
        }
      ],
      "execution_count": 10,
      "metadata": {
        "jupyter": {
          "source_hidden": false,
          "outputs_hidden": false
        },
        "nteract": {
          "transient": {
            "deleting": false
          }
        },
        "gather": {
          "logged": 1689606553068
        }
      }
    },
    {
      "cell_type": "code",
      "source": [
        "traindataset_df=traindataset.to_pandas()\r\n",
        "traindataset_df"
      ],
      "outputs": [
        {
          "output_type": "execute_result",
          "execution_count": 11,
          "data": {
            "text/plain": "                                              article   \n0   By . Chris Parsons . PUBLISHED: . 22:18 EST, 1...  \\\n1   Luay al-Khatteeb has spoken to CNN previously ...   \n2   By . Hugo Gye and Peter Allen In Paris . PUBLI...   \n3   Alex Salmond is planning a visit to watch the ...   \n4   By . Pa Reporter . Jazz Carlin and Fran Halsal...   \n..                                                ...   \n95  (CNN) -- Jason Derulo has a message for fans w...   \n96  By . Lucy Crossley . PUBLISHED: . 07:01 EST, 2...   \n97  By . Simon Parry . PUBLISHED: . 18:58 EST, 31 ...   \n98  (CNN) -- More than two dozen children were amo...   \n99  By . Laura Williamson . Follow @@laura_mail . ...   \n\n                                           highlights   \n0   Channel were 'disloyal and ungrateful' to X Fa...  \\\n1   Luay al-Khatteeb says ISIS now controls 60% of...   \n2   Zaid Al-Hilli, 53, interrogated over killing o...   \n3   4million Scots to take part in independence re...   \n4   Jazz Carlin wins gold in 400m freestyle at the...   \n..                                                ...   \n95  Derulo confirmed the breakup during a radio in...   \n96  Joy Turnbull, 63, was mending a fence with hus...   \n97  Lindsay Sandiford did not find out about her f...   \n98  Twenty-seven minors, including one boy, were a...   \n99  Sprinter's time of 10.03secs puts him second i...   \n\n                                          id   \n0   8d9236aa44b87371d0c9ba71b497e9a453c36d40  \\\n1   2c9f2c08ebfd60634f4f188c3af00d77f5da18dd   \n2   37cae83e10c72cf8705e0f9f8f2274cba041714d   \n3   bcebaa4f06b0f77b4bc176f26d4e9833066e8b7a   \n4   49fd21336d7632a1c7f00e83a5cdce5f83d5bfcb   \n..                                       ...   \n95  acc6576067efe4b2204b6bd2b2010b59bb819af3   \n96  2d7c3c9573152d9b7368dbb04001b6ac581903b0   \n97  e405abf895265ad1c9cef9ad4e50c77ff6a96500   \n98  5196ad6481251dbc29eb6a355013c12d2a3c2c5b   \n99  fd74fac554862ac13045e7356d1e5945b0707920   \n\n                                            input_ids   \n0   [3886, 764, 5180, 35925, 764, 24676, 9148, 184...  \\\n1   [25596, 323, 435, 12, 42, 5183, 660, 1765, 468...   \n2   [3886, 764, 25930, 402, 5948, 290, 5613, 9659,...   \n3   [15309, 4849, 6327, 318, 5410, 257, 3187, 284,...   \n4   [3886, 764, 11243, 25869, 764, 21406, 1879, 28...   \n..                                                ...   \n95  [7, 18474, 8, 1377, 8982, 9626, 43348, 468, 25...   \n96  [3886, 764, 22162, 6372, 1636, 764, 24676, 914...   \n97  [3886, 764, 11288, 2547, 563, 764, 24676, 9148...   \n98  [7, 18474, 8, 1377, 3125, 621, 734, 8667, 1751...   \n99  [3886, 764, 16753, 34974, 764, 7281, 25248, 75...   \n\n                                       attention_mask   \n0   [1, 1, 1, 1, 1, 1, 1, 1, 1, 1, 1, 1, 1, 1, 1, ...  \\\n1   [1, 1, 1, 1, 1, 1, 1, 1, 1, 1, 1, 1, 1, 1, 1, ...   \n2   [1, 1, 1, 1, 1, 1, 1, 1, 1, 1, 1, 1, 1, 1, 1, ...   \n3   [1, 1, 1, 1, 1, 1, 1, 1, 1, 1, 1, 1, 1, 1, 1, ...   \n4   [1, 1, 1, 1, 1, 1, 1, 1, 1, 1, 1, 1, 1, 1, 1, ...   \n..                                                ...   \n95  [1, 1, 1, 1, 1, 1, 1, 1, 1, 1, 1, 1, 1, 1, 1, ...   \n96  [1, 1, 1, 1, 1, 1, 1, 1, 1, 1, 1, 1, 1, 1, 1, ...   \n97  [1, 1, 1, 1, 1, 1, 1, 1, 1, 1, 1, 1, 1, 1, 1, ...   \n98  [1, 1, 1, 1, 1, 1, 1, 1, 1, 1, 1, 1, 1, 1, 1, ...   \n99  [1, 1, 1, 1, 1, 1, 1, 1, 1, 1, 1, 1, 1, 1, 1, ...   \n\n                                               labels  \n0   [29239, 547, 705, 67, 3044, 4815, 290, 555, 21...  \n1   [25596, 323, 435, 12, 42, 5183, 660, 1765, 113...  \n2   [57, 1698, 978, 12, 36369, 72, 11, 7192, 11, 4...  \n3   [19, 14100, 33860, 284, 1011, 636, 287, 10404,...  \n4   [41, 8101, 1879, 2815, 7864, 3869, 287, 7337, ...  \n..                                                ...  \n95  [28532, 43348, 4999, 262, 41584, 1141, 257, 52...  \n96  [41338, 26445, 11, 8093, 11, 373, 285, 1571, 2...  \n97  [43410, 16706, 3837, 361, 585, 750, 407, 1064,...  \n98  [34096, 12, 26548, 21423, 11, 1390, 530, 2933,...  \n99  [38454, 3849, 338, 640, 286, 838, 13, 3070, 23...  \n\n[100 rows x 6 columns]",
            "text/html": "<div>\n<style scoped>\n    .dataframe tbody tr th:only-of-type {\n        vertical-align: middle;\n    }\n\n    .dataframe tbody tr th {\n        vertical-align: top;\n    }\n\n    .dataframe thead th {\n        text-align: right;\n    }\n</style>\n<table border=\"1\" class=\"dataframe\">\n  <thead>\n    <tr style=\"text-align: right;\">\n      <th></th>\n      <th>article</th>\n      <th>highlights</th>\n      <th>id</th>\n      <th>input_ids</th>\n      <th>attention_mask</th>\n      <th>labels</th>\n    </tr>\n  </thead>\n  <tbody>\n    <tr>\n      <th>0</th>\n      <td>By . Chris Parsons . PUBLISHED: . 22:18 EST, 1...</td>\n      <td>Channel were 'disloyal and ungrateful' to X Fa...</td>\n      <td>8d9236aa44b87371d0c9ba71b497e9a453c36d40</td>\n      <td>[3886, 764, 5180, 35925, 764, 24676, 9148, 184...</td>\n      <td>[1, 1, 1, 1, 1, 1, 1, 1, 1, 1, 1, 1, 1, 1, 1, ...</td>\n      <td>[29239, 547, 705, 67, 3044, 4815, 290, 555, 21...</td>\n    </tr>\n    <tr>\n      <th>1</th>\n      <td>Luay al-Khatteeb has spoken to CNN previously ...</td>\n      <td>Luay al-Khatteeb says ISIS now controls 60% of...</td>\n      <td>2c9f2c08ebfd60634f4f188c3af00d77f5da18dd</td>\n      <td>[25596, 323, 435, 12, 42, 5183, 660, 1765, 468...</td>\n      <td>[1, 1, 1, 1, 1, 1, 1, 1, 1, 1, 1, 1, 1, 1, 1, ...</td>\n      <td>[25596, 323, 435, 12, 42, 5183, 660, 1765, 113...</td>\n    </tr>\n    <tr>\n      <th>2</th>\n      <td>By . Hugo Gye and Peter Allen In Paris . PUBLI...</td>\n      <td>Zaid Al-Hilli, 53, interrogated over killing o...</td>\n      <td>37cae83e10c72cf8705e0f9f8f2274cba041714d</td>\n      <td>[3886, 764, 25930, 402, 5948, 290, 5613, 9659,...</td>\n      <td>[1, 1, 1, 1, 1, 1, 1, 1, 1, 1, 1, 1, 1, 1, 1, ...</td>\n      <td>[57, 1698, 978, 12, 36369, 72, 11, 7192, 11, 4...</td>\n    </tr>\n    <tr>\n      <th>3</th>\n      <td>Alex Salmond is planning a visit to watch the ...</td>\n      <td>4million Scots to take part in independence re...</td>\n      <td>bcebaa4f06b0f77b4bc176f26d4e9833066e8b7a</td>\n      <td>[15309, 4849, 6327, 318, 5410, 257, 3187, 284,...</td>\n      <td>[1, 1, 1, 1, 1, 1, 1, 1, 1, 1, 1, 1, 1, 1, 1, ...</td>\n      <td>[19, 14100, 33860, 284, 1011, 636, 287, 10404,...</td>\n    </tr>\n    <tr>\n      <th>4</th>\n      <td>By . Pa Reporter . Jazz Carlin and Fran Halsal...</td>\n      <td>Jazz Carlin wins gold in 400m freestyle at the...</td>\n      <td>49fd21336d7632a1c7f00e83a5cdce5f83d5bfcb</td>\n      <td>[3886, 764, 11243, 25869, 764, 21406, 1879, 28...</td>\n      <td>[1, 1, 1, 1, 1, 1, 1, 1, 1, 1, 1, 1, 1, 1, 1, ...</td>\n      <td>[41, 8101, 1879, 2815, 7864, 3869, 287, 7337, ...</td>\n    </tr>\n    <tr>\n      <th>...</th>\n      <td>...</td>\n      <td>...</td>\n      <td>...</td>\n      <td>...</td>\n      <td>...</td>\n      <td>...</td>\n    </tr>\n    <tr>\n      <th>95</th>\n      <td>(CNN) -- Jason Derulo has a message for fans w...</td>\n      <td>Derulo confirmed the breakup during a radio in...</td>\n      <td>acc6576067efe4b2204b6bd2b2010b59bb819af3</td>\n      <td>[7, 18474, 8, 1377, 8982, 9626, 43348, 468, 25...</td>\n      <td>[1, 1, 1, 1, 1, 1, 1, 1, 1, 1, 1, 1, 1, 1, 1, ...</td>\n      <td>[28532, 43348, 4999, 262, 41584, 1141, 257, 52...</td>\n    </tr>\n    <tr>\n      <th>96</th>\n      <td>By . Lucy Crossley . PUBLISHED: . 07:01 EST, 2...</td>\n      <td>Joy Turnbull, 63, was mending a fence with hus...</td>\n      <td>2d7c3c9573152d9b7368dbb04001b6ac581903b0</td>\n      <td>[3886, 764, 22162, 6372, 1636, 764, 24676, 914...</td>\n      <td>[1, 1, 1, 1, 1, 1, 1, 1, 1, 1, 1, 1, 1, 1, 1, ...</td>\n      <td>[41338, 26445, 11, 8093, 11, 373, 285, 1571, 2...</td>\n    </tr>\n    <tr>\n      <th>97</th>\n      <td>By . Simon Parry . PUBLISHED: . 18:58 EST, 31 ...</td>\n      <td>Lindsay Sandiford did not find out about her f...</td>\n      <td>e405abf895265ad1c9cef9ad4e50c77ff6a96500</td>\n      <td>[3886, 764, 11288, 2547, 563, 764, 24676, 9148...</td>\n      <td>[1, 1, 1, 1, 1, 1, 1, 1, 1, 1, 1, 1, 1, 1, 1, ...</td>\n      <td>[43410, 16706, 3837, 361, 585, 750, 407, 1064,...</td>\n    </tr>\n    <tr>\n      <th>98</th>\n      <td>(CNN) -- More than two dozen children were amo...</td>\n      <td>Twenty-seven minors, including one boy, were a...</td>\n      <td>5196ad6481251dbc29eb6a355013c12d2a3c2c5b</td>\n      <td>[7, 18474, 8, 1377, 3125, 621, 734, 8667, 1751...</td>\n      <td>[1, 1, 1, 1, 1, 1, 1, 1, 1, 1, 1, 1, 1, 1, 1, ...</td>\n      <td>[34096, 12, 26548, 21423, 11, 1390, 530, 2933,...</td>\n    </tr>\n    <tr>\n      <th>99</th>\n      <td>By . Laura Williamson . Follow @@laura_mail . ...</td>\n      <td>Sprinter's time of 10.03secs puts him second i...</td>\n      <td>fd74fac554862ac13045e7356d1e5945b0707920</td>\n      <td>[3886, 764, 16753, 34974, 764, 7281, 25248, 75...</td>\n      <td>[1, 1, 1, 1, 1, 1, 1, 1, 1, 1, 1, 1, 1, 1, 1, ...</td>\n      <td>[38454, 3849, 338, 640, 286, 838, 13, 3070, 23...</td>\n    </tr>\n  </tbody>\n</table>\n<p>100 rows × 6 columns</p>\n</div>"
          },
          "metadata": {}
        }
      ],
      "execution_count": 11,
      "metadata": {
        "jupyter": {
          "source_hidden": false,
          "outputs_hidden": false
        },
        "nteract": {
          "transient": {
            "deleting": false
          }
        },
        "gather": {
          "logged": 1689606557976
        }
      }
    },
    {
      "cell_type": "code",
      "source": [
        "traindataset = traindataset.remove_columns([\"article\",\"highlights\",\"id\"])\r\n",
        "testdataset = testdataset.remove_columns([\"article\",\"highlights\",\"id\"])"
      ],
      "outputs": [],
      "execution_count": 12,
      "metadata": {
        "jupyter": {
          "source_hidden": false,
          "outputs_hidden": false
        },
        "nteract": {
          "transient": {
            "deleting": false
          }
        },
        "gather": {
          "logged": 1689606563063
        }
      }
    },
    {
      "cell_type": "code",
      "source": [
        "import evaluate\r\n",
        "metrics = evaluate.load(\"perplexity\")"
      ],
      "outputs": [],
      "execution_count": 13,
      "metadata": {
        "jupyter": {
          "source_hidden": false,
          "outputs_hidden": false
        },
        "nteract": {
          "transient": {
            "deleting": false
          }
        },
        "gather": {
          "logged": 1689606565506
        }
      }
    },
    {
      "cell_type": "code",
      "source": [
        "import numpy as np\r\n",
        "def compute_metrics(eval_period):\r\n",
        "        print(eval_period) \r\n",
        "        logits, labels = eval_period\r\n",
        "        predictions = np.argmax(logits,x_axis = 1)\r\n",
        "        return metrics.compute(predictions = predictions, references = labels)"
      ],
      "outputs": [],
      "execution_count": 14,
      "metadata": {
        "jupyter": {
          "source_hidden": false,
          "outputs_hidden": false
        },
        "nteract": {
          "transient": {
            "deleting": false
          }
        },
        "gather": {
          "logged": 1689606568907
        }
      }
    },
    {
      "cell_type": "code",
      "source": [
        "from transformers import TrainingArguments,Trainer,TrainerCallback\r\n",
        "\r\n",
        "class MyCallback(TrainerCallback):\r\n",
        "    \"A callback that prints a message at the beginning of training\"\r\n",
        "\r\n",
        "    def on_train_begin(self, args, state, control, **kwargs):\r\n",
        "        print(\"Starting training\")\r\n",
        "\r\n",
        "Training_args = TrainingArguments(\r\n",
        "        num_train_epochs = 1,\r\n",
        "        output_dir= \"output\",\r\n",
        "        save_strategy=\"epoch\"\r\n",
        "    )\r\n",
        "\r\n",
        "trainer = Trainer(\r\n",
        "        model = model,\r\n",
        "        tokenizer=tokenizer,\r\n",
        "        args = Training_args,\r\n",
        "        compute_metrics=compute_metrics,\r\n",
        "        train_dataset = traindataset,\r\n",
        "        eval_dataset = testdataset,\r\n",
        "        callbacks = [MyCallback]\r\n",
        "    )"
      ],
      "outputs": [],
      "execution_count": 49,
      "metadata": {
        "jupyter": {
          "source_hidden": false,
          "outputs_hidden": false
        },
        "nteract": {
          "transient": {
            "deleting": false
          }
        },
        "gather": {
          "logged": 1689607754344
        }
      }
    },
    {
      "cell_type": "code",
      "source": [
        "result = trainer.train()"
      ],
      "outputs": [
        {
          "output_type": "stream",
          "name": "stderr",
          "text": "/anaconda/envs/azureml_py310_sdkv2/lib/python3.10/site-packages/transformers/optimization.py:407: FutureWarning: This implementation of AdamW is deprecated and will be removed in a future version. Use the PyTorch implementation torch.optim.AdamW instead, or set `no_deprecation_warning=True` to disable this warning\n  warnings.warn(\nYou're using a GPT2TokenizerFast tokenizer. Please note that with a fast tokenizer, using the `__call__` method is faster than using a method to encode the text followed by a call to the `pad` method to get a padded encoding.\n"
        },
        {
          "output_type": "stream",
          "name": "stdout",
          "text": "Starting training\n"
        },
        {
          "output_type": "display_data",
          "data": {
            "text/plain": "<IPython.core.display.HTML object>",
            "text/html": "\n    <div>\n      \n      <progress value='13' max='13' style='width:300px; height:20px; vertical-align: middle;'></progress>\n      [13/13 01:51, Epoch 1/1]\n    </div>\n    <table border=\"1\" class=\"dataframe\">\n  <thead>\n <tr style=\"text-align: left;\">\n      <th>Step</th>\n      <th>Training Loss</th>\n    </tr>\n  </thead>\n  <tbody>\n  </tbody>\n</table><p>"
          },
          "metadata": {}
        }
      ],
      "execution_count": 21,
      "metadata": {
        "jupyter": {
          "source_hidden": false,
          "outputs_hidden": false
        },
        "nteract": {
          "transient": {
            "deleting": false
          }
        },
        "gather": {
          "logged": 1689606896072
        }
      }
    },
    {
      "cell_type": "code",
      "source": [
        "result.metrics"
      ],
      "outputs": [
        {
          "output_type": "execute_result",
          "execution_count": 23,
          "data": {
            "text/plain": "{'train_runtime': 121.3436,\n 'train_samples_per_second': 0.824,\n 'train_steps_per_second': 0.107,\n 'total_flos': 23217517363200.0,\n 'train_loss': 6.043617835411658,\n 'epoch': 1.0}"
          },
          "metadata": {}
        }
      ],
      "execution_count": 23,
      "metadata": {
        "jupyter": {
          "source_hidden": false,
          "outputs_hidden": false
        },
        "nteract": {
          "transient": {
            "deleting": false
          }
        },
        "gather": {
          "logged": 1689606921265
        }
      }
    }
  ],
  "metadata": {
    "kernelspec": {
      "name": "python310-sdkv2",
      "language": "python",
      "display_name": "Python 3.10 - SDK v2"
    },
    "language_info": {
      "name": "python",
      "version": "3.10.10",
      "mimetype": "text/x-python",
      "codemirror_mode": {
        "name": "ipython",
        "version": 3
      },
      "pygments_lexer": "ipython3",
      "nbconvert_exporter": "python",
      "file_extension": ".py"
    },
    "microsoft": {
      "ms_spell_check": {
        "ms_spell_check_language": "en"
      },
      "host": {
        "AzureML": {
          "notebookHasBeenCompleted": true
        }
      }
    },
    "kernel_info": {
      "name": "python310-sdkv2"
    },
    "nteract": {
      "version": "nteract-front-end@1.0.0"
    }
  },
  "nbformat": 4,
  "nbformat_minor": 2
}