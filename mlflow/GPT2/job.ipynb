{
  "cells": [
    {
      "cell_type": "code",
      "source": [
        "#import required libraries\r\n",
        "from azure.ai.ml import MLClient\r\n",
        "from azure.identity import DefaultAzureCredential\r\n",
        "\r\n",
        "#Enter details of your Azure Machine Learning workspace\r\n",
        "subscription_id = '80c77c76-74ba-4c8c-8229-4c3b2957990c'\r\n",
        "resource_group = 'sonata-test-rg'\r\n",
        "workspace_name = 'sonata-test-ws'\r\n",
        "\r\n",
        "#connect to the workspace\r\n",
        "ml_client = MLClient(DefaultAzureCredential(), subscription_id, resource_group, workspace_name)"
      ],
      "outputs": [],
      "execution_count": 9,
      "metadata": {
        "gather": {
          "logged": 1690330257758
        }
      }
    },
    {
      "cell_type": "code",
      "source": [
        "from azure.ai.ml.entities import AmlCompute\r\n",
        "\r\n",
        "# specify aml compute name.\r\n",
        "cpu_compute_target = \"cpu-cluster\"\r\n",
        "\r\n",
        "try:\r\n",
        "    ml_client.compute.get(cpu_compute_target)\r\n",
        "except Exception:\r\n",
        "    print(\"Creating a new cpu compute target...\")\r\n",
        "    compute = AmlCompute(\r\n",
        "        name=cpu_compute_target, size=\"STANDARD_D2_V2\", min_instances=0, max_instances=4\r\n",
        "    )\r\n",
        "    ml_client.compute.begin_create_or_update(compute).result()"
      ],
      "outputs": [],
      "execution_count": 10,
      "metadata": {
        "jupyter": {
          "source_hidden": false,
          "outputs_hidden": false
        },
        "nteract": {
          "transient": {
            "deleting": false
          }
        },
        "gather": {
          "logged": 1690330261187
        }
      }
    },
    {
      "cell_type": "code",
      "source": [
        "from azure.ai.ml import command, Input\r\n",
        "\r\n",
        "# define the command\r\n",
        "command_job = command(\r\n",
        "    code=\"./\",\r\n",
        "    # command=\"python gpt2_trainer.py --cnn_dailymail ${{inputs.cnn_dailymail}}\",\r\n",
        "    command=\"python gpt2_trainer.py\",\r\n",
        "    environment=\"gpt2-venv:7\",\r\n",
        "    # inputs={\r\n",
        "    #     \"cnn_dailymail\": Input(\r\n",
        "    #         type=\"uri_file\",\r\n",
        "    #         path=\"https://datasets-server.huggingface.co/rows?dataset=cnn_dailymail&config=3.0.0&split=validation&offset=0&limit=5\",\r\n",
        "    #     )\r\n",
        "    # },\r\n",
        "    compute=\"cpu-cluster\",\r\n",
        ")"
      ],
      "outputs": [],
      "execution_count": 11,
      "metadata": {
        "jupyter": {
          "source_hidden": false,
          "outputs_hidden": false
        },
        "nteract": {
          "transient": {
            "deleting": false
          }
        },
        "gather": {
          "logged": 1690330264202
        }
      }
    },
    {
      "cell_type": "code",
      "source": [
        "# submit the command\r\n",
        "returned_job = ml_client.jobs.create_or_update(command_job)\r\n",
        "# get a URL for the status of the job\r\n",
        "returned_job.studio_url"
      ],
      "outputs": [
        {
          "output_type": "stream",
          "name": "stderr",
          "text": "\u001b[32mUploading Job (0.04 MBs): 100%|██████████| 38820/38820 [00:00<00:00, 422052.74it/s]\n\u001b[39m\n\n"
        },
        {
          "output_type": "execute_result",
          "execution_count": 12,
          "data": {
            "text/plain": "'https://ml.azure.com/runs/clever_bridge_3lnly286nh?wsid=/subscriptions/80c77c76-74ba-4c8c-8229-4c3b2957990c/resourcegroups/sonata-test-rg/workspaces/sonata-test-ws&tid=72f988bf-86f1-41af-91ab-2d7cd011db47'"
          },
          "metadata": {}
        }
      ],
      "execution_count": 12,
      "metadata": {
        "jupyter": {
          "source_hidden": false,
          "outputs_hidden": false
        },
        "nteract": {
          "transient": {
            "deleting": false
          }
        },
        "gather": {
          "logged": 1690330269611
        }
      }
    }
  ],
  "metadata": {
    "kernelspec": {
      "name": "python310-sdkv2",
      "language": "python",
      "display_name": "Python 3.10 - SDK v2"
    },
    "language_info": {
      "name": "python",
      "version": "3.10.10",
      "mimetype": "text/x-python",
      "codemirror_mode": {
        "name": "ipython",
        "version": 3
      },
      "pygments_lexer": "ipython3",
      "nbconvert_exporter": "python",
      "file_extension": ".py"
    },
    "microsoft": {
      "ms_spell_check": {
        "ms_spell_check_language": "en"
      },
      "host": {
        "AzureML": {
          "notebookHasBeenCompleted": true
        }
      }
    },
    "kernel_info": {
      "name": "python310-sdkv2"
    },
    "nteract": {
      "version": "nteract-front-end@1.0.0"
    }
  },
  "nbformat": 4,
  "nbformat_minor": 2
}