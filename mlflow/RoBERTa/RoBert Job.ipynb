{
  "cells": [
    {
      "cell_type": "code",
      "source": [
        "from azure.ai.ml import MLClient\r\n",
        "from azure.identity import (\r\n",
        "    DefaultAzureCredential,AzureCliCredential,\r\n",
        "    InteractiveBrowserCredential,\r\n",
        "    ClientSecretCredential,\r\n",
        ")\r\n",
        "from azure.ai.ml.entities import AmlCompute\r\n",
        "import time\r\n",
        "\r\n",
        "try:\r\n",
        "    credential = AzureCliCredential()\r\n",
        "    credential.get_token(\"https://management.azure.com/.default\")\r\n",
        "except Exception as ex:\r\n",
        "    credential = InteractiveBrowserCredential()\r\n",
        "\r\n",
        "try:\r\n",
        "    ml_client = MLClient.from_config(credential=credential)\r\n",
        "except:\r\n",
        "    ml_client = MLClient(\r\n",
        "        credential,\r\n",
        "        subscription_id=\"80c77c76-74ba-4c8c-8229-4c3b2957990c\",\r\n",
        "        resource_group_name=\"sonata-test-rg\",\r\n",
        "        workspace_name=\"sonata-test-ws\",\r\n",
        "    )\r\n",
        "\r\n",
        "# # the models, fine tuning pipelines and environments are available in the AzureML system registry, \"azureml-preview\"\r\n",
        "# registry_ml_client = MLClient(credential, registry_name=\"azureml\")\r\n",
        "\r\n",
        "# experiment_name = \"token-classification-ner\"\r\n",
        "\r\n",
        "# # genrating a unique timestamp that can be used for names and versions that need to be unique\r\n",
        "# timestamp = str(int(time.time()))"
      ],
      "outputs": [
        {
          "output_type": "stream",
          "name": "stderr",
          "text": "Found the config file in: /mnt/batch/tasks/shared/LS_root/mounts/clusters/v-suchi1/code/.azureml/config.json\n"
        }
      ],
      "execution_count": 6,
      "metadata": {
        "jupyter": {
          "source_hidden": false,
          "outputs_hidden": false
        },
        "nteract": {
          "transient": {
            "deleting": false
          }
        },
        "gather": {
          "logged": 1689241123563
        }
      }
    },
    {
      "cell_type": "code",
      "source": [
        "print(ml_client)"
      ],
      "outputs": [],
      "execution_count": null,
      "metadata": {
        "jupyter": {
          "source_hidden": false,
          "outputs_hidden": false
        },
        "nteract": {
          "transient": {
            "deleting": false
          }
        },
        "gather": {
          "logged": 1689002541326
        }
      }
    },
    {
      "cell_type": "code",
      "source": [
        "from azure.ai.ml import command, Input\r\n",
        "from azure.ai.ml.constants import AssetTypes\r\n",
        "\r\n",
        "# define the command\r\n",
        "command_job = command(\r\n",
        "    code=\"/mnt/batch/tasks/shared/LS_root/mounts/clusters/v-suchi1/code/Users/v-suchi/ML Flows\",\r\n",
        "    command=\"python Inference.py\",\r\n",
        "    environment=\"EnvTest@latest\",\r\n",
        "    # inputs={\r\n",
        "    #     \"glue_csv\": Input(\r\n",
        "    #         type=AssetTypes.URI_FILE,\r\n",
        "    #         path=\"component.code\",\r\n",
        "    #         value= \"azureml:Users/v-suchi/ML Flows\",\r\n",
        "    #     ),\r\n",
        "    #     \"learning_rate\": 0.9,\r\n",
        "    #     \"boosting\": \"gbdt\",\r\n",
        "    # },\r\n",
        "    compute=\"v-suchi1\",\r\n",
        ")"
      ],
      "outputs": [],
      "execution_count": 7,
      "metadata": {
        "jupyter": {
          "source_hidden": false,
          "outputs_hidden": false
        },
        "nteract": {
          "transient": {
            "deleting": false
          }
        },
        "gather": {
          "logged": 1689241130060
        }
      }
    },
    {
      "cell_type": "code",
      "source": [
        "# submit the command\r\n",
        "returned_job = ml_client.jobs.create_or_update(command_job)\r\n",
        "# get a URL for the status of the job\r\n",
        "returned_job.studio_url"
      ],
      "outputs": [
        {
          "output_type": "stream",
          "name": "stderr",
          "text": "Class AutoDeleteSettingSchema: This is an experimental class, and may change at any time. Please see https://aka.ms/azuremlexperimental for more information.\nClass AutoDeleteConditionSchema: This is an experimental class, and may change at any time. Please see https://aka.ms/azuremlexperimental for more information.\nClass BaseAutoDeleteSettingSchema: This is an experimental class, and may change at any time. Please see https://aka.ms/azuremlexperimental for more information.\nClass IntellectualPropertySchema: This is an experimental class, and may change at any time. Please see https://aka.ms/azuremlexperimental for more information.\nClass ProtectionLevelSchema: This is an experimental class, and may change at any time. Please see https://aka.ms/azuremlexperimental for more information.\nClass BaseIntellectualPropertySchema: This is an experimental class, and may change at any time. Please see https://aka.ms/azuremlexperimental for more information.\nYour file exceeds 100 MB. If you experience low speeds, latency, or broken connections, we recommend using the AzCopyv10 tool for this file transfer.\n\nExample: azcopy copy '/mnt/batch/tasks/shared/LS_root/mounts/clusters/v-suchi1/code/Users/v-suchi/ML Flows' 'https://sonatatestws5184162462.blob.core.windows.net/e7095216-e-4de48916-fd41-5509-8231-4e691732f680/ML Flows' \n\nSee https://docs.microsoft.com/azure/storage/common/storage-use-azcopy-v10 for more information.\n\u001b[32mUploading ML Flows (1300.92 MBs): 100%|██████████| 1300923976/1300923976 [00:09<00:00, 130582163.53it/s]\n\u001b[39m\n\n"
        },
        {
          "output_type": "execute_result",
          "execution_count": 8,
          "data": {
            "text/plain": "'https://ml.azure.com/runs/silver_frame_2s3lzc138g?wsid=/subscriptions/80c77c76-74ba-4c8c-8229-4c3b2957990c/resourcegroups/sonata-test-rg/workspaces/sonata-test-ws&tid=72f988bf-86f1-41af-91ab-2d7cd011db47'"
          },
          "metadata": {}
        }
      ],
      "execution_count": 8,
      "metadata": {
        "jupyter": {
          "source_hidden": false,
          "outputs_hidden": false
        },
        "nteract": {
          "transient": {
            "deleting": false
          }
        },
        "gather": {
          "logged": 1689241198485
        }
      }
    }
  ],
  "metadata": {
    "kernelspec": {
      "name": "python310-sdkv2",
      "language": "python",
      "display_name": "Python 3.10 - SDK v2"
    },
    "language_info": {
      "name": "python",
      "version": "3.10.10",
      "mimetype": "text/x-python",
      "codemirror_mode": {
        "name": "ipython",
        "version": 3
      },
      "pygments_lexer": "ipython3",
      "nbconvert_exporter": "python",
      "file_extension": ".py"
    },
    "microsoft": {
      "ms_spell_check": {
        "ms_spell_check_language": "en"
      },
      "host": {
        "AzureML": {
          "notebookHasBeenCompleted": true
        }
      }
    },
    "kernel_info": {
      "name": "python310-sdkv2"
    },
    "nteract": {
      "version": "nteract-front-end@1.0.0"
    }
  },
  "nbformat": 4,
  "nbformat_minor": 2
}